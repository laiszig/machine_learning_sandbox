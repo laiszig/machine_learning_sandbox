{
 "cells": [
  {
   "cell_type": "code",
   "id": "initial_id",
   "metadata": {
    "collapsed": true,
    "ExecuteTime": {
     "end_time": "2024-11-03T18:45:30.111422Z",
     "start_time": "2024-11-03T18:45:30.107059Z"
    }
   },
   "source": [
    "# Pacotes básicos\n",
    "import numpy as np\n",
    "import pandas as pd\n",
    "import matplotlib.pyplot as plt\n",
    "import seaborn as sns\n",
    "\n",
    "# Pacotes do Scikit-learn para acesso a datasets, preparação, modelagem e avaliação\n",
    "from sklearn.model_selection import train_test_split\n",
    "from sklearn.metrics import classification_report, confusion_matrix, accuracy_score\n",
    "\n",
    "# Pacotes para modelos de aprendizado\n",
    "from sklearn.neighbors import KNeighborsClassifier\n",
    "from sklearn.naive_bayes import CategoricalNB\n",
    "from sklearn.tree import DecisionTreeClassifier\n",
    "from sklearn.ensemble import RandomForestClassifier\n",
    "\n",
    "# Pacote de balanceamento de classes desbalanceadas\n",
    "from imblearn.over_sampling import SMOTE\n",
    "\n",
    "from sklearn.preprocessing import StandardScaler, LabelEncoder\n",
    "from sklearn.metrics import accuracy_score, recall_score, f1_score, roc_curve, roc_auc_score"
   ],
   "outputs": [],
   "execution_count": 25
  },
  {
   "metadata": {
    "ExecuteTime": {
     "end_time": "2024-11-03T18:45:30.180048Z",
     "start_time": "2024-11-03T18:45:30.146264Z"
    }
   },
   "cell_type": "code",
   "source": [
    "df = pd.read_csv(\"treino.csv\")\n",
    "print(df.dtypes)\n",
    "df.head()"
   ],
   "id": "4cb70ec0936b90ee",
   "outputs": [
    {
     "name": "stdout",
     "output_type": "stream",
     "text": [
      "IDpassageiro      object\n",
      "Nome              object\n",
      "Deck              object\n",
      "NumeroCabine       int64\n",
      "PosicaoCabine     object\n",
      "Procedencia       object\n",
      "Destino           object\n",
      "Idade            float64\n",
      "VIP                int64\n",
      "AllInclusive       int64\n",
      "ServicoCabine    float64\n",
      "Restaurante      float64\n",
      "Shopping         float64\n",
      "SPA              float64\n",
      "ParquedeAguas    float64\n",
      "Sobrevivente       int64\n",
      "dtype: object\n"
     ]
    },
    {
     "data": {
      "text/plain": [
       "  IDpassageiro                Nome Deck  NumeroCabine PosicaoCabine  \\\n",
       "0      5647_02   Chabih Matoltuble    C           178             P   \n",
       "1      0107_01         Coobix Hart    D             2             S   \n",
       "2      4158_01        Doryn Noeley    E           273             S   \n",
       "3      1316_01      Sadrus Quelfly    E            95             S   \n",
       "4      9069_05  Mirfark Taketiatim    B           297             P   \n",
       "\n",
       "  Procedencia Destino  Idade  VIP  AllInclusive  ServicoCabine  Restaurante  \\\n",
       "0     America  Monaco   52.0    0             0            0.0       1425.0   \n",
       "1      Africa  Grecia   21.0    0             0         1743.0          5.0   \n",
       "2      Europa  Grecia   27.0    0             0            0.0          0.0   \n",
       "3     America  Grecia   28.0    0             1            0.0          0.0   \n",
       "4     America  Monaco   29.0    0             0            0.0      12563.0   \n",
       "\n",
       "   Shopping    SPA  ParquedeAguas  Sobrevivente  \n",
       "0      31.0    0.0         1320.0             1  \n",
       "1      17.0    0.0            0.0             0  \n",
       "2     580.0  211.0            0.0             0  \n",
       "3       0.0    0.0            0.0             1  \n",
       "4       0.0    3.0         5057.0             0  "
      ],
      "text/html": [
       "<div>\n",
       "<style scoped>\n",
       "    .dataframe tbody tr th:only-of-type {\n",
       "        vertical-align: middle;\n",
       "    }\n",
       "\n",
       "    .dataframe tbody tr th {\n",
       "        vertical-align: top;\n",
       "    }\n",
       "\n",
       "    .dataframe thead th {\n",
       "        text-align: right;\n",
       "    }\n",
       "</style>\n",
       "<table border=\"1\" class=\"dataframe\">\n",
       "  <thead>\n",
       "    <tr style=\"text-align: right;\">\n",
       "      <th></th>\n",
       "      <th>IDpassageiro</th>\n",
       "      <th>Nome</th>\n",
       "      <th>Deck</th>\n",
       "      <th>NumeroCabine</th>\n",
       "      <th>PosicaoCabine</th>\n",
       "      <th>Procedencia</th>\n",
       "      <th>Destino</th>\n",
       "      <th>Idade</th>\n",
       "      <th>VIP</th>\n",
       "      <th>AllInclusive</th>\n",
       "      <th>ServicoCabine</th>\n",
       "      <th>Restaurante</th>\n",
       "      <th>Shopping</th>\n",
       "      <th>SPA</th>\n",
       "      <th>ParquedeAguas</th>\n",
       "      <th>Sobrevivente</th>\n",
       "    </tr>\n",
       "  </thead>\n",
       "  <tbody>\n",
       "    <tr>\n",
       "      <th>0</th>\n",
       "      <td>5647_02</td>\n",
       "      <td>Chabih Matoltuble</td>\n",
       "      <td>C</td>\n",
       "      <td>178</td>\n",
       "      <td>P</td>\n",
       "      <td>America</td>\n",
       "      <td>Monaco</td>\n",
       "      <td>52.0</td>\n",
       "      <td>0</td>\n",
       "      <td>0</td>\n",
       "      <td>0.0</td>\n",
       "      <td>1425.0</td>\n",
       "      <td>31.0</td>\n",
       "      <td>0.0</td>\n",
       "      <td>1320.0</td>\n",
       "      <td>1</td>\n",
       "    </tr>\n",
       "    <tr>\n",
       "      <th>1</th>\n",
       "      <td>0107_01</td>\n",
       "      <td>Coobix Hart</td>\n",
       "      <td>D</td>\n",
       "      <td>2</td>\n",
       "      <td>S</td>\n",
       "      <td>Africa</td>\n",
       "      <td>Grecia</td>\n",
       "      <td>21.0</td>\n",
       "      <td>0</td>\n",
       "      <td>0</td>\n",
       "      <td>1743.0</td>\n",
       "      <td>5.0</td>\n",
       "      <td>17.0</td>\n",
       "      <td>0.0</td>\n",
       "      <td>0.0</td>\n",
       "      <td>0</td>\n",
       "    </tr>\n",
       "    <tr>\n",
       "      <th>2</th>\n",
       "      <td>4158_01</td>\n",
       "      <td>Doryn Noeley</td>\n",
       "      <td>E</td>\n",
       "      <td>273</td>\n",
       "      <td>S</td>\n",
       "      <td>Europa</td>\n",
       "      <td>Grecia</td>\n",
       "      <td>27.0</td>\n",
       "      <td>0</td>\n",
       "      <td>0</td>\n",
       "      <td>0.0</td>\n",
       "      <td>0.0</td>\n",
       "      <td>580.0</td>\n",
       "      <td>211.0</td>\n",
       "      <td>0.0</td>\n",
       "      <td>0</td>\n",
       "    </tr>\n",
       "    <tr>\n",
       "      <th>3</th>\n",
       "      <td>1316_01</td>\n",
       "      <td>Sadrus Quelfly</td>\n",
       "      <td>E</td>\n",
       "      <td>95</td>\n",
       "      <td>S</td>\n",
       "      <td>America</td>\n",
       "      <td>Grecia</td>\n",
       "      <td>28.0</td>\n",
       "      <td>0</td>\n",
       "      <td>1</td>\n",
       "      <td>0.0</td>\n",
       "      <td>0.0</td>\n",
       "      <td>0.0</td>\n",
       "      <td>0.0</td>\n",
       "      <td>0.0</td>\n",
       "      <td>1</td>\n",
       "    </tr>\n",
       "    <tr>\n",
       "      <th>4</th>\n",
       "      <td>9069_05</td>\n",
       "      <td>Mirfark Taketiatim</td>\n",
       "      <td>B</td>\n",
       "      <td>297</td>\n",
       "      <td>P</td>\n",
       "      <td>America</td>\n",
       "      <td>Monaco</td>\n",
       "      <td>29.0</td>\n",
       "      <td>0</td>\n",
       "      <td>0</td>\n",
       "      <td>0.0</td>\n",
       "      <td>12563.0</td>\n",
       "      <td>0.0</td>\n",
       "      <td>3.0</td>\n",
       "      <td>5057.0</td>\n",
       "      <td>0</td>\n",
       "    </tr>\n",
       "  </tbody>\n",
       "</table>\n",
       "</div>"
      ]
     },
     "execution_count": 26,
     "metadata": {},
     "output_type": "execute_result"
    }
   ],
   "execution_count": 26
  },
  {
   "metadata": {
    "ExecuteTime": {
     "end_time": "2024-11-03T18:45:30.300476Z",
     "start_time": "2024-11-03T18:45:30.296692Z"
    }
   },
   "cell_type": "code",
   "source": "print(df.shape)",
   "id": "bd882bc717c431f4",
   "outputs": [
    {
     "name": "stdout",
     "output_type": "stream",
     "text": [
      "(7124, 16)\n"
     ]
    }
   ],
   "execution_count": 27
  },
  {
   "metadata": {
    "ExecuteTime": {
     "end_time": "2024-11-03T18:45:30.506120Z",
     "start_time": "2024-11-03T18:45:30.499313Z"
    }
   },
   "cell_type": "code",
   "source": "df.isnull().any()",
   "id": "20274bd47127d425",
   "outputs": [
    {
     "data": {
      "text/plain": [
       "IDpassageiro     False\n",
       "Nome             False\n",
       "Deck             False\n",
       "NumeroCabine     False\n",
       "PosicaoCabine    False\n",
       "Procedencia      False\n",
       "Destino          False\n",
       "Idade            False\n",
       "VIP              False\n",
       "AllInclusive     False\n",
       "ServicoCabine    False\n",
       "Restaurante      False\n",
       "Shopping         False\n",
       "SPA              False\n",
       "ParquedeAguas    False\n",
       "Sobrevivente     False\n",
       "dtype: bool"
      ]
     },
     "execution_count": 28,
     "metadata": {},
     "output_type": "execute_result"
    }
   ],
   "execution_count": 28
  },
  {
   "metadata": {
    "ExecuteTime": {
     "end_time": "2024-11-03T18:45:30.759044Z",
     "start_time": "2024-11-03T18:45:30.742022Z"
    }
   },
   "cell_type": "code",
   "source": "df.describe()",
   "id": "8332619ed4e4465",
   "outputs": [
    {
     "data": {
      "text/plain": [
       "       NumeroCabine        Idade          VIP  AllInclusive  ServicoCabine  \\\n",
       "count   7124.000000  7124.000000  7124.000000   7124.000000     7124.00000   \n",
       "mean     603.314570    28.709714     0.023582      0.350225      211.90539   \n",
       "std      514.229314    14.480996     0.151754      0.477074      618.42357   \n",
       "min        0.000000     0.000000     0.000000      0.000000        0.00000   \n",
       "25%      169.000000    19.000000     0.000000      0.000000        0.00000   \n",
       "50%      430.000000    27.000000     0.000000      0.000000        0.00000   \n",
       "75%     1000.000000    37.000000     0.000000      1.000000       38.00000   \n",
       "max     1894.000000    79.000000     1.000000      1.000000     9920.00000   \n",
       "\n",
       "        Restaurante     Shopping           SPA  ParquedeAguas  Sobrevivente  \n",
       "count   7124.000000   7124.00000   7124.000000    7124.000000   7124.000000  \n",
       "mean     451.186272    164.56050    296.767827     302.433605      0.506457  \n",
       "std     1604.170133    540.36276   1104.861331    1146.269782      0.499993  \n",
       "min        0.000000      0.00000      0.000000       0.000000      0.000000  \n",
       "25%        0.000000      0.00000      0.000000       0.000000      0.000000  \n",
       "50%        0.000000      0.00000      0.000000       0.000000      1.000000  \n",
       "75%       64.000000     21.25000     54.000000      41.000000      1.000000  \n",
       "max    29813.000000  12253.00000  22408.000000   20336.000000      1.000000  "
      ],
      "text/html": [
       "<div>\n",
       "<style scoped>\n",
       "    .dataframe tbody tr th:only-of-type {\n",
       "        vertical-align: middle;\n",
       "    }\n",
       "\n",
       "    .dataframe tbody tr th {\n",
       "        vertical-align: top;\n",
       "    }\n",
       "\n",
       "    .dataframe thead th {\n",
       "        text-align: right;\n",
       "    }\n",
       "</style>\n",
       "<table border=\"1\" class=\"dataframe\">\n",
       "  <thead>\n",
       "    <tr style=\"text-align: right;\">\n",
       "      <th></th>\n",
       "      <th>NumeroCabine</th>\n",
       "      <th>Idade</th>\n",
       "      <th>VIP</th>\n",
       "      <th>AllInclusive</th>\n",
       "      <th>ServicoCabine</th>\n",
       "      <th>Restaurante</th>\n",
       "      <th>Shopping</th>\n",
       "      <th>SPA</th>\n",
       "      <th>ParquedeAguas</th>\n",
       "      <th>Sobrevivente</th>\n",
       "    </tr>\n",
       "  </thead>\n",
       "  <tbody>\n",
       "    <tr>\n",
       "      <th>count</th>\n",
       "      <td>7124.000000</td>\n",
       "      <td>7124.000000</td>\n",
       "      <td>7124.000000</td>\n",
       "      <td>7124.000000</td>\n",
       "      <td>7124.00000</td>\n",
       "      <td>7124.000000</td>\n",
       "      <td>7124.00000</td>\n",
       "      <td>7124.000000</td>\n",
       "      <td>7124.000000</td>\n",
       "      <td>7124.000000</td>\n",
       "    </tr>\n",
       "    <tr>\n",
       "      <th>mean</th>\n",
       "      <td>603.314570</td>\n",
       "      <td>28.709714</td>\n",
       "      <td>0.023582</td>\n",
       "      <td>0.350225</td>\n",
       "      <td>211.90539</td>\n",
       "      <td>451.186272</td>\n",
       "      <td>164.56050</td>\n",
       "      <td>296.767827</td>\n",
       "      <td>302.433605</td>\n",
       "      <td>0.506457</td>\n",
       "    </tr>\n",
       "    <tr>\n",
       "      <th>std</th>\n",
       "      <td>514.229314</td>\n",
       "      <td>14.480996</td>\n",
       "      <td>0.151754</td>\n",
       "      <td>0.477074</td>\n",
       "      <td>618.42357</td>\n",
       "      <td>1604.170133</td>\n",
       "      <td>540.36276</td>\n",
       "      <td>1104.861331</td>\n",
       "      <td>1146.269782</td>\n",
       "      <td>0.499993</td>\n",
       "    </tr>\n",
       "    <tr>\n",
       "      <th>min</th>\n",
       "      <td>0.000000</td>\n",
       "      <td>0.000000</td>\n",
       "      <td>0.000000</td>\n",
       "      <td>0.000000</td>\n",
       "      <td>0.00000</td>\n",
       "      <td>0.000000</td>\n",
       "      <td>0.00000</td>\n",
       "      <td>0.000000</td>\n",
       "      <td>0.000000</td>\n",
       "      <td>0.000000</td>\n",
       "    </tr>\n",
       "    <tr>\n",
       "      <th>25%</th>\n",
       "      <td>169.000000</td>\n",
       "      <td>19.000000</td>\n",
       "      <td>0.000000</td>\n",
       "      <td>0.000000</td>\n",
       "      <td>0.00000</td>\n",
       "      <td>0.000000</td>\n",
       "      <td>0.00000</td>\n",
       "      <td>0.000000</td>\n",
       "      <td>0.000000</td>\n",
       "      <td>0.000000</td>\n",
       "    </tr>\n",
       "    <tr>\n",
       "      <th>50%</th>\n",
       "      <td>430.000000</td>\n",
       "      <td>27.000000</td>\n",
       "      <td>0.000000</td>\n",
       "      <td>0.000000</td>\n",
       "      <td>0.00000</td>\n",
       "      <td>0.000000</td>\n",
       "      <td>0.00000</td>\n",
       "      <td>0.000000</td>\n",
       "      <td>0.000000</td>\n",
       "      <td>1.000000</td>\n",
       "    </tr>\n",
       "    <tr>\n",
       "      <th>75%</th>\n",
       "      <td>1000.000000</td>\n",
       "      <td>37.000000</td>\n",
       "      <td>0.000000</td>\n",
       "      <td>1.000000</td>\n",
       "      <td>38.00000</td>\n",
       "      <td>64.000000</td>\n",
       "      <td>21.25000</td>\n",
       "      <td>54.000000</td>\n",
       "      <td>41.000000</td>\n",
       "      <td>1.000000</td>\n",
       "    </tr>\n",
       "    <tr>\n",
       "      <th>max</th>\n",
       "      <td>1894.000000</td>\n",
       "      <td>79.000000</td>\n",
       "      <td>1.000000</td>\n",
       "      <td>1.000000</td>\n",
       "      <td>9920.00000</td>\n",
       "      <td>29813.000000</td>\n",
       "      <td>12253.00000</td>\n",
       "      <td>22408.000000</td>\n",
       "      <td>20336.000000</td>\n",
       "      <td>1.000000</td>\n",
       "    </tr>\n",
       "  </tbody>\n",
       "</table>\n",
       "</div>"
      ]
     },
     "execution_count": 29,
     "metadata": {},
     "output_type": "execute_result"
    }
   ],
   "execution_count": 29
  },
  {
   "metadata": {
    "ExecuteTime": {
     "end_time": "2024-11-03T18:45:31.073903Z",
     "start_time": "2024-11-03T18:45:30.861416Z"
    }
   },
   "cell_type": "code",
   "source": [
    "sns.histplot(df['Idade'], kde=True)\n",
    "sns.countplot(data=df, x='VIP')\n",
    "sns.countplot(data=df, x='AllInclusive')\n",
    "sns.countplot(data=df, x='Sobrevivente')"
   ],
   "id": "347d397e7f7e612c",
   "outputs": [
    {
     "data": {
      "text/plain": [
       "<Axes: xlabel='Idade', ylabel='Count'>"
      ]
     },
     "execution_count": 30,
     "metadata": {},
     "output_type": "execute_result"
    },
    {
     "data": {
      "text/plain": [
       "<Figure size 640x480 with 1 Axes>"
      ],
      "image/png": "[encoded data removed]"
     },
     "metadata": {},
     "output_type": "display_data"
    }
   ],
   "execution_count": 30
  },
  {
   "metadata": {
    "ExecuteTime": {
     "end_time": "2024-11-03T18:45:31.196050Z",
     "start_time": "2024-11-03T18:45:31.189763Z"
    }
   },
   "cell_type": "code",
   "source": [
    "# Codificação de Deck usando Label Encoding\n",
    "df['Deck'] = df['Deck'].astype('category').cat.codes\n",
    "\n",
    "# Codificação de PosicaoCabine (P = 1, S = 0)\n",
    "df['PosicaoCabine'] = df['PosicaoCabine'].map({'P': 1, 'S': 0})\n"
   ],
   "id": "16c3113586fb6c7d",
   "outputs": [],
   "execution_count": 31
  },
  {
   "metadata": {
    "ExecuteTime": {
     "end_time": "2024-11-03T18:45:31.227444Z",
     "start_time": "2024-11-03T18:45:31.218222Z"
    }
   },
   "cell_type": "code",
   "source": "print(df)",
   "id": "3a4f614ed44a84a0",
   "outputs": [
    {
     "name": "stdout",
     "output_type": "stream",
     "text": [
      "     IDpassageiro                Nome  Deck  NumeroCabine  PosicaoCabine  \\\n",
      "0         5647_02   Chabih Matoltuble     2           178              1   \n",
      "1         0107_01         Coobix Hart     3             2              0   \n",
      "2         4158_01        Doryn Noeley     4           273              0   \n",
      "3         1316_01      Sadrus Quelfly     4            95              0   \n",
      "4         9069_05  Mirfark Taketiatim     1           297              1   \n",
      "...           ...                 ...   ...           ...            ...   \n",
      "7119      5971_01        Jayrin Kinad     5          1230              1   \n",
      "7120      6135_01      Joanie Ellahan     5          1272              1   \n",
      "7121      1000_01          Alus Harte     3            39              1   \n",
      "7122      8701_01        Hammet Rekle     5          1789              1   \n",
      "7123      8318_03          Hark Ropie     5          1711              1   \n",
      "\n",
      "     Procedencia Destino  Idade  VIP  AllInclusive  ServicoCabine  \\\n",
      "0        America  Monaco   52.0    0             0            0.0   \n",
      "1         Africa  Grecia   21.0    0             0         1743.0   \n",
      "2         Europa  Grecia   27.0    0             0            0.0   \n",
      "3        America  Grecia   28.0    0             1            0.0   \n",
      "4        America  Monaco   29.0    0             0            0.0   \n",
      "...          ...     ...    ...  ...           ...            ...   \n",
      "7119      Africa  Grecia   47.0    0             0          448.0   \n",
      "7120      Europa  Grecia   24.0    0             0          270.0   \n",
      "7121      Africa  Outros   18.0    0             0          885.0   \n",
      "7122      Africa  Monaco   19.0    0             0          203.0   \n",
      "7123      Africa  Monaco   25.0    0             0          149.0   \n",
      "\n",
      "      Restaurante  Shopping     SPA  ParquedeAguas  Sobrevivente  \n",
      "0          1425.0      31.0     0.0         1320.0             1  \n",
      "1             5.0      17.0     0.0            0.0             0  \n",
      "2             0.0     580.0   211.0            0.0             0  \n",
      "3             0.0       0.0     0.0            0.0             1  \n",
      "4         12563.0       0.0     3.0         5057.0             0  \n",
      "...           ...       ...     ...            ...           ...  \n",
      "7119          0.0     891.0     0.0          235.0             0  \n",
      "7120          0.0     534.0     0.0            0.0             0  \n",
      "7121          0.0      32.0     0.0            0.0             0  \n",
      "7122          0.0     172.0  1460.0          151.0             0  \n",
      "7123          0.0     194.0   731.0            0.0             0  \n",
      "\n",
      "[7124 rows x 16 columns]\n"
     ]
    }
   ],
   "execution_count": 32
  },
  {
   "metadata": {
    "ExecuteTime": {
     "end_time": "2024-11-03T18:55:43.329789Z",
     "start_time": "2024-11-03T18:55:43.320383Z"
    }
   },
   "cell_type": "code",
   "source": [
    "cols = [\"Sobrevivente\", \"Idade\", \"NumeroCabine\", \"Deck\", \"PosicaoCabine\", \"VIP\", \"AllInclusive\"]\n",
    "train_corr = df[cols].corr()\n",
    "train_corr"
   ],
   "id": "34b178336878076",
   "outputs": [
    {
     "data": {
      "text/plain": [
       "               Sobrevivente     Idade  NumeroCabine      Deck  PosicaoCabine  \\\n",
       "Sobrevivente       1.000000 -0.083369     -0.037309 -0.109646      -0.104908   \n",
       "Idade             -0.083369  1.000000     -0.129233 -0.243662      -0.009581   \n",
       "NumeroCabine      -0.037309 -0.129233      1.000000  0.533664       0.045893   \n",
       "Deck              -0.109646 -0.243662      0.533664  1.000000       0.044909   \n",
       "PosicaoCabine     -0.104908 -0.009581      0.045893  0.044909       1.000000   \n",
       "VIP               -0.033461  0.097218     -0.101453 -0.186942       0.014173   \n",
       "AllInclusive       0.462834 -0.076830     -0.036143  0.022825      -0.030423   \n",
       "\n",
       "                    VIP  AllInclusive  \n",
       "Sobrevivente  -0.033461      0.462834  \n",
       "Idade          0.097218     -0.076830  \n",
       "NumeroCabine  -0.101453     -0.036143  \n",
       "Deck          -0.186942      0.022825  \n",
       "PosicaoCabine  0.014173     -0.030423  \n",
       "VIP            1.000000     -0.077251  \n",
       "AllInclusive  -0.077251      1.000000  "
      ],
      "text/html": [
       "<div>\n",
       "<style scoped>\n",
       "    .dataframe tbody tr th:only-of-type {\n",
       "        vertical-align: middle;\n",
       "    }\n",
       "\n",
       "    .dataframe tbody tr th {\n",
       "        vertical-align: top;\n",
       "    }\n",
       "\n",
       "    .dataframe thead th {\n",
       "        text-align: right;\n",
       "    }\n",
       "</style>\n",
       "<table border=\"1\" class=\"dataframe\">\n",
       "  <thead>\n",
       "    <tr style=\"text-align: right;\">\n",
       "      <th></th>\n",
       "      <th>Sobrevivente</th>\n",
       "      <th>Idade</th>\n",
       "      <th>NumeroCabine</th>\n",
       "      <th>Deck</th>\n",
       "      <th>PosicaoCabine</th>\n",
       "      <th>VIP</th>\n",
       "      <th>AllInclusive</th>\n",
       "    </tr>\n",
       "  </thead>\n",
       "  <tbody>\n",
       "    <tr>\n",
       "      <th>Sobrevivente</th>\n",
       "      <td>1.000000</td>\n",
       "      <td>-0.083369</td>\n",
       "      <td>-0.037309</td>\n",
       "      <td>-0.109646</td>\n",
       "      <td>-0.104908</td>\n",
       "      <td>-0.033461</td>\n",
       "      <td>0.462834</td>\n",
       "    </tr>\n",
       "    <tr>\n",
       "      <th>Idade</th>\n",
       "      <td>-0.083369</td>\n",
       "      <td>1.000000</td>\n",
       "      <td>-0.129233</td>\n",
       "      <td>-0.243662</td>\n",
       "      <td>-0.009581</td>\n",
       "      <td>0.097218</td>\n",
       "      <td>-0.076830</td>\n",
       "    </tr>\n",
       "    <tr>\n",
       "      <th>NumeroCabine</th>\n",
       "      <td>-0.037309</td>\n",
       "      <td>-0.129233</td>\n",
       "      <td>1.000000</td>\n",
       "      <td>0.533664</td>\n",
       "      <td>0.045893</td>\n",
       "      <td>-0.101453</td>\n",
       "      <td>-0.036143</td>\n",
       "    </tr>\n",
       "    <tr>\n",
       "      <th>Deck</th>\n",
       "      <td>-0.109646</td>\n",
       "      <td>-0.243662</td>\n",
       "      <td>0.533664</td>\n",
       "      <td>1.000000</td>\n",
       "      <td>0.044909</td>\n",
       "      <td>-0.186942</td>\n",
       "      <td>0.022825</td>\n",
       "    </tr>\n",
       "    <tr>\n",
       "      <th>PosicaoCabine</th>\n",
       "      <td>-0.104908</td>\n",
       "      <td>-0.009581</td>\n",
       "      <td>0.045893</td>\n",
       "      <td>0.044909</td>\n",
       "      <td>1.000000</td>\n",
       "      <td>0.014173</td>\n",
       "      <td>-0.030423</td>\n",
       "    </tr>\n",
       "    <tr>\n",
       "      <th>VIP</th>\n",
       "      <td>-0.033461</td>\n",
       "      <td>0.097218</td>\n",
       "      <td>-0.101453</td>\n",
       "      <td>-0.186942</td>\n",
       "      <td>0.014173</td>\n",
       "      <td>1.000000</td>\n",
       "      <td>-0.077251</td>\n",
       "    </tr>\n",
       "    <tr>\n",
       "      <th>AllInclusive</th>\n",
       "      <td>0.462834</td>\n",
       "      <td>-0.076830</td>\n",
       "      <td>-0.036143</td>\n",
       "      <td>0.022825</td>\n",
       "      <td>-0.030423</td>\n",
       "      <td>-0.077251</td>\n",
       "      <td>1.000000</td>\n",
       "    </tr>\n",
       "  </tbody>\n",
       "</table>\n",
       "</div>"
      ]
     },
     "execution_count": 37,
     "metadata": {},
     "output_type": "execute_result"
    }
   ],
   "execution_count": 37
  },
  {
   "metadata": {
    "ExecuteTime": {
     "end_time": "2024-11-03T18:55:56.875158Z",
     "start_time": "2024-11-03T18:55:56.686556Z"
    }
   },
   "cell_type": "code",
   "source": [
    "plt.figure(figsize=(8, 6))\n",
    "sns.heatmap(train_corr, annot=True, cmap='coolwarm')\n",
    "plt.title('Matriz de Correlação')\n",
    "plt.show()"
   ],
   "id": "caeae927b1e1e57e",
   "outputs": [
    {
     "data": {
      "text/plain": [
       "<Figure size 800x600 with 2 Axes>"
      ],
      "image/png": "[encoded data removed]"
     },
     "metadata": {},
     "output_type": "display_data"
    }
   ],
   "execution_count": 38
  }
 ],
 "metadata": {
  "kernelspec": {
   "display_name": "Python 3",
   "language": "python",
   "name": "python3"
  },
  "language_info": {
   "codemirror_mode": {
    "name": "ipython",
    "version": 2
   },
   "file_extension": ".py",
   "mimetype": "text/x-python",
   "name": "python",
   "nbconvert_exporter": "python",
   "pygments_lexer": "ipython2",
   "version": "2.7.6"
  }
 },
 "nbformat": 4,
 "nbformat_minor": 5
}

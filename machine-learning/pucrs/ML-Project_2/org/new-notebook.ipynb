{
 "cells": [
  {
   "cell_type": "code",
   "id": "initial_id",
   "metadata": {
    "collapsed": true,
    "ExecuteTime": {
     "end_time": "2024-11-25T11:29:29.276362Z",
     "start_time": "2024-11-25T11:29:29.270576Z"
    }
   },
   "source": [
    "# Pacotes básicos\n",
    "import numpy as np\n",
    "import pandas as pd\n",
    "import matplotlib.pyplot as plt\n",
    "import seaborn as sns\n",
    "\n",
    "# Pacotes do Scikit-learn para acesso a datasets, preparação, modelagem e avaliação\n",
    "from sklearn.model_selection import train_test_split\n",
    "from sklearn.metrics import classification_report, confusion_matrix, accuracy_score\n",
    "\n",
    "# Pacotes para modelos de aprendizado\n",
    "from sklearn.neighbors import KNeighborsClassifier\n",
    "from sklearn.tree import DecisionTreeClassifier\n",
    "from sklearn.ensemble import RandomForestClassifier\n",
    "\n",
    "# Pacote de balanceamento de classes desbalanceadas\n",
    "from imblearn.over_sampling import SMOTE\n",
    "\n",
    "from sklearn.preprocessing import StandardScaler, LabelEncoder\n",
    "from sklearn.metrics import accuracy_score, recall_score, f1_score, roc_curve, roc_auc_score, auc  "
   ],
   "outputs": [],
   "execution_count": 64
  },
  {
   "metadata": {
    "ExecuteTime": {
     "end_time": "2024-11-25T11:29:29.441157Z",
     "start_time": "2024-11-25T11:29:29.423945Z"
    }
   },
   "cell_type": "code",
   "source": [
    "df = pd.read_csv(\"treino.csv\")\n",
    "# Informações gerais do dataset\n",
    "df.info()"
   ],
   "id": "66ce3dccb833ca80",
   "outputs": [
    {
     "name": "stdout",
     "output_type": "stream",
     "text": [
      "<class 'pandas.core.frame.DataFrame'>\n",
      "RangeIndex: 1000 entries, 0 to 999\n",
      "Data columns (total 16 columns):\n",
      " #   Column         Non-Null Count  Dtype \n",
      "---  ------         --------------  ----- \n",
      " 0   IDpassageiro   1000 non-null   object\n",
      " 1   Nome           1000 non-null   object\n",
      " 2   Deck           1000 non-null   object\n",
      " 3   NumeroCabine   1000 non-null   int64 \n",
      " 4   PosicaoCabine  1000 non-null   object\n",
      " 5   Procedencia    1000 non-null   object\n",
      " 6   Destino        1000 non-null   object\n",
      " 7   Idade          1000 non-null   int64 \n",
      " 8   VIP            1000 non-null   bool  \n",
      " 9   AllInclusive   1000 non-null   bool  \n",
      " 10  ServicoCabine  1000 non-null   int64 \n",
      " 11  Restaurante    1000 non-null   int64 \n",
      " 12  Shopping       1000 non-null   int64 \n",
      " 13  SPA            1000 non-null   int64 \n",
      " 14  ParquedeAguas  1000 non-null   int64 \n",
      " 15  Sobrevivente   1000 non-null   bool  \n",
      "dtypes: bool(3), int64(7), object(6)\n",
      "memory usage: 104.6+ KB\n"
     ]
    }
   ],
   "execution_count": 65
  },
  {
   "metadata": {
    "ExecuteTime": {
     "end_time": "2024-11-25T11:29:29.581008Z",
     "start_time": "2024-11-25T11:29:29.578078Z"
    }
   },
   "cell_type": "code",
   "source": "",
   "id": "e7685bd78aab9436",
   "outputs": [],
   "execution_count": null
  },
  {
   "metadata": {
    "ExecuteTime": {
     "end_time": "2024-11-25T11:29:29.673123Z",
     "start_time": "2024-11-25T11:29:29.653820Z"
    }
   },
   "cell_type": "code",
   "source": [
    "# Data prep\n",
    "# Codificação de Deck usando Label Encoding\n",
    "df['Deck'] = df['Deck'].astype('category').cat.codes\n",
    "# Codificação de PosicaoCabine (P = 1, S = 0)\n",
    "df['PosicaoCabine'] = df['PosicaoCabine'].map({'P': 1, 'S': 0})\n",
    "\n",
    "# Convert boolean columns to binary (1 for True, 0 for False)\n",
    "df['VIP'] = df['VIP'].astype(int)\n",
    "df['AllInclusive'] = df['AllInclusive'].astype(int)\n",
    "df['Sobrevivente'] = df['Sobrevivente'].astype(int)\n",
    "\n",
    "# Aggregate spending columns\n",
    "df['TotalGasto'] = df[['ServicoCabine', 'Restaurante', 'Shopping', 'SPA', 'ParquedeAguas']].sum(axis=1)\n",
    "\n",
    "# Cria a coluna age_group com faixas etárias\n",
    "df['GrupoHetario'] = pd.cut(df['Idade'], bins=[-1, 18, 30, 50, 100], labels=[\"0-18\", \"19-30\", \"31-50\", \"51+\"])\n",
    "df['RangeGasto'] = pd.cut(df['TotalGasto'], bins=[-1, 500, 1000, 2000, 5000, 10000, 30000], labels = ['0-500', '501-1000', '1001-2000', '2001-5000', '5001-10000', '10000+'], right=False)\n",
    "\n",
    "# Converte faixas etárias para números\n",
    "df['GrupoHetarioCode'] = df['GrupoHetario'].cat.codes\n",
    "df['RangeGastoCode'] = df['RangeGasto'].cat.codes\n",
    "\n",
    "# Derived column for same origin and destination\n",
    "df['MesmaOrigemDestino'] = (df['Procedencia'] == df['Destino']).astype(int)\n",
    "\n",
    "# Drop original columns if desired\n",
    "df.drop(['ServicoCabine', 'Restaurante', 'Shopping', 'SPA', 'ParquedeAguas'], axis=1, inplace=True)\n",
    "\n",
    "\n"
   ],
   "id": "b812eca4b2198da",
   "outputs": [],
   "execution_count": 66
  },
  {
   "metadata": {
    "ExecuteTime": {
     "end_time": "2024-11-25T11:29:29.731332Z",
     "start_time": "2024-11-25T11:29:29.724275Z"
    }
   },
   "cell_type": "code",
   "source": [
    "# Verifique as categorias resultantes\n",
    "print(df['RangeGastoCode'].value_counts().sort_index())"
   ],
   "id": "a48bd9242218b30c",
   "outputs": [
    {
     "name": "stdout",
     "output_type": "stream",
     "text": [
      "RangeGastoCode\n",
      "2      2\n",
      "3    105\n",
      "4    340\n",
      "5    553\n",
      "Name: count, dtype: int64\n"
     ]
    }
   ],
   "execution_count": 67
  },
  {
   "metadata": {
    "ExecuteTime": {
     "end_time": "2024-11-25T11:29:29.878931Z",
     "start_time": "2024-11-25T11:29:29.870822Z"
    }
   },
   "cell_type": "code",
   "source": "print(df['GrupoHetario'].value_counts().sort_index())\n",
   "id": "da22fa891ebf47fd",
   "outputs": [
    {
     "name": "stdout",
     "output_type": "stream",
     "text": [
      "GrupoHetario\n",
      "0-18     238\n",
      "19-30    155\n",
      "31-50    230\n",
      "51+      377\n",
      "Name: count, dtype: int64\n"
     ]
    }
   ],
   "execution_count": 68
  },
  {
   "metadata": {
    "ExecuteTime": {
     "end_time": "2024-11-25T11:29:30.081944Z",
     "start_time": "2024-11-25T11:29:29.945978Z"
    }
   },
   "cell_type": "code",
   "source": [
    "# Passo 1: Separar o ID de grupo e o número do integrante\n",
    "df[['Grupo', 'Integrante']] = df['IDpassageiro'].str.split('_', expand=True)\n",
    "\n",
    "# Passo 2: Identificar se o passageiro está em família\n",
    "# Contar a quantidade de passageiros por grupo\n",
    "group_counts = df['Grupo'].value_counts()\n",
    "# Se o grupo tiver mais de um integrante, marcar como família\n",
    "df['EmGrupo'] = df['Grupo'].apply(lambda x: 1 if group_counts[x] > 1 else 0)\n",
    "\n",
    "print(df.EmGrupo.value_counts())\n",
    "\n",
    "# Passo 3: Criar gráficos\n",
    "# Gráfico de barras para visualizar passageiros em família ou não\n",
    "plt.figure(figsize=(8, 6))\n",
    "df['EmGrupo'].value_counts().plot(kind='bar', color=['blue', 'orange'])\n",
    "plt.xticks(ticks=[0, 1], labels=['Solo', 'Família'], rotation=0)\n",
    "plt.title('Distribuição de Passageiros em Família e Solo')\n",
    "plt.xlabel('Tipo de Passageiro')\n",
    "plt.ylabel('Contagem')\n",
    "plt.show()"
   ],
   "id": "c5d608544fdf317",
   "outputs": [
    {
     "name": "stdout",
     "output_type": "stream",
     "text": [
      "EmGrupo\n",
      "0    895\n",
      "1    105\n",
      "Name: count, dtype: int64\n"
     ]
    },
    {
     "data": {
      "text/plain": [
       "<Figure size 800x600 with 1 Axes>"
      ],
      "image/png": "[encoded data removed]"
     },
     "metadata": {},
     "output_type": "display_data"
    }
   ],
   "execution_count": 69
  },
  {
   "metadata": {
    "ExecuteTime": {
     "end_time": "2024-11-25T11:29:30.157395Z",
     "start_time": "2024-11-25T11:29:30.120179Z"
    }
   },
   "cell_type": "code",
   "source": [
    "df[\"GrupoHetarioCode\"] = df[\"GrupoHetarioCode\"].astype(str)\n",
    "columns_to_check = [\"EmGrupo\", \"VIP\", \"AllInclusive\", \"PosicaoCabine\", \"Deck\", \"TotalGasto\", \"MesmaOrigemDestino\"]\n",
    "\n",
    "for col in columns_to_check:\n",
    "    print(f\"\\nRelação entre GrupoHetário e {col}:\\n\")\n",
    "    print(df[[\"GrupoHetarioCode\", col, \"Sobrevivente\"]].groupby([\"GrupoHetarioCode\", col], as_index=False).mean())"
   ],
   "id": "133f20314b08e1b9",
   "outputs": [
    {
     "name": "stdout",
     "output_type": "stream",
     "text": [
      "\n",
      "Relação entre GrupoHetário e EmGrupo:\n",
      "\n",
      "  GrupoHetarioCode  EmGrupo  Sobrevivente\n",
      "0                0        0      0.535211\n",
      "1                0        1      0.480000\n",
      "2                1        0      0.463768\n",
      "3                1        1      0.470588\n",
      "4                2        0      0.519231\n",
      "5                2        1      0.681818\n",
      "6                3        0      0.550595\n",
      "7                3        1      0.536585\n",
      "\n",
      "Relação entre GrupoHetário e VIP:\n",
      "\n",
      "  GrupoHetarioCode  VIP  Sobrevivente\n",
      "0                0    0      0.553030\n",
      "1                0    1      0.500000\n",
      "2                1    0      0.428571\n",
      "3                1    1      0.507042\n",
      "4                2    0      0.558333\n",
      "5                2    1      0.509091\n",
      "6                3    0      0.497041\n",
      "7                3    1      0.591346\n",
      "\n",
      "Relação entre GrupoHetário e AllInclusive:\n",
      "\n",
      "  GrupoHetarioCode  AllInclusive  Sobrevivente\n",
      "0                0             0      0.531532\n",
      "1                0             1      0.527559\n",
      "2                1             0      0.506329\n",
      "3                1             1      0.421053\n",
      "4                2             0      0.604651\n",
      "5                2             1      0.445545\n",
      "6                3             0      0.534031\n",
      "7                3             1      0.564516\n",
      "\n",
      "Relação entre GrupoHetário e PosicaoCabine:\n",
      "\n",
      "  GrupoHetarioCode  PosicaoCabine  Sobrevivente\n",
      "0                0              0      0.539683\n",
      "1                0              1      0.517857\n",
      "2                1              0      0.500000\n",
      "3                1              1      0.420290\n",
      "4                2              0      0.587156\n",
      "5                2              1      0.487603\n",
      "6                3              0      0.518717\n",
      "7                3              1      0.578947\n",
      "\n",
      "Relação entre GrupoHetário e Deck:\n",
      "\n",
      "   GrupoHetarioCode  Deck  Sobrevivente\n",
      "0                 0     0      0.437500\n",
      "1                 0     1      0.678571\n",
      "2                 0     2      0.500000\n",
      "3                 0     3      0.461538\n",
      "4                 0     4      0.434783\n",
      "5                 0     5      0.500000\n",
      "6                 0     6      0.645161\n",
      "7                 0     7      0.562500\n",
      "8                 1     0      0.545455\n",
      "9                 1     1      0.480000\n",
      "10                1     2      0.421053\n",
      "11                1     3      0.769231\n",
      "12                1     4      0.333333\n",
      "13                1     5      0.291667\n",
      "14                1     6      0.521739\n",
      "15                1     7      0.500000\n",
      "16                2     0      0.655172\n",
      "17                2     1      0.576923\n",
      "18                2     2      0.423077\n",
      "19                2     3      0.481481\n",
      "20                2     4      0.600000\n",
      "21                2     5      0.588235\n",
      "22                2     6      0.633333\n",
      "23                2     7      0.333333\n",
      "24                3     0      0.551020\n",
      "25                3     1      0.369565\n",
      "26                3     2      0.614035\n",
      "27                3     3      0.620000\n",
      "28                3     4      0.510204\n",
      "29                3     5      0.689655\n",
      "30                3     6      0.617021\n",
      "31                3     7      0.460000\n",
      "\n",
      "Relação entre GrupoHetário e TotalGasto:\n",
      "\n",
      "    GrupoHetarioCode  TotalGasto  Sobrevivente\n",
      "0                  0        2392           0.0\n",
      "1                  0        2557           1.0\n",
      "2                  0        2985           0.0\n",
      "3                  0        3029           1.0\n",
      "4                  0        3229           0.0\n",
      "..               ...         ...           ...\n",
      "989                3       19431           0.0\n",
      "990                3       19579           1.0\n",
      "991                3       19582           1.0\n",
      "992                3       19595           1.0\n",
      "993                3       19737           0.0\n",
      "\n",
      "[994 rows x 3 columns]\n",
      "\n",
      "Relação entre GrupoHetário e MesmaOrigemDestino:\n",
      "\n",
      "  GrupoHetarioCode  MesmaOrigemDestino  Sobrevivente\n",
      "0                0                   0      0.539474\n",
      "1                0                   1      0.300000\n",
      "2                1                   0      0.482517\n",
      "3                1                   1      0.250000\n",
      "4                2                   0      0.554502\n",
      "5                2                   1      0.315789\n",
      "6                3                   0      0.537604\n",
      "7                3                   1      0.777778\n"
     ]
    }
   ],
   "execution_count": 70
  },
  {
   "metadata": {
    "ExecuteTime": {
     "end_time": "2024-11-25T11:29:30.218522Z",
     "start_time": "2024-11-25T11:29:30.202326Z"
    }
   },
   "cell_type": "code",
   "source": [
    "cols = [\"Sobrevivente\", \"Idade\", \"NumeroCabine\", \"Deck\", \"PosicaoCabine\", \"EmGrupo\", \"VIP\", \"AllInclusive\", \"RangeGastoCode\", \"MesmaOrigemDestino\", \"GrupoHetarioCode\"]\n",
    "train_corr = df[cols].corr()\n",
    "train_corr"
   ],
   "id": "c543efee09de8e71",
   "outputs": [
    {
     "data": {
      "text/plain": [
       "                    Sobrevivente     Idade  NumeroCabine      Deck  \\\n",
       "Sobrevivente            1.000000  0.028084      0.011796 -0.007704   \n",
       "Idade                   0.028084  1.000000      0.004141 -0.030655   \n",
       "NumeroCabine            0.011796  0.004141      1.000000  0.015362   \n",
       "Deck                   -0.007704 -0.030655      0.015362  1.000000   \n",
       "PosicaoCabine          -0.015130  0.027304     -0.023164 -0.007834   \n",
       "EmGrupo                 0.010194  0.004099     -0.031535  0.019876   \n",
       "VIP                     0.026603  0.089407      0.034778  0.074313   \n",
       "AllInclusive           -0.038949 -0.032905     -0.019533  0.043093   \n",
       "RangeGastoCode          0.045543 -0.033002     -0.029860 -0.051361   \n",
       "MesmaOrigemDestino     -0.043799 -0.011666      0.054258  0.022835   \n",
       "GrupoHetarioCode        0.028771  0.953204      0.017048 -0.030748   \n",
       "\n",
       "                    PosicaoCabine   EmGrupo       VIP  AllInclusive  \\\n",
       "Sobrevivente            -0.015130  0.010194  0.026603     -0.038949   \n",
       "Idade                    0.027304  0.004099  0.089407     -0.032905   \n",
       "NumeroCabine            -0.023164 -0.031535  0.034778     -0.019533   \n",
       "Deck                    -0.007834  0.019876  0.074313      0.043093   \n",
       "PosicaoCabine            1.000000  0.034843 -0.030165     -0.016325   \n",
       "EmGrupo                  0.034843  1.000000  0.000163      0.010114   \n",
       "VIP                     -0.030165  0.000163  1.000000     -0.010203   \n",
       "AllInclusive            -0.016325  0.010114 -0.010203      1.000000   \n",
       "RangeGastoCode          -0.042206  0.016102  0.026931      0.004207   \n",
       "MesmaOrigemDestino      -0.000238 -0.030388 -0.001740     -0.058664   \n",
       "GrupoHetarioCode         0.036882  0.001834  0.085163     -0.032808   \n",
       "\n",
       "                    RangeGastoCode  MesmaOrigemDestino  GrupoHetarioCode  \n",
       "Sobrevivente              0.045543           -0.043799          0.028771  \n",
       "Idade                    -0.033002           -0.011666          0.953204  \n",
       "NumeroCabine             -0.029860            0.054258          0.017048  \n",
       "Deck                     -0.051361            0.022835         -0.030748  \n",
       "PosicaoCabine            -0.042206           -0.000238          0.036882  \n",
       "EmGrupo                   0.016102           -0.030388          0.001834  \n",
       "VIP                       0.026931           -0.001740          0.085163  \n",
       "AllInclusive              0.004207           -0.058664         -0.032808  \n",
       "RangeGastoCode            1.000000            0.017379         -0.028467  \n",
       "MesmaOrigemDestino        0.017379            1.000000          0.003512  \n",
       "GrupoHetarioCode         -0.028467            0.003512          1.000000  "
      ],
      "text/html": [
       "<div>\n",
       "<style scoped>\n",
       "    .dataframe tbody tr th:only-of-type {\n",
       "        vertical-align: middle;\n",
       "    }\n",
       "\n",
       "    .dataframe tbody tr th {\n",
       "        vertical-align: top;\n",
       "    }\n",
       "\n",
       "    .dataframe thead th {\n",
       "        text-align: right;\n",
       "    }\n",
       "</style>\n",
       "<table border=\"1\" class=\"dataframe\">\n",
       "  <thead>\n",
       "    <tr style=\"text-align: right;\">\n",
       "      <th></th>\n",
       "      <th>Sobrevivente</th>\n",
       "      <th>Idade</th>\n",
       "      <th>NumeroCabine</th>\n",
       "      <th>Deck</th>\n",
       "      <th>PosicaoCabine</th>\n",
       "      <th>EmGrupo</th>\n",
       "      <th>VIP</th>\n",
       "      <th>AllInclusive</th>\n",
       "      <th>RangeGastoCode</th>\n",
       "      <th>MesmaOrigemDestino</th>\n",
       "      <th>GrupoHetarioCode</th>\n",
       "    </tr>\n",
       "  </thead>\n",
       "  <tbody>\n",
       "    <tr>\n",
       "      <th>Sobrevivente</th>\n",
       "      <td>1.000000</td>\n",
       "      <td>0.028084</td>\n",
       "      <td>0.011796</td>\n",
       "      <td>-0.007704</td>\n",
       "      <td>-0.015130</td>\n",
       "      <td>0.010194</td>\n",
       "      <td>0.026603</td>\n",
       "      <td>-0.038949</td>\n",
       "      <td>0.045543</td>\n",
       "      <td>-0.043799</td>\n",
       "      <td>0.028771</td>\n",
       "    </tr>\n",
       "    <tr>\n",
       "      <th>Idade</th>\n",
       "      <td>0.028084</td>\n",
       "      <td>1.000000</td>\n",
       "      <td>0.004141</td>\n",
       "      <td>-0.030655</td>\n",
       "      <td>0.027304</td>\n",
       "      <td>0.004099</td>\n",
       "      <td>0.089407</td>\n",
       "      <td>-0.032905</td>\n",
       "      <td>-0.033002</td>\n",
       "      <td>-0.011666</td>\n",
       "      <td>0.953204</td>\n",
       "    </tr>\n",
       "    <tr>\n",
       "      <th>NumeroCabine</th>\n",
       "      <td>0.011796</td>\n",
       "      <td>0.004141</td>\n",
       "      <td>1.000000</td>\n",
       "      <td>0.015362</td>\n",
       "      <td>-0.023164</td>\n",
       "      <td>-0.031535</td>\n",
       "      <td>0.034778</td>\n",
       "      <td>-0.019533</td>\n",
       "      <td>-0.029860</td>\n",
       "      <td>0.054258</td>\n",
       "      <td>0.017048</td>\n",
       "    </tr>\n",
       "    <tr>\n",
       "      <th>Deck</th>\n",
       "      <td>-0.007704</td>\n",
       "      <td>-0.030655</td>\n",
       "      <td>0.015362</td>\n",
       "      <td>1.000000</td>\n",
       "      <td>-0.007834</td>\n",
       "      <td>0.019876</td>\n",
       "      <td>0.074313</td>\n",
       "      <td>0.043093</td>\n",
       "      <td>-0.051361</td>\n",
       "      <td>0.022835</td>\n",
       "      <td>-0.030748</td>\n",
       "    </tr>\n",
       "    <tr>\n",
       "      <th>PosicaoCabine</th>\n",
       "      <td>-0.015130</td>\n",
       "      <td>0.027304</td>\n",
       "      <td>-0.023164</td>\n",
       "      <td>-0.007834</td>\n",
       "      <td>1.000000</td>\n",
       "      <td>0.034843</td>\n",
       "      <td>-0.030165</td>\n",
       "      <td>-0.016325</td>\n",
       "      <td>-0.042206</td>\n",
       "      <td>-0.000238</td>\n",
       "      <td>0.036882</td>\n",
       "    </tr>\n",
       "    <tr>\n",
       "      <th>EmGrupo</th>\n",
       "      <td>0.010194</td>\n",
       "      <td>0.004099</td>\n",
       "      <td>-0.031535</td>\n",
       "      <td>0.019876</td>\n",
       "      <td>0.034843</td>\n",
       "      <td>1.000000</td>\n",
       "      <td>0.000163</td>\n",
       "      <td>0.010114</td>\n",
       "      <td>0.016102</td>\n",
       "      <td>-0.030388</td>\n",
       "      <td>0.001834</td>\n",
       "    </tr>\n",
       "    <tr>\n",
       "      <th>VIP</th>\n",
       "      <td>0.026603</td>\n",
       "      <td>0.089407</td>\n",
       "      <td>0.034778</td>\n",
       "      <td>0.074313</td>\n",
       "      <td>-0.030165</td>\n",
       "      <td>0.000163</td>\n",
       "      <td>1.000000</td>\n",
       "      <td>-0.010203</td>\n",
       "      <td>0.026931</td>\n",
       "      <td>-0.001740</td>\n",
       "      <td>0.085163</td>\n",
       "    </tr>\n",
       "    <tr>\n",
       "      <th>AllInclusive</th>\n",
       "      <td>-0.038949</td>\n",
       "      <td>-0.032905</td>\n",
       "      <td>-0.019533</td>\n",
       "      <td>0.043093</td>\n",
       "      <td>-0.016325</td>\n",
       "      <td>0.010114</td>\n",
       "      <td>-0.010203</td>\n",
       "      <td>1.000000</td>\n",
       "      <td>0.004207</td>\n",
       "      <td>-0.058664</td>\n",
       "      <td>-0.032808</td>\n",
       "    </tr>\n",
       "    <tr>\n",
       "      <th>RangeGastoCode</th>\n",
       "      <td>0.045543</td>\n",
       "      <td>-0.033002</td>\n",
       "      <td>-0.029860</td>\n",
       "      <td>-0.051361</td>\n",
       "      <td>-0.042206</td>\n",
       "      <td>0.016102</td>\n",
       "      <td>0.026931</td>\n",
       "      <td>0.004207</td>\n",
       "      <td>1.000000</td>\n",
       "      <td>0.017379</td>\n",
       "      <td>-0.028467</td>\n",
       "    </tr>\n",
       "    <tr>\n",
       "      <th>MesmaOrigemDestino</th>\n",
       "      <td>-0.043799</td>\n",
       "      <td>-0.011666</td>\n",
       "      <td>0.054258</td>\n",
       "      <td>0.022835</td>\n",
       "      <td>-0.000238</td>\n",
       "      <td>-0.030388</td>\n",
       "      <td>-0.001740</td>\n",
       "      <td>-0.058664</td>\n",
       "      <td>0.017379</td>\n",
       "      <td>1.000000</td>\n",
       "      <td>0.003512</td>\n",
       "    </tr>\n",
       "    <tr>\n",
       "      <th>GrupoHetarioCode</th>\n",
       "      <td>0.028771</td>\n",
       "      <td>0.953204</td>\n",
       "      <td>0.017048</td>\n",
       "      <td>-0.030748</td>\n",
       "      <td>0.036882</td>\n",
       "      <td>0.001834</td>\n",
       "      <td>0.085163</td>\n",
       "      <td>-0.032808</td>\n",
       "      <td>-0.028467</td>\n",
       "      <td>0.003512</td>\n",
       "      <td>1.000000</td>\n",
       "    </tr>\n",
       "  </tbody>\n",
       "</table>\n",
       "</div>"
      ]
     },
     "execution_count": 71,
     "metadata": {},
     "output_type": "execute_result"
    }
   ],
   "execution_count": 71
  },
  {
   "metadata": {
    "ExecuteTime": {
     "end_time": "2024-11-25T11:29:30.503769Z",
     "start_time": "2024-11-25T11:29:30.296980Z"
    }
   },
   "cell_type": "code",
   "source": [
    "# Exemplo: heatmap de sobrevivência média por grupo etário e VIP\n",
    "pivot_table = df.pivot_table(values=\"Sobrevivente\", index=\"GrupoHetarioCode\", columns=\"VIP\", aggfunc=\"mean\")\n",
    "sns.heatmap(pivot_table, annot=True, cmap=\"YlGnBu\", cbar_kws={'label': 'Taxa de Sobrevivência Média'})\n",
    "plt.title(\"Taxa de Sobrevivência Média por Grupo Hetário e Classe\")\n",
    "plt.show()"
   ],
   "id": "20f7bfa4cdce35cf",
   "outputs": [
    {
     "data": {
      "text/plain": [
       "<Figure size 640x480 with 2 Axes>"
      ],
      "image/png": "[encoded data removed]"
     },
     "metadata": {},
     "output_type": "display_data"
    }
   ],
   "execution_count": 72
  },
  {
   "metadata": {
    "ExecuteTime": {
     "end_time": "2024-11-25T11:29:30.625016Z",
     "start_time": "2024-11-25T11:29:30.621103Z"
    }
   },
   "cell_type": "code",
   "source": [
    "# plt.figure(figsize=(8, 6))\n",
    "# sns.heatmap(train_corr, annot=True, cmap='coolwarm')\n",
    "# plt.title('Matriz de Correlação')\n",
    "# plt.show()"
   ],
   "id": "1d2723079afd569e",
   "outputs": [],
   "execution_count": 73
  },
  {
   "metadata": {
    "ExecuteTime": {
     "end_time": "2024-11-25T11:29:30.704826Z",
     "start_time": "2024-11-25T11:29:30.700567Z"
    }
   },
   "cell_type": "code",
   "source": [
    "# Calculate the correlation between is_in_family and survived\n",
    "# correlation = df['EmGrupo'].corr(df['Sobrevivente'].corr(df['VIP']))\n",
    "# \n",
    "# print(f\"Correlation between being in a family and survival rate: {correlation}\")"
   ],
   "id": "153cbb17471f773b",
   "outputs": [],
   "execution_count": 74
  },
  {
   "metadata": {
    "ExecuteTime": {
     "end_time": "2024-11-25T11:29:30.765162Z",
     "start_time": "2024-11-25T11:29:30.751500Z"
    }
   },
   "cell_type": "code",
   "source": [
    "df = df.drop(columns=['IDpassageiro', 'Nome', 'Procedencia', 'Destino', 'NumeroCabine', 'GrupoHetario', 'RangeGasto'])\n",
    "df"
   ],
   "id": "acd3ef49348a8f14",
   "outputs": [
    {
     "data": {
      "text/plain": [
       "     Deck  PosicaoCabine  Idade  VIP  AllInclusive  Sobrevivente  TotalGasto  \\\n",
       "0       3              1     61    0             1             1        6652   \n",
       "1       0              0     31    1             0             1       13875   \n",
       "2       6              1     49    1             1             1       14172   \n",
       "3       6              0     32    0             1             1       11929   \n",
       "4       3              1      5    0             0             1        4625   \n",
       "..    ...            ...    ...  ...           ...           ...         ...   \n",
       "995     6              0     61    1             1             1       13360   \n",
       "996     6              1     48    0             1             1       12745   \n",
       "997     4              1     41    0             0             1       13739   \n",
       "998     2              1     75    0             1             0       17897   \n",
       "999     6              1     38    1             1             1        8597   \n",
       "\n",
       "    GrupoHetarioCode  RangeGastoCode  MesmaOrigemDestino Grupo Integrante  \\\n",
       "0                  3               4                   0  5647         02   \n",
       "1                  2               5                   1  0107         01   \n",
       "2                  2               5                   0  4158         01   \n",
       "3                  2               5                   0  1316         01   \n",
       "4                  0               3                   0  9069         05   \n",
       "..               ...             ...                 ...   ...        ...   \n",
       "995                3               5                   0  6802         01   \n",
       "996                2               5                   0  0313         01   \n",
       "997                2               5                   0  9094         01   \n",
       "998                3               5                   0  6594         01   \n",
       "999                2               4                   0  0968         01   \n",
       "\n",
       "     EmGrupo  \n",
       "0          0  \n",
       "1          0  \n",
       "2          0  \n",
       "3          0  \n",
       "4          0  \n",
       "..       ...  \n",
       "995        0  \n",
       "996        0  \n",
       "997        0  \n",
       "998        0  \n",
       "999        0  \n",
       "\n",
       "[1000 rows x 13 columns]"
      ],
      "text/html": [
       "<div>\n",
       "<style scoped>\n",
       "    .dataframe tbody tr th:only-of-type {\n",
       "        vertical-align: middle;\n",
       "    }\n",
       "\n",
       "    .dataframe tbody tr th {\n",
       "        vertical-align: top;\n",
       "    }\n",
       "\n",
       "    .dataframe thead th {\n",
       "        text-align: right;\n",
       "    }\n",
       "</style>\n",
       "<table border=\"1\" class=\"dataframe\">\n",
       "  <thead>\n",
       "    <tr style=\"text-align: right;\">\n",
       "      <th></th>\n",
       "      <th>Deck</th>\n",
       "      <th>PosicaoCabine</th>\n",
       "      <th>Idade</th>\n",
       "      <th>VIP</th>\n",
       "      <th>AllInclusive</th>\n",
       "      <th>Sobrevivente</th>\n",
       "      <th>TotalGasto</th>\n",
       "      <th>GrupoHetarioCode</th>\n",
       "      <th>RangeGastoCode</th>\n",
       "      <th>MesmaOrigemDestino</th>\n",
       "      <th>Grupo</th>\n",
       "      <th>Integrante</th>\n",
       "      <th>EmGrupo</th>\n",
       "    </tr>\n",
       "  </thead>\n",
       "  <tbody>\n",
       "    <tr>\n",
       "      <th>0</th>\n",
       "      <td>3</td>\n",
       "      <td>1</td>\n",
       "      <td>61</td>\n",
       "      <td>0</td>\n",
       "      <td>1</td>\n",
       "      <td>1</td>\n",
       "      <td>6652</td>\n",
       "      <td>3</td>\n",
       "      <td>4</td>\n",
       "      <td>0</td>\n",
       "      <td>5647</td>\n",
       "      <td>02</td>\n",
       "      <td>0</td>\n",
       "    </tr>\n",
       "    <tr>\n",
       "      <th>1</th>\n",
       "      <td>0</td>\n",
       "      <td>0</td>\n",
       "      <td>31</td>\n",
       "      <td>1</td>\n",
       "      <td>0</td>\n",
       "      <td>1</td>\n",
       "      <td>13875</td>\n",
       "      <td>2</td>\n",
       "      <td>5</td>\n",
       "      <td>1</td>\n",
       "      <td>0107</td>\n",
       "      <td>01</td>\n",
       "      <td>0</td>\n",
       "    </tr>\n",
       "    <tr>\n",
       "      <th>2</th>\n",
       "      <td>6</td>\n",
       "      <td>1</td>\n",
       "      <td>49</td>\n",
       "      <td>1</td>\n",
       "      <td>1</td>\n",
       "      <td>1</td>\n",
       "      <td>14172</td>\n",
       "      <td>2</td>\n",
       "      <td>5</td>\n",
       "      <td>0</td>\n",
       "      <td>4158</td>\n",
       "      <td>01</td>\n",
       "      <td>0</td>\n",
       "    </tr>\n",
       "    <tr>\n",
       "      <th>3</th>\n",
       "      <td>6</td>\n",
       "      <td>0</td>\n",
       "      <td>32</td>\n",
       "      <td>0</td>\n",
       "      <td>1</td>\n",
       "      <td>1</td>\n",
       "      <td>11929</td>\n",
       "      <td>2</td>\n",
       "      <td>5</td>\n",
       "      <td>0</td>\n",
       "      <td>1316</td>\n",
       "      <td>01</td>\n",
       "      <td>0</td>\n",
       "    </tr>\n",
       "    <tr>\n",
       "      <th>4</th>\n",
       "      <td>3</td>\n",
       "      <td>1</td>\n",
       "      <td>5</td>\n",
       "      <td>0</td>\n",
       "      <td>0</td>\n",
       "      <td>1</td>\n",
       "      <td>4625</td>\n",
       "      <td>0</td>\n",
       "      <td>3</td>\n",
       "      <td>0</td>\n",
       "      <td>9069</td>\n",
       "      <td>05</td>\n",
       "      <td>0</td>\n",
       "    </tr>\n",
       "    <tr>\n",
       "      <th>...</th>\n",
       "      <td>...</td>\n",
       "      <td>...</td>\n",
       "      <td>...</td>\n",
       "      <td>...</td>\n",
       "      <td>...</td>\n",
       "      <td>...</td>\n",
       "      <td>...</td>\n",
       "      <td>...</td>\n",
       "      <td>...</td>\n",
       "      <td>...</td>\n",
       "      <td>...</td>\n",
       "      <td>...</td>\n",
       "      <td>...</td>\n",
       "    </tr>\n",
       "    <tr>\n",
       "      <th>995</th>\n",
       "      <td>6</td>\n",
       "      <td>0</td>\n",
       "      <td>61</td>\n",
       "      <td>1</td>\n",
       "      <td>1</td>\n",
       "      <td>1</td>\n",
       "      <td>13360</td>\n",
       "      <td>3</td>\n",
       "      <td>5</td>\n",
       "      <td>0</td>\n",
       "      <td>6802</td>\n",
       "      <td>01</td>\n",
       "      <td>0</td>\n",
       "    </tr>\n",
       "    <tr>\n",
       "      <th>996</th>\n",
       "      <td>6</td>\n",
       "      <td>1</td>\n",
       "      <td>48</td>\n",
       "      <td>0</td>\n",
       "      <td>1</td>\n",
       "      <td>1</td>\n",
       "      <td>12745</td>\n",
       "      <td>2</td>\n",
       "      <td>5</td>\n",
       "      <td>0</td>\n",
       "      <td>0313</td>\n",
       "      <td>01</td>\n",
       "      <td>0</td>\n",
       "    </tr>\n",
       "    <tr>\n",
       "      <th>997</th>\n",
       "      <td>4</td>\n",
       "      <td>1</td>\n",
       "      <td>41</td>\n",
       "      <td>0</td>\n",
       "      <td>0</td>\n",
       "      <td>1</td>\n",
       "      <td>13739</td>\n",
       "      <td>2</td>\n",
       "      <td>5</td>\n",
       "      <td>0</td>\n",
       "      <td>9094</td>\n",
       "      <td>01</td>\n",
       "      <td>0</td>\n",
       "    </tr>\n",
       "    <tr>\n",
       "      <th>998</th>\n",
       "      <td>2</td>\n",
       "      <td>1</td>\n",
       "      <td>75</td>\n",
       "      <td>0</td>\n",
       "      <td>1</td>\n",
       "      <td>0</td>\n",
       "      <td>17897</td>\n",
       "      <td>3</td>\n",
       "      <td>5</td>\n",
       "      <td>0</td>\n",
       "      <td>6594</td>\n",
       "      <td>01</td>\n",
       "      <td>0</td>\n",
       "    </tr>\n",
       "    <tr>\n",
       "      <th>999</th>\n",
       "      <td>6</td>\n",
       "      <td>1</td>\n",
       "      <td>38</td>\n",
       "      <td>1</td>\n",
       "      <td>1</td>\n",
       "      <td>1</td>\n",
       "      <td>8597</td>\n",
       "      <td>2</td>\n",
       "      <td>4</td>\n",
       "      <td>0</td>\n",
       "      <td>0968</td>\n",
       "      <td>01</td>\n",
       "      <td>0</td>\n",
       "    </tr>\n",
       "  </tbody>\n",
       "</table>\n",
       "<p>1000 rows × 13 columns</p>\n",
       "</div>"
      ]
     },
     "execution_count": 75,
     "metadata": {},
     "output_type": "execute_result"
    }
   ],
   "execution_count": 75
  },
  {
   "metadata": {
    "ExecuteTime": {
     "end_time": "2024-11-25T11:29:30.917941Z",
     "start_time": "2024-11-25T11:29:30.907949Z"
    }
   },
   "cell_type": "code",
   "source": [
    "X = df.drop([\"Sobrevivente\"], axis=1)\n",
    "y = df[\"Sobrevivente\"]\n",
    "\n",
    "# Dividir os dados em conjuntos de treinamento e teste\n",
    "X_train, X_test, y_train, y_test = train_test_split(X, y, test_size=0.3, random_state=42)"
   ],
   "id": "ba818d7403521b9e",
   "outputs": [],
   "execution_count": 76
  },
  {
   "metadata": {
    "ExecuteTime": {
     "end_time": "2024-11-25T11:29:31.037634Z",
     "start_time": "2024-11-25T11:29:31.010693Z"
    }
   },
   "cell_type": "code",
   "source": [
    "from sklearn.linear_model import LogisticRegression\n",
    "from sklearn.model_selection import GridSearchCV\n",
    "from sklearn.naive_bayes import GaussianNB\n",
    "from sklearn.model_selection import cross_val_score\n",
    "\n",
    "\n",
    "\n",
    "# logreg = LogisticRegression()\n",
    "# logreg.fit(X_train, y_train)\n",
    "# Y_pred = logreg.predict(X_test)\n",
    "# acc_log = round(logreg.score(X_train, y_train) * 100, 2)\n",
    "# acc_log\n",
    "\n",
    "\n",
    "# Escalonando os dados (normalizando para ter média 0 e desvio padrão 1)\n",
    "scaler = StandardScaler()\n",
    "X_train_scaled = scaler.fit_transform(X_train)\n",
    "X_test_scaled = scaler.transform(X_test)\n",
    "\n",
    "# Inicializando o modelo de Regressão Logística com solver 'saga' e max_iter aumentado\n",
    "logreg = LogisticRegression(solver='lbfgs', max_iter=1000, C=0.1)\n",
    "\n",
    "# Treinando o modelo\n",
    "logreg.fit(X_train_scaled, y_train)\n",
    "\n",
    "# Fazendo as previsões\n",
    "Y_pred = logreg.predict(X_test_scaled)\n",
    "\n",
    "# Calculando a acurácia no conjunto de treino\n",
    "acc_log = round(logreg.score(X_train_scaled, y_train) * 100, 2)\n",
    "\n",
    "# Exibindo a acurácia\n",
    "print(f'Acurácia no conjunto de treino: {acc_log}%')"
   ],
   "id": "afa3a0ab7f1c2f8",
   "outputs": [
    {
     "name": "stdout",
     "output_type": "stream",
     "text": [
      "Acurácia no conjunto de treino: 55.0%\n"
     ]
    }
   ],
   "execution_count": 77
  },
  {
   "metadata": {
    "ExecuteTime": {
     "end_time": "2024-11-25T11:29:31.748536Z",
     "start_time": "2024-11-25T11:29:31.315302Z"
    }
   },
   "cell_type": "code",
   "source": [
    "from sklearn.model_selection import GridSearchCV\n",
    "from sklearn.naive_bayes import GaussianNB\n",
    "from sklearn.model_selection import cross_val_score\n",
    "\n",
    "param_grid = {\n",
    "    'C': [0.1, 1, 10],\n",
    "    'solver': ['lbfgs', 'saga'],\n",
    "    'max_iter': [100, 500, 1000]\n",
    "}\n",
    "\n",
    "grid_search = GridSearchCV(LogisticRegression(), param_grid, cv=5)\n",
    "grid_search.fit(X_train_scaled, y_train)\n",
    "print(f\"Melhores parâmetros: {grid_search.best_params_}\")\n",
    "print(f\"Acurácia: {grid_search.best_score_}\")\n"
   ],
   "id": "f0d8083a32bcd69b",
   "outputs": [
    {
     "name": "stdout",
     "output_type": "stream",
     "text": [
      "Melhores parâmetros: {'C': 0.1, 'max_iter': 100, 'solver': 'lbfgs'}\n",
      "Acurácia: 0.5257142857142856\n"
     ]
    }
   ],
   "execution_count": 78
  },
  {
   "metadata": {
    "ExecuteTime": {
     "end_time": "2024-11-25T11:29:33.883945Z",
     "start_time": "2024-11-25T11:29:31.841483Z"
    }
   },
   "cell_type": "code",
   "source": [
    "param_grid = {\n",
    "    'max_depth': [5, 10, 15, 20],\n",
    "    'min_samples_split': [2, 5, 10],\n",
    "    'min_samples_leaf': [1, 2, 5, 10]\n",
    "}\n",
    "\n",
    "grid_search = GridSearchCV(DecisionTreeClassifier(), param_grid, cv=5)\n",
    "grid_search.fit(X_train, y_train)\n",
    "print(\"Melhores parâmetros:\", grid_search.best_params_)"
   ],
   "id": "7a70c1aa883720cb",
   "outputs": [
    {
     "name": "stdout",
     "output_type": "stream",
     "text": [
      "Melhores parâmetros: {'max_depth': 10, 'min_samples_leaf': 1, 'min_samples_split': 2}\n"
     ]
    }
   ],
   "execution_count": 79
  },
  {
   "metadata": {
    "ExecuteTime": {
     "end_time": "2024-11-25T11:29:33.933345Z",
     "start_time": "2024-11-25T11:29:33.922625Z"
    }
   },
   "cell_type": "code",
   "source": "print(classification_report(y_test, Y_pred))",
   "id": "24264daaa406e489",
   "outputs": [
    {
     "name": "stdout",
     "output_type": "stream",
     "text": [
      "              precision    recall  f1-score   support\n",
      "\n",
      "           0       0.52      0.32      0.39       145\n",
      "           1       0.53      0.72      0.61       155\n",
      "\n",
      "    accuracy                           0.53       300\n",
      "   macro avg       0.52      0.52      0.50       300\n",
      "weighted avg       0.52      0.53      0.51       300\n",
      "\n"
     ]
    }
   ],
   "execution_count": 80
  },
  {
   "metadata": {
    "ExecuteTime": {
     "end_time": "2024-11-25T11:29:33.995878Z",
     "start_time": "2024-11-25T11:29:33.984493Z"
    }
   },
   "cell_type": "code",
   "source": [
    "coeff_df = pd.DataFrame(df.columns.delete(0))\n",
    "coeff_df.columns = ['Feature']\n",
    "coeff_df[\"Correlation\"] = pd.Series(logreg.coef_[0])\n",
    "\n",
    "coeff_df.sort_values(by='Correlation', ascending=False)"
   ],
   "id": "8e266e92de626c64",
   "outputs": [
    {
     "data": {
      "text/plain": [
       "               Feature  Correlation\n",
       "10          Integrante     0.138383\n",
       "5           TotalGasto     0.112546\n",
       "2                  VIP     0.058231\n",
       "3         AllInclusive     0.026391\n",
       "1                Idade     0.008436\n",
       "7       RangeGastoCode    -0.027150\n",
       "0        PosicaoCabine    -0.028819\n",
       "11             EmGrupo    -0.042526\n",
       "6     GrupoHetarioCode    -0.066643\n",
       "9                Grupo    -0.086064\n",
       "4         Sobrevivente    -0.103320\n",
       "8   MesmaOrigemDestino    -0.110066"
      ],
      "text/html": [
       "<div>\n",
       "<style scoped>\n",
       "    .dataframe tbody tr th:only-of-type {\n",
       "        vertical-align: middle;\n",
       "    }\n",
       "\n",
       "    .dataframe tbody tr th {\n",
       "        vertical-align: top;\n",
       "    }\n",
       "\n",
       "    .dataframe thead th {\n",
       "        text-align: right;\n",
       "    }\n",
       "</style>\n",
       "<table border=\"1\" class=\"dataframe\">\n",
       "  <thead>\n",
       "    <tr style=\"text-align: right;\">\n",
       "      <th></th>\n",
       "      <th>Feature</th>\n",
       "      <th>Correlation</th>\n",
       "    </tr>\n",
       "  </thead>\n",
       "  <tbody>\n",
       "    <tr>\n",
       "      <th>10</th>\n",
       "      <td>Integrante</td>\n",
       "      <td>0.138383</td>\n",
       "    </tr>\n",
       "    <tr>\n",
       "      <th>5</th>\n",
       "      <td>TotalGasto</td>\n",
       "      <td>0.112546</td>\n",
       "    </tr>\n",
       "    <tr>\n",
       "      <th>2</th>\n",
       "      <td>VIP</td>\n",
       "      <td>0.058231</td>\n",
       "    </tr>\n",
       "    <tr>\n",
       "      <th>3</th>\n",
       "      <td>AllInclusive</td>\n",
       "      <td>0.026391</td>\n",
       "    </tr>\n",
       "    <tr>\n",
       "      <th>1</th>\n",
       "      <td>Idade</td>\n",
       "      <td>0.008436</td>\n",
       "    </tr>\n",
       "    <tr>\n",
       "      <th>7</th>\n",
       "      <td>RangeGastoCode</td>\n",
       "      <td>-0.027150</td>\n",
       "    </tr>\n",
       "    <tr>\n",
       "      <th>0</th>\n",
       "      <td>PosicaoCabine</td>\n",
       "      <td>-0.028819</td>\n",
       "    </tr>\n",
       "    <tr>\n",
       "      <th>11</th>\n",
       "      <td>EmGrupo</td>\n",
       "      <td>-0.042526</td>\n",
       "    </tr>\n",
       "    <tr>\n",
       "      <th>6</th>\n",
       "      <td>GrupoHetarioCode</td>\n",
       "      <td>-0.066643</td>\n",
       "    </tr>\n",
       "    <tr>\n",
       "      <th>9</th>\n",
       "      <td>Grupo</td>\n",
       "      <td>-0.086064</td>\n",
       "    </tr>\n",
       "    <tr>\n",
       "      <th>4</th>\n",
       "      <td>Sobrevivente</td>\n",
       "      <td>-0.103320</td>\n",
       "    </tr>\n",
       "    <tr>\n",
       "      <th>8</th>\n",
       "      <td>MesmaOrigemDestino</td>\n",
       "      <td>-0.110066</td>\n",
       "    </tr>\n",
       "  </tbody>\n",
       "</table>\n",
       "</div>"
      ]
     },
     "execution_count": 81,
     "metadata": {},
     "output_type": "execute_result"
    }
   ],
   "execution_count": 81
  },
  {
   "metadata": {
    "ExecuteTime": {
     "end_time": "2024-11-25T11:29:34.123839Z",
     "start_time": "2024-11-25T11:29:34.065259Z"
    }
   },
   "cell_type": "code",
   "source": [
    "knn = KNeighborsClassifier(n_neighbors = 3)\n",
    "knn.fit(X_train, y_train)\n",
    "Y_pred = knn.predict(X_test)\n",
    "acc_knn = round(knn.score(X_train, y_train) * 100, 2)\n",
    "acc_knn"
   ],
   "id": "ed1f9f7dc6cc7377",
   "outputs": [
    {
     "data": {
      "text/plain": [
       "74.0"
      ]
     },
     "execution_count": 82,
     "metadata": {},
     "output_type": "execute_result"
    }
   ],
   "execution_count": 82
  },
  {
   "metadata": {
    "ExecuteTime": {
     "end_time": "2024-11-25T11:29:34.328574Z",
     "start_time": "2024-11-25T11:29:34.314638Z"
    }
   },
   "cell_type": "code",
   "source": [
    "from sklearn.naive_bayes import GaussianNB\n",
    "from sklearn.model_selection import cross_val_score\n",
    "\n",
    "\n",
    "gaussian = GaussianNB()\n",
    "gaussian.fit(X_train, y_train)\n",
    "Y_pred = gaussian.predict(X_test)\n",
    "acc_gaussian = round(gaussian.score(X_train, y_train) * 100, 2)\n",
    "acc_gaussian"
   ],
   "id": "fc3bfafe92578b3b",
   "outputs": [
    {
     "data": {
      "text/plain": [
       "55.14"
      ]
     },
     "execution_count": 83,
     "metadata": {},
     "output_type": "execute_result"
    }
   ],
   "execution_count": 83
  },
  {
   "metadata": {
    "ExecuteTime": {
     "end_time": "2024-11-25T11:29:34.445180Z",
     "start_time": "2024-11-25T11:29:34.412184Z"
    }
   },
   "cell_type": "code",
   "source": [
    "decision_tree = DecisionTreeClassifier()\n",
    "decision_tree.fit(X_train, y_train)\n",
    "Y_pred = decision_tree.predict(X_test)\n",
    "acc_decision_tree = round(decision_tree.score(X_train, y_train) * 100, 2)\n",
    "acc_decision_tree"
   ],
   "id": "ce12038fb58ee6d6",
   "outputs": [
    {
     "data": {
      "text/plain": [
       "100.0"
      ]
     },
     "execution_count": 84,
     "metadata": {},
     "output_type": "execute_result"
    }
   ],
   "execution_count": 84
  },
  {
   "metadata": {
    "ExecuteTime": {
     "end_time": "2024-11-25T11:29:34.594485Z",
     "start_time": "2024-11-25T11:29:34.575267Z"
    }
   },
   "cell_type": "code",
   "source": [
    "decision_tree = DecisionTreeClassifier(max_depth=10, min_samples_split=2, min_samples_leaf=5)\n",
    "decision_tree.fit(X_train, y_train)\n",
    "acc_decision_tree_train = round(decision_tree.score(X_train, y_train) * 100, 2)\n",
    "acc_decision_tree_test = round(decision_tree.score(X_test, y_test) * 100, 2)\n",
    "print(f\"Acurácia no conjunto de treino: {acc_decision_tree_train}%\")\n",
    "print(f\"Acurácia no conjunto de teste: {acc_decision_tree_test}%\")"
   ],
   "id": "93bd4890cb3f21d7",
   "outputs": [
    {
     "name": "stdout",
     "output_type": "stream",
     "text": [
      "Acurácia no conjunto de treino: 67.71%\n",
      "Acurácia no conjunto de teste: 53.33%\n"
     ]
    }
   ],
   "execution_count": 85
  },
  {
   "metadata": {
    "ExecuteTime": {
     "end_time": "2024-11-25T11:29:34.757783Z",
     "start_time": "2024-11-25T11:29:34.705531Z"
    }
   },
   "cell_type": "code",
   "source": [
    "from sklearn.model_selection import cross_val_score\n",
    "scores = cross_val_score(decision_tree, X_train, y_train, cv=5)  # 5-fold cross-validation\n",
    "print(f\"Scores de validação cruzada: {scores}\")\n",
    "print(f\"Acurácia média da validação cruzada: {scores.mean()}\")"
   ],
   "id": "d95f5520c48f71a7",
   "outputs": [
    {
     "name": "stdout",
     "output_type": "stream",
     "text": [
      "Scores de validação cruzada: [0.47857143 0.54285714 0.47142857 0.45714286 0.51428571]\n",
      "Acurácia média da validação cruzada: 0.4928571428571429\n"
     ]
    }
   ],
   "execution_count": 86
  },
  {
   "metadata": {
    "ExecuteTime": {
     "end_time": "2024-11-25T11:29:34.813509Z",
     "start_time": "2024-11-25T11:29:34.805832Z"
    }
   },
   "cell_type": "code",
   "source": [
    "acc_decision_tree_test = round(decision_tree.score(X_test, y_test) * 100, 2)\n",
    "print(f\"Acurácia no conjunto de teste: {acc_decision_tree_test}%\")"
   ],
   "id": "679b8c11e8c3f23f",
   "outputs": [
    {
     "name": "stdout",
     "output_type": "stream",
     "text": [
      "Acurácia no conjunto de teste: 53.33%\n"
     ]
    }
   ],
   "execution_count": 87
  },
  {
   "metadata": {
    "ExecuteTime": {
     "end_time": "2024-11-25T11:29:35.096179Z",
     "start_time": "2024-11-25T11:29:34.892481Z"
    }
   },
   "cell_type": "code",
   "source": [
    "rf = RandomForestClassifier(n_estimators=100, max_depth=5)\n",
    "rf.fit(X_train, y_train)\n",
    "acc_rf_train = round(rf.score(X_train, y_train) * 100, 2)\n",
    "acc_rf_test = round(rf.score(X_test, y_test) * 100, 2)\n",
    "print(f\"Acurácia no conjunto de treino (Random Forest): {acc_rf_train}%\")\n",
    "print(f\"Acurácia no conjunto de teste (Random Forest): {acc_rf_test}%\")"
   ],
   "id": "575cdd1fc8544e6",
   "outputs": [
    {
     "name": "stdout",
     "output_type": "stream",
     "text": [
      "Acurácia no conjunto de treino (Random Forest): 79.29%\n",
      "Acurácia no conjunto de teste (Random Forest): 54.0%\n"
     ]
    }
   ],
   "execution_count": 88
  },
  {
   "metadata": {
    "ExecuteTime": {
     "end_time": "2024-11-25T11:29:35.151249Z",
     "start_time": "2024-11-25T11:29:35.141512Z"
    }
   },
   "cell_type": "code",
   "source": [
    "models = pd.DataFrame({\n",
    "    'Model': ['KNN', 'Logistic Regression', \n",
    "              'Random Forest', 'Gaussian Naive Bayes',\n",
    "              'Decision Tree'],\n",
    "    'Score': [acc_knn, acc_log, \n",
    "              acc_rf_train, acc_gaussian,\n",
    "             acc_decision_tree_train]})\n",
    "models.sort_values(by='Score', ascending=False)"
   ],
   "id": "7303bda3d087283f",
   "outputs": [
    {
     "data": {
      "text/plain": [
       "                  Model  Score\n",
       "2         Random Forest  79.29\n",
       "0                   KNN  74.00\n",
       "4         Decision Tree  67.71\n",
       "3  Gaussian Naive Bayes  55.14\n",
       "1   Logistic Regression  55.00"
      ],
      "text/html": [
       "<div>\n",
       "<style scoped>\n",
       "    .dataframe tbody tr th:only-of-type {\n",
       "        vertical-align: middle;\n",
       "    }\n",
       "\n",
       "    .dataframe tbody tr th {\n",
       "        vertical-align: top;\n",
       "    }\n",
       "\n",
       "    .dataframe thead th {\n",
       "        text-align: right;\n",
       "    }\n",
       "</style>\n",
       "<table border=\"1\" class=\"dataframe\">\n",
       "  <thead>\n",
       "    <tr style=\"text-align: right;\">\n",
       "      <th></th>\n",
       "      <th>Model</th>\n",
       "      <th>Score</th>\n",
       "    </tr>\n",
       "  </thead>\n",
       "  <tbody>\n",
       "    <tr>\n",
       "      <th>2</th>\n",
       "      <td>Random Forest</td>\n",
       "      <td>79.29</td>\n",
       "    </tr>\n",
       "    <tr>\n",
       "      <th>0</th>\n",
       "      <td>KNN</td>\n",
       "      <td>74.00</td>\n",
       "    </tr>\n",
       "    <tr>\n",
       "      <th>4</th>\n",
       "      <td>Decision Tree</td>\n",
       "      <td>67.71</td>\n",
       "    </tr>\n",
       "    <tr>\n",
       "      <th>3</th>\n",
       "      <td>Gaussian Naive Bayes</td>\n",
       "      <td>55.14</td>\n",
       "    </tr>\n",
       "    <tr>\n",
       "      <th>1</th>\n",
       "      <td>Logistic Regression</td>\n",
       "      <td>55.00</td>\n",
       "    </tr>\n",
       "  </tbody>\n",
       "</table>\n",
       "</div>"
      ]
     },
     "execution_count": 89,
     "metadata": {},
     "output_type": "execute_result"
    }
   ],
   "execution_count": 89
  }
 ],
 "metadata": {
  "kernelspec": {
   "display_name": "Python 3",
   "language": "python",
   "name": "python3"
  },
  "language_info": {
   "codemirror_mode": {
    "name": "ipython",
    "version": 2
   },
   "file_extension": ".py",
   "mimetype": "text/x-python",
   "name": "python",
   "nbconvert_exporter": "python",
   "pygments_lexer": "ipython2",
   "version": "2.7.6"
  }
 },
 "nbformat": 4,
 "nbformat_minor": 5
}

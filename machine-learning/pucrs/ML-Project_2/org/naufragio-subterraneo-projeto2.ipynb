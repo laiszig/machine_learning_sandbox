{
 "cells": [
  {
   "metadata": {},
   "cell_type": "markdown",
   "source": [
    "### **Aluna**: Lais de Souza Ziegler\n",
    "# 🛳️ Predição de sobrevivência em Naufrágio\n",
    "Dataset: treino.csv\n",
    "\n",
    "O projeto de predição de sobrevivência em naufrágios utiliza um conjunto de dados inspirado em um incidente recente no Mediterrâneo, contendo informações sobre 7.124 passageiros a bordo de um navio. As variáveis incluem identificação única do passageiro, nome, informações da cabine (deck, número e posição), procedência, destino, idade, status de VIP, modalidade de hospedagem e gastos com serviços a bordo. O objetivo é prever a probabilidade de um passageiro sobreviver ao naufrágio com base em suas características."
   ],
   "id": "9dfbf8d48afca0a0"
  },
  {
   "metadata": {},
   "cell_type": "markdown",
   "source": [
    "### 1️⃣ Leitura e exploração dos dados\n",
    "---\n",
    "#### Importando as bibliotecas necessárias para a análise de dados"
   ],
   "id": "2f8a5f0d1f6f58d6"
  },
  {
   "metadata": {},
   "cell_type": "code",
   "outputs": [],
   "execution_count": null,
   "source": [
    "# Pacotes básicos\n",
    "import numpy as np\n",
    "import pandas as pd\n",
    "import matplotlib.pyplot as plt\n",
    "import seaborn as sns\n",
    "from matplotlib.colors import LinearSegmentedColormap\n",
    "\n",
    "# Pacotes do Scikit-learn para acesso a datasets, preparação, modelagem e avaliação\n",
    "from sklearn.model_selection import train_test_split\n",
    "from sklearn.metrics import classification_report, confusion_matrix, accuracy_score, recall_score, f1_score, roc_curve, roc_auc_score, auc, RocCurveDisplay, precision_score\n",
    "\n",
    "# Pacotes para modelos de aprendizado\n",
    "from sklearn.neighbors import KNeighborsClassifier\n",
    "from sklearn.tree import DecisionTreeClassifier, export_text, plot_tree\n",
    "from sklearn.ensemble import RandomForestClassifier\n",
    "from sklearn.linear_model import LogisticRegression\n",
    "from sklearn.model_selection import GridSearchCV, cross_val_score\n",
    "from sklearn.naive_bayes import GaussianNB\n",
    "from sklearn.preprocessing import StandardScaler, LabelEncoder\n",
    "from xgboost import XGBClassifier"
   ],
   "id": "a8eaa47e30b3be5f"
  },
  {
   "metadata": {},
   "cell_type": "markdown",
   "source": [
    "#### Carregando o conjunto de dados a partir de um arquivo CSV\n",
    "- Em seguida, imprimindo os tipos de dados de cada coluna para entender a estrutura do DataFrame\n",
    "- Exibindo as primeiras cinco linhas do conjunto de dados para uma visão geral dos dados"
   ],
   "id": "39643922f8dc43e1"
  },
  {
   "metadata": {},
   "cell_type": "code",
   "outputs": [],
   "execution_count": null,
   "source": [
    "df = pd.read_csv(\"treino.csv\")\n",
    "\n",
    "df.info()\n",
    "df.head()"
   ],
   "id": "dfca914270650baf"
  },
  {
   "metadata": {},
   "cell_type": "markdown",
   "source": "#### Exibindo a forma do DataFrame, que retorna o número de linhas e colunas,",
   "id": "b9e62a3a408dcf5a"
  },
  {
   "metadata": {},
   "cell_type": "code",
   "outputs": [],
   "execution_count": null,
   "source": "print(df.shape)",
   "id": "53fe65788b47b91f"
  },
  {
   "metadata": {},
   "cell_type": "markdown",
   "source": "#### Exibindo um resumo estatístico das colunas numéricas do DataFrame",
   "id": "e1fd21176f26ea4e"
  },
  {
   "metadata": {},
   "cell_type": "code",
   "outputs": [],
   "execution_count": null,
   "source": "df.describe()",
   "id": "8eec2eec7a171476"
  },
  {
   "metadata": {},
   "cell_type": "markdown",
   "source": [
    "### Visualizar a proporção de sobreviventes na coluna Sobrevivente do dataset\n",
    "Gráfico de pizza com proporções:\n",
    "- Roxo: Sobreviventes.\n",
    "- Amarelo: Não sobreviventes.\n",
    "\n",
    "Proporção entre sobreviventes e vítimas é claramente visualizada. Isso nos ajuda a identificar possíveis tendências de desequilíbrio no dataset.\n",
    "- O dataset possui um equilíbrio relativo entre sobreviventes e não sobreviventes, o que é favorável para treinar modelos de aprendizado supervisionado.\n",
    "\n",
    "- A pequena diferença sugere que balanceamento adicional pode não ser necessário neste atributo."
   ],
   "id": "b8df0a293b331cb5"
  },
  {
   "metadata": {},
   "cell_type": "code",
   "outputs": [],
   "execution_count": null,
   "source": [
    "total_true = df['Sobrevivente'].sum()\n",
    "total_false = len(df['Sobrevivente']) - total_true\n",
    "\n",
    "labels = ['Sobreviventes', 'Vítimas']\n",
    "sizes = [total_true, total_false]\n",
    "colors = ['#9B59B6', '#F1C40F']\n",
    "explode = (0.1, 0)\n",
    "\n",
    "plt.figure(figsize=(4, 4))\n",
    "plt.pie(sizes, labels=labels, colors=colors, autopct='%1.1f%%', startangle=90, explode=explode, shadow=True)\n",
    "\n",
    "plt.title('Distribuição de Sobreviventes', fontsize=14)\n",
    "plt.show()"
   ],
   "id": "23f5b90bc872720a"
  },
  {
   "metadata": {},
   "cell_type": "markdown",
   "source": "### Verificando se há valores ausentes",
   "id": "f25425ad5c0e6f89"
  },
  {
   "metadata": {},
   "cell_type": "code",
   "outputs": [],
   "execution_count": null,
   "source": "df.isnull().sum()",
   "id": "b7b31deb56206fd2"
  },
  {
   "metadata": {},
   "cell_type": "markdown",
   "source": [
    "## Análise de Passageiros em Família e Solo\n",
    "Identificar se os passageiros se estão viajando sozinhos ou em grupo (família) com base em um identificador fornecido.\n",
    "\n",
    "- Separar o ID de Grupo e o Número do Integrante\n",
    "    - Dividimos o identificador único de cada passageiro (`IDpassageiro`) em duas partes: o grupo ao qual o passageiro pertence e o número de cada integrante dentro desse grupo. Isso nos permite rastrear quantos passageiros fazem parte de cada grupo.\n",
    "\n",
    "- Identificar se o Passageiro está em Família\n",
    "    - Com a contagem de passageiros por grupo, marcamos os passageiros que pertencem a grupos com mais de um integrante como \"Em Grupo\", e os demais como \"Solo\".\n"
   ],
   "id": "671b63db2c6f21a1"
  },
  {
   "metadata": {},
   "cell_type": "code",
   "outputs": [],
   "execution_count": null,
   "source": [
    "df[['Grupo', 'Integrante']] = df['IDpassageiro'].str.split('_', expand=True)\n",
    "\n",
    "group_counts = df['Grupo'].value_counts()\n",
    "\n",
    "df['EmGrupo'] = df['Grupo'].apply(lambda x: 1 if group_counts[x] > 1 else 0)\n",
    "\n",
    "print(df.EmGrupo.value_counts())"
   ],
   "id": "65cfe1e8ece347f4"
  },
  {
   "metadata": {},
   "cell_type": "markdown",
   "source": [
    "### Visualizar a Distribuição de Passageiros em Família e Solo\n",
    "Gráfico de barras para mostrar visualmente a quantidade de passageiros que viajam sozinhos em comparação aos que viajam em grupo, facilitando a análise da distribuição entre esses dois tipos de passageiros."
   ],
   "id": "9a01d52329d6654c"
  },
  {
   "metadata": {},
   "cell_type": "code",
   "outputs": [],
   "execution_count": null,
   "source": [
    "plt.figure(figsize=(4, 2))\n",
    "df['EmGrupo'].value_counts().plot(kind='bar', color = ['#9B59B6', '#F1C40F'] )\n",
    "plt.xticks(ticks=[0, 1], labels=['Solo', 'Em Grupo'], rotation=0)\n",
    "plt.title('Distribuição de Passageiros em Grupo e Solo')\n",
    "plt.xlabel('Tipo de Passageiro')\n",
    "plt.ylabel('Contagem')\n",
    "plt.show()"
   ],
   "id": "962f60445a9d3478"
  },
  {
   "metadata": {},
   "cell_type": "markdown",
   "source": [
    "### Visualizar a Distribuição de Passageiros por Deck\n",
    "Mostrando visualmente a quantidade de passageiros em cada Deck do navio."
   ],
   "id": "e8f6d60f8a960757"
  },
  {
   "metadata": {},
   "cell_type": "code",
   "outputs": [],
   "execution_count": null,
   "source": [
    "deck_counts = df['Deck'].value_counts().reset_index()\n",
    "deck_counts_sorted = deck_counts.sort_values(by='Deck', ascending=True)\n",
    "deck_counts.columns = ['Deck', 'Contagem']\n",
    "\n",
    "plt.figure(figsize=(4, 2))\n",
    "sns.heatmap(deck_counts_sorted.set_index('Deck').T, annot=True, fmt='d', cmap='Purples', cbar=False, linewidths=1, linecolor='gray')\n",
    "\n",
    "plt.title('Contagem de Passageiros por Deck', fontsize=16)\n",
    "plt.xlabel('Deck', fontsize=12)\n",
    "plt.show()"
   ],
   "id": "706ac33877c36d04"
  },
  {
   "metadata": {},
   "cell_type": "markdown",
   "source": [
    "### Visualizar a Distribuição de Passageiros e a Posição da Cabine\n",
    "Mostrando visualmente a quantidade de passageiros em cada Deck do navio."
   ],
   "id": "917ebba15dcda999"
  },
  {
   "metadata": {},
   "cell_type": "code",
   "outputs": [],
   "execution_count": null,
   "source": [
    "# Gráfico de pizza com cores personalizadas\n",
    "plt.figure(figsize=(4, 4))\n",
    "df['PosicaoCabine'].value_counts().plot(kind='pie', autopct='%1.1f%%', colors=['#9B59B6', '#F1C40F'], startangle=90, explode=(0.1, 0), shadow=True)\n",
    "\n",
    "# Títulos e labels\n",
    "plt.title('Distribuição de PosicaoCabine', fontsize=14)\n",
    "plt.ylabel('')\n",
    "\n",
    "# Exibir o gráfico\n",
    "plt.show()\n"
   ],
   "id": "edc3a8bdd18f0519"
  },
  {
   "metadata": {},
   "cell_type": "code",
   "outputs": [],
   "execution_count": null,
   "source": [
    "pivot_table = df.pivot_table(values=\"Sobrevivente\", index=\"Deck\", columns=\"PosicaoCabine\", aggfunc=\"mean\")\n",
    "colors = ['#F1C40F', '#9B59B6']  # Roxo e amarelo suave\n",
    "cmap = LinearSegmentedColormap.from_list(\"purple_yellow\", colors)\n",
    "sns.heatmap(pivot_table, annot=True, cmap=cmap, cbar_kws={'label': 'Taxa de Sobrevivência Média'})\n",
    "plt.title(\"Taxa de Sobrevivência Média por Deck e Posição da Cabine\")\n",
    "plt.show()"
   ],
   "id": "a572b43e73fcb1ef"
  },
  {
   "metadata": {},
   "cell_type": "markdown",
   "source": [
    "### Análise das Faixas Etárias e Taxa de Sobrevivência:\n",
    "- **Criação de novas colunas**\n",
    "   - `GrupoHetario` foi criado para agrupar idade em faixas."
   ],
   "id": "8ff305d22f640702"
  },
  {
   "metadata": {},
   "cell_type": "code",
   "outputs": [],
   "execution_count": null,
   "source": [
    "df['GrupoHetario'] = pd.cut(df['Idade'], bins=[-1, 17, 35, 59, 100], labels=[\"Crianças\", \"Jovens\", \"Adultos\", \"Idosos\"])\n",
    "df['GrupoHetarioCode'] = df['GrupoHetario'].cat.codes"
   ],
   "id": "fded0698935c5711"
  },
  {
   "metadata": {},
   "cell_type": "code",
   "outputs": [],
   "execution_count": null,
   "source": [
    "# Analisar a taxa de sobrevivência por faixa etária\n",
    "survival_by_age_group = df.groupby('GrupoHetario')['Sobrevivente'].mean()\n",
    "\n",
    "# Gráfico: Taxa de sobrevivência por faixa etária\n",
    "plt.figure(figsize=(8, 6))\n",
    "sns.barplot(x=survival_by_age_group.index, y=survival_by_age_group.values, palette='coolwarm')\n",
    "plt.title('Taxa de Sobrevivência por Faixa Etária', fontsize=14)\n",
    "plt.xlabel('Faixa Etária')\n",
    "plt.ylabel('Taxa de Sobrevivência')\n",
    "plt.ylim(0, 1)\n",
    "plt.show()\n",
    "\n",
    "# Gráfico: Distribuição de sobreviventes por faixa etária\n",
    "plt.figure(figsize=(8, 6))\n",
    "sns.histplot(data=df, x='GrupoHetario', hue='Sobrevivente', multiple='stack', palette='Set2', shrink=0.8)\n",
    "plt.title('Distribuição de Sobreviventes por Faixa Etária', fontsize=14)\n",
    "plt.xlabel('Faixa Etária')\n",
    "plt.ylabel('Número de Passageiros')\n",
    "plt.show()"
   ],
   "id": "18ced22cf3c7bb41"
  },
  {
   "metadata": {},
   "cell_type": "code",
   "outputs": [],
   "execution_count": null,
   "source": [
    "# Analisar a taxa de sobrevivência por faixa etária\n",
    "survival_by_age_group = df.groupby('GrupoHetario')['Sobrevivente'].mean()\n",
    "\n",
    "# Exibir os resultados como tabela\n",
    "survival_table = survival_by_age_group.reset_index()\n",
    "survival_table.columns = ['Faixa Etária', 'Taxa de Sobrevivência']\n",
    "\n",
    "# Mostrar a tabela no Jupyter Notebook\n",
    "print(survival_table)"
   ],
   "id": "55e9eb00d0f70794"
  },
  {
   "metadata": {},
   "cell_type": "code",
   "outputs": [],
   "execution_count": null,
   "source": [
    "# Contar o número de passageiros por faixa etária\n",
    "total_passageiros_por_faixa = df['GrupoHetario'].value_counts().sort_index()\n",
    "\n",
    "# Contar o número de sobreviventes por faixa etária\n",
    "survivors_by_age_group = df.groupby('GrupoHetario')['Sobrevivente'].sum()\n",
    "\n",
    "# Calcular a taxa de sobrevivência por faixa etária\n",
    "survival_rate_by_age_group = survivors_by_age_group / total_passageiros_por_faixa\n",
    "\n",
    "# Criar a tabela com o total de passageiros e a taxa de sobrevivência\n",
    "age_group_analysis = pd.DataFrame({\n",
    "    'Total Passageiros': total_passageiros_por_faixa,\n",
    "    'Sobreviventes': survivors_by_age_group,\n",
    "    'Taxa de Sobrevivência': survival_rate_by_age_group\n",
    "}).reset_index()\n",
    "\n",
    "age_group_analysis.columns = ['Faixa Etária', 'Total Passageiros', 'Sobreviventes', 'Taxa de Sobrevivência']\n",
    "\n",
    "# Exibir a tabela\n",
    "print(age_group_analysis)\n",
    "\n",
    "# Gráfico de barras: Total de passageiros por faixa etária\n",
    "plt.figure(figsize=(8, 6))\n",
    "sns.barplot(x=age_group_analysis['Faixa Etária'], y=age_group_analysis['Total Passageiros'], palette='viridis')\n",
    "plt.title('Total de Passageiros por Faixa Etária', fontsize=14)\n",
    "plt.xlabel('Faixa Etária')\n",
    "plt.ylabel('Total de Passageiros')\n",
    "plt.show()\n"
   ],
   "id": "66afab2d50f273ff"
  },
  {
   "metadata": {},
   "cell_type": "markdown",
   "source": [
    "## Preparação de Dados\n",
    "\n",
    "- **Codificação de variáveis**\n",
    "   - `Deck` foi transformado em códigos numéricos.\n",
    "   - `PosicaoCabine` foi mapeada para 1 (P) e 0 (S).\n",
    "   - Colunas booleanas (`VIP`, `AllInclusive`, `Sobrevivente`) foram convertidas para 0 e 1.\n",
    "\n",
    "- **Criação de novas colunas**\n",
    "   - `TotalGasto` foi calculado somando os gastos em diferentes categorias.\n",
    "   - `GrupoHetario` e `RangeGasto` foram criados para agrupar idade e gastos em faixas.\n",
    "\n",
    "- **Conversão para códigos numéricos**:\n",
    "   - `GrupoHetario` e `RangeGasto` foram convertidos para valores numéricos.\n",
    "\n",
    "- **Origem e destino**:\n",
    "   - `MesmaOrigemDestino` foi criada para indicar se a procedência e destino são iguais.\n",
    "\n",
    "- **Remoção de colunas**:\n",
    "   - Colunas de gastos individuais foram removidas.\n",
    "   - Colunas desnecessárias e dados redundantes\n"
   ],
   "id": "6643c69c913016ee"
  },
  {
   "metadata": {},
   "cell_type": "code",
   "outputs": [],
   "execution_count": null,
   "source": [
    "# df['Deck'] = df['Deck'].astype('category').cat.codes\n",
    "# df['PosicaoCabine'] = df['PosicaoCabine'].map({'P': 1, 'S': 0})\n",
    "df = pd.get_dummies(df, columns=['Deck', 'PosicaoCabine'], drop_first=True)\n",
    "\n",
    "\n",
    "df['VIP'] = df['VIP'].astype(int)\n",
    "df['AllInclusive'] = df['AllInclusive'].astype(int)\n",
    "df['Sobrevivente'] = df['Sobrevivente'].astype(int)\n",
    "\n",
    "df['TotalGasto'] = df[['ServicoCabine', 'Restaurante', 'Shopping', 'SPA', 'ParquedeAguas']].sum(axis=1)\n",
    "\n",
    "\n",
    "df['RangeGasto'] = pd.cut(df['TotalGasto'], bins=[-1, 500, 1000, 2000, 5000, 10000, 30000], labels = ['0-500', '501-1000', '1001-2000', '2001-5000', '5001-10000', '10000+'], right=False)\n",
    "\n",
    "\n",
    "df['RangeGastoCode'] = df['RangeGasto'].cat.codes\n",
    "\n",
    "df['MesmaOrigemDestino'] = (df['Procedencia'] == df['Destino']).astype(int)"
   ],
   "id": "feb26e0238e41e3b"
  },
  {
   "metadata": {},
   "cell_type": "code",
   "outputs": [],
   "execution_count": null,
   "source": [
    "pivot_table = df.pivot_table(values=\"Sobrevivente\", index=\"GrupoHetario\", columns=\"VIP\", aggfunc=\"mean\")\n",
    "sns.heatmap(pivot_table, annot=True, cmap=\"YlGnBu\", cbar_kws={'label': 'Taxa de Sobrevivência Média'})\n",
    "plt.title(\"Taxa de Sobrevivência Média por Grupo Hetário e Classe\")\n",
    "plt.show()\n",
    "\n",
    "pivot_table = df.pivot_table(values=\"Sobrevivente\", index=\"GrupoHetario\", columns=\"AllInclusive\", aggfunc=\"mean\")\n",
    "sns.heatmap(pivot_table, annot=True, cmap=\"YlGnBu\", cbar_kws={'label': 'Taxa de Sobrevivência Média'})\n",
    "plt.title(\"Taxa de Sobrevivência Média por Grupo Hetário e Classe\")\n",
    "plt.show()"
   ],
   "id": "7bff13ccc7d86f38"
  },
  {
   "metadata": {},
   "cell_type": "code",
   "outputs": [],
   "execution_count": null,
   "source": [
    "pivot_table = df.pivot_table(values=\"Sobrevivente\", index=\"GrupoHetario\", columns=\"RangeGasto\", aggfunc=\"mean\")\n",
    "sns.heatmap(pivot_table, annot=True, cmap=\"YlGnBu\", cbar_kws={'label': 'Taxa de Sobrevivência Média'})\n",
    "plt.title(\"Taxa de Sobrevivência Média por Grupo Hetário e Classe\")\n",
    "plt.show()"
   ],
   "id": "28593a95781c183c"
  },
  {
   "metadata": {},
   "cell_type": "code",
   "outputs": [],
   "execution_count": null,
   "source": [
    "pivot_table = df.pivot_table(values=\"Sobrevivente\", index=\"AllInclusive\", columns=\"EmGrupo\", aggfunc=\"mean\")\n",
    "sns.heatmap(pivot_table, annot=True, cmap=\"YlGnBu\", cbar_kws={'label': 'Taxa de Sobrevivência Média'})\n",
    "plt.title(\"Taxa de Sobrevivência Média por Grupo Hetário e Classe\")\n",
    "plt.show()"
   ],
   "id": "13c9d2d67968f429"
  },
  {
   "metadata": {},
   "cell_type": "code",
   "outputs": [],
   "execution_count": null,
   "source": "df.drop(['ServicoCabine', 'Restaurante', 'Shopping', 'SPA', 'ParquedeAguas', 'IDpassageiro', 'Nome', 'Procedencia', 'Destino', 'NumeroCabine', 'TotalGasto', 'GrupoHetario', 'RangeGasto', 'Integrante', 'Grupo'], axis=1, inplace=True)",
   "id": "24aadaa4dd3b1554"
  },
  {
   "metadata": {},
   "cell_type": "code",
   "outputs": [],
   "execution_count": null,
   "source": [
    "correlation_matrix = df.corr()\n",
    "print(correlation_matrix['Sobrevivente'].sort_values(ascending=False))"
   ],
   "id": "4fd4ed53a515f149"
  },
  {
   "metadata": {},
   "cell_type": "code",
   "outputs": [],
   "execution_count": null,
   "source": [
    "plt.figure(figsize=(8, 6))  # Set the figure size\n",
    "sns.heatmap(\n",
    "    correlation_matrix,\n",
    "    annot=True,  # Annotate each cell with correlation value\n",
    "    fmt=\".2f\",   # Format for annotations\n",
    "    cmap=\"viridis\",  # Colormap (change if you like)\n",
    "    cbar=True    # Add a color bar\n",
    ")\n",
    "plt.title(\"Correlation Heatmap\")\n",
    "plt.show()\n"
   ],
   "id": "4767f01271a9f86b"
  },
  {
   "metadata": {},
   "cell_type": "markdown",
   "source": [
    "#### Separando os atributos do conjunto de dados em variáveis independentes (X) e a variável dependente (y).\n",
    "- As variáveis independentes são todas as colunas do DataFrame, exceto 'Sobrevivente', que é removida.\n",
    "- A variável dependente 'Sobrevivente' é isolada em y.\n",
    "\n",
    "#### Dividir os dados em conjuntos de treinamento e teste"
   ],
   "id": "ad2118de78a0bacb"
  },
  {
   "metadata": {},
   "cell_type": "code",
   "outputs": [],
   "execution_count": null,
   "source": [
    "X = df.drop([\"Sobrevivente\"], axis=1)\n",
    "y = df[\"Sobrevivente\"]\n",
    "\n",
    "X_train, X_test, y_train, y_test = train_test_split(X, y, test_size=0.3, random_state=42)"
   ],
   "id": "db9d15c11a28d232"
  },
  {
   "metadata": {},
   "cell_type": "markdown",
   "source": [
    "### Modelo 1: Regressão Logística\n",
    "### Análise e ajuste dos hiper-parâmetros da Regressão Logística\n",
    "- Escalonando os dados (normalizando para ter média 0 e desvio padrão 1)"
   ],
   "id": "6bbb0b54bc0d9007"
  },
  {
   "metadata": {},
   "cell_type": "code",
   "outputs": [],
   "execution_count": null,
   "source": [
    "scaler = StandardScaler()\n",
    "X_train_scaled = scaler.fit_transform(X_train)\n",
    "X_test_scaled = scaler.transform(X_test)\n",
    "\n",
    "param_grid = {\n",
    "    'C': [0.1, 1, 10],\n",
    "    'solver': ['lbfgs', 'saga'],\n",
    "    'max_iter': [100, 500, 1000]\n",
    "}\n",
    "\n",
    "grid_search = GridSearchCV(LogisticRegression(), param_grid, cv=5, scoring='f1')\n",
    "grid_search.fit(X_train_scaled, y_train)\n",
    "print(f\"Melhores parâmetros: {grid_search.best_params_}\")\n",
    "print(f\"Acurácia: {grid_search.best_score_}\")"
   ],
   "id": "3aaa5e7460b5928c"
  },
  {
   "metadata": {},
   "cell_type": "code",
   "outputs": [],
   "execution_count": null,
   "source": [
    "# Escalonamento dos dados\n",
    "scaler = StandardScaler()\n",
    "X_train_scaled = scaler.fit_transform(X_train)\n",
    "X_test_scaled = scaler.transform(X_test)\n",
    "\n",
    "# Definição da grade de parâmetros\n",
    "param_grid = {\n",
    "    'C': [0.1, 1, 10],\n",
    "    'solver': ['lbfgs', 'saga'],\n",
    "    'max_iter': [100, 500, 1000]\n",
    "}\n",
    "\n",
    "# Configuração do GridSearch com F1 como métrica principal\n",
    "grid_search = GridSearchCV(\n",
    "    LogisticRegression(),\n",
    "    param_grid,\n",
    "    scoring='f1',\n",
    "    cv=5\n",
    ")\n",
    "\n",
    "# Treinamento\n",
    "grid_search.fit(X_train_scaled, y_train)\n",
    "\n",
    "# Resultados do treinamento\n",
    "print(f\"Melhores parâmetros: {grid_search.best_params_}\")\n",
    "print(f\"Melhor F1-score: {grid_search.best_score_}\")\n",
    "\n",
    "# Avaliação no conjunto de teste\n",
    "y_pred = grid_search.best_estimator_.predict(X_test_scaled)\n",
    "print(f\"Acurácia: {accuracy_score(y_test, y_pred)}\")\n",
    "print(f\"Recall: {recall_score(y_test, y_pred)}\")\n",
    "print(f\"F1-score: {f1_score(y_test, y_pred)}\")\n",
    "\n",
    "# Curva ROC\n",
    "y_pred_proba = grid_search.best_estimator_.predict_proba(X_test_scaled)[:, 1]\n",
    "fpr, tpr, thresholds = roc_curve(y_test, y_pred_proba)\n",
    "auc = roc_auc_score(y_test, y_pred_proba)\n",
    "\n",
    "# Plotagem (usando Matplotlib, por exemplo)\n",
    "plt.plot(fpr, tpr, label=f\"ROC curve (area = {auc:.2f})\")\n",
    "plt.xlabel(\"False Positive Rate\")\n",
    "plt.ylabel(\"True Positive Rate\")\n",
    "plt.title(\"Curva ROC\")\n",
    "plt.legend()\n",
    "plt.show()\n"
   ],
   "id": "b6f8934dfee9cbea"
  },
  {
   "metadata": {},
   "cell_type": "code",
   "outputs": [],
   "execution_count": null,
   "source": [
    "best_model = grid_search.best_estimator_\n",
    "test_score = best_model.score(X_test_scaled, y_test)\n",
    "print(f\"Acurácia no conjunto de teste: {test_score}\")\n"
   ],
   "id": "b1c08ff058d465af"
  },
  {
   "metadata": {},
   "cell_type": "code",
   "outputs": [],
   "execution_count": null,
   "source": [
    "y_pred = best_model.predict(X_test_scaled)\n",
    "print(classification_report(y_test, y_pred))\n"
   ],
   "id": "1e2d74bb40e24d45"
  },
  {
   "metadata": {},
   "cell_type": "markdown",
   "source": [
    "- Definição de parâmetros\n",
    "- Treinando o modelo\n",
    "- Fazendo as previsões\n",
    "- Calculando acurácia no conjunto de treino\n",
    "- Exibindo a acurácia"
   ],
   "id": "bad134b94793d646"
  },
  {
   "metadata": {},
   "cell_type": "code",
   "outputs": [],
   "execution_count": null,
   "source": [
    "logreg = LogisticRegression(solver='lbfgs', max_iter=100, C=1, random_state=42)\n",
    "logreg.fit(X_train_scaled, y_train)\n",
    "Y_pred = logreg.predict(X_test_scaled)\n",
    "acc_log = round(logreg.score(X_train_scaled, y_train) * 100, 2)\n",
    "print(f'Acurácia no conjunto de treino: {acc_log}%')"
   ],
   "id": "62769932a4358116"
  },
  {
   "metadata": {},
   "cell_type": "code",
   "outputs": [],
   "execution_count": null,
   "source": [
    "\n",
    "# Calculando as métricas\n",
    "accuracy = accuracy_score(y_test, Y_pred)\n",
    "precision = precision_score(y_test, Y_pred)\n",
    "recall = recall_score(y_test, Y_pred)\n",
    "f1 = f1_score(y_test, Y_pred)\n",
    "conf_matrix = confusion_matrix(y_test, Y_pred)\n",
    "\n",
    "# Imprimindo os resultados\n",
    "print(f\"Acurácia: {accuracy:.2f}\")\n",
    "print(f\"Precisão: {precision:.2f}\")\n",
    "print(f\"Revocação: {recall:.2f}\")\n",
    "print(f\"F1-score: {f1:.2f}\")\n",
    "print(\"\\nMatriz de Confusão:\")\n",
    "print(conf_matrix)"
   ],
   "id": "274730a07dd142a7"
  },
  {
   "metadata": {},
   "cell_type": "code",
   "outputs": [],
   "execution_count": null,
   "source": "print(classification_report(y_test, Y_pred))",
   "id": "d0ba03b16ef06cf6"
  },
  {
   "metadata": {},
   "cell_type": "code",
   "outputs": [],
   "execution_count": null,
   "source": [
    "#Curva ROC\n",
    "RocCurveDisplay.from_estimator(logreg, X_test, y_test)"
   ],
   "id": "3c06c3f2a331241b"
  },
  {
   "metadata": {},
   "cell_type": "markdown",
   "source": [
    "### Modelo 2: Árvores de Decisão\n",
    "### Análise e ajuste dos hiper-parâmetros de Árvores de Decisão\n",
    "- Escalonando os dados"
   ],
   "id": "63641d570f663148"
  },
  {
   "metadata": {},
   "cell_type": "code",
   "outputs": [],
   "execution_count": null,
   "source": [
    "param_grid = {\n",
    "    'max_depth': [5, 10, 15, 20],\n",
    "    'min_samples_split': [2, 5, 10],\n",
    "    'min_samples_leaf': [1, 2, 5, 10]\n",
    "}\n",
    "\n",
    "grid_search = GridSearchCV(DecisionTreeClassifier(), param_grid, cv=5)\n",
    "grid_search.fit(X_train, y_train)\n",
    "print(\"Melhores parâmetros:\", grid_search.best_params_)"
   ],
   "id": "fe9c13126429ef12"
  },
  {
   "metadata": {},
   "cell_type": "code",
   "outputs": [],
   "execution_count": null,
   "source": [
    "scoreListDT = []\n",
    "for i in range(2,21):\n",
    "    DTclassifier = DecisionTreeClassifier(max_leaf_nodes=i, max_depth=5, min_samples_split=10, min_samples_leaf=2)\n",
    "    DTclassifier.fit(X_train, y_train)\n",
    "    scoreListDT.append(DTclassifier.score(X_test, y_test))\n",
    "\n",
    "plt.plot(range(2,21), scoreListDT)\n",
    "plt.xticks(np.arange(2,21,1))\n",
    "plt.xlabel(\"Leaf\")\n",
    "plt.ylabel(\"Score\")\n",
    "plt.show()\n",
    "DTAcc = max(scoreListDT)\n",
    "print(\"Acurácia do algoritmo de Árvore de Decisão: {:.2f}%\".format(DTAcc*100))"
   ],
   "id": "b24ccfbbac42c652"
  },
  {
   "metadata": {},
   "cell_type": "code",
   "outputs": [],
   "execution_count": null,
   "source": [
    "# apresentações do modelo\n",
    "modelo_txt = export_text(DTclassifier, feature_names=list(X.columns))\n",
    "print(modelo_txt)"
   ],
   "id": "f09b8286cdbdf8d5"
  },
  {
   "metadata": {},
   "cell_type": "code",
   "outputs": [],
   "execution_count": null,
   "source": [
    "plt.figure(figsize=(8, 4))  # Tamanho da figura\n",
    "plot_tree(DTclassifier, feature_names=X.columns, class_names=True, filled=True)\n",
    "plt.show()"
   ],
   "id": "6132194e4ebee3a"
  },
  {
   "metadata": {},
   "cell_type": "code",
   "outputs": [],
   "execution_count": null,
   "source": [
    "decision_tree = DecisionTreeClassifier(max_depth=10, min_samples_split=2, min_samples_leaf=5)\n",
    "decision_tree.fit(X_train, y_train)\n",
    "acc_decision_tree_train = round(decision_tree.score(X_train, y_train) * 100, 2)\n",
    "acc_decision_tree_test = round(decision_tree.score(X_test, y_test) * 100, 2)\n",
    "print(f\"Acurácia no conjunto de treino: {acc_decision_tree_train}%\")\n",
    "print(f\"Acurácia no conjunto de teste: {acc_decision_tree_test}%\")\n",
    "# Previsões no conjunto de teste\n",
    "y_pred = decision_tree.predict(X_test)"
   ],
   "id": "1a2ed214cabbe2c1"
  },
  {
   "metadata": {},
   "cell_type": "code",
   "outputs": [],
   "execution_count": null,
   "source": [
    "# Calculando as métricas\n",
    "accuracy = accuracy_score(y_test, y_pred)\n",
    "precision = precision_score(y_test, y_pred)\n",
    "recall = recall_score(y_test, y_pred)\n",
    "f1 = f1_score(y_test, y_pred)\n",
    "conf_matrix = confusion_matrix(y_test, y_pred)\n",
    "\n",
    "# Imprimindo os resultados\n",
    "print(f\"Acurácia: {accuracy:.2f}\")\n",
    "print(f\"Precisão: {precision:.2f}\")\n",
    "print(f\"Revocação: {recall:.2f}\")\n",
    "print(f\"F1-score: {f1:.2f}\")\n",
    "print(\"\\nMatriz de Confusão:\")\n",
    "print(conf_matrix)"
   ],
   "id": "787b08a104f3be87"
  },
  {
   "metadata": {},
   "cell_type": "code",
   "outputs": [],
   "execution_count": null,
   "source": [
    "#Curva ROC\n",
    "RocCurveDisplay.from_estimator(decision_tree, X_test, y_test)\n"
   ],
   "id": "96caafba971dde70"
  },
  {
   "metadata": {},
   "cell_type": "code",
   "outputs": [],
   "execution_count": null,
   "source": [
    "scores = cross_val_score(RandomForestClassifier(random_state=42), X, y, cv=5, scoring='accuracy')\n",
    "print(\"Acurácia média:\", scores.mean())"
   ],
   "id": "543edf69fd881835"
  },
  {
   "metadata": {},
   "cell_type": "code",
   "outputs": [],
   "execution_count": null,
   "source": [
    "# Definindo o modelo\n",
    "xgboost_model = XGBClassifier(random_state=42)\n",
    "\n",
    "# Definindo os hiperparâmetros que queremos otimizar\n",
    "param_grid = {\n",
    "    'max_depth': [3, 5, 7, 10],\n",
    "    'learning_rate': [0.01, 0.05, 0.1, 0.2],\n",
    "    'n_estimators': [50, 100, 200],\n",
    "    'subsample': [0.7, 0.8, 0.9],\n",
    "    'colsample_bytree': [0.7, 0.8, 0.9],\n",
    "    'gamma': [0, 0.1, 0.5],\n",
    "    'reg_alpha': [0, 0.1, 1],\n",
    "    'reg_lambda': [0, 0.1, 1]\n",
    "}\n",
    "\n",
    "# GridSearchCV para buscar os melhores parâmetros\n",
    "grid_search = GridSearchCV(estimator=xgboost_model, param_grid=param_grid,\n",
    "                           scoring='accuracy', cv=3, verbose=1, n_jobs=-1)\n",
    "\n",
    "# Treinando o modelo com GridSearchCV\n",
    "grid_search.fit(X_train, y_train)\n",
    "\n",
    "# Melhor conjunto de parâmetros\n",
    "print(\"Melhores parâmetros encontrados:\")\n",
    "print(grid_search.best_params_)\n",
    "\n",
    "# Melhor resultado de acurácia\n",
    "print(\"Melhor acurácia:\", grid_search.best_score_)\n",
    "\n",
    "# Melhor modelo\n",
    "best_model = grid_search.best_estimator_\n",
    "\n",
    "# Acurácia no conjunto de teste com o melhor modelo\n",
    "acc_test_best_model = best_model.score(X_test, y_test)\n",
    "print(f\"Acurácia no conjunto de teste com o melhor modelo: {acc_test_best_model * 100:.2f}%\")"
   ],
   "id": "9a712416ad1006f0"
  },
  {
   "metadata": {},
   "cell_type": "code",
   "outputs": [],
   "execution_count": null,
   "source": [
    "# Treinando o modelo XGBoost\n",
    "xgboost_model = XGBClassifier(gamma= 0.5, colsample_bytree= 0.8, max_depth=10, learning_rate=0.01, n_estimators=100, random_state=42, reg_alpha=1, reg_lambda=1, subsample= 0.8)\n",
    "xgboost_model.fit(X_train, y_train)\n",
    "\n",
    "# Acurácia no conjunto de treino e teste\n",
    "acc_xgboost_train = round(xgboost_model.score(X_train, y_train) * 100, 2)\n",
    "acc_xgboost_test = round(xgboost_model.score(X_test, y_test) * 100, 2)\n",
    "\n",
    "# Previsões no conjunto de teste\n",
    "y_pred = xgboost_model.predict(X_test)\n",
    "\n",
    "# Calculando as métricas\n",
    "accuracy = accuracy_score(y_test, y_pred)\n",
    "precision = precision_score(y_test, y_pred)\n",
    "recall = recall_score(y_test, y_pred)\n",
    "f1 = f1_score(y_test, y_pred)\n",
    "conf_matrix = confusion_matrix(y_test, y_pred)\n",
    "\n",
    "# Exibindo os resultados\n",
    "print(f\"Acurácia no conjunto de treino: {acc_xgboost_train}%\")\n",
    "print(f\"Acurácia no conjunto de teste: {acc_xgboost_test}%\")\n",
    "print(f\"Acurácia geral (teste): {accuracy:.2f}\")\n",
    "print(f\"Precisão: {precision:.2f}\")\n",
    "print(f\"Revocação: {recall:.2f}\")\n",
    "print(f\"F1-score: {f1:.2f}\")\n",
    "print(\"\\nMatriz de Confusão:\")\n",
    "print(conf_matrix)"
   ],
   "id": "6e99c2ea9331856e"
  },
  {
   "metadata": {},
   "cell_type": "code",
   "outputs": [],
   "execution_count": null,
   "source": [
    "# Parâmetros para otimização\n",
    "param_grid_rf = {\n",
    "    'n_estimators': [50, 100, 200],\n",
    "    'max_depth': [None, 10, 20, 30],\n",
    "    'min_samples_split': [2, 5, 10],\n",
    "    'class_weight': [None, 'balanced']\n",
    "}\n",
    "\n",
    "# GridSearch para encontrar melhores parâmetros\n",
    "grid_search_rf = GridSearchCV(\n",
    "    RandomForestClassifier(random_state=42),\n",
    "    param_grid_rf,\n",
    "    scoring='f1',  # Usar F1-score como métrica\n",
    "    cv=5\n",
    ")\n",
    "\n",
    "# Treinando o modelo\n",
    "grid_search_rf.fit(X_train_scaled, y_train)\n",
    "\n",
    "# Melhor modelo e avaliação no conjunto de teste\n",
    "best_rf = grid_search_rf.best_estimator_\n",
    "y_pred_rf = best_rf.predict(X_test_scaled)\n",
    "\n",
    "# Resultados\n",
    "print(f\"Melhores parâmetros: {grid_search_rf.best_params_}\")\n",
    "print(f\"Acurácia: {accuracy_score(y_test, y_pred_rf)}\")\n",
    "print(f\"Recall: {recall_score(y_test, y_pred_rf)}\")\n",
    "print(f\"F1-score: {f1_score(y_test, y_pred_rf)}\")\n",
    "print(f\"AUC: {roc_auc_score(y_test, y_pred_rf)}\")\n",
    "\n",
    "fpr, tpr, thresholds = roc_curve(y_test, best_rf.predict_proba(X_test_scaled)[:, 1])\n",
    "plt.plot(fpr, tpr, label=f'Random Forest (AUC = {roc_auc_score(y_test, y_pred_rf):.2f})')\n",
    "plt.plot([0, 1], [0, 1], 'k--')\n",
    "plt.xlabel('Taxa de Falsos Positivos')\n",
    "plt.ylabel('Taxa de Verdadeiros Positivos')\n",
    "plt.title('Curva ROC')\n",
    "plt.legend(loc='best')\n",
    "plt.show()\n"
   ],
   "id": "4bb6b53209e30dd7"
  },
  {
   "metadata": {},
   "cell_type": "markdown",
   "source": [
    "### Modelo 3: K-Nearest Neighbors\n",
    "### Análise e ajuste dos hiper-parâmetros do KNN"
   ],
   "id": "7c293d6c6db27292"
  },
  {
   "metadata": {},
   "cell_type": "code",
   "outputs": [],
   "execution_count": null,
   "source": [
    "# Definir o grid de parâmetros\n",
    "param_grid = {\n",
    "    'n_neighbors': [3, 5, 7, 10],\n",
    "    'metric': ['euclidean', 'manhattan', 'chebyshev', 'minkowski', 'cosine']\n",
    "}\n",
    "\n",
    "# Criar o modelo KNN\n",
    "knn = KNeighborsClassifier()\n",
    "\n",
    "# Fazer o GridSearch\n",
    "grid_search = GridSearchCV(knn, param_grid, cv=5, scoring='accuracy')\n",
    "grid_search.fit(X_train_scaled, y_train)\n",
    "\n",
    "# Melhor combinação de parâmetros\n",
    "print(\"Melhor métrica:\", grid_search.best_params_['metric'])\n",
    "print(\"Melhor número de vizinhos:\", grid_search.best_params_['n_neighbors'])\n",
    "print(\"Melhor precisão:\", grid_search.best_score_)"
   ],
   "id": "c420c1709addca3b"
  },
  {
   "metadata": {
    "ExecuteTime": {
     "end_time": "2024-11-28T12:57:08.091747500Z",
     "start_time": "2024-11-28T12:46:54.791604Z"
    }
   },
   "cell_type": "code",
   "source": [
    "knn = KNeighborsClassifier(n_neighbors = 3, metric = 'manhattan')\n",
    "knn.fit(X_train_scaled, y_train)\n",
    "Y_pred = knn.predict(X_test_scaled)\n",
    "acc_knn = round(knn.score(X_train_scaled, y_train) * 100, 2)\n",
    "acc_knn"
   ],
   "id": "ab7d0d4bedddd01b",
   "outputs": [
    {
     "data": {
      "text/plain": [
       "75.29"
      ]
     },
     "execution_count": 971,
     "metadata": {},
     "output_type": "execute_result"
    }
   ],
   "execution_count": 971
  },
  {
   "metadata": {
    "ExecuteTime": {
     "end_time": "2024-11-28T12:57:08.094748500Z",
     "start_time": "2024-11-28T12:46:54.837840Z"
    }
   },
   "cell_type": "code",
   "source": [
    "#Curva ROC\n",
    "RocCurveDisplay.from_estimator(knn, X_test, y_test)"
   ],
   "id": "336bb0ac35ad009",
   "outputs": [
    {
     "name": "stderr",
     "output_type": "stream",
     "text": [
      "C:\\Users\\Lais_Ziegler\\AppData\\Local\\Programs\\Python\\Python312\\Lib\\site-packages\\sklearn\\base.py:486: UserWarning: X has feature names, but KNeighborsClassifier was fitted without feature names\n",
      "  warnings.warn(\n"
     ]
    },
    {
     "data": {
      "text/plain": [
       "<sklearn.metrics._plot.roc_curve.RocCurveDisplay at 0x17f6fcf0d40>"
      ]
     },
     "execution_count": 972,
     "metadata": {},
     "output_type": "execute_result"
    },
    {
     "data": {
      "text/plain": [
       "<Figure size 640x480 with 1 Axes>"
      ],
      "image/png": "[encoded data removed]"
     },
     "metadata": {},
     "output_type": "display_data"
    }
   ],
   "execution_count": 972
  },
  {
   "metadata": {},
   "cell_type": "markdown",
   "source": [
    "### Modelo 4: Gaussian Naive Bayes\n",
    "### Análise e ajuste dos hiper-parâmetros da Naive Bayes"
   ],
   "id": "f2ec1959de490498"
  },
  {
   "metadata": {
    "ExecuteTime": {
     "end_time": "2024-11-28T12:57:08.136507300Z",
     "start_time": "2024-11-28T12:46:55.024915Z"
    }
   },
   "cell_type": "code",
   "source": [
    "NBclassifier1 = GaussianNB()\n",
    "NBclassifier1.fit(X_train, y_train)\n",
    "\n",
    "y_pred = NBclassifier1.predict(X_test)\n",
    "\n",
    "print(classification_report(y_test, y_pred))\n",
    "print('Matriz de confusão: ')\n",
    "print(confusion_matrix(y_test, y_pred))\n",
    "acc_gaussian = round(NBclassifier1.score(X_train, y_train) * 100, 2)\n",
    "NBAcc1 = accuracy_score(y_pred,y_test)\n",
    "print('Acurácia do algoritmo de Naive Bayes: {:.2f}%'.format(NBAcc1*100))"
   ],
   "id": "605845387786aec3",
   "outputs": [
    {
     "name": "stdout",
     "output_type": "stream",
     "text": [
      "              precision    recall  f1-score   support\n",
      "\n",
      "           0       0.49      0.26      0.34       145\n",
      "           1       0.52      0.74      0.61       155\n",
      "\n",
      "    accuracy                           0.51       300\n",
      "   macro avg       0.50      0.50      0.48       300\n",
      "weighted avg       0.50      0.51      0.48       300\n",
      "\n",
      "Matriz de confusão: \n",
      "[[ 38 107]\n",
      " [ 40 115]]\n",
      "Acurácia do algoritmo de Naive Bayes: 51.00%\n"
     ]
    }
   ],
   "execution_count": 973
  },
  {
   "metadata": {
    "ExecuteTime": {
     "end_time": "2024-11-28T12:57:08.138506700Z",
     "start_time": "2024-11-28T12:46:55.101411Z"
    }
   },
   "cell_type": "code",
   "source": [
    "#Curva ROC\n",
    "RocCurveDisplay.from_estimator(NBclassifier1, X_test, y_test)"
   ],
   "id": "d01b595b11a468c0",
   "outputs": [
    {
     "data": {
      "text/plain": [
       "<sklearn.metrics._plot.roc_curve.RocCurveDisplay at 0x17f72950290>"
      ]
     },
     "execution_count": 974,
     "metadata": {},
     "output_type": "execute_result"
    },
    {
     "data": {
      "text/plain": [
       "<Figure size 640x480 with 1 Axes>"
      ],
      "image/png": "[encoded data removed]"
     },
     "metadata": {},
     "output_type": "display_data"
    }
   ],
   "execution_count": 974
  },
  {
   "metadata": {},
   "cell_type": "markdown",
   "source": [
    "### Modelo 5: Random Forest\n",
    "### Análise e ajuste dos hiper-parâmetros de Random Foest"
   ],
   "id": "f220d326b9da2002"
  },
  {
   "metadata": {
    "ExecuteTime": {
     "end_time": "2024-11-28T12:57:08.138506700Z",
     "start_time": "2024-11-28T12:46:55.288998Z"
    }
   },
   "cell_type": "code",
   "source": [
    "rf = RandomForestClassifier(n_estimators=100, max_depth=5)\n",
    "rf.fit(X_train, y_train)\n",
    "acc_rf_train = round(rf.score(X_train, y_train) * 100, 2)\n",
    "acc_rf_test = round(rf.score(X_test, y_test) * 100, 2)\n",
    "print(f\"Acurácia no conjunto de treino (Random Forest): {acc_rf_train}%\")\n",
    "print(f\"Acurácia no conjunto de teste (Random Forest): {acc_rf_test}%\")"
   ],
   "id": "e441f56e2526c874",
   "outputs": [
    {
     "name": "stdout",
     "output_type": "stream",
     "text": [
      "Acurácia no conjunto de treino (Random Forest): 72.43%\n",
      "Acurácia no conjunto de teste (Random Forest): 53.67%\n"
     ]
    }
   ],
   "execution_count": 975
  },
  {
   "metadata": {
    "ExecuteTime": {
     "end_time": "2024-11-28T12:57:08.139506100Z",
     "start_time": "2024-11-28T12:46:55.423550Z"
    }
   },
   "cell_type": "code",
   "source": [
    "#Curva ROC\n",
    "RocCurveDisplay.from_estimator(rf, X_test, y_test)"
   ],
   "id": "a2416794403b7d82",
   "outputs": [
    {
     "data": {
      "text/plain": [
       "<sklearn.metrics._plot.roc_curve.RocCurveDisplay at 0x17f6fc09280>"
      ]
     },
     "execution_count": 976,
     "metadata": {},
     "output_type": "execute_result"
    },
    {
     "data": {
      "text/plain": [
       "<Figure size 640x480 with 1 Axes>"
      ],
      "image/png": "[encoded data removed]"
     },
     "metadata": {},
     "output_type": "display_data"
    }
   ],
   "execution_count": 976
  },
  {
   "metadata": {
    "ExecuteTime": {
     "end_time": "2024-11-28T12:57:08.139506100Z",
     "start_time": "2024-11-28T12:46:55.586823Z"
    }
   },
   "cell_type": "code",
   "source": [
    "models = pd.DataFrame({\n",
    "    'Model': ['KNN', 'Logistic Regression', \n",
    "              'Random Forest', 'Gaussian Naive Bayes',\n",
    "              'Decision Tree'],\n",
    "    'Score': [acc_knn, acc_log, \n",
    "              acc_rf_train, acc_gaussian,\n",
    "             acc_decision_tree_train]})\n",
    "models.sort_values(by='Score', ascending=False)\n",
    "\n",
    "\n"
   ],
   "id": "79b1ed3eeeecb739",
   "outputs": [
    {
     "data": {
      "text/plain": [
       "                  Model  Score\n",
       "0                   KNN  75.29\n",
       "2         Random Forest  72.43\n",
       "4         Decision Tree  65.57\n",
       "3  Gaussian Naive Bayes  55.86\n",
       "1   Logistic Regression  55.43"
      ],
      "text/html": [
       "<div>\n",
       "<style scoped>\n",
       "    .dataframe tbody tr th:only-of-type {\n",
       "        vertical-align: middle;\n",
       "    }\n",
       "\n",
       "    .dataframe tbody tr th {\n",
       "        vertical-align: top;\n",
       "    }\n",
       "\n",
       "    .dataframe thead th {\n",
       "        text-align: right;\n",
       "    }\n",
       "</style>\n",
       "<table border=\"1\" class=\"dataframe\">\n",
       "  <thead>\n",
       "    <tr style=\"text-align: right;\">\n",
       "      <th></th>\n",
       "      <th>Model</th>\n",
       "      <th>Score</th>\n",
       "    </tr>\n",
       "  </thead>\n",
       "  <tbody>\n",
       "    <tr>\n",
       "      <th>0</th>\n",
       "      <td>KNN</td>\n",
       "      <td>75.29</td>\n",
       "    </tr>\n",
       "    <tr>\n",
       "      <th>2</th>\n",
       "      <td>Random Forest</td>\n",
       "      <td>72.43</td>\n",
       "    </tr>\n",
       "    <tr>\n",
       "      <th>4</th>\n",
       "      <td>Decision Tree</td>\n",
       "      <td>65.57</td>\n",
       "    </tr>\n",
       "    <tr>\n",
       "      <th>3</th>\n",
       "      <td>Gaussian Naive Bayes</td>\n",
       "      <td>55.86</td>\n",
       "    </tr>\n",
       "    <tr>\n",
       "      <th>1</th>\n",
       "      <td>Logistic Regression</td>\n",
       "      <td>55.43</td>\n",
       "    </tr>\n",
       "  </tbody>\n",
       "</table>\n",
       "</div>"
      ]
     },
     "execution_count": 977,
     "metadata": {},
     "output_type": "execute_result"
    }
   ],
   "execution_count": 977
  },
  {
   "metadata": {},
   "cell_type": "markdown",
   "source": "",
   "id": "7790f7712da1b8be"
  }
 ],
 "metadata": {
  "kernelspec": {
   "display_name": "Python 3",
   "language": "python",
   "name": "python3"
  },
  "language_info": {
   "codemirror_mode": {
    "name": "ipython",
    "version": 2
   },
   "file_extension": ".py",
   "mimetype": "text/x-python",
   "name": "python",
   "nbconvert_exporter": "python",
   "pygments_lexer": "ipython2",
   "version": "2.7.6"
  }
 },
 "nbformat": 4,
 "nbformat_minor": 5
}

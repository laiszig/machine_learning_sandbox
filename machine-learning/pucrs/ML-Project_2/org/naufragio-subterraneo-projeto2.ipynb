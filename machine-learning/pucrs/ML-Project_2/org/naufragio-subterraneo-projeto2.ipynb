{
 "cells": [
  {
   "metadata": {},
   "cell_type": "markdown",
   "source": [
    "### **Aluna**: Lais de Souza Ziegler\n",
    "# 🛳️ Predição de sobrevivência em Naufrágio\n",
    "Dataset: treino.csv\n",
    "\n",
    "O projeto de predição de sobrevivência em naufrágios utiliza um conjunto de dados inspirado em um incidente recente no Mediterrâneo, contendo informações sobre 7.124 passageiros a bordo de um navio. As variáveis incluem identificação única do passageiro, nome, informações da cabine (deck, número e posição), procedência, destino, idade, status de VIP, modalidade de hospedagem e gastos com serviços a bordo. O objetivo é prever a probabilidade de um passageiro sobreviver ao naufrágio com base em suas características."
   ],
   "id": "9dfbf8d48afca0a0"
  },
  {
   "metadata": {},
   "cell_type": "markdown",
   "source": [
    "### 1️⃣ Leitura e exploração dos dados\n",
    "---\n",
    "#### Importando as bibliotecas necessárias para a análise de dados"
   ],
   "id": "2f8a5f0d1f6f58d6"
  },
  {
   "metadata": {
    "ExecuteTime": {
     "end_time": "2024-11-25T12:11:05.701604Z",
     "start_time": "2024-11-25T12:11:05.691171Z"
    }
   },
   "cell_type": "code",
   "source": [
    "# Pacotes básicos\n",
    "import numpy as np\n",
    "import pandas as pd\n",
    "import matplotlib.pyplot as plt\n",
    "import seaborn as sns\n",
    "\n",
    "# Pacotes do Scikit-learn para acesso a datasets, preparação, modelagem e avaliação\n",
    "from sklearn.model_selection import train_test_split\n",
    "from sklearn.metrics import classification_report, confusion_matrix, accuracy_score, recall_score, f1_score, roc_curve, roc_auc_score, auc \n",
    "\n",
    "# Pacotes para modelos de aprendizado\n",
    "from sklearn.neighbors import KNeighborsClassifier\n",
    "from sklearn.tree import DecisionTreeClassifier\n",
    "from sklearn.ensemble import RandomForestClassifier\n",
    "from sklearn.linear_model import LogisticRegression\n",
    "from sklearn.model_selection import GridSearchCV, cross_val_score\n",
    "from sklearn.naive_bayes import GaussianNB\n",
    "from sklearn.preprocessing import StandardScaler, LabelEncoder"
   ],
   "id": "1a2367acc0a98b84",
   "outputs": [],
   "execution_count": 327
  },
  {
   "metadata": {},
   "cell_type": "markdown",
   "source": [
    "#### Carregando o conjunto de dados a partir de um arquivo CSV \n",
    "- Em seguida, imprimindo os tipos de dados de cada coluna para entender a estrutura do DataFrame\n",
    "- Exibindo as primeiras cinco linhas do conjunto de dados para uma visão geral dos dados"
   ],
   "id": "ea7eae64df9453ea"
  },
  {
   "metadata": {
    "ExecuteTime": {
     "end_time": "2024-11-25T12:11:05.933485Z",
     "start_time": "2024-11-25T12:11:05.896364Z"
    }
   },
   "cell_type": "code",
   "source": [
    "df = pd.read_csv(\"treino.csv\")\n",
    "\n",
    "df.info()\n",
    "df.head()"
   ],
   "id": "f04dc20b9ec5e86a",
   "outputs": [
    {
     "name": "stdout",
     "output_type": "stream",
     "text": [
      "<class 'pandas.core.frame.DataFrame'>\n",
      "RangeIndex: 1000 entries, 0 to 999\n",
      "Data columns (total 16 columns):\n",
      " #   Column         Non-Null Count  Dtype \n",
      "---  ------         --------------  ----- \n",
      " 0   IDpassageiro   1000 non-null   object\n",
      " 1   Nome           1000 non-null   object\n",
      " 2   Deck           1000 non-null   object\n",
      " 3   NumeroCabine   1000 non-null   int64 \n",
      " 4   PosicaoCabine  1000 non-null   object\n",
      " 5   Procedencia    1000 non-null   object\n",
      " 6   Destino        1000 non-null   object\n",
      " 7   Idade          1000 non-null   int64 \n",
      " 8   VIP            1000 non-null   bool  \n",
      " 9   AllInclusive   1000 non-null   bool  \n",
      " 10  ServicoCabine  1000 non-null   int64 \n",
      " 11  Restaurante    1000 non-null   int64 \n",
      " 12  Shopping       1000 non-null   int64 \n",
      " 13  SPA            1000 non-null   int64 \n",
      " 14  ParquedeAguas  1000 non-null   int64 \n",
      " 15  Sobrevivente   1000 non-null   bool  \n",
      "dtypes: bool(3), int64(7), object(6)\n",
      "memory usage: 104.6+ KB\n"
     ]
    },
    {
     "data": {
      "text/plain": [
       "  IDpassageiro                Nome Deck  NumeroCabine PosicaoCabine  \\\n",
       "0      5647_02   Chabih Matoltuble    D           193             P   \n",
       "1      0107_01         Coobix Hart    A          1202             S   \n",
       "2      4158_01        Doryn Noeley    G           107             P   \n",
       "3      1316_01      Sadrus Quelfly    G           545             S   \n",
       "4      9069_05  Mirfark Taketiatim    D           392             P   \n",
       "\n",
       "  Procedencia    Destino  Idade    VIP  AllInclusive  ServicoCabine  \\\n",
       "0     Finland       Peru     61  False          True            239   \n",
       "1   Argentina  Argentina     31   True         False            466   \n",
       "2        Peru      China     49   True          True           1240   \n",
       "3   Indonesia  Greenland     32  False          True            176   \n",
       "4   Indonesia     Brazil      5  False         False             90   \n",
       "\n",
       "   Restaurante  Shopping   SPA  ParquedeAguas  Sobrevivente  \n",
       "0         1288      3380  1158            587          True  \n",
       "1            6     11299  1598            506          True  \n",
       "2          674     10989   806            463          True  \n",
       "3         1186      8750  1438            379          True  \n",
       "4         1318       161  2853            203          True  "
      ],
      "text/html": [
       "<div>\n",
       "<style scoped>\n",
       "    .dataframe tbody tr th:only-of-type {\n",
       "        vertical-align: middle;\n",
       "    }\n",
       "\n",
       "    .dataframe tbody tr th {\n",
       "        vertical-align: top;\n",
       "    }\n",
       "\n",
       "    .dataframe thead th {\n",
       "        text-align: right;\n",
       "    }\n",
       "</style>\n",
       "<table border=\"1\" class=\"dataframe\">\n",
       "  <thead>\n",
       "    <tr style=\"text-align: right;\">\n",
       "      <th></th>\n",
       "      <th>IDpassageiro</th>\n",
       "      <th>Nome</th>\n",
       "      <th>Deck</th>\n",
       "      <th>NumeroCabine</th>\n",
       "      <th>PosicaoCabine</th>\n",
       "      <th>Procedencia</th>\n",
       "      <th>Destino</th>\n",
       "      <th>Idade</th>\n",
       "      <th>VIP</th>\n",
       "      <th>AllInclusive</th>\n",
       "      <th>ServicoCabine</th>\n",
       "      <th>Restaurante</th>\n",
       "      <th>Shopping</th>\n",
       "      <th>SPA</th>\n",
       "      <th>ParquedeAguas</th>\n",
       "      <th>Sobrevivente</th>\n",
       "    </tr>\n",
       "  </thead>\n",
       "  <tbody>\n",
       "    <tr>\n",
       "      <th>0</th>\n",
       "      <td>5647_02</td>\n",
       "      <td>Chabih Matoltuble</td>\n",
       "      <td>D</td>\n",
       "      <td>193</td>\n",
       "      <td>P</td>\n",
       "      <td>Finland</td>\n",
       "      <td>Peru</td>\n",
       "      <td>61</td>\n",
       "      <td>False</td>\n",
       "      <td>True</td>\n",
       "      <td>239</td>\n",
       "      <td>1288</td>\n",
       "      <td>3380</td>\n",
       "      <td>1158</td>\n",
       "      <td>587</td>\n",
       "      <td>True</td>\n",
       "    </tr>\n",
       "    <tr>\n",
       "      <th>1</th>\n",
       "      <td>0107_01</td>\n",
       "      <td>Coobix Hart</td>\n",
       "      <td>A</td>\n",
       "      <td>1202</td>\n",
       "      <td>S</td>\n",
       "      <td>Argentina</td>\n",
       "      <td>Argentina</td>\n",
       "      <td>31</td>\n",
       "      <td>True</td>\n",
       "      <td>False</td>\n",
       "      <td>466</td>\n",
       "      <td>6</td>\n",
       "      <td>11299</td>\n",
       "      <td>1598</td>\n",
       "      <td>506</td>\n",
       "      <td>True</td>\n",
       "    </tr>\n",
       "    <tr>\n",
       "      <th>2</th>\n",
       "      <td>4158_01</td>\n",
       "      <td>Doryn Noeley</td>\n",
       "      <td>G</td>\n",
       "      <td>107</td>\n",
       "      <td>P</td>\n",
       "      <td>Peru</td>\n",
       "      <td>China</td>\n",
       "      <td>49</td>\n",
       "      <td>True</td>\n",
       "      <td>True</td>\n",
       "      <td>1240</td>\n",
       "      <td>674</td>\n",
       "      <td>10989</td>\n",
       "      <td>806</td>\n",
       "      <td>463</td>\n",
       "      <td>True</td>\n",
       "    </tr>\n",
       "    <tr>\n",
       "      <th>3</th>\n",
       "      <td>1316_01</td>\n",
       "      <td>Sadrus Quelfly</td>\n",
       "      <td>G</td>\n",
       "      <td>545</td>\n",
       "      <td>S</td>\n",
       "      <td>Indonesia</td>\n",
       "      <td>Greenland</td>\n",
       "      <td>32</td>\n",
       "      <td>False</td>\n",
       "      <td>True</td>\n",
       "      <td>176</td>\n",
       "      <td>1186</td>\n",
       "      <td>8750</td>\n",
       "      <td>1438</td>\n",
       "      <td>379</td>\n",
       "      <td>True</td>\n",
       "    </tr>\n",
       "    <tr>\n",
       "      <th>4</th>\n",
       "      <td>9069_05</td>\n",
       "      <td>Mirfark Taketiatim</td>\n",
       "      <td>D</td>\n",
       "      <td>392</td>\n",
       "      <td>P</td>\n",
       "      <td>Indonesia</td>\n",
       "      <td>Brazil</td>\n",
       "      <td>5</td>\n",
       "      <td>False</td>\n",
       "      <td>False</td>\n",
       "      <td>90</td>\n",
       "      <td>1318</td>\n",
       "      <td>161</td>\n",
       "      <td>2853</td>\n",
       "      <td>203</td>\n",
       "      <td>True</td>\n",
       "    </tr>\n",
       "  </tbody>\n",
       "</table>\n",
       "</div>"
      ]
     },
     "execution_count": 328,
     "metadata": {},
     "output_type": "execute_result"
    }
   ],
   "execution_count": 328
  },
  {
   "metadata": {},
   "cell_type": "markdown",
   "source": "#### Exibindo a forma do DataFrame, que retorna o número de linhas e colunas, ",
   "id": "26e44fa52c2ea7f5"
  },
  {
   "metadata": {
    "ExecuteTime": {
     "end_time": "2024-11-25T12:11:06.157533Z",
     "start_time": "2024-11-25T12:11:06.148553Z"
    }
   },
   "cell_type": "code",
   "source": "print(df.shape)",
   "id": "14c7d8839144c6f2",
   "outputs": [
    {
     "name": "stdout",
     "output_type": "stream",
     "text": [
      "(1000, 16)\n"
     ]
    }
   ],
   "execution_count": 329
  },
  {
   "metadata": {},
   "cell_type": "markdown",
   "source": "#### Exibindo um resumo estatístico das colunas numéricas do DataFrame",
   "id": "40318f5f7b3b21bd"
  },
  {
   "metadata": {
    "ExecuteTime": {
     "end_time": "2024-11-25T12:11:06.512335Z",
     "start_time": "2024-11-25T12:11:06.483880Z"
    }
   },
   "cell_type": "code",
   "source": "df.describe()",
   "id": "22cd05b5c54110f1",
   "outputs": [
    {
     "data": {
      "text/plain": [
       "       NumeroCabine        Idade  ServicoCabine  Restaurante      Shopping  \\\n",
       "count   1000.000000  1000.000000     1000.00000  1000.000000   1000.000000   \n",
       "mean     688.466000    39.816000      883.92700   690.624000   7410.141000   \n",
       "std      404.869011    23.346203      498.44474   419.069741   4413.046425   \n",
       "min        1.000000     0.000000        4.00000     3.000000      2.000000   \n",
       "25%      332.750000    19.000000      473.50000   312.750000   3666.750000   \n",
       "50%      675.000000    40.000000      878.00000   680.000000   7309.000000   \n",
       "75%     1049.500000    61.000000     1297.50000  1045.500000  11279.750000   \n",
       "max     1365.000000    79.000000     1741.00000  1425.000000  15234.000000   \n",
       "\n",
       "               SPA  ParquedeAguas  \n",
       "count  1000.000000    1000.000000  \n",
       "mean   1518.977000     356.879000  \n",
       "std     861.974722     202.812532  \n",
       "min       0.000000       0.000000  \n",
       "25%     797.750000     184.000000  \n",
       "50%    1472.500000     365.500000  \n",
       "75%    2297.500000     532.000000  \n",
       "max    2955.000000     705.000000  "
      ],
      "text/html": [
       "<div>\n",
       "<style scoped>\n",
       "    .dataframe tbody tr th:only-of-type {\n",
       "        vertical-align: middle;\n",
       "    }\n",
       "\n",
       "    .dataframe tbody tr th {\n",
       "        vertical-align: top;\n",
       "    }\n",
       "\n",
       "    .dataframe thead th {\n",
       "        text-align: right;\n",
       "    }\n",
       "</style>\n",
       "<table border=\"1\" class=\"dataframe\">\n",
       "  <thead>\n",
       "    <tr style=\"text-align: right;\">\n",
       "      <th></th>\n",
       "      <th>NumeroCabine</th>\n",
       "      <th>Idade</th>\n",
       "      <th>ServicoCabine</th>\n",
       "      <th>Restaurante</th>\n",
       "      <th>Shopping</th>\n",
       "      <th>SPA</th>\n",
       "      <th>ParquedeAguas</th>\n",
       "    </tr>\n",
       "  </thead>\n",
       "  <tbody>\n",
       "    <tr>\n",
       "      <th>count</th>\n",
       "      <td>1000.000000</td>\n",
       "      <td>1000.000000</td>\n",
       "      <td>1000.00000</td>\n",
       "      <td>1000.000000</td>\n",
       "      <td>1000.000000</td>\n",
       "      <td>1000.000000</td>\n",
       "      <td>1000.000000</td>\n",
       "    </tr>\n",
       "    <tr>\n",
       "      <th>mean</th>\n",
       "      <td>688.466000</td>\n",
       "      <td>39.816000</td>\n",
       "      <td>883.92700</td>\n",
       "      <td>690.624000</td>\n",
       "      <td>7410.141000</td>\n",
       "      <td>1518.977000</td>\n",
       "      <td>356.879000</td>\n",
       "    </tr>\n",
       "    <tr>\n",
       "      <th>std</th>\n",
       "      <td>404.869011</td>\n",
       "      <td>23.346203</td>\n",
       "      <td>498.44474</td>\n",
       "      <td>419.069741</td>\n",
       "      <td>4413.046425</td>\n",
       "      <td>861.974722</td>\n",
       "      <td>202.812532</td>\n",
       "    </tr>\n",
       "    <tr>\n",
       "      <th>min</th>\n",
       "      <td>1.000000</td>\n",
       "      <td>0.000000</td>\n",
       "      <td>4.00000</td>\n",
       "      <td>3.000000</td>\n",
       "      <td>2.000000</td>\n",
       "      <td>0.000000</td>\n",
       "      <td>0.000000</td>\n",
       "    </tr>\n",
       "    <tr>\n",
       "      <th>25%</th>\n",
       "      <td>332.750000</td>\n",
       "      <td>19.000000</td>\n",
       "      <td>473.50000</td>\n",
       "      <td>312.750000</td>\n",
       "      <td>3666.750000</td>\n",
       "      <td>797.750000</td>\n",
       "      <td>184.000000</td>\n",
       "    </tr>\n",
       "    <tr>\n",
       "      <th>50%</th>\n",
       "      <td>675.000000</td>\n",
       "      <td>40.000000</td>\n",
       "      <td>878.00000</td>\n",
       "      <td>680.000000</td>\n",
       "      <td>7309.000000</td>\n",
       "      <td>1472.500000</td>\n",
       "      <td>365.500000</td>\n",
       "    </tr>\n",
       "    <tr>\n",
       "      <th>75%</th>\n",
       "      <td>1049.500000</td>\n",
       "      <td>61.000000</td>\n",
       "      <td>1297.50000</td>\n",
       "      <td>1045.500000</td>\n",
       "      <td>11279.750000</td>\n",
       "      <td>2297.500000</td>\n",
       "      <td>532.000000</td>\n",
       "    </tr>\n",
       "    <tr>\n",
       "      <th>max</th>\n",
       "      <td>1365.000000</td>\n",
       "      <td>79.000000</td>\n",
       "      <td>1741.00000</td>\n",
       "      <td>1425.000000</td>\n",
       "      <td>15234.000000</td>\n",
       "      <td>2955.000000</td>\n",
       "      <td>705.000000</td>\n",
       "    </tr>\n",
       "  </tbody>\n",
       "</table>\n",
       "</div>"
      ]
     },
     "execution_count": 330,
     "metadata": {},
     "output_type": "execute_result"
    }
   ],
   "execution_count": 330
  },
  {
   "metadata": {},
   "cell_type": "markdown",
   "source": "### Verificando se há valores ausentes",
   "id": "f8ae65e74279485"
  },
  {
   "metadata": {
    "ExecuteTime": {
     "end_time": "2024-11-25T12:11:06.688149Z",
     "start_time": "2024-11-25T12:11:06.680960Z"
    }
   },
   "cell_type": "code",
   "source": "df.isnull().sum()",
   "id": "63bdc2d94aaa5c00",
   "outputs": [
    {
     "data": {
      "text/plain": [
       "IDpassageiro     0\n",
       "Nome             0\n",
       "Deck             0\n",
       "NumeroCabine     0\n",
       "PosicaoCabine    0\n",
       "Procedencia      0\n",
       "Destino          0\n",
       "Idade            0\n",
       "VIP              0\n",
       "AllInclusive     0\n",
       "ServicoCabine    0\n",
       "Restaurante      0\n",
       "Shopping         0\n",
       "SPA              0\n",
       "ParquedeAguas    0\n",
       "Sobrevivente     0\n",
       "dtype: int64"
      ]
     },
     "execution_count": 331,
     "metadata": {},
     "output_type": "execute_result"
    }
   ],
   "execution_count": 331
  },
  {
   "metadata": {},
   "cell_type": "markdown",
   "source": [
    "1. Visão Geral das Colunas e Tipos de Dados:\n",
    "2. Valores Ausentes:\n",
    "3. Duplicatas:\n",
    "4. Resumo Estatístico das Variáveis Numéricas:\n",
    "5. Distribuição das Variáveis Categoricas\n",
    "6. Distribuição de Idades\n",
    "7. Gráficos de Barras para Variáveis Categóricas:\n",
    "8. Gráfico de Sobrevivência: "
   ],
   "id": "d6a802fd7c679678"
  },
  {
   "metadata": {},
   "cell_type": "markdown",
   "source": [
    "## Análise de Passageiros em Família e Solo\n",
    "Identificar se os passageiros se estão viajando sozinhos ou em grupo (família) com base em um identificador fornecido.\n",
    "\n",
    "- Separar o ID de Grupo e o Número do Integrante\n",
    "    - Dividimos o identificador único de cada passageiro (`IDpassageiro`) em duas partes: o grupo ao qual o passageiro pertence e o número de cada integrante dentro desse grupo. Isso nos permite rastrear quantos passageiros fazem parte de cada grupo.\n",
    "\n",
    "- Identificar se o Passageiro está em Família\n",
    "    - Com a contagem de passageiros por grupo, marcamos os passageiros que pertencem a grupos com mais de um integrante como \"Em Grupo\", e os demais como \"Solo\".\n"
   ],
   "id": "41ef080fbc92e9ea"
  },
  {
   "metadata": {
    "ExecuteTime": {
     "end_time": "2024-11-25T12:11:06.912443Z",
     "start_time": "2024-11-25T12:11:06.899922Z"
    }
   },
   "cell_type": "code",
   "source": [
    "df[['Grupo', 'Integrante']] = df['IDpassageiro'].str.split('_', expand=True)\n",
    "\n",
    "group_counts = df['Grupo'].value_counts()\n",
    "\n",
    "df['EmGrupo'] = df['Grupo'].apply(lambda x: 1 if group_counts[x] > 1 else 0)\n",
    "\n",
    "print(df.EmGrupo.value_counts())"
   ],
   "id": "fc0bcd397968841b",
   "outputs": [
    {
     "name": "stdout",
     "output_type": "stream",
     "text": [
      "EmGrupo\n",
      "0    895\n",
      "1    105\n",
      "Name: count, dtype: int64\n"
     ]
    }
   ],
   "execution_count": 332
  },
  {
   "metadata": {},
   "cell_type": "markdown",
   "source": [
    "### Visualizar a Distribuição de Passageiros em Família e Solo\n",
    "Gráfico de barras para mostrar visualmente a quantidade de passageiros que viajam sozinhos em comparação aos que viajam em grupo, facilitando a análise da distribuição entre esses dois tipos de passageiros."
   ],
   "id": "c33b51c669641d54"
  },
  {
   "metadata": {
    "ExecuteTime": {
     "end_time": "2024-11-25T12:11:07.367993Z",
     "start_time": "2024-11-25T12:11:07.238712Z"
    }
   },
   "cell_type": "code",
   "source": [
    "plt.figure(figsize=(6, 4))\n",
    "df['EmGrupo'].value_counts().plot(kind='bar', color=['blue', 'orange'])\n",
    "plt.xticks(ticks=[0, 1], labels=['Solo', 'Em Grupo'], rotation=0)\n",
    "plt.title('Distribuição de Passageiros em Grupo e Solo')\n",
    "plt.xlabel('Tipo de Passageiro')\n",
    "plt.ylabel('Contagem')\n",
    "plt.show()"
   ],
   "id": "d42909becce86d8b",
   "outputs": [
    {
     "data": {
      "text/plain": [
       "<Figure size 600x400 with 1 Axes>"
      ],
      "image/png": "[encoded data removed]"
     },
     "metadata": {},
     "output_type": "display_data"
    }
   ],
   "execution_count": 333
  },
  {
   "metadata": {},
   "cell_type": "markdown",
   "source": [
    "### Visualizar a Distribuição de Passageiros por Deck\n",
    "Mostrando visualmente a quantidade de passageiros em cada Deck do navio."
   ],
   "id": "f152e387a471c313"
  },
  {
   "metadata": {
    "ExecuteTime": {
     "end_time": "2024-11-25T12:11:07.722633Z",
     "start_time": "2024-11-25T12:11:07.558483Z"
    }
   },
   "cell_type": "code",
   "source": [
    "deck_counts = df['Deck'].value_counts().reset_index()\n",
    "deck_counts_sorted = deck_counts.sort_values(by='Deck', ascending=True)\n",
    "deck_counts.columns = ['Deck', 'Contagem']\n",
    "\n",
    "plt.figure(figsize=(4, 2))\n",
    "sns.heatmap(deck_counts_sorted.set_index('Deck').T, annot=True, fmt='d', cmap='Blues', cbar=False, linewidths=1, linecolor='gray')\n",
    "\n",
    "plt.title('Contagem de Passageiros por Deck', fontsize=16)\n",
    "plt.xlabel('Deck', fontsize=12)\n",
    "plt.show()"
   ],
   "id": "f9e04cd9a7b7df0a",
   "outputs": [
    {
     "data": {
      "text/plain": [
       "<Figure size 400x200 with 1 Axes>"
      ],
      "image/png": "[encoded data removed]"
     },
     "metadata": {},
     "output_type": "display_data"
    }
   ],
   "execution_count": 334
  },
  {
   "metadata": {},
   "cell_type": "markdown",
   "source": [
    "### Visualizar a Distribuição de Passageiros e a Posição da Cabine\n",
    "Mostrando visualmente a quantidade de passageiros em cada Deck do navio."
   ],
   "id": "2cb5563ec5109783"
  },
  {
   "metadata": {
    "ExecuteTime": {
     "end_time": "2024-11-25T12:11:07.967479Z",
     "start_time": "2024-11-25T12:11:07.893188Z"
    }
   },
   "cell_type": "code",
   "source": [
    "plt.figure(figsize=(6, 4))\n",
    "df['PosicaoCabine'].value_counts().plot(kind='pie', autopct='%1.1f%%', colors=['lightblue', 'lightgreen'])\n",
    "plt.title('Distribuição de PosicaoCabine')\n",
    "plt.ylabel('') \n",
    "plt.show()"
   ],
   "id": "c953bfbd2d51b30a",
   "outputs": [
    {
     "data": {
      "text/plain": [
       "<Figure size 600x400 with 1 Axes>"
      ],
      "image/png": "[encoded data removed]"
     },
     "metadata": {},
     "output_type": "display_data"
    }
   ],
   "execution_count": 335
  },
  {
   "metadata": {
    "ExecuteTime": {
     "end_time": "2024-11-25T12:11:08.286865Z",
     "start_time": "2024-11-25T12:11:08.073629Z"
    }
   },
   "cell_type": "code",
   "source": [
    "pivot_table = df.pivot_table(values=\"Sobrevivente\", index=\"Deck\", columns=\"PosicaoCabine\", aggfunc=\"mean\")\n",
    "sns.heatmap(pivot_table, annot=True, cmap=\"YlGnBu\", cbar_kws={'label': 'Taxa de Sobrevivência Média'})\n",
    "plt.title(\"Taxa de Sobrevivência Média por Grupo Hetário e Classe\")\n",
    "plt.show()"
   ],
   "id": "734895d1f1132aff",
   "outputs": [
    {
     "data": {
      "text/plain": [
       "<Figure size 640x480 with 2 Axes>"
      ],
      "image/png": "[encoded data removed]"
     },
     "metadata": {},
     "output_type": "display_data"
    }
   ],
   "execution_count": 336
  },
  {
   "metadata": {},
   "cell_type": "markdown",
   "source": [
    "## Preparação de Dados\n",
    "\n",
    "- **Codificação de variáveis**\n",
    "   - `Deck` foi transformado em códigos numéricos.\n",
    "   - `PosicaoCabine` foi mapeada para 1 (P) e 0 (S).\n",
    "   - Colunas booleanas (`VIP`, `AllInclusive`, `Sobrevivente`) foram convertidas para 0 e 1.\n",
    "\n",
    "- **Criação de novas colunas**\n",
    "   - `TotalGasto` foi calculado somando os gastos em diferentes categorias.\n",
    "   - `GrupoHetario` e `RangeGasto` foram criados para agrupar idade e gastos em faixas.\n",
    "\n",
    "- **Conversão para códigos numéricos**: \n",
    "   - `GrupoHetario` e `RangeGasto` foram convertidos para valores numéricos.\n",
    "\n",
    "- **Origem e destino**:\n",
    "   - `MesmaOrigemDestino` foi criada para indicar se a procedência e destino são iguais.\n",
    "\n",
    "- **Remoção de colunas**: \n",
    "   - Colunas de gastos individuais foram removidas.\n",
    "   - Colunas desnecessárias e dados redundantes\n"
   ],
   "id": "8c88a95bc89701eb"
  },
  {
   "metadata": {
    "ExecuteTime": {
     "end_time": "2024-11-25T12:11:08.342644Z",
     "start_time": "2024-11-25T12:11:08.326884Z"
    }
   },
   "cell_type": "code",
   "source": [
    "df['Deck'] = df['Deck'].astype('category').cat.codes\n",
    "df['PosicaoCabine'] = df['PosicaoCabine'].map({'P': 1, 'S': 0})\n",
    "\n",
    "df['VIP'] = df['VIP'].astype(int)\n",
    "df['AllInclusive'] = df['AllInclusive'].astype(int)\n",
    "df['Sobrevivente'] = df['Sobrevivente'].astype(int)\n",
    "\n",
    "df['TotalGasto'] = df[['ServicoCabine', 'Restaurante', 'Shopping', 'SPA', 'ParquedeAguas']].sum(axis=1)\n",
    "\n",
    "df['GrupoHetario'] = pd.cut(df['Idade'], bins=[-1, 18, 30, 50, 100], labels=[\"0-18\", \"19-30\", \"31-50\", \"51+\"])\n",
    "df['RangeGasto'] = pd.cut(df['TotalGasto'], bins=[-1, 500, 1000, 2000, 5000, 10000, 30000], labels = ['0-500', '501-1000', '1001-2000', '2001-5000', '5001-10000', '10000+'], right=False)\n",
    "\n",
    "df['GrupoHetarioCode'] = df['GrupoHetario'].cat.codes\n",
    "df['RangeGastoCode'] = df['RangeGasto'].cat.codes\n",
    "\n",
    "df['MesmaOrigemDestino'] = (df['Procedencia'] == df['Destino']).astype(int)"
   ],
   "id": "10b362620571d052",
   "outputs": [],
   "execution_count": 337
  },
  {
   "metadata": {
    "ExecuteTime": {
     "end_time": "2024-11-25T12:11:08.679698Z",
     "start_time": "2024-11-25T12:11:08.465366Z"
    }
   },
   "cell_type": "code",
   "source": [
    "pivot_table = df.pivot_table(values=\"Sobrevivente\", index=\"GrupoHetario\", columns=\"VIP\", aggfunc=\"mean\")\n",
    "sns.heatmap(pivot_table, annot=True, cmap=\"YlGnBu\", cbar_kws={'label': 'Taxa de Sobrevivência Média'})\n",
    "plt.title(\"Taxa de Sobrevivência Média por Grupo Hetário e Classe\")\n",
    "plt.show()"
   ],
   "id": "be6219b7141d38a0",
   "outputs": [
    {
     "name": "stderr",
     "output_type": "stream",
     "text": [
      "C:\\Users\\Lais_Ziegler\\AppData\\Local\\Temp\\ipykernel_32672\\2339427600.py:1: FutureWarning: The default value of observed=False is deprecated and will change to observed=True in a future version of pandas. Specify observed=False to silence this warning and retain the current behavior\n",
      "  pivot_table = df.pivot_table(values=\"Sobrevivente\", index=\"GrupoHetario\", columns=\"VIP\", aggfunc=\"mean\")\n"
     ]
    },
    {
     "data": {
      "text/plain": [
       "<Figure size 640x480 with 2 Axes>"
      ],
      "image/png": "[encoded data removed]"
     },
     "metadata": {},
     "output_type": "display_data"
    }
   ],
   "execution_count": 338
  },
  {
   "metadata": {
    "ExecuteTime": {
     "end_time": "2024-11-25T12:11:08.940961Z",
     "start_time": "2024-11-25T12:11:08.934438Z"
    }
   },
   "cell_type": "code",
   "source": "df.drop(['ServicoCabine', 'Restaurante', 'Shopping', 'SPA', 'ParquedeAguas', 'IDpassageiro', 'Nome', 'Procedencia', 'Destino', 'NumeroCabine', 'GrupoHetario', 'RangeGasto', 'TotalGasto'], axis=1, inplace=True)",
   "id": "a26d35d869de5cb9",
   "outputs": [],
   "execution_count": 339
  },
  {
   "metadata": {},
   "cell_type": "markdown",
   "source": [
    "#### Separando os atributos do conjunto de dados em variáveis independentes (X) e a variável dependente (y).\n",
    "- As variáveis independentes são todas as colunas do DataFrame, exceto 'Sobrevivente', que é removida. \n",
    "- A variável dependente 'Sobrevivente' é isolada em y.\n",
    "\n",
    "#### Dividir os dados em conjuntos de treinamento e teste"
   ],
   "id": "5d1748057dcc0b25"
  },
  {
   "metadata": {
    "ExecuteTime": {
     "end_time": "2024-11-25T12:11:09.166324Z",
     "start_time": "2024-11-25T12:11:09.156795Z"
    }
   },
   "cell_type": "code",
   "source": [
    "X = df.drop([\"Sobrevivente\"], axis=1)\n",
    "y = df[\"Sobrevivente\"]\n",
    "\n",
    "X_train, X_test, y_train, y_test = train_test_split(X, y, test_size=0.3, random_state=42)"
   ],
   "id": "140e0428e144d12c",
   "outputs": [],
   "execution_count": 340
  },
  {
   "metadata": {},
   "cell_type": "markdown",
   "source": [
    "### Modelo 1: Regressão Logística\n",
    "### Análise e ajuste dos hiper-parâmetros da Regressão Logística\n",
    "- Escalonando os dados (normalizando para ter média 0 e desvio padrão 1)"
   ],
   "id": "eda41acd67608871"
  },
  {
   "metadata": {
    "ExecuteTime": {
     "end_time": "2024-11-25T12:11:09.737206Z",
     "start_time": "2024-11-25T12:11:09.242134Z"
    }
   },
   "cell_type": "code",
   "source": [
    "scaler = StandardScaler()\n",
    "X_train_scaled = scaler.fit_transform(X_train)\n",
    "X_test_scaled = scaler.transform(X_test)\n",
    "\n",
    "param_grid = {\n",
    "    'C': [0.1, 1, 10],\n",
    "    'solver': ['lbfgs', 'saga'],\n",
    "    'max_iter': [100, 500, 1000]\n",
    "}\n",
    "\n",
    "grid_search = GridSearchCV(LogisticRegression(), param_grid, cv=5)\n",
    "grid_search.fit(X_train_scaled, y_train)\n",
    "print(f\"Melhores parâmetros: {grid_search.best_params_}\")\n",
    "print(f\"Acurácia: {grid_search.best_score_}\")"
   ],
   "id": "ad46fda78abb756",
   "outputs": [
    {
     "name": "stdout",
     "output_type": "stream",
     "text": [
      "Melhores parâmetros: {'C': 10, 'max_iter': 100, 'solver': 'lbfgs'}\n",
      "Acurácia: 0.5228571428571428\n"
     ]
    }
   ],
   "execution_count": 341
  },
  {
   "metadata": {},
   "cell_type": "markdown",
   "source": [
    "- Definição de parâmetros\n",
    "- Treinando o modelo\n",
    "- Fazendo as previsões\n",
    "- Calculando acurácia no conjunto de treino\n",
    "- Exibindo a acurácia"
   ],
   "id": "7deb7c85db79f0a4"
  },
  {
   "metadata": {
    "ExecuteTime": {
     "end_time": "2024-11-25T12:11:09.822597Z",
     "start_time": "2024-11-25T12:11:09.809197Z"
    }
   },
   "cell_type": "code",
   "source": [
    "logreg = LogisticRegression(solver='lbfgs', max_iter=1000, C=0.1)\n",
    "logreg.fit(X_train_scaled, y_train)\n",
    "Y_pred = logreg.predict(X_test_scaled)\n",
    "acc_log = round(logreg.score(X_train_scaled, y_train) * 100, 2)\n",
    "print(f'Acurácia no conjunto de treino: {acc_log}%')"
   ],
   "id": "51bae42e7ae588d9",
   "outputs": [
    {
     "name": "stdout",
     "output_type": "stream",
     "text": [
      "Acurácia no conjunto de treino: 55.14%\n"
     ]
    }
   ],
   "execution_count": 342
  },
  {
   "metadata": {
    "ExecuteTime": {
     "end_time": "2024-11-25T12:11:09.927698Z",
     "start_time": "2024-11-25T12:11:09.914867Z"
    }
   },
   "cell_type": "code",
   "source": "print(classification_report(y_test, Y_pred))",
   "id": "c665149779f032e3",
   "outputs": [
    {
     "name": "stdout",
     "output_type": "stream",
     "text": [
      "              precision    recall  f1-score   support\n",
      "\n",
      "           0       0.54      0.30      0.38       145\n",
      "           1       0.54      0.77      0.63       155\n",
      "\n",
      "    accuracy                           0.54       300\n",
      "   macro avg       0.54      0.53      0.51       300\n",
      "weighted avg       0.54      0.54      0.51       300\n",
      "\n"
     ]
    }
   ],
   "execution_count": 343
  },
  {
   "metadata": {},
   "cell_type": "markdown",
   "source": [
    "### Modelo 2: Árvores de Decisão\n",
    "### Análise e ajuste dos hiper-parâmetros de Árvores de Decisão\n",
    "- Escalonando os dados"
   ],
   "id": "fff6a6313d57dacd"
  },
  {
   "metadata": {
    "ExecuteTime": {
     "end_time": "2024-11-25T12:11:11.180544Z",
     "start_time": "2024-11-25T12:11:10.066234Z"
    }
   },
   "cell_type": "code",
   "source": [
    "param_grid = {\n",
    "    'max_depth': [5, 10, 15, 20],\n",
    "    'min_samples_split': [2, 5, 10],\n",
    "    'min_samples_leaf': [1, 2, 5, 10]\n",
    "}\n",
    "\n",
    "grid_search = GridSearchCV(DecisionTreeClassifier(), param_grid, cv=5)\n",
    "grid_search.fit(X_train, y_train)\n",
    "print(\"Melhores parâmetros:\", grid_search.best_params_)"
   ],
   "id": "e6dde5324e2868cb",
   "outputs": [
    {
     "name": "stdout",
     "output_type": "stream",
     "text": [
      "Melhores parâmetros: {'max_depth': 5, 'min_samples_leaf': 10, 'min_samples_split': 2}\n"
     ]
    }
   ],
   "execution_count": 344
  },
  {
   "metadata": {
    "ExecuteTime": {
     "end_time": "2024-11-25T12:11:11.246693Z",
     "start_time": "2024-11-25T12:11:11.237471Z"
    }
   },
   "cell_type": "code",
   "source": [
    "decision_tree = DecisionTreeClassifier(max_depth=10, min_samples_split=2, min_samples_leaf=5)\n",
    "decision_tree.fit(X_train, y_train)\n",
    "acc_decision_tree_train = round(decision_tree.score(X_train, y_train) * 100, 2)\n",
    "# acc_decision_tree_test = round(decision_tree.score(X_test, y_test) * 100, 2)\n",
    "print(f\"Acurácia no conjunto de treino: {acc_decision_tree_train}%\")\n",
    "# print(f\"Acurácia no conjunto de teste: {acc_decision_tree_test}%\")"
   ],
   "id": "39cae1cfede58222",
   "outputs": [
    {
     "name": "stdout",
     "output_type": "stream",
     "text": [
      "Acurácia no conjunto de treino: 71.57%\n"
     ]
    }
   ],
   "execution_count": 345
  },
  {
   "metadata": {},
   "cell_type": "markdown",
   "source": [
    "### Modelo 3: K-Nearest Neighbors\n",
    "### Análise e ajuste dos hiper-parâmetros do KNN"
   ],
   "id": "f4d38cd6e0c2ccec"
  },
  {
   "metadata": {
    "ExecuteTime": {
     "end_time": "2024-11-25T12:11:11.341577Z",
     "start_time": "2024-11-25T12:11:11.299588Z"
    }
   },
   "cell_type": "code",
   "source": [
    "knn = KNeighborsClassifier(n_neighbors = 3)\n",
    "knn.fit(X_train, y_train)\n",
    "Y_pred = knn.predict(X_test)\n",
    "acc_knn = round(knn.score(X_train, y_train) * 100, 2)\n",
    "acc_knn"
   ],
   "id": "ab7d0d4bedddd01b",
   "outputs": [
    {
     "data": {
      "text/plain": [
       "77.29"
      ]
     },
     "execution_count": 346,
     "metadata": {},
     "output_type": "execute_result"
    }
   ],
   "execution_count": 346
  },
  {
   "metadata": {},
   "cell_type": "markdown",
   "source": [
    "### Modelo 4: Gaussian Naive Bayes\n",
    "### Análise e ajuste dos hiper-parâmetros da Naive Bayes"
   ],
   "id": "f2ec1959de490498"
  },
  {
   "metadata": {
    "ExecuteTime": {
     "end_time": "2024-11-25T12:11:11.422402Z",
     "start_time": "2024-11-25T12:11:11.404695Z"
    }
   },
   "cell_type": "code",
   "source": [
    "NBclassifier1 = GaussianNB()\n",
    "NBclassifier1.fit(X_train, y_train)\n",
    "\n",
    "y_pred = NBclassifier1.predict(X_test)\n",
    "\n",
    "print(classification_report(y_test, y_pred))\n",
    "print('Matriz de confusão: ')\n",
    "print(confusion_matrix(y_test, y_pred))\n",
    "acc_gaussian = round(NBclassifier1.score(X_train, y_train) * 100, 2)\n",
    "NBAcc1 = accuracy_score(y_pred,y_test)\n",
    "print('Acurácia do algoritmo de Naive Bayes: {:.2f}%'.format(NBAcc1*100))"
   ],
   "id": "605845387786aec3",
   "outputs": [
    {
     "name": "stdout",
     "output_type": "stream",
     "text": [
      "              precision    recall  f1-score   support\n",
      "\n",
      "           0       0.60      0.23      0.34       145\n",
      "           1       0.54      0.85      0.66       155\n",
      "\n",
      "    accuracy                           0.55       300\n",
      "   macro avg       0.57      0.54      0.50       300\n",
      "weighted avg       0.57      0.55      0.51       300\n",
      "\n",
      "Matriz de confusão: \n",
      "[[ 34 111]\n",
      " [ 23 132]]\n",
      "Acurácia do algoritmo de Naive Bayes: 55.33%\n"
     ]
    }
   ],
   "execution_count": 347
  },
  {
   "metadata": {},
   "cell_type": "markdown",
   "source": [
    "### Modelo 5: Random Forest\n",
    "### Análise e ajuste dos hiper-parâmetros de Random Foest"
   ],
   "id": "f220d326b9da2002"
  },
  {
   "metadata": {
    "ExecuteTime": {
     "end_time": "2024-11-25T12:11:11.544646Z",
     "start_time": "2024-11-25T12:11:11.459544Z"
    }
   },
   "cell_type": "code",
   "source": [
    "rf = RandomForestClassifier(n_estimators=100, max_depth=5)\n",
    "rf.fit(X_train, y_train)\n",
    "acc_rf_train = round(rf.score(X_train, y_train) * 100, 2)\n",
    "# acc_rf_test = round(rf.score(X_test, y_test) * 100, 2)\n",
    "print(f\"Acurácia no conjunto de treino (Random Forest): {acc_rf_train}%\")\n",
    "# print(f\"Acurácia no conjunto de teste (Random Forest): {acc_rf_test}%\")"
   ],
   "id": "e441f56e2526c874",
   "outputs": [
    {
     "name": "stdout",
     "output_type": "stream",
     "text": [
      "Acurácia no conjunto de treino (Random Forest): 78.0%\n"
     ]
    }
   ],
   "execution_count": 348
  },
  {
   "metadata": {
    "ExecuteTime": {
     "end_time": "2024-11-25T12:11:11.598063Z",
     "start_time": "2024-11-25T12:11:11.589553Z"
    }
   },
   "cell_type": "code",
   "source": [
    "models = pd.DataFrame({\n",
    "    'Model': ['KNN', 'Logistic Regression', \n",
    "              'Random Forest', 'Gaussian Naive Bayes',\n",
    "              'Decision Tree'],\n",
    "    'Score': [acc_knn, acc_log, \n",
    "              acc_rf_train, acc_gaussian,\n",
    "             acc_decision_tree_train]})\n",
    "models.sort_values(by='Score', ascending=False)\n",
    "\n",
    "# Add curva ROC (19)\n",
    "# ajustar hiper parametros"
   ],
   "id": "79b1ed3eeeecb739",
   "outputs": [
    {
     "data": {
      "text/plain": [
       "                  Model  Score\n",
       "2         Random Forest  78.00\n",
       "0                   KNN  77.29\n",
       "4         Decision Tree  71.57\n",
       "1   Logistic Regression  55.14\n",
       "3  Gaussian Naive Bayes  53.86"
      ],
      "text/html": [
       "<div>\n",
       "<style scoped>\n",
       "    .dataframe tbody tr th:only-of-type {\n",
       "        vertical-align: middle;\n",
       "    }\n",
       "\n",
       "    .dataframe tbody tr th {\n",
       "        vertical-align: top;\n",
       "    }\n",
       "\n",
       "    .dataframe thead th {\n",
       "        text-align: right;\n",
       "    }\n",
       "</style>\n",
       "<table border=\"1\" class=\"dataframe\">\n",
       "  <thead>\n",
       "    <tr style=\"text-align: right;\">\n",
       "      <th></th>\n",
       "      <th>Model</th>\n",
       "      <th>Score</th>\n",
       "    </tr>\n",
       "  </thead>\n",
       "  <tbody>\n",
       "    <tr>\n",
       "      <th>2</th>\n",
       "      <td>Random Forest</td>\n",
       "      <td>78.00</td>\n",
       "    </tr>\n",
       "    <tr>\n",
       "      <th>0</th>\n",
       "      <td>KNN</td>\n",
       "      <td>77.29</td>\n",
       "    </tr>\n",
       "    <tr>\n",
       "      <th>4</th>\n",
       "      <td>Decision Tree</td>\n",
       "      <td>71.57</td>\n",
       "    </tr>\n",
       "    <tr>\n",
       "      <th>1</th>\n",
       "      <td>Logistic Regression</td>\n",
       "      <td>55.14</td>\n",
       "    </tr>\n",
       "    <tr>\n",
       "      <th>3</th>\n",
       "      <td>Gaussian Naive Bayes</td>\n",
       "      <td>53.86</td>\n",
       "    </tr>\n",
       "  </tbody>\n",
       "</table>\n",
       "</div>"
      ]
     },
     "execution_count": 349,
     "metadata": {},
     "output_type": "execute_result"
    }
   ],
   "execution_count": 349
  },
  {
   "metadata": {},
   "cell_type": "markdown",
   "source": "",
   "id": "7790f7712da1b8be"
  }
 ],
 "metadata": {
  "kernelspec": {
   "display_name": "Python 3",
   "language": "python",
   "name": "python3"
  },
  "language_info": {
   "codemirror_mode": {
    "name": "ipython",
    "version": 2
   },
   "file_extension": ".py",
   "mimetype": "text/x-python",
   "name": "python",
   "nbconvert_exporter": "python",
   "pygments_lexer": "ipython2",
   "version": "2.7.6"
  }
 },
 "nbformat": 4,
 "nbformat_minor": 5
}

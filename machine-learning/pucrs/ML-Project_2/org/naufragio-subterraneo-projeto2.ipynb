{
 "cells": [
  {
   "metadata": {},
   "cell_type": "markdown",
   "source": [
    "### **Aluna**: Lais de Souza Ziegler\n",
    "# 🛳️ Predição de sobrevivência em Naufrágio\n",
    "Dataset: treino.csv\n",
    "\n",
    "O projeto de predição de sobrevivência em naufrágios utiliza um conjunto de dados inspirado em um incidente recente no Mediterrâneo, contendo informações sobre 7.124 passageiros a bordo de um navio. As variáveis incluem identificação única do passageiro, nome, informações da cabine (deck, número e posição), procedência, destino, idade, status de VIP, modalidade de hospedagem e gastos com serviços a bordo. O objetivo é prever a probabilidade de um passageiro sobreviver ao naufrágio com base em suas características."
   ],
   "id": "9dfbf8d48afca0a0"
  },
  {
   "metadata": {},
   "cell_type": "markdown",
   "source": [
    "### 1️⃣ Leitura e exploração dos dados\n",
    "---\n",
    "#### Importando as bibliotecas necessárias para a análise de dados"
   ],
   "id": "2f8a5f0d1f6f58d6"
  },
  {
   "metadata": {
    "ExecuteTime": {
     "end_time": "2024-11-24T22:37:45.522749Z",
     "start_time": "2024-11-24T22:37:45.518493Z"
    }
   },
   "cell_type": "code",
   "source": [
    "# Pacotes básicos\n",
    "import numpy as np\n",
    "import pandas as pd\n",
    "import matplotlib.pyplot as plt\n",
    "import seaborn as sns\n",
    "\n",
    "# Pacotes do Scikit-learn para acesso a datasets, preparação, modelagem e avaliação\n",
    "from sklearn.model_selection import train_test_split\n",
    "from sklearn.metrics import classification_report, confusion_matrix, accuracy_score, recall_score, f1_score, roc_curve, roc_auc_score, auc \n",
    "\n",
    "# Pacotes para modelos de aprendizado\n",
    "from sklearn.neighbors import KNeighborsClassifier\n",
    "from sklearn.tree import DecisionTreeClassifier\n",
    "from sklearn.ensemble import RandomForestClassifier\n",
    "from sklearn.linear_model import LogisticRegression\n",
    "from sklearn.model_selection import GridSearchCV, cross_val_score\n",
    "from sklearn.naive_bayes import GaussianNB\n",
    "from sklearn.preprocessing import StandardScaler, LabelEncoder"
   ],
   "id": "1a2367acc0a98b84",
   "outputs": [],
   "execution_count": 45
  },
  {
   "metadata": {},
   "cell_type": "markdown",
   "source": [
    "#### Carregando o conjunto de dados a partir de um arquivo CSV \n",
    "- Em seguida, imprimindo os tipos de dados de cada coluna para entender a estrutura do DataFrame\n",
    "- Exibindo as primeiras cinco linhas do conjunto de dados para uma visão geral dos dados"
   ],
   "id": "ea7eae64df9453ea"
  },
  {
   "metadata": {
    "ExecuteTime": {
     "end_time": "2024-11-24T22:37:45.590218Z",
     "start_time": "2024-11-24T22:37:45.572458Z"
    }
   },
   "cell_type": "code",
   "source": [
    "df = pd.read_csv(\"treino.csv\")\n",
    "\n",
    "df.info()\n",
    "df.head()"
   ],
   "id": "f04dc20b9ec5e86a",
   "outputs": [
    {
     "name": "stdout",
     "output_type": "stream",
     "text": [
      "<class 'pandas.core.frame.DataFrame'>\n",
      "RangeIndex: 1000 entries, 0 to 999\n",
      "Data columns (total 16 columns):\n",
      " #   Column         Non-Null Count  Dtype \n",
      "---  ------         --------------  ----- \n",
      " 0   IDpassageiro   1000 non-null   object\n",
      " 1   Nome           1000 non-null   object\n",
      " 2   Deck           1000 non-null   object\n",
      " 3   NumeroCabine   1000 non-null   int64 \n",
      " 4   PosicaoCabine  1000 non-null   object\n",
      " 5   Procedencia    1000 non-null   object\n",
      " 6   Destino        1000 non-null   object\n",
      " 7   Idade          1000 non-null   int64 \n",
      " 8   VIP            1000 non-null   bool  \n",
      " 9   AllInclusive   1000 non-null   bool  \n",
      " 10  ServicoCabine  1000 non-null   int64 \n",
      " 11  Restaurante    1000 non-null   int64 \n",
      " 12  Shopping       1000 non-null   int64 \n",
      " 13  SPA            1000 non-null   int64 \n",
      " 14  ParquedeAguas  1000 non-null   int64 \n",
      " 15  Sobrevivente   1000 non-null   bool  \n",
      "dtypes: bool(3), int64(7), object(6)\n",
      "memory usage: 104.6+ KB\n"
     ]
    },
    {
     "data": {
      "text/plain": [
       "  IDpassageiro                Nome Deck  NumeroCabine PosicaoCabine  \\\n",
       "0      5647_02   Chabih Matoltuble    D           193             P   \n",
       "1      0107_01         Coobix Hart    A          1202             S   \n",
       "2      4158_01        Doryn Noeley    G           107             P   \n",
       "3      1316_01      Sadrus Quelfly    G           545             S   \n",
       "4      9069_05  Mirfark Taketiatim    D           392             P   \n",
       "\n",
       "  Procedencia    Destino  Idade    VIP  AllInclusive  ServicoCabine  \\\n",
       "0     Finland       Peru     61  False          True            239   \n",
       "1   Argentina  Argentina     31   True         False            466   \n",
       "2        Peru      China     49   True          True           1240   \n",
       "3   Indonesia  Greenland     32  False          True            176   \n",
       "4   Indonesia     Brazil      5  False         False             90   \n",
       "\n",
       "   Restaurante  Shopping   SPA  ParquedeAguas  Sobrevivente  \n",
       "0         1288      3380  1158            587          True  \n",
       "1            6     11299  1598            506          True  \n",
       "2          674     10989   806            463          True  \n",
       "3         1186      8750  1438            379          True  \n",
       "4         1318       161  2853            203          True  "
      ],
      "text/html": [
       "<div>\n",
       "<style scoped>\n",
       "    .dataframe tbody tr th:only-of-type {\n",
       "        vertical-align: middle;\n",
       "    }\n",
       "\n",
       "    .dataframe tbody tr th {\n",
       "        vertical-align: top;\n",
       "    }\n",
       "\n",
       "    .dataframe thead th {\n",
       "        text-align: right;\n",
       "    }\n",
       "</style>\n",
       "<table border=\"1\" class=\"dataframe\">\n",
       "  <thead>\n",
       "    <tr style=\"text-align: right;\">\n",
       "      <th></th>\n",
       "      <th>IDpassageiro</th>\n",
       "      <th>Nome</th>\n",
       "      <th>Deck</th>\n",
       "      <th>NumeroCabine</th>\n",
       "      <th>PosicaoCabine</th>\n",
       "      <th>Procedencia</th>\n",
       "      <th>Destino</th>\n",
       "      <th>Idade</th>\n",
       "      <th>VIP</th>\n",
       "      <th>AllInclusive</th>\n",
       "      <th>ServicoCabine</th>\n",
       "      <th>Restaurante</th>\n",
       "      <th>Shopping</th>\n",
       "      <th>SPA</th>\n",
       "      <th>ParquedeAguas</th>\n",
       "      <th>Sobrevivente</th>\n",
       "    </tr>\n",
       "  </thead>\n",
       "  <tbody>\n",
       "    <tr>\n",
       "      <th>0</th>\n",
       "      <td>5647_02</td>\n",
       "      <td>Chabih Matoltuble</td>\n",
       "      <td>D</td>\n",
       "      <td>193</td>\n",
       "      <td>P</td>\n",
       "      <td>Finland</td>\n",
       "      <td>Peru</td>\n",
       "      <td>61</td>\n",
       "      <td>False</td>\n",
       "      <td>True</td>\n",
       "      <td>239</td>\n",
       "      <td>1288</td>\n",
       "      <td>3380</td>\n",
       "      <td>1158</td>\n",
       "      <td>587</td>\n",
       "      <td>True</td>\n",
       "    </tr>\n",
       "    <tr>\n",
       "      <th>1</th>\n",
       "      <td>0107_01</td>\n",
       "      <td>Coobix Hart</td>\n",
       "      <td>A</td>\n",
       "      <td>1202</td>\n",
       "      <td>S</td>\n",
       "      <td>Argentina</td>\n",
       "      <td>Argentina</td>\n",
       "      <td>31</td>\n",
       "      <td>True</td>\n",
       "      <td>False</td>\n",
       "      <td>466</td>\n",
       "      <td>6</td>\n",
       "      <td>11299</td>\n",
       "      <td>1598</td>\n",
       "      <td>506</td>\n",
       "      <td>True</td>\n",
       "    </tr>\n",
       "    <tr>\n",
       "      <th>2</th>\n",
       "      <td>4158_01</td>\n",
       "      <td>Doryn Noeley</td>\n",
       "      <td>G</td>\n",
       "      <td>107</td>\n",
       "      <td>P</td>\n",
       "      <td>Peru</td>\n",
       "      <td>China</td>\n",
       "      <td>49</td>\n",
       "      <td>True</td>\n",
       "      <td>True</td>\n",
       "      <td>1240</td>\n",
       "      <td>674</td>\n",
       "      <td>10989</td>\n",
       "      <td>806</td>\n",
       "      <td>463</td>\n",
       "      <td>True</td>\n",
       "    </tr>\n",
       "    <tr>\n",
       "      <th>3</th>\n",
       "      <td>1316_01</td>\n",
       "      <td>Sadrus Quelfly</td>\n",
       "      <td>G</td>\n",
       "      <td>545</td>\n",
       "      <td>S</td>\n",
       "      <td>Indonesia</td>\n",
       "      <td>Greenland</td>\n",
       "      <td>32</td>\n",
       "      <td>False</td>\n",
       "      <td>True</td>\n",
       "      <td>176</td>\n",
       "      <td>1186</td>\n",
       "      <td>8750</td>\n",
       "      <td>1438</td>\n",
       "      <td>379</td>\n",
       "      <td>True</td>\n",
       "    </tr>\n",
       "    <tr>\n",
       "      <th>4</th>\n",
       "      <td>9069_05</td>\n",
       "      <td>Mirfark Taketiatim</td>\n",
       "      <td>D</td>\n",
       "      <td>392</td>\n",
       "      <td>P</td>\n",
       "      <td>Indonesia</td>\n",
       "      <td>Brazil</td>\n",
       "      <td>5</td>\n",
       "      <td>False</td>\n",
       "      <td>False</td>\n",
       "      <td>90</td>\n",
       "      <td>1318</td>\n",
       "      <td>161</td>\n",
       "      <td>2853</td>\n",
       "      <td>203</td>\n",
       "      <td>True</td>\n",
       "    </tr>\n",
       "  </tbody>\n",
       "</table>\n",
       "</div>"
      ]
     },
     "execution_count": 46,
     "metadata": {},
     "output_type": "execute_result"
    }
   ],
   "execution_count": 46
  },
  {
   "metadata": {},
   "cell_type": "markdown",
   "source": "#### Exibindo a forma do DataFrame, que retorna o número de linhas e colunas, ",
   "id": "26e44fa52c2ea7f5"
  },
  {
   "metadata": {
    "ExecuteTime": {
     "end_time": "2024-11-24T22:37:45.814871Z",
     "start_time": "2024-11-24T22:37:45.810283Z"
    }
   },
   "cell_type": "code",
   "source": "print(df.shape)",
   "id": "14c7d8839144c6f2",
   "outputs": [
    {
     "name": "stdout",
     "output_type": "stream",
     "text": [
      "(1000, 16)\n"
     ]
    }
   ],
   "execution_count": 47
  },
  {
   "metadata": {},
   "cell_type": "markdown",
   "source": "#### Exibindo um resumo estatístico das colunas numéricas do DataFrame",
   "id": "40318f5f7b3b21bd"
  },
  {
   "metadata": {
    "ExecuteTime": {
     "end_time": "2024-11-24T22:37:46.186471Z",
     "start_time": "2024-11-24T22:37:46.172551Z"
    }
   },
   "cell_type": "code",
   "source": "df.describe()",
   "id": "22cd05b5c54110f1",
   "outputs": [
    {
     "data": {
      "text/plain": [
       "       NumeroCabine        Idade  ServicoCabine  Restaurante      Shopping  \\\n",
       "count   1000.000000  1000.000000     1000.00000  1000.000000   1000.000000   \n",
       "mean     688.466000    39.816000      883.92700   690.624000   7410.141000   \n",
       "std      404.869011    23.346203      498.44474   419.069741   4413.046425   \n",
       "min        1.000000     0.000000        4.00000     3.000000      2.000000   \n",
       "25%      332.750000    19.000000      473.50000   312.750000   3666.750000   \n",
       "50%      675.000000    40.000000      878.00000   680.000000   7309.000000   \n",
       "75%     1049.500000    61.000000     1297.50000  1045.500000  11279.750000   \n",
       "max     1365.000000    79.000000     1741.00000  1425.000000  15234.000000   \n",
       "\n",
       "               SPA  ParquedeAguas  \n",
       "count  1000.000000    1000.000000  \n",
       "mean   1518.977000     356.879000  \n",
       "std     861.974722     202.812532  \n",
       "min       0.000000       0.000000  \n",
       "25%     797.750000     184.000000  \n",
       "50%    1472.500000     365.500000  \n",
       "75%    2297.500000     532.000000  \n",
       "max    2955.000000     705.000000  "
      ],
      "text/html": [
       "<div>\n",
       "<style scoped>\n",
       "    .dataframe tbody tr th:only-of-type {\n",
       "        vertical-align: middle;\n",
       "    }\n",
       "\n",
       "    .dataframe tbody tr th {\n",
       "        vertical-align: top;\n",
       "    }\n",
       "\n",
       "    .dataframe thead th {\n",
       "        text-align: right;\n",
       "    }\n",
       "</style>\n",
       "<table border=\"1\" class=\"dataframe\">\n",
       "  <thead>\n",
       "    <tr style=\"text-align: right;\">\n",
       "      <th></th>\n",
       "      <th>NumeroCabine</th>\n",
       "      <th>Idade</th>\n",
       "      <th>ServicoCabine</th>\n",
       "      <th>Restaurante</th>\n",
       "      <th>Shopping</th>\n",
       "      <th>SPA</th>\n",
       "      <th>ParquedeAguas</th>\n",
       "    </tr>\n",
       "  </thead>\n",
       "  <tbody>\n",
       "    <tr>\n",
       "      <th>count</th>\n",
       "      <td>1000.000000</td>\n",
       "      <td>1000.000000</td>\n",
       "      <td>1000.00000</td>\n",
       "      <td>1000.000000</td>\n",
       "      <td>1000.000000</td>\n",
       "      <td>1000.000000</td>\n",
       "      <td>1000.000000</td>\n",
       "    </tr>\n",
       "    <tr>\n",
       "      <th>mean</th>\n",
       "      <td>688.466000</td>\n",
       "      <td>39.816000</td>\n",
       "      <td>883.92700</td>\n",
       "      <td>690.624000</td>\n",
       "      <td>7410.141000</td>\n",
       "      <td>1518.977000</td>\n",
       "      <td>356.879000</td>\n",
       "    </tr>\n",
       "    <tr>\n",
       "      <th>std</th>\n",
       "      <td>404.869011</td>\n",
       "      <td>23.346203</td>\n",
       "      <td>498.44474</td>\n",
       "      <td>419.069741</td>\n",
       "      <td>4413.046425</td>\n",
       "      <td>861.974722</td>\n",
       "      <td>202.812532</td>\n",
       "    </tr>\n",
       "    <tr>\n",
       "      <th>min</th>\n",
       "      <td>1.000000</td>\n",
       "      <td>0.000000</td>\n",
       "      <td>4.00000</td>\n",
       "      <td>3.000000</td>\n",
       "      <td>2.000000</td>\n",
       "      <td>0.000000</td>\n",
       "      <td>0.000000</td>\n",
       "    </tr>\n",
       "    <tr>\n",
       "      <th>25%</th>\n",
       "      <td>332.750000</td>\n",
       "      <td>19.000000</td>\n",
       "      <td>473.50000</td>\n",
       "      <td>312.750000</td>\n",
       "      <td>3666.750000</td>\n",
       "      <td>797.750000</td>\n",
       "      <td>184.000000</td>\n",
       "    </tr>\n",
       "    <tr>\n",
       "      <th>50%</th>\n",
       "      <td>675.000000</td>\n",
       "      <td>40.000000</td>\n",
       "      <td>878.00000</td>\n",
       "      <td>680.000000</td>\n",
       "      <td>7309.000000</td>\n",
       "      <td>1472.500000</td>\n",
       "      <td>365.500000</td>\n",
       "    </tr>\n",
       "    <tr>\n",
       "      <th>75%</th>\n",
       "      <td>1049.500000</td>\n",
       "      <td>61.000000</td>\n",
       "      <td>1297.50000</td>\n",
       "      <td>1045.500000</td>\n",
       "      <td>11279.750000</td>\n",
       "      <td>2297.500000</td>\n",
       "      <td>532.000000</td>\n",
       "    </tr>\n",
       "    <tr>\n",
       "      <th>max</th>\n",
       "      <td>1365.000000</td>\n",
       "      <td>79.000000</td>\n",
       "      <td>1741.00000</td>\n",
       "      <td>1425.000000</td>\n",
       "      <td>15234.000000</td>\n",
       "      <td>2955.000000</td>\n",
       "      <td>705.000000</td>\n",
       "    </tr>\n",
       "  </tbody>\n",
       "</table>\n",
       "</div>"
      ]
     },
     "execution_count": 48,
     "metadata": {},
     "output_type": "execute_result"
    }
   ],
   "execution_count": 48
  },
  {
   "metadata": {},
   "cell_type": "markdown",
   "source": "### Verificando se há valores ausentes",
   "id": "f8ae65e74279485"
  },
  {
   "metadata": {
    "ExecuteTime": {
     "end_time": "2024-11-24T22:37:46.385510Z",
     "start_time": "2024-11-24T22:37:46.379128Z"
    }
   },
   "cell_type": "code",
   "source": "df.isnull().sum()",
   "id": "63bdc2d94aaa5c00",
   "outputs": [
    {
     "data": {
      "text/plain": [
       "IDpassageiro     0\n",
       "Nome             0\n",
       "Deck             0\n",
       "NumeroCabine     0\n",
       "PosicaoCabine    0\n",
       "Procedencia      0\n",
       "Destino          0\n",
       "Idade            0\n",
       "VIP              0\n",
       "AllInclusive     0\n",
       "ServicoCabine    0\n",
       "Restaurante      0\n",
       "Shopping         0\n",
       "SPA              0\n",
       "ParquedeAguas    0\n",
       "Sobrevivente     0\n",
       "dtype: int64"
      ]
     },
     "execution_count": 49,
     "metadata": {},
     "output_type": "execute_result"
    }
   ],
   "execution_count": 49
  },
  {
   "metadata": {},
   "cell_type": "markdown",
   "source": [
    "1. Visão Geral das Colunas e Tipos de Dados:\n",
    "2. Valores Ausentes:\n",
    "3. Duplicatas:\n",
    "4. Resumo Estatístico das Variáveis Numéricas:\n",
    "5. Distribuição das Variáveis Categoricas\n",
    "6. Distribuição de Idades\n",
    "7. Gráficos de Barras para Variáveis Categóricas:\n",
    "8. Gráfico de Sobrevivência: "
   ],
   "id": "d6a802fd7c679678"
  },
  {
   "metadata": {},
   "cell_type": "markdown",
   "source": [
    "## Análise de Passageiros em Família e Solo\n",
    "Identificar se os passageiros se estão viajando sozinhos ou em grupo (família) com base em um identificador fornecido.\n",
    "\n",
    "- Separar o ID de Grupo e o Número do Integrante\n",
    "    - Dividimos o identificador único de cada passageiro (`IDpassageiro`) em duas partes: o grupo ao qual o passageiro pertence e o número de cada integrante dentro desse grupo. Isso nos permite rastrear quantos passageiros fazem parte de cada grupo.\n",
    "\n",
    "- Identificar se o Passageiro está em Família\n",
    "    - Com a contagem de passageiros por grupo, marcamos os passageiros que pertencem a grupos com mais de um integrante como \"Em Grupo\", e os demais como \"Solo\".\n"
   ],
   "id": "41ef080fbc92e9ea"
  },
  {
   "metadata": {
    "jupyter": {
     "is_executing": true
    }
   },
   "cell_type": "code",
   "source": [
    "df[['Grupo', 'Integrante']] = df['IDpassageiro'].str.split('_', expand=True)\n",
    "\n",
    "group_counts = df['Grupo'].value_counts()\n",
    "\n",
    "df['EmGrupo'] = df['Grupo'].apply(lambda x: 1 if group_counts[x] > 1 else 0)\n",
    "\n",
    "print(df.EmGrupo.value_counts())"
   ],
   "id": "fc0bcd397968841b",
   "outputs": [],
   "execution_count": null
  },
  {
   "metadata": {},
   "cell_type": "markdown",
   "source": [
    "### Visualizar a Distribuição de Passageiros em Família e Solo\n",
    "Gráfico de barras para mostrar visualmente a quantidade de passageiros que viajam sozinhos em comparação aos que viajam em grupo, facilitando a análise da distribuição entre esses dois tipos de passageiros."
   ],
   "id": "c33b51c669641d54"
  },
  {
   "metadata": {
    "ExecuteTime": {
     "end_time": "2024-11-24T22:35:26.267456Z",
     "start_time": "2024-11-24T22:35:26.189710Z"
    }
   },
   "cell_type": "code",
   "source": [
    "plt.figure(figsize=(6, 4))\n",
    "df['EmGrupo'].value_counts().plot(kind='bar', color=['blue', 'orange'])\n",
    "plt.xticks(ticks=[0, 1], labels=['Solo', 'Em Grupo'], rotation=0)\n",
    "plt.title('Distribuição de Passageiros em Grupo e Solo')\n",
    "plt.xlabel('Tipo de Passageiro')\n",
    "plt.ylabel('Contagem')\n",
    "plt.show()"
   ],
   "id": "d42909becce86d8b",
   "outputs": [
    {
     "data": {
      "text/plain": [
       "<Figure size 600x400 with 1 Axes>"
      ],
      "image/png": "[encoded data removed]"
     },
     "metadata": {},
     "output_type": "display_data"
    }
   ],
   "execution_count": 39
  },
  {
   "metadata": {},
   "cell_type": "markdown",
   "source": [
    "### Visualizar a Distribuição de Passageiros em Família e Solo\n",
    "Mostrando visualmente a quantidade de passageiros em cada Deck do navio."
   ],
   "id": "f152e387a471c313"
  },
  {
   "metadata": {
    "ExecuteTime": {
     "end_time": "2024-11-24T22:36:55.076493Z",
     "start_time": "2024-11-24T22:36:55.004048Z"
    }
   },
   "cell_type": "code",
   "source": [
    "deck_counts = df['Deck'].value_counts().reset_index()\n",
    "deck_counts_sorted = deck_counts.sort_values(by='Deck', ascending=True)\n",
    "deck_counts.columns = ['Deck', 'Contagem']\n",
    "\n",
    "plt.figure(figsize=(4, 2))\n",
    "sns.heatmap(deck_counts_sorted.set_index('Deck').T, annot=True, fmt='d', cmap='Blues', cbar=False, linewidths=1, linecolor='gray')\n",
    "\n",
    "plt.title('Contagem de Passageiros por Deck', fontsize=16)\n",
    "plt.xlabel('Deck', fontsize=12)\n",
    "plt.show()"
   ],
   "id": "f9e04cd9a7b7df0a",
   "outputs": [
    {
     "data": {
      "text/plain": [
       "<Figure size 400x200 with 1 Axes>"
      ],
      "image/png": "[encoded data removed]"
     },
     "metadata": {},
     "output_type": "display_data"
    }
   ],
   "execution_count": 43
  },
  {
   "metadata": {
    "ExecuteTime": {
     "end_time": "2024-11-24T22:37:39.970916Z",
     "start_time": "2024-11-24T22:37:39.916974Z"
    }
   },
   "cell_type": "code",
   "source": [
    "# Gráfico 2: Distribuição de 'PosicaoCabine' (P vs S)\n",
    "plt.figure(figsize=(8, 6))\n",
    "df['PosicaoCabine'].value_counts().plot(kind='pie', autopct='%1.1f%%', colors=['lightcoral', 'lightgreen'])\n",
    "plt.title('Distribuição de PosicaoCabine')\n",
    "plt.ylabel('')  # Remove o rótulo 'y'\n",
    "plt.show()"
   ],
   "id": "c953bfbd2d51b30a",
   "outputs": [
    {
     "data": {
      "text/plain": [
       "<Figure size 800x600 with 1 Axes>"
      ],
      "image/png": "[encoded data removed]"
     },
     "metadata": {},
     "output_type": "display_data"
    }
   ],
   "execution_count": 44
  },
  {
   "metadata": {},
   "cell_type": "markdown",
   "source": [
    "## Preparação de Dados\n",
    "\n",
    "- **Codificação de variáveis**\n",
    "   - `Deck` foi transformado em códigos numéricos.\n",
    "   - `PosicaoCabine` foi mapeada para 1 (P) e 0 (S).\n",
    "   - Colunas booleanas (`VIP`, `AllInclusive`, `Sobrevivente`) foram convertidas para 0 e 1.\n",
    "\n",
    "- **Criação de novas colunas**\n",
    "   - `TotalGasto` foi calculado somando os gastos em diferentes categorias.\n",
    "   - `GrupoHetario` e `RangeGasto` foram criados para agrupar idade e gastos em faixas.\n",
    "\n",
    "- **Conversão para códigos numéricos**: \n",
    "   - `GrupoHetario` e `RangeGasto` foram convertidos para valores numéricos.\n",
    "\n",
    "- **Origem e destino**:\n",
    "   - `MesmaOrigemDestino` foi criada para indicar se a procedência e destino são iguais.\n",
    "\n",
    "- **Remoção de colunas**: \n",
    "   - Colunas de gastos individuais foram removidas.\n"
   ],
   "id": "8c88a95bc89701eb"
  },
  {
   "metadata": {
    "ExecuteTime": {
     "end_time": "2024-11-24T22:35:26.640472Z",
     "start_time": "2024-11-24T22:35:26.627780Z"
    }
   },
   "cell_type": "code",
   "source": [
    "df['Deck'] = df['Deck'].astype('category').cat.codes\n",
    "df['PosicaoCabine'] = df['PosicaoCabine'].map({'P': 1, 'S': 0})\n",
    "\n",
    "df['VIP'] = df['VIP'].astype(int)\n",
    "df['AllInclusive'] = df['AllInclusive'].astype(int)\n",
    "df['Sobrevivente'] = df['Sobrevivente'].astype(int)\n",
    "\n",
    "df['TotalGasto'] = df[['ServicoCabine', 'Restaurante', 'Shopping', 'SPA', 'ParquedeAguas']].sum(axis=1)\n",
    "\n",
    "df['GrupoHetario'] = pd.cut(df['Idade'], bins=[-1, 18, 30, 50, 100], labels=[\"0-18\", \"19-30\", \"31-50\", \"51+\"])\n",
    "df['RangeGasto'] = pd.cut(df['TotalGasto'], bins=[-1, 500, 1000, 2000, 5000, 10000, 30000], labels = ['0-500', '501-1000', '1001-2000', '2001-5000', '5001-10000', '10000+'], right=False)\n",
    "\n",
    "df['GrupoHetarioCode'] = df['GrupoHetario'].cat.codes\n",
    "df['RangeGastoCode'] = df['RangeGasto'].cat.codes\n",
    "\n",
    "df['MesmaOrigemDestino'] = (df['Procedencia'] == df['Destino']).astype(int)\n",
    "\n",
    "df.drop(['ServicoCabine', 'Restaurante', 'Shopping', 'SPA', 'ParquedeAguas'], axis=1, inplace=True)"
   ],
   "id": "10b362620571d052",
   "outputs": [],
   "execution_count": 41
  },
  {
   "metadata": {},
   "cell_type": "markdown",
   "source": "",
   "id": "5d1748057dcc0b25"
  },
  {
   "metadata": {
    "ExecuteTime": {
     "end_time": "2024-11-24T22:35:26.691273Z",
     "start_time": "2024-11-24T22:35:26.688216Z"
    }
   },
   "cell_type": "code",
   "source": "",
   "id": "68c62dffba6bf6a9",
   "outputs": [],
   "execution_count": null
  },
  {
   "metadata": {
    "ExecuteTime": {
     "end_time": "2024-11-24T22:35:26.746791Z",
     "start_time": "2024-11-24T22:35:26.738247Z"
    }
   },
   "cell_type": "code",
   "source": [
    "# Contagem de passageiros por Deck\n",
    "deck_counts = df['Deck'].value_counts().reset_index()\n",
    "deck_counts.columns = ['Deck', 'Contagem']\n",
    "\n",
    "# Estilizando a tabela no Jupyter Notebook\n",
    "deck_counts.style.set_table_styles(\n",
    "    [{'selector': 'thead th', 'props': [('background-color', 'gray')]}]\n",
    ")\n"
   ],
   "id": "dd75540bd51b51f7",
   "outputs": [
    {
     "data": {
      "text/plain": [
       "<pandas.io.formats.style.Styler at 0x18a04611640>"
      ],
      "text/html": [
       "<style type=\"text/css\">\n",
       "#T_6684f thead th {\n",
       "  background-color: gray;\n",
       "}\n",
       "</style>\n",
       "<table id=\"T_6684f\">\n",
       "  <thead>\n",
       "    <tr>\n",
       "      <th class=\"blank level0\" >&nbsp;</th>\n",
       "      <th id=\"T_6684f_level0_col0\" class=\"col_heading level0 col0\" >Deck</th>\n",
       "      <th id=\"T_6684f_level0_col1\" class=\"col_heading level0 col1\" >Contagem</th>\n",
       "    </tr>\n",
       "  </thead>\n",
       "  <tbody>\n",
       "    <tr>\n",
       "      <th id=\"T_6684f_level0_row0\" class=\"row_heading level0 row0\" >0</th>\n",
       "      <td id=\"T_6684f_row0_col0\" class=\"data row0 col0\" >7</td>\n",
       "      <td id=\"T_6684f_row0_col1\" class=\"data row0 col1\" >137</td>\n",
       "    </tr>\n",
       "    <tr>\n",
       "      <th id=\"T_6684f_level0_row1\" class=\"row_heading level0 row1\" >1</th>\n",
       "      <td id=\"T_6684f_row1_col0\" class=\"data row1 col0\" >2</td>\n",
       "      <td id=\"T_6684f_row1_col1\" class=\"data row1 col1\" >134</td>\n",
       "    </tr>\n",
       "    <tr>\n",
       "      <th id=\"T_6684f_level0_row2\" class=\"row_heading level0 row2\" >2</th>\n",
       "      <td id=\"T_6684f_row2_col0\" class=\"data row2 col0\" >6</td>\n",
       "      <td id=\"T_6684f_row2_col1\" class=\"data row2 col1\" >131</td>\n",
       "    </tr>\n",
       "    <tr>\n",
       "      <th id=\"T_6684f_level0_row3\" class=\"row_heading level0 row3\" >3</th>\n",
       "      <td id=\"T_6684f_row3_col0\" class=\"data row3 col0\" >1</td>\n",
       "      <td id=\"T_6684f_row3_col1\" class=\"data row3 col1\" >125</td>\n",
       "    </tr>\n",
       "    <tr>\n",
       "      <th id=\"T_6684f_level0_row4\" class=\"row_heading level0 row4\" >4</th>\n",
       "      <td id=\"T_6684f_row4_col0\" class=\"data row4 col0\" >5</td>\n",
       "      <td id=\"T_6684f_row4_col1\" class=\"data row4 col1\" >121</td>\n",
       "    </tr>\n",
       "    <tr>\n",
       "      <th id=\"T_6684f_level0_row5\" class=\"row_heading level0 row5\" >5</th>\n",
       "      <td id=\"T_6684f_row5_col0\" class=\"data row5 col0\" >0</td>\n",
       "      <td id=\"T_6684f_row5_col1\" class=\"data row5 col1\" >121</td>\n",
       "    </tr>\n",
       "    <tr>\n",
       "      <th id=\"T_6684f_level0_row6\" class=\"row_heading level0 row6\" >6</th>\n",
       "      <td id=\"T_6684f_row6_col0\" class=\"data row6 col0\" >3</td>\n",
       "      <td id=\"T_6684f_row6_col1\" class=\"data row6 col1\" >116</td>\n",
       "    </tr>\n",
       "    <tr>\n",
       "      <th id=\"T_6684f_level0_row7\" class=\"row_heading level0 row7\" >7</th>\n",
       "      <td id=\"T_6684f_row7_col0\" class=\"data row7 col0\" >4</td>\n",
       "      <td id=\"T_6684f_row7_col1\" class=\"data row7 col1\" >115</td>\n",
       "    </tr>\n",
       "  </tbody>\n",
       "</table>\n"
      ]
     },
     "execution_count": 42,
     "metadata": {},
     "output_type": "execute_result"
    }
   ],
   "execution_count": 42
  }
 ],
 "metadata": {
  "kernelspec": {
   "display_name": "Python 3",
   "language": "python",
   "name": "python3"
  },
  "language_info": {
   "codemirror_mode": {
    "name": "ipython",
    "version": 2
   },
   "file_extension": ".py",
   "mimetype": "text/x-python",
   "name": "python",
   "nbconvert_exporter": "python",
   "pygments_lexer": "ipython2",
   "version": "2.7.6"
  }
 },
 "nbformat": 4,
 "nbformat_minor": 5
}

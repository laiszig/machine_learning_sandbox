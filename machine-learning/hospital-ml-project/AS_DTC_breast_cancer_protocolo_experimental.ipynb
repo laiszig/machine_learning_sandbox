{
  "nbformat": 4,
  "nbformat_minor": 0,
  "metadata": {
    "colab": {
      "provenance": []
    },
    "kernelspec": {
      "name": "python3",
      "display_name": "Python 3"
    },
    "language_info": {
      "name": "python"
    }
  },
  "cells": [
    {
      "cell_type": "code",
      "execution_count": null,
      "metadata": {
        "id": "N3TJQQGONw4C"
      },
      "outputs": [],
      "source": [
        "# fixar figuras no conteudo do notebook\n",
        "%matplotlib inline\n",
        "# atualizar pacote\n",
        "#!pip install --upgrade scikit-learn\n",
        "# pacotes básicos\n",
        "import math\n",
        "import numpy as np\n",
        "import pandas as pd\n",
        "import matplotlib.pyplot as plt\n",
        "\n",
        "# pacotes do sklearn para acesso a datasets, preparação, modelagem e avaliação\n",
        "from sklearn import datasets\n",
        "#\n",
        "# pacote para separação entre treino e teste\n",
        "from sklearn.model_selection import train_test_split\n",
        "#\n",
        "# arsenal de preparação\n",
        "from sklearn.preprocessing import MinMaxScaler # rescala em min-max\n",
        "from sklearn.preprocessing import StandardScaler # padroniza features removendo média e\n",
        "#     escalando para variância unitária. Também chamado de z-score\n",
        "#\n",
        "# pacote pipeline para combinar preparação e modelagem\n",
        "from sklearn.pipeline import Pipeline, make_pipeline\n",
        "#\n",
        "# pacotes para validação cruzada\n",
        "from sklearn.model_selection import KFold\n",
        "from sklearn.model_selection import StratifiedKFold\n",
        "from sklearn.model_selection import GridSearchCV\n",
        "#\n",
        "# pacotes de indução de modelos\n",
        "from sklearn.tree import DecisionTreeClassifier\n",
        "#\n",
        "# pacotes para avaliação dos resultados\n",
        "from sklearn.metrics import accuracy_score\n",
        "from sklearn.metrics import confusion_matrix\n",
        "from sklearn.metrics import ConfusionMatrixDisplay\n",
        "from sklearn.inspection import DecisionBoundaryDisplay\n",
        "from sklearn.metrics import RocCurveDisplay\n",
        "from sklearn.tree import plot_tree, export_graphviz, export_text\n",
        "\n",
        "#pacotes para apoio a leitura e gravação de datasets\n",
        "from pathlib import Path\n",
        "import csv\n",
        "\n",
        "#pacotes para visualização e formatação\n",
        "import pprint\n",
        "import graphviz\n",
        "#\n",
        "# configurações para os diferentes pacotes\n",
        "pd.set_option('display.max_columns', None)\n",
        "pd.set_option('display.max_rows', None)"
      ]
    },
    {
      "cell_type": "code",
      "source": [
        "# carga de dados\n",
        "breast_cancer = datasets.load_breast_cancer(as_frame=True)\n",
        "print(breast_cancer.DESCR)"
      ],
      "metadata": {
        "id": "yVGisEnRN7ba"
      },
      "execution_count": null,
      "outputs": []
    },
    {
      "cell_type": "code",
      "source": [
        "# separação em features e target\n",
        "X = breast_cancer.data\n",
        "y = breast_cancer.target\n",
        "breast_cancer.frame.tail()"
      ],
      "metadata": {
        "id": "TQ9taIwaOFg2"
      },
      "execution_count": null,
      "outputs": []
    },
    {
      "cell_type": "code",
      "source": [
        "X.describe()"
      ],
      "metadata": {
        "id": "GLY_oiyoOWtl"
      },
      "execution_count": null,
      "outputs": []
    },
    {
      "cell_type": "code",
      "source": [
        "# separação em treino e teste, e X e y\n",
        "\n",
        "treino_X, teste_X, treino_y, teste_y = train_test_split(X, y, random_state=0,test_size=0.2, stratify=y)\n",
        "\n",
        "print(treino_X.shape)\n",
        "print(treino_y.shape)\n",
        "print(teste_X.shape)\n",
        "print(teste_y.shape)\n",
        "print(np.stack(np.unique(teste_y, return_counts=True), axis=1))"
      ],
      "metadata": {
        "id": "Ejm93A_nOco1"
      },
      "execution_count": null,
      "outputs": []
    },
    {
      "cell_type": "code",
      "source": [
        "# indução do modelo para diferentes valores para os parâmetros, com validação cruzada\n",
        "\n",
        "#ccp_alphas = [0.0, 0.05, 0.1, 0.15, 0.2, 0.25, 0.3, 0.35, 0.4, 0.45, 0.5, 1.0, 10.0, 100.0]\n",
        "ccp_alphas = [0.0, 0.005, 0.01, 0.015, 0.02, 0.025, 0.03, 0.04, 0.05, 0.055, 0.06, 0.07, 0.08, 0.09, 0.1]\n",
        "#              0.11, 0.12, 0.13, 0.14, 0.15, 0.2, 0.3, 0.4, 0.5, 0.6, 0.7]\n",
        "#ccp_alphas = [0.055]\n",
        "#ccp_alphas = [0.0]\n",
        "max_leafs = [2, 3, 4, 5, 6, 7, 8, 9]#, 10, 11, 13, 15, 17, 21]\n",
        "\n",
        "k_splits = 10\n",
        "\n",
        "modelo = Pipeline(steps=[('reescala', MinMaxScaler()),\n",
        "    ('modelo', DecisionTreeClassifier(random_state=0))])\n",
        "\n",
        "parametros = {'reescala__feature_range':[(0,1)],\n",
        "              'modelo__ccp_alpha': ccp_alphas,\n",
        "              'modelo__max_leaf_nodes':max_leafs,\n",
        "              'modelo__criterion':['gini','entropy']}\n",
        "\n",
        "skfold = StratifiedKFold(n_splits=k_splits, shuffle=True, random_state=0)\n",
        "\n",
        "valcruz = GridSearchCV(modelo, parametros,cv=skfold)\n",
        "\n",
        "valcruz.fit(treino_X, treino_y)\n",
        "\n",
        "resultados = pd.DataFrame(valcruz.cv_results_).sort_values(by='rank_test_score')\n",
        "melhor_feature_range = resultados['param_reescala__feature_range'].iloc[0]\n",
        "melhor_criterion = resultados['param_modelo__criterion'].iloc[0]\n",
        "melhor_max_leaf_nodes = resultados['param_modelo__max_leaf_nodes'].iloc[0]\n",
        "melhor_ccp_alpha = resultados['param_modelo__ccp_alpha'].iloc[0]\n",
        "\n",
        "resultados.head()"
      ],
      "metadata": {
        "id": "MJRDlc-keX_q"
      },
      "execution_count": null,
      "outputs": []
    },
    {
      "cell_type": "code",
      "source": [
        "# listar os melhores resultados para os parâmetros\n",
        "\n",
        "print('Melhor preparação - Feature Range:{}'.format(melhor_feature_range))\n",
        "print('Melhor resultado - Critério:{}   Máximo número de nodos folha:{}   Alfa:{}    Acurácia média:{:.3f}'.format(\n",
        "    melhor_criterion,\n",
        "    melhor_max_leaf_nodes,\n",
        "    melhor_ccp_alpha,\n",
        "    resultados['mean_test_score'].iloc[0]))\n"
      ],
      "metadata": {
        "id": "AD0I_9E1l-Dh"
      },
      "execution_count": null,
      "outputs": []
    },
    {
      "cell_type": "markdown",
      "source": [
        "## Execução para os melhores parâmetros"
      ],
      "metadata": {
        "id": "7D9OUzudpHrQ"
      }
    },
    {
      "cell_type": "code",
      "source": [
        "escalonador = MinMaxScaler(feature_range = melhor_feature_range)\n",
        "estimador = DecisionTreeClassifier(ccp_alpha = melhor_ccp_alpha,\n",
        "                                   max_leaf_nodes = melhor_max_leaf_nodes,\n",
        "                                   criterion = melhor_criterion)\n",
        "treino_X_escalonado = escalonador.fit_transform(treino_X, treino_y)\n",
        "estimador.fit(treino_X_escalonado, treino_y)\n",
        "teste_X_escalonado = escalonador.transform(teste_X)\n",
        "teste_pred_y = estimador.predict(teste_X_escalonado)\n",
        "acuracia = accuracy_score(teste_y, teste_pred_y)\n",
        "resultado = confusion_matrix(teste_y, teste_pred_y)\n",
        "cm_display = ConfusionMatrixDisplay(resultado).plot()\n",
        "fig = cm_display.figure_\n",
        "fig.set_figheight(3)\n",
        "fig.set_figwidth(3)\n",
        "print('Acuracia={:.3f}'.format(acuracia))"
      ],
      "metadata": {
        "id": "lMw5K6VspO-7"
      },
      "execution_count": null,
      "outputs": []
    },
    {
      "cell_type": "code",
      "source": [
        "# apresentações do modelo\n",
        "modelo_txt = export_text(estimador, feature_names=list(breast_cancer.feature_names))\n",
        "print(modelo_txt)"
      ],
      "metadata": {
        "id": "BZeEd0RAO8Dl"
      },
      "execution_count": null,
      "outputs": []
    },
    {
      "cell_type": "code",
      "source": [
        "# apresentações do modelo\n",
        "plt.figure(figsize=(10, 10))\n",
        "plot_tree(estimador, filled=True, rounded=True,\n",
        "          feature_names=list(breast_cancer.feature_names),\n",
        "          class_names=list(breast_cancer.target_names))\n",
        "plt.title('Árvore de Decisão treinada no dataset breast cancer')\n",
        "plt.show()"
      ],
      "metadata": {
        "id": "Msr77cBqPO5D"
      },
      "execution_count": null,
      "outputs": []
    },
    {
      "cell_type": "markdown",
      "source": [
        "### Curva ROC com AUC"
      ],
      "metadata": {
        "id": "4yUfCIYB8wE_"
      }
    },
    {
      "cell_type": "code",
      "source": [
        "RocCurveDisplay.from_estimator(estimador, teste_X_escalonado, teste_y)"
      ],
      "metadata": {
        "id": "K0YKbev680Q5"
      },
      "execution_count": null,
      "outputs": []
    },
    {
      "cell_type": "markdown",
      "source": [
        "## Mostra da distribuição de pontos e classes"
      ],
      "metadata": {
        "id": "8j1swhTGt4x2"
      }
    },
    {
      "cell_type": "code",
      "source": [
        "treino_X_escalonado_DF = pd.DataFrame(treino_X_escalonado, columns=list(breast_cancer.feature_names))\n",
        "X_mostra = treino_X_escalonado_DF[['worst perimeter', 'worst concave points']].copy()\n",
        "\n",
        "teste_X_escalonado_DF = pd.DataFrame(teste_X_escalonado, columns=list(breast_cancer.feature_names))\n",
        "X_teste_mostra = teste_X_escalonado_DF[['worst perimeter', 'worst concave points']].copy()\n"
      ],
      "metadata": {
        "id": "sYpLxd_U0Ai4"
      },
      "execution_count": null,
      "outputs": []
    },
    {
      "cell_type": "code",
      "source": [
        "modelo_mostra = DecisionTreeClassifier(ccp_alpha = melhor_ccp_alpha,\n",
        "                                   max_leaf_nodes = melhor_max_leaf_nodes,\n",
        "                                   criterion = melhor_criterion)\n",
        "\n",
        "modelo_mostra.fit(X_mostra, treino_y)"
      ],
      "metadata": {
        "id": "aiZgc8KD3O0G"
      },
      "execution_count": null,
      "outputs": []
    },
    {
      "cell_type": "markdown",
      "source": [
        "### Fundo e pontos a partir do treino"
      ],
      "metadata": {
        "id": "nqVC-LRx7c_8"
      }
    },
    {
      "cell_type": "code",
      "source": [
        "\n",
        "mostra = DecisionBoundaryDisplay.from_estimator(\n",
        "    modelo_mostra,\n",
        "    X_mostra,\n",
        "    response_method=\"predict\",\n",
        "    cmap=plt.cm.Set3,\n",
        "    xlabel='worst perimeter',\n",
        "    ylabel='worst concave points',\n",
        ")\n",
        "mostra.ax_.scatter(\n",
        "    X_mostra['worst perimeter'], X_mostra['worst concave points'], c=treino_y, s=50,\n",
        "    cmap=plt.cm.viridis, edgecolor=\"black\", linewidth=1\n",
        ")"
      ],
      "metadata": {
        "id": "ArGU96ibQZVU"
      },
      "execution_count": null,
      "outputs": []
    },
    {
      "cell_type": "markdown",
      "source": [
        "### Fundo a partir do treino e pontos a partir do teste"
      ],
      "metadata": {
        "id": "A3UFFCB97hY7"
      }
    },
    {
      "cell_type": "code",
      "source": [
        "\n",
        "mostra = DecisionBoundaryDisplay.from_estimator(\n",
        "    modelo_mostra,\n",
        "    X_mostra,\n",
        "    response_method=\"predict\",\n",
        "    cmap=plt.cm.Set3,\n",
        "    xlabel='worst perimeter',\n",
        "    ylabel='worst concave points',\n",
        ")\n",
        "mostra.ax_.scatter(\n",
        "    X_teste_mostra['worst perimeter'], X_teste_mostra['worst concave points'], c=teste_y, s=50,\n",
        "    cmap=plt.cm.viridis, edgecolor=\"black\", linewidth=1\n",
        ")"
      ],
      "metadata": {
        "id": "pprvwTK63ixK"
      },
      "execution_count": null,
      "outputs": []
    },
    {
      "cell_type": "code",
      "source": [],
      "metadata": {
        "id": "H0SIrqNK89Hq"
      },
      "execution_count": null,
      "outputs": []
    }
  ]
}
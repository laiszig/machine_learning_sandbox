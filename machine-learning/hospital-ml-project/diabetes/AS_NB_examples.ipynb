{
  "nbformat": 4,
  "nbformat_minor": 0,
  "metadata": {
    "colab": {
      "provenance": []
    },
    "kernelspec": {
      "name": "python3",
      "display_name": "Python 3"
    },
    "language_info": {
      "name": "python"
    }
  },
  "cells": [
    {
      "cell_type": "markdown",
      "source": [
        "## Aprendizado Supervisionado\n",
        "### prof. Duncan\n",
        "Exemplos com Naive Bayes Classifier"
      ],
      "metadata": {
        "id": "7_ZlLSNmfVcr"
      }
    },
    {
      "cell_type": "code",
      "execution_count": null,
      "metadata": {
        "id": "2QGb5067fBum"
      },
      "outputs": [],
      "source": [
        "# atualizar pacote\n",
        "#!pip install --upgrade scikit-learn\n",
        "# pacotes básicos\n",
        "import math\n",
        "import numpy as np\n",
        "import pandas as pd\n",
        "import matplotlib.pyplot as plt\n",
        "\n",
        "# pacotes do sklearn para acesso a datasets, preparação, modelagem e avaliação\n",
        "from sklearn import datasets\n",
        "# pacote pipeline para combinar preparação e modelagem\n",
        "from sklearn.pipeline import Pipeline, make_pipeline\n",
        "# arsenal de preparação\n",
        "from sklearn.preprocessing import MinMaxScaler # rescala em min-max\n",
        "from sklearn.preprocessing import StandardScaler # padroniza features removendo média e\n",
        "#     escalando para variância unitária. Também chamado de z-score\n",
        "#\n",
        "from sklearn.compose import ColumnTransformer\n",
        "from sklearn.preprocessing import LabelEncoder #\n",
        "from sklearn.preprocessing import OrdinalEncoder #\n",
        "from sklearn.preprocessing import OneHotEncoder #\n",
        "#\n",
        "from sklearn.model_selection import train_test_split as tts\n",
        "from sklearn.model_selection import StratifiedKFold as skf\n",
        "from sklearn.model_selection import GridSearchCV as gscv\n",
        "from sklearn.naive_bayes import CategoricalNB as CNB\n",
        "from sklearn.naive_bayes import GaussianNB as GNB\n",
        "from sklearn.naive_bayes import BernoulliNB as BNB\n",
        "from sklearn.metrics import accuracy_score as acc_score\n",
        "from sklearn.metrics import confusion_matrix as cm\n",
        "from sklearn.metrics import ConfusionMatrixDisplay as CMD\n",
        "\n",
        "#pacotes para apoio a leitura e gravação de datasets\n",
        "from pathlib import Path\n",
        "import csv\n",
        "\n",
        "#pacotes para visualização e formatação\n",
        "import pprint\n",
        "import graphviz"
      ]
    },
    {
      "cell_type": "markdown",
      "source": [
        "Exemplo sobre Muriel"
      ],
      "metadata": {
        "id": "trYVJiwGfuJK"
      }
    },
    {
      "cell_type": "code",
      "source": [
        "MurielX = {'Nome':['Muriel', 'Claudia', 'Muriel', 'Muriel', 'Alberto', 'Karin', 'Nina', 'Sergio']}\n",
        "Muriely = {'Sexo':[ 'Masc', 'Fem','Fem','Fem','Masc','Fem','Fem','Masc' ]}\n",
        "MurielXt = {'Nome':['Muriel','Sergio']}\n",
        "Murielyt = {'Sexo':['Fem','Fem']}\n",
        "Muriel_X = pd.DataFrame(data=MurielX)\n",
        "Muriel_y = pd.DataFrame(data=Muriely)\n",
        "Muriel_X_t = pd.DataFrame(data=MurielXt)\n",
        "Muriel_y_t = pd.DataFrame(data=Murielyt)\n",
        "\n",
        "print(Muriel_X.shape)\n",
        "print(Muriel_y.shape)\n",
        "print(np.stack(np.unique(Muriel_y, return_counts=True), axis=1))\n",
        "print(Muriel_X_t.shape)\n",
        "print(Muriel_y_t.shape)\n",
        "print(np.stack(np.unique(Muriel_y_t, return_counts=True), axis=1))"
      ],
      "metadata": {
        "id": "weMMtej7fo3e"
      },
      "execution_count": null,
      "outputs": []
    },
    {
      "cell_type": "code",
      "source": [
        "Muriel_X"
      ],
      "metadata": {
        "id": "mUpp8IHiyO-F"
      },
      "execution_count": null,
      "outputs": []
    },
    {
      "cell_type": "code",
      "source": [
        "Muriel_y"
      ],
      "metadata": {
        "id": "2EojjUMqx8JU"
      },
      "execution_count": null,
      "outputs": []
    },
    {
      "cell_type": "code",
      "source": [
        "orl1 = OrdinalEncoder()\n",
        "lbl1 = LabelEncoder()\n",
        "Muriel_X_n = orl1.fit_transform(Muriel_X)\n",
        "Muriel_y_n = lbl1.fit_transform(Muriel_y)\n",
        "Muriel_X_t_n = orl1.transform(Muriel_X_t)\n",
        "Muriel_y_t_n = lbl1.transform(Muriel_y_t)"
      ],
      "metadata": {
        "id": "jE_0Uce_iq3D"
      },
      "execution_count": null,
      "outputs": []
    },
    {
      "cell_type": "code",
      "source": [
        "Muriel_X_n"
      ],
      "metadata": {
        "id": "fsur4-5jSeI1"
      },
      "execution_count": null,
      "outputs": []
    },
    {
      "cell_type": "code",
      "source": [
        "Alpha = 1.0e-10\n",
        "modelo1 = CNB(alpha=Alpha)\n",
        "modelo1.fit(Muriel_X_n, Muriel_y_n)\n",
        "Muriel_y_pred_n = modelo1.predict(Muriel_X_t_n)\n",
        "acuracia1 = acc_score(Muriel_y_t_n, Muriel_y_pred_n)\n",
        "resultado1 = cm(Muriel_y_t_n, Muriel_y_pred_n)\n",
        "cm_display = CMD(resultado1).plot()\n",
        "print('Alpha={:5}  Acuracia={:.3}'.format(Alpha, acuracia1))\n",
        "Muriel_pred_proba = modelo1.predict_proba(Muriel_X_t_n)\n",
        "print(lbl1.classes_)\n",
        "print(Muriel_pred_proba)"
      ],
      "metadata": {
        "id": "W96xtlhmgbQb"
      },
      "execution_count": null,
      "outputs": []
    },
    {
      "cell_type": "code",
      "source": [
        "Alpha = 1.0\n",
        "modelo1 = CNB(alpha=Alpha)\n",
        "modelo1.fit(Muriel_X_n, Muriel_y_n)\n",
        "Muriel_y_pred_n = modelo1.predict(Muriel_X_t_n)\n",
        "acuracia1 = acc_score(Muriel_y_t_n, Muriel_y_pred_n)\n",
        "resultado1 = cm(Muriel_y_t_n, Muriel_y_pred_n)\n",
        "cm_display = CMD(resultado1).plot()\n",
        "print('Alpha={:5}  Acuracia={:.3}'.format(Alpha, acuracia1))\n",
        "Muriel_pred_proba = modelo1.predict_proba(Muriel_X_t_n)\n",
        "print(lbl1.classes_)\n",
        "print(Muriel_pred_proba)"
      ],
      "metadata": {
        "id": "RApWbqlR4aW1"
      },
      "execution_count": null,
      "outputs": []
    },
    {
      "cell_type": "code",
      "source": [
        "Muriel_y_pred = lbl1.inverse_transform(Muriel_y_pred_n)\n",
        "for i in range(len(Muriel_X_t['Nome'])):\n",
        "  print('Nome:{:10}  Sexo:{:5}  Sexo predito:{:5}'.format(\n",
        "      Muriel_X_t['Nome'][i], Muriel_y_t['Sexo'][i], Muriel_y_pred[i]))\n",
        "  print('  Probabilidades - Classe {:4} - {:8.3}; Classe {:4} - {:8.3}'.format(\n",
        "      lbl1.classes_[0], Muriel_pred_proba[i][0], lbl1.classes_[1], Muriel_pred_proba[i][1]))\n"
      ],
      "metadata": {
        "id": "xC-thbIOhjmz"
      },
      "execution_count": null,
      "outputs": []
    },
    {
      "cell_type": "markdown",
      "source": [
        "### Exemplo jogar golfe ou tenis, versão categórica\n",
        "\n"
      ],
      "metadata": {
        "id": "PjyoPd4p5Al7"
      }
    },
    {
      "cell_type": "code",
      "source": [
        "# versão valores nominais\n",
        "wX = {'outlook':['sunny','sunny','overcast','rainy','rainy','rainy','overcast','sunny','sunny','rainy','sunny','overcast','overcast','rainy'],\n",
        "             'temperature':['hot','hot','hot','mild','cool','cool','cool','mild','cool','mild','mild','mild','hot','mild'],\n",
        "             'humidity':['high','high','high','high','normal','normal','normal','high','normal','normal','normal','high','normal','high'],\n",
        "             'windy':['FALSE','TRUE','FALSE','FALSE','FALSE','TRUE','TRUE','FALSE','FALSE','FALSE','TRUE','TRUE','FALSE','TRUE']}\n",
        "wy = {'play':['no','no','yes','yes','yes','no','yes','no','yes','yes','yes','yes','yes','no']}\n",
        "\n",
        "wXt ={'outlook':['sunny','overcast','rainy'],\n",
        "            'temperature':['cool','mild','hot'],\n",
        "            'humidity':['high','normal','normal'],\n",
        "            'windy':['TRUE','FALSE','TRUE']}\n",
        "wyt = {'play':['no','no','no']}"
      ],
      "metadata": {
        "id": "91FrW1o3r_J9"
      },
      "execution_count": null,
      "outputs": []
    },
    {
      "cell_type": "code",
      "source": [
        "w_X = pd.DataFrame(data=wX)\n",
        "w_y = pd.DataFrame(data=wy)\n",
        "w_X_t =pd.DataFrame(data=wXt)\n",
        "w_y_t =pd.DataFrame(data=wyt)\n",
        "\n",
        "print(w_X.shape)\n",
        "print(w_y.shape)\n",
        "print(w_X_t.shape)\n",
        "print(w_y_t.shape)\n",
        "print(np.stack(np.unique(w_y_t, return_counts=True), axis=1))"
      ],
      "metadata": {
        "id": "HHNqvfn6BAN8"
      },
      "execution_count": null,
      "outputs": []
    },
    {
      "cell_type": "code",
      "source": [
        "w_X"
      ],
      "metadata": {
        "id": "CheCxXukXu0h"
      },
      "execution_count": null,
      "outputs": []
    },
    {
      "cell_type": "code",
      "source": [
        "w_X_t"
      ],
      "metadata": {
        "id": "ATxS2nSW47TU"
      },
      "execution_count": null,
      "outputs": []
    },
    {
      "cell_type": "markdown",
      "source": [
        "### Preparação com OrdinalEncoder"
      ],
      "metadata": {
        "id": "almpwqqWnXgP"
      }
    },
    {
      "cell_type": "code",
      "source": [
        "orl2 = OrdinalEncoder()\n",
        "lbl2 = LabelEncoder()\n",
        "w_X_n = orl2.fit_transform(w_X)\n",
        "w_y_n = lbl2.fit_transform(w_y)\n",
        "w_X_t_n = orl2.transform(w_X_t)\n",
        "w_y_t_n = lbl2.transform(w_y_t)"
      ],
      "metadata": {
        "id": "XffstKYLDJZ9"
      },
      "execution_count": null,
      "outputs": []
    },
    {
      "cell_type": "code",
      "source": [
        "w_X_n"
      ],
      "metadata": {
        "id": "uSPAdle4wnKn"
      },
      "execution_count": null,
      "outputs": []
    },
    {
      "cell_type": "code",
      "source": [
        "Alpha = 1.0e-10\n",
        "modelo2 = CNB(alpha=Alpha)\n",
        "modelo2.fit(w_X_n, w_y_n)\n",
        "w_y_pred_n = modelo2.predict(w_X_t_n)\n",
        "acuracia2 = acc_score(w_y_t_n, w_y_pred_n)\n",
        "resultado2 = cm(w_y_t_n, w_y_pred_n)\n",
        "cm_display = CMD(resultado2).plot()\n",
        "print('Alpha={:5}  Acuracia={:.3}'.format(Alpha, acuracia2))\n",
        "w_pred_proba2 = modelo2.predict_proba(w_X_t_n)\n",
        "print(lbl2.classes_)\n",
        "print(w_pred_proba2)"
      ],
      "metadata": {
        "id": "FUQY1ncmDMN7"
      },
      "execution_count": null,
      "outputs": []
    },
    {
      "cell_type": "code",
      "source": [
        "w_y_pred = lbl2.inverse_transform(w_y_pred_n)\n",
        "for i in range(len(w_X_t['outlook'])):\n",
        "  print('Outlook:{:10} Temperature:{:10} Humidity:{:10} Windy:{:10}  Play:{:5}  Play predito:{:5}'.format(\n",
        "      w_X_t['outlook'][i], w_X_t['temperature'][i], w_X_t['humidity'][i], w_X_t['windy'][i],\n",
        "      w_y_t['play'][i], w_y_pred[i]))\n",
        "  print('   Probabilidades - Classe {:4} - {:8.3}; Classe {:4} - {:8.3}'.format(\n",
        "      lbl2.classes_[0], w_pred_proba2[i][0], lbl2.classes_[1], w_pred_proba2[i][1] ))"
      ],
      "metadata": {
        "id": "iZm61i63kYr1"
      },
      "execution_count": null,
      "outputs": []
    },
    {
      "cell_type": "markdown",
      "source": [
        "### Preparação com OneHotEncoder"
      ],
      "metadata": {
        "id": "RuOo8_npnd_t"
      }
    },
    {
      "cell_type": "code",
      "source": [
        "# preparação das colunas com ordinalencoder e onehotencoder\n",
        "Prepara_Colunas = ColumnTransformer([\n",
        "    ('Ordinal', OrdinalEncoder(dtype=int), ['humidity', 'windy']),\n",
        "    ('OneHot',  OneHotEncoder(dtype=int), ['outlook', 'temperature'])\n",
        "])\n",
        "lbl21 = LabelEncoder()\n",
        "w_X_n = pd.DataFrame(Prepara_Colunas.fit_transform(w_X), columns=Prepara_Colunas.get_feature_names_out())\n",
        "w_y_n = lbl21.fit_transform(w_y)\n",
        "w_X_t_n = pd.DataFrame(Prepara_Colunas.transform(w_X_t), columns=Prepara_Colunas.get_feature_names_out())\n",
        "w_y_t_n = lbl21.transform(w_y_t)\n"
      ],
      "metadata": {
        "id": "YV4BogabniGV"
      },
      "execution_count": null,
      "outputs": []
    },
    {
      "cell_type": "code",
      "source": [
        "w_X_n"
      ],
      "metadata": {
        "id": "oV3Vx1_f0H_e"
      },
      "execution_count": null,
      "outputs": []
    },
    {
      "cell_type": "code",
      "source": [
        "Alpha = 1.0e-10\n",
        "modelo21 = BNB(alpha=Alpha)\n",
        "modelo21.fit(w_X_n, w_y_n)\n",
        "w_y_pred_n = modelo21.predict(w_X_t_n)\n",
        "acuracia21 = acc_score(w_y_t_n, w_y_pred_n)\n",
        "resultado21 = cm(w_y_t_n, w_y_pred_n)\n",
        "cm_display = CMD(resultado21).plot()\n",
        "print('Alpha={:5}  Acuracia={:.3}'.format(Alpha, acuracia21))\n",
        "w_pred_proba21 = modelo21.predict_proba(w_X_t_n)\n",
        "print(lbl21.classes_)\n",
        "print(w_pred_proba21)"
      ],
      "metadata": {
        "id": "KPrgffZlnmBc"
      },
      "execution_count": null,
      "outputs": []
    },
    {
      "cell_type": "code",
      "source": [
        "w_y_pred = lbl21.inverse_transform(w_y_pred_n)\n",
        "for i in range(len(w_X_t['outlook'])):\n",
        "  print('Outlook:{:10} Temperature:{:10} Humidity:{:10} Windy:{:10}  Play:{:5}  Play predito:{:5}'.format(\n",
        "      w_X_t['outlook'][i], w_X_t['temperature'][i], w_X_t['humidity'][i], w_X_t['windy'][i],\n",
        "      w_y_t['play'][i], w_y_pred[i]))\n",
        "  print('   Probabilidades - Classe {:4} - {:8.3}; Classe {:4} - {:8.3}'.format(\n",
        "      lbl21.classes_[0], w_pred_proba21[i][0], lbl21.classes_[1], w_pred_proba21[i][1] ))"
      ],
      "metadata": {
        "id": "RM6rvjEYnsLj"
      },
      "execution_count": null,
      "outputs": []
    },
    {
      "cell_type": "markdown",
      "source": [
        "### Exemplo jogar golfe ou tenis, versão numérica\n",
        "\n"
      ],
      "metadata": {
        "id": "qDfzm8Pts4qS"
      }
    },
    {
      "cell_type": "code",
      "source": [
        "# versão valores nominais\n",
        "wnX = {'outlook':['sunny','sunny','overcast','rainy','rainy','rainy','overcast','sunny','sunny','rainy','sunny','overcast','overcast','rainy'],\n",
        "             'temperature':[85, 80, 83, 70, 68, 65, 64, 72, 69, 75, 75, 72, 81, 71],\n",
        "             'humidity':[85, 90, 86, 96, 80, 70, 65, 95, 70, 80, 70, 90, 75, 91],\n",
        "             'windy':['FALSE','TRUE','FALSE','FALSE','FALSE','TRUE','TRUE','FALSE','FALSE','FALSE','TRUE','TRUE','FALSE','TRUE']}\n",
        "wny = {'play':['no','no','yes','yes','yes','no','yes','no','yes','yes','yes','yes','yes','no']}\n",
        "\n",
        "wnXt ={'outlook':['sunny','overcast','rainy'],\n",
        "            'temperature':[67, 76, 82],\n",
        "            'humidity':[89, 82, 75],\n",
        "            'windy':['TRUE','FALSE','TRUE']}\n",
        "wnyt = {'play':['no','no','no']}"
      ],
      "metadata": {
        "id": "GmMXpyqFs4qT"
      },
      "execution_count": null,
      "outputs": []
    },
    {
      "cell_type": "code",
      "source": [
        "wn_X = pd.DataFrame(data=wnX)\n",
        "wn_y = pd.DataFrame(data=wny)\n",
        "wn_X_t =pd.DataFrame(data=wnXt)\n",
        "wn_y_t =pd.DataFrame(data=wnyt)\n",
        "\n",
        "cat_features = ['outlook', 'windy']\n",
        "num_features = ['temperature', 'humidity']\n",
        "\n",
        "print(wn_X.shape)\n",
        "print(wn_y.shape)\n",
        "print(wn_X_t.shape)\n",
        "print(wn_y_t.shape)\n",
        "print(np.stack(np.unique(wn_y_t, return_counts=True), axis=1))"
      ],
      "metadata": {
        "id": "H6WD-3Pos4qT"
      },
      "execution_count": null,
      "outputs": []
    },
    {
      "cell_type": "code",
      "source": [
        "wn_X"
      ],
      "metadata": {
        "id": "QubLKQMPXSck"
      },
      "execution_count": null,
      "outputs": []
    },
    {
      "cell_type": "code",
      "source": [
        "wn_X[cat_features]"
      ],
      "metadata": {
        "id": "P9KxgAv4AIQf"
      },
      "execution_count": null,
      "outputs": []
    },
    {
      "cell_type": "markdown",
      "source": [
        "### Preparação com OrdinalEncoder para outlook e windy, e reescala para temperature e humidity\n",
        "- para Naive Bayes não faz diferença reescalar atributos numéricos porque o Naive Bayes considera as probabilidades independentes entre si\n",
        "- Foi feito apenas a título didático"
      ],
      "metadata": {
        "id": "4vg6N1Y4GZb2"
      }
    },
    {
      "cell_type": "code",
      "source": [
        "orl3 = OrdinalEncoder()  # só fazer a transformação para atributos categóricos, ver manual.\n",
        "lbl3 = LabelEncoder()\n",
        "num3 = MinMaxScaler()\n",
        "wn_X_n = wn_X.copy()\n",
        "wn_X_n[cat_features] = orl3.fit_transform(wn_X_n[cat_features])\n",
        "wn_X_n[num_features] = num3.fit_transform(wn_X_n[num_features])\n",
        "wn_y_n = lbl3.fit_transform(wn_y)\n",
        "wn_X_t_n = wn_X_t.copy()\n",
        "wn_X_t_n[cat_features] = orl3.transform(wn_X_t_n[cat_features])\n",
        "wn_X_t_n[num_features] = num3.transform(wn_X_t_n[num_features])\n",
        "wn_y_t_n = lbl3.transform(wn_y_t)\n"
      ],
      "metadata": {
        "id": "qi9z1Xi1s4qT"
      },
      "execution_count": null,
      "outputs": []
    },
    {
      "cell_type": "code",
      "source": [
        "wn_X_n"
      ],
      "metadata": {
        "id": "KPpWqiyc_9gI"
      },
      "execution_count": null,
      "outputs": []
    },
    {
      "cell_type": "code",
      "source": [
        "# em Naive Bayes, os atributos são considerados independentes\n",
        "# logo, pode-se calcular separadamente as probabilidades e, então,\n",
        "# combiná-las\n",
        "\n",
        "Alpha = 1.0e-10\n",
        "modelo3cat = CNB(alpha=Alpha)\n",
        "modelo3num = GNB()\n",
        "modelo3cat.fit(wn_X_n[cat_features], wn_y_n)\n",
        "modelo3num.fit(wn_X_n[num_features], wn_y_n)\n",
        "wn_y_predcat_n3 = modelo3cat.predict(wn_X_t_n[cat_features])\n",
        "wn_y_prednum_n3 = modelo3num.predict(wn_X_t_n[num_features])\n",
        "wn_predcat_proba3 = modelo3cat.predict_proba(wn_X_t_n[cat_features])\n",
        "wn_prednum_proba3 = modelo3num.predict_proba(wn_X_t_n[num_features])\n",
        "\n",
        "# após cálculos separados, combinar os cálculos para a predição\n",
        "wn_pred_proba_aux = wn_predcat_proba3 * wn_prednum_proba3\n",
        "#print(wn_pred_proba_aux)\n",
        "wn_pred_proba_aux2 = np.sum(wn_pred_proba_aux, axis=1)\n",
        "#print(wn_pred_proba_aux2)\n",
        "wn_pred_proba3 = wn_pred_proba_aux / wn_pred_proba_aux2.reshape(-1, 1)\n",
        "wn_y_pred_n = np.argmax(wn_pred_proba3, axis=1)\n",
        "acuracia3 = np.average(wn_y_pred_n == wn_y_t_n)\n",
        "\n",
        "# listar resultados\n",
        "resultado3 = cm(wn_y_t_n, wn_y_pred_n)\n",
        "cm_display = CMD(resultado3).plot()\n",
        "print('Alpha={:5}  Acuracia={:.3}'.format(Alpha, acuracia3))\n",
        "print(lbl3.classes_)\n",
        "print('Predição atributos categóricos:')\n",
        "print(wn_predcat_proba3)\n",
        "print('Predição atributos numéricos:')\n",
        "print(wn_prednum_proba3)\n",
        "print('Predição composta:')\n",
        "print(wn_pred_proba3)\n"
      ],
      "metadata": {
        "id": "0i36w7ers4qU"
      },
      "execution_count": null,
      "outputs": []
    },
    {
      "cell_type": "code",
      "source": [
        "wn_y_pred = lbl3.inverse_transform(wn_y_pred_n)\n",
        "for i in range(len(wn_X_t['outlook'])):\n",
        "  print('Outlook:{:10} Temperature:{:10} Humidity:{:10} Windy:{:10}  Play:{:5}  Play predito:{:5}'.format(\n",
        "      wn_X_t['outlook'][i], wn_X_t['temperature'][i], wn_X_t['humidity'][i], wn_X_t['windy'][i],\n",
        "      wn_y_t['play'][i], wn_y_pred[i]))\n",
        "  print('   Probabilidades - Classe {:4} - {:8.3}; Classe {:4} - {:8.3}'.format(\n",
        "      lbl3.classes_[0], wn_pred_proba3[i][0], lbl3.classes_[1], wn_pred_proba3[i][1] ))"
      ],
      "metadata": {
        "id": "gt2pXqF0s4qU"
      },
      "execution_count": null,
      "outputs": []
    },
    {
      "cell_type": "markdown",
      "source": [
        "### Preparação com OneHotEncoder para outlook, OrdinalEncoder para windy e MinMaxScaler para humidity e temperature\n",
        "- Para Naive Bayes não faz diferença reescalar atributos numéricos porque o Naive Bayes considera as probabilidades independentes entre si\n",
        "- Foi feito apenas a título didático"
      ],
      "metadata": {
        "id": "hg7-e5pBFrK4"
      }
    },
    {
      "cell_type": "code",
      "source": [
        "# preparação das colunas com ordinalencoder, onehotencoder e minmaxscaler\n",
        "Prepara_Colunas = ColumnTransformer([\n",
        "    ('Ordinal', OrdinalEncoder(dtype=int), ['windy']),\n",
        "    ('OneHot',  OneHotEncoder(dtype=int), ['outlook']),\n",
        "    ('MinMax',  MinMaxScaler(), ['humidity', 'temperature'])\n",
        "])\n",
        "lbl31 = LabelEncoder()\n",
        "wn_X_n = pd.DataFrame(Prepara_Colunas.fit_transform(wn_X), columns=Prepara_Colunas.get_feature_names_out())\n",
        "wn_y_n = lbl31.fit_transform(wn_y)\n",
        "wn_X_t_n = pd.DataFrame(Prepara_Colunas.transform(wn_X_t), columns=Prepara_Colunas.get_feature_names_out())\n",
        "wn_y_t_n = lbl31.transform(wn_y_t)\n",
        "\n",
        "cat_features = ['Ordinal__windy']\n",
        "num_features = ['MinMax__temperature', 'MinMax__humidity']\n",
        "oho_features = ['OneHot__outlook_overcast', 'OneHot__outlook_rainy', 'OneHot__outlook_sunny']\n"
      ],
      "metadata": {
        "id": "_lTi3X_RFGkr"
      },
      "execution_count": null,
      "outputs": []
    },
    {
      "cell_type": "code",
      "source": [
        "wn_X_n"
      ],
      "metadata": {
        "id": "yD9ep96-IgJJ"
      },
      "execution_count": null,
      "outputs": []
    },
    {
      "cell_type": "code",
      "source": [
        "# em Naive Bayes, os atributos são considerados independentes\n",
        "# logo, pode-se calcular separadamente as probabilidades e, então,\n",
        "# combiná-las\n",
        "\n",
        "Alpha = 1.0e-10\n",
        "modelo31cat = CNB(alpha=Alpha)\n",
        "modelo31num = GNB()\n",
        "modelo31bnb = BNB()\n",
        "modelo31cat.fit(wn_X_n[cat_features], wn_y_n)\n",
        "modelo31num.fit(wn_X_n[num_features], wn_y_n)\n",
        "modelo31bnb.fit(wn_X_n[oho_features], wn_y_n)\n",
        "wn_y_predcat_n31 = modelo31cat.predict(wn_X_t_n[cat_features])\n",
        "wn_y_prednum_n31 = modelo31num.predict(wn_X_t_n[num_features])\n",
        "wn_y_prednum_n31 = modelo31bnb.predict(wn_X_t_n[oho_features])\n",
        "wn_predcat_proba31 = modelo31cat.predict_proba(wn_X_t_n[cat_features])\n",
        "wn_prednum_proba31 = modelo31num.predict_proba(wn_X_t_n[num_features])\n",
        "wn_predoho_proba31 = modelo31bnb.predict_proba(wn_X_t_n[oho_features])\n",
        "\n",
        "# após cálculos separados, combinar os cálculos para a predição\n",
        "wn_pred_proba_aux = wn_predcat_proba31 * wn_prednum_proba31 * wn_predoho_proba31\n",
        "#print(wn_pred_proba_aux)\n",
        "wn_pred_proba_aux2 = np.sum(wn_pred_proba_aux, axis=1)\n",
        "#print(wn_pred_proba_aux2)\n",
        "wn_pred_proba31 = wn_pred_proba_aux / wn_pred_proba_aux2.reshape(-1, 1)\n",
        "wn_y_pred_n = np.argmax(wn_pred_proba31, axis=1)\n",
        "acuracia31 = np.average(wn_y_pred_n == wn_y_t_n)\n",
        "\n",
        "# listar resultados\n",
        "resultado31 = cm(wn_y_t_n, wn_y_pred_n)\n",
        "cm_display = CMD(resultado31).plot()\n",
        "print('Alpha={:5}  Acuracia={:.3}'.format(Alpha, acuracia31))\n",
        "print(lbl3.classes_)\n",
        "print('Predição atributos categóricos:')\n",
        "print(wn_predcat_proba31)\n",
        "print('Predição atributos numéricos:')\n",
        "print(wn_prednum_proba31)\n",
        "print('Predição atributos OneHot:')\n",
        "print(wn_predoho_proba31)\n",
        "print('Predição composta:')\n",
        "print(wn_pred_proba31)\n"
      ],
      "metadata": {
        "id": "Lb_mhYlZJgpo"
      },
      "execution_count": null,
      "outputs": []
    },
    {
      "cell_type": "code",
      "source": [
        "# tabulação das predições compostas\n",
        "print('Predição categoricos:')\n",
        "print(w_pred_proba2)\n",
        "print('Predição categoricos e OneHot:')\n",
        "print(w_pred_proba21)\n",
        "print('Predição categoricos e numericos:')\n",
        "print(wn_pred_proba3)\n",
        "print('Predição categoricos, numericos e OneHot:')\n",
        "print(wn_pred_proba31)\n"
      ],
      "metadata": {
        "id": "azn182qoLdwU"
      },
      "execution_count": null,
      "outputs": []
    },
    {
      "cell_type": "code",
      "source": [],
      "metadata": {
        "id": "Wir7aZl8Quag"
      },
      "execution_count": null,
      "outputs": []
    }
  ]
}
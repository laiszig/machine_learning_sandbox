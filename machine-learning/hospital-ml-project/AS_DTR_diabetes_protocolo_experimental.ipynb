{
  "cells": [
    {
      "cell_type": "markdown",
      "id": "9a034c2c",
      "metadata": {
        "id": "9a034c2c"
      },
      "source": [
        "## Aprendizado Supervisionado\n",
        "### prof. Duncan\n",
        "Prática com Decision Tree Regressor e Diabetes"
      ]
    },
    {
      "cell_type": "code",
      "execution_count": null,
      "id": "7370d2c9",
      "metadata": {
        "id": "7370d2c9"
      },
      "outputs": [],
      "source": [
        "# pacotes básicos\n",
        "import math\n",
        "import numpy as np\n",
        "import pandas as pd\n",
        "import matplotlib.pyplot as plt\n",
        "\n",
        "# pacotes do sklearn para acesso a datasets, preparação, modelagem e avaliação\n",
        "from sklearn import datasets\n",
        "# pacote pipeline para combinar preparação e modelagem\n",
        "from sklearn.pipeline import Pipeline, make_pipeline\n",
        "# arsenal de preparação\n",
        "from sklearn.preprocessing import MinMaxScaler # rescala em min-max\n",
        "from sklearn.preprocessing import StandardScaler # padroniza features removendo média e\n",
        "#     escalando para variância unitária. Também chamado de z-score\n",
        "#\n",
        "#  algoritmo de aprendizado e métricas\n",
        "from sklearn.tree import DecisionTreeRegressor\n",
        "from sklearn.tree import plot_tree, export_graphviz, export_text\n",
        "from sklearn.metrics import mean_absolute_error as mae\n",
        "from sklearn.metrics import mean_squared_error as mse\n",
        "#from sklearn.metrics import root_mean_squared_error as rmse\n",
        "from sklearn.metrics import make_scorer\n",
        "#\n",
        "#    opções de seleção de modelo de entrada\n",
        "from sklearn.model_selection import train_test_split\n",
        "from sklearn.model_selection import StratifiedKFold\n",
        "from sklearn.model_selection import KFold\n",
        "from sklearn.model_selection import GridSearchCV\n",
        "\n",
        "# pacote para amostragem\n",
        "from sklearn.utils import resample\n",
        "\n",
        "#pacotes para apoio a leitura e gravação de datasets\n",
        "from pathlib import Path\n",
        "import csv\n",
        "\n",
        "#pacotes para visualização e formatação\n",
        "import pprint\n",
        "import graphviz\n",
        "\n",
        "# configurações para os diferentes pacotes\n",
        "pd.set_option('display.max_columns', None)\n",
        "pd.set_option('display.max_rows', None)"
      ]
    },
    {
      "cell_type": "code",
      "execution_count": null,
      "id": "e4437524",
      "metadata": {
        "id": "e4437524"
      },
      "outputs": [],
      "source": [
        "# carga de dados\n",
        "diabetes = datasets.load_diabetes(as_frame=True)\n",
        "print(diabetes.DESCR)"
      ]
    },
    {
      "cell_type": "code",
      "execution_count": null,
      "id": "5df92091",
      "metadata": {
        "id": "5df92091",
        "collapsed": true
      },
      "outputs": [],
      "source": [
        "# separação em features e target\n",
        "X = diabetes.data\n",
        "y = diabetes.target\n",
        "diabetes.frame"
      ]
    },
    {
      "cell_type": "code",
      "execution_count": null,
      "id": "c6d9a145",
      "metadata": {
        "id": "c6d9a145"
      },
      "outputs": [],
      "source": [
        "# separação em treino e teste, e X e y\n",
        "\n",
        "treino_X, teste_X, treino_y, teste_y = train_test_split(X, y, test_size=0.2, random_state=0)\n",
        "\n",
        "print(treino_X.shape)\n",
        "print(treino_y.shape)\n",
        "print(teste_X.shape)\n",
        "print(teste_y.shape)\n"
      ]
    },
    {
      "cell_type": "markdown",
      "source": [
        "## Experimento com reescala de valores, embaralhamento e busca exaustiva nos parâmetros"
      ],
      "metadata": {
        "id": "6IVPGj8rr0IS"
      },
      "id": "6IVPGj8rr0IS"
    },
    {
      "cell_type": "code",
      "source": [
        "# protocolo experimental com preparação e modelagem\n",
        "\n",
        "# indução do modelo de classificação por árvore de decisão\n",
        "ccp_alphas = [0.0, 0.5, 1.0, 2.0, 3.0, 4.0, 5.0, 6.0, 7.0, 8.0, 9.0, 10.0, 11.0, 12.0, 13.0]\n",
        "#ccp_alphas = [0.0, 0.005, 0.01, 0.015, 0.02, 0.025, 0.03, 0.04, 0.05, 0.055, 0.06, 0.07, 0.08, 0.09, 0.1]\n",
        "#ccp_alphas = [0.055]\n",
        "#ccp_alphas = [0.0]\n",
        "\n",
        "mss=np.arange(132, 144, 1)  # default 2\n",
        "msl=np.arange(38, 39, 1)   # default 1\n",
        "\n",
        "\n",
        "modelo = Pipeline(steps=[\n",
        "    ('reescala', MinMaxScaler()),\n",
        "    ('modelagem', DecisionTreeRegressor())\n",
        "    ])\n",
        "parametros = {'modelagem__ccp_alpha':ccp_alphas,\n",
        "              'modelagem__min_samples_split': mss,\n",
        "              'modelagem__min_samples_leaf':msl  }\n",
        "kfold = KFold(n_splits=10, shuffle=True, random_state=0)\n",
        "grade = GridSearchCV(modelo, param_grid=parametros, cv=kfold, scoring=make_scorer(mse, greater_is_better=False), return_train_score=True)\n",
        "grade.fit(treino_X,treino_y)\n",
        "print('Melhor ccp_alpha:{}  score:{:0.3f}'.format(grade.best_params_, grade.best_score_))"
      ],
      "metadata": {
        "id": "uZPD8iQ2VeCe"
      },
      "id": "uZPD8iQ2VeCe",
      "execution_count": null,
      "outputs": []
    },
    {
      "cell_type": "code",
      "source": [
        "resultados = pd.DataFrame(grade.cv_results_, copy=True).sort_values(by='rank_test_score', ignore_index=True)\n",
        "resultados.head()"
      ],
      "metadata": {
        "id": "WsbHTBaMsAPS"
      },
      "id": "WsbHTBaMsAPS",
      "execution_count": null,
      "outputs": []
    },
    {
      "cell_type": "code",
      "source": [
        "results = resultados[resultados['rank_test_score']==1].copy()"
      ],
      "metadata": {
        "id": "KUh_-IAsYyRC"
      },
      "id": "KUh_-IAsYyRC",
      "execution_count": null,
      "outputs": []
    },
    {
      "cell_type": "code",
      "source": [
        "results"
      ],
      "metadata": {
        "id": "SVB8KL2Vih_3"
      },
      "id": "SVB8KL2Vih_3",
      "execution_count": null,
      "outputs": []
    },
    {
      "cell_type": "code",
      "source": [
        "pd.to_numeric(results['param_modelagem__ccp_alpha']).describe()"
      ],
      "metadata": {
        "id": "p02LjZVIiSeB"
      },
      "id": "p02LjZVIiSeB",
      "execution_count": null,
      "outputs": []
    },
    {
      "cell_type": "markdown",
      "source": [
        "## Execução para os melhores parâmetros"
      ],
      "metadata": {
        "id": "wFWX6n2jthsj"
      },
      "id": "wFWX6n2jthsj"
    },
    {
      "cell_type": "code",
      "source": [
        "estimador = DecisionTreeRegressor(ccp_alpha = resultados.param_modelagem__ccp_alpha[0],\n",
        "                min_samples_split=resultados.param_modelagem__min_samples_split[0],\n",
        "                min_samples_leaf=resultados.param_modelagem__min_samples_leaf[0]\n",
        ")\n",
        "estimador.fit(treino_X, treino_y)\n",
        "teste_pred_y = estimador.predict(teste_X)\n",
        "MAE = mae(teste_y, teste_pred_y)\n",
        "RMSE = mse(teste_y, teste_pred_y, squared=True)\n",
        "print('MAE=', MAE, '  RMSE=', RMSE)\n"
      ],
      "metadata": {
        "id": "GNsvXCoesZbb"
      },
      "id": "GNsvXCoesZbb",
      "execution_count": null,
      "outputs": []
    },
    {
      "cell_type": "code",
      "source": [
        "# apresentações do modelo\n",
        "modelo_txt = export_text(estimador, feature_names=diabetes['feature_names'])\n",
        "print(modelo_txt)"
      ],
      "metadata": {
        "id": "ev_SU444t7rP"
      },
      "id": "ev_SU444t7rP",
      "execution_count": null,
      "outputs": []
    },
    {
      "cell_type": "code",
      "source": [
        "# apresentações do modelo\n",
        "plt.figure(figsize=(15, 15))\n",
        "plot_tree(estimador, filled=True, rounded=True, feature_names=diabetes.feature_names)\n",
        "plt.title('Árvore de Decisão treinada no dataset Diabetes')\n",
        "plt.show()"
      ],
      "metadata": {
        "id": "XcO-EFGLuCMm"
      },
      "id": "XcO-EFGLuCMm",
      "execution_count": null,
      "outputs": []
    },
    {
      "cell_type": "code",
      "source": [],
      "metadata": {
        "id": "5VE0X9S-uHCs"
      },
      "id": "5VE0X9S-uHCs",
      "execution_count": null,
      "outputs": []
    }
  ],
  "metadata": {
    "kernelspec": {
      "display_name": "Python 3",
      "language": "python",
      "name": "python3"
    },
    "language_info": {
      "codemirror_mode": {
        "name": "ipython",
        "version": 3
      },
      "file_extension": ".py",
      "mimetype": "text/x-python",
      "name": "python",
      "nbconvert_exporter": "python",
      "pygments_lexer": "ipython3",
      "version": "3.8.5"
    },
    "colab": {
      "provenance": []
    }
  },
  "nbformat": 4,
  "nbformat_minor": 5
}
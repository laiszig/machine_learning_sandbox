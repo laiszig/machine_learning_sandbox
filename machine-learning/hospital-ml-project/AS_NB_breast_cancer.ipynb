{
 "nbformat": 4,
 "nbformat_minor": 0,
 "metadata": {
  "colab": {
   "provenance": []
  },
  "kernelspec": {
   "name": "python3",
   "display_name": "Python 3 (ipykernel)",
   "language": "python"
  },
  "language_info": {
   "name": "python"
  }
 },
 "cells": [
  {
   "cell_type": "markdown",
   "source": [
    "## Aprendizado Supervisionado\n",
    "### prof. Duncan\n",
    "Exemplos com Naive Bayes Classifier"
   ],
   "metadata": {
    "id": "7_ZlLSNmfVcr"
   }
  },
  {
   "cell_type": "code",
   "metadata": {
    "id": "2QGb5067fBum",
    "ExecuteTime": {
     "end_time": "2024-09-23T12:13:51.849819Z",
     "start_time": "2024-09-23T12:13:50.669998Z"
    }
   },
   "source": [
    "# atualizar pacote\n",
    "#!pip install --upgrade scikit-learn\n",
    "# pacotes básicos\n",
    "import math\n",
    "import numpy as np\n",
    "import pandas as pd\n",
    "import matplotlib.pyplot as plt\n",
    "\n",
    "# pacotes do sklearn para acesso a datasets, preparação, modelagem e avaliação\n",
    "from sklearn import datasets\n",
    "# pacote pipeline para combinar preparação e modelagem\n",
    "from sklearn.pipeline import Pipeline, make_pipeline\n",
    "# arsenal de preparação\n",
    "from sklearn.preprocessing import MinMaxScaler # rescala em min-max\n",
    "from sklearn.preprocessing import StandardScaler # padroniza features removendo média e\n",
    "#     escalando para variância unitária. Também chamado de z-score\n",
    "#\n",
    "from sklearn.compose import ColumnTransformer\n",
    "from sklearn.preprocessing import LabelEncoder #\n",
    "from sklearn.preprocessing import OrdinalEncoder #\n",
    "from sklearn.preprocessing import OneHotEncoder #\n",
    "#\n",
    "from sklearn.model_selection import train_test_split as tts\n",
    "from sklearn.model_selection import StratifiedKFold as skf\n",
    "from sklearn.model_selection import GridSearchCV as gscv\n",
    "from sklearn.naive_bayes import CategoricalNB as CNB\n",
    "from sklearn.naive_bayes import GaussianNB as GNB\n",
    "from sklearn.naive_bayes import BernoulliNB as BNB\n",
    "from sklearn.metrics import accuracy_score as acc_score\n",
    "from sklearn.metrics import confusion_matrix as cm\n",
    "from sklearn.metrics import ConfusionMatrixDisplay as CMD\n",
    "\n",
    "#pacotes para apoio a leitura e gravação de datasets\n",
    "from pathlib import Path\n",
    "import csv\n",
    "\n",
    "#pacotes para visualização e formatação\n",
    "import pprint\n",
    "import graphviz\n",
    "\n",
    "# para silenciar warnings\n",
    "import warnings\n",
    "warnings.filterwarnings('ignore')"
   ],
   "outputs": [],
   "execution_count": 1
  },
  {
   "cell_type": "markdown",
   "source": [
    "### Habilitar acesso ao google drive"
   ],
   "metadata": {
    "id": "D2v73NzFASuQ"
   }
  },
  {
   "cell_type": "code",
   "source": [
    "from google.colab import drive\n",
    "import os\n",
    "drive.mount('/content/drive/')"
   ],
   "metadata": {
    "id": "kaWHTICL_2K6",
    "ExecuteTime": {
     "end_time": "2024-09-23T12:13:58.474008Z",
     "start_time": "2024-09-23T12:13:57.725999Z"
    }
   },
   "outputs": [
    {
     "ename": "ModuleNotFoundError",
     "evalue": "No module named 'google'",
     "output_type": "error",
     "traceback": [
      "\u001B[1;31m---------------------------------------------------------------------------\u001B[0m",
      "\u001B[1;31mModuleNotFoundError\u001B[0m                       Traceback (most recent call last)",
      "Cell \u001B[1;32mIn[2], line 1\u001B[0m\n\u001B[1;32m----> 1\u001B[0m \u001B[38;5;28;01mfrom\u001B[39;00m \u001B[38;5;21;01mgoogle\u001B[39;00m\u001B[38;5;21;01m.\u001B[39;00m\u001B[38;5;21;01mcolab\u001B[39;00m \u001B[38;5;28;01mimport\u001B[39;00m drive\n\u001B[0;32m      2\u001B[0m \u001B[38;5;28;01mimport\u001B[39;00m \u001B[38;5;21;01mos\u001B[39;00m\n\u001B[0;32m      3\u001B[0m drive\u001B[38;5;241m.\u001B[39mmount(\u001B[38;5;124m'\u001B[39m\u001B[38;5;124m/content/drive/\u001B[39m\u001B[38;5;124m'\u001B[39m)\n",
      "\u001B[1;31mModuleNotFoundError\u001B[0m: No module named 'google'"
     ]
    }
   ],
   "execution_count": 2
  },
  {
   "cell_type": "markdown",
   "source": [
    "### Leitura do dataset Breast Cancer"
   ],
   "metadata": {
    "id": "apMV0fs7AYd4"
   }
  },
  {
   "cell_type": "code",
   "source": [
    "path_datasets = '/content/drive/My Drive/Datasets/Aprend_Super/'\n",
    "arq = 'breast-cancer-2.csv'\n",
    "breast_cancer = pd.read_csv(path_datasets + arq)\n",
    "y = breast_cancer[['Class']]\n",
    "X = breast_cancer.drop(['Class'], axis=1)"
   ],
   "metadata": {
    "id": "co4fyZysAbp5",
    "ExecuteTime": {
     "end_time": "2024-09-23T12:14:22.726553Z",
     "start_time": "2024-09-23T12:14:22.488414Z"
    }
   },
   "outputs": [
    {
     "ename": "FileNotFoundError",
     "evalue": "[Errno 2] No such file or directory: '/content/drive/My Drive/Datasets/Aprend_Super/breast-cancer-2.csv'",
     "output_type": "error",
     "traceback": [
      "\u001B[1;31m---------------------------------------------------------------------------\u001B[0m",
      "\u001B[1;31mFileNotFoundError\u001B[0m                         Traceback (most recent call last)",
      "Cell \u001B[1;32mIn[3], line 3\u001B[0m\n\u001B[0;32m      1\u001B[0m path_datasets \u001B[38;5;241m=\u001B[39m \u001B[38;5;124m'\u001B[39m\u001B[38;5;124m/content/drive/My Drive/Datasets/Aprend_Super/\u001B[39m\u001B[38;5;124m'\u001B[39m\n\u001B[0;32m      2\u001B[0m arq \u001B[38;5;241m=\u001B[39m \u001B[38;5;124m'\u001B[39m\u001B[38;5;124mbreast-cancer-2.csv\u001B[39m\u001B[38;5;124m'\u001B[39m\n\u001B[1;32m----> 3\u001B[0m breast_cancer \u001B[38;5;241m=\u001B[39m \u001B[43mpd\u001B[49m\u001B[38;5;241;43m.\u001B[39;49m\u001B[43mread_csv\u001B[49m\u001B[43m(\u001B[49m\u001B[43mpath_datasets\u001B[49m\u001B[43m \u001B[49m\u001B[38;5;241;43m+\u001B[39;49m\u001B[43m \u001B[49m\u001B[43marq\u001B[49m\u001B[43m)\u001B[49m\n\u001B[0;32m      4\u001B[0m y \u001B[38;5;241m=\u001B[39m breast_cancer[[\u001B[38;5;124m'\u001B[39m\u001B[38;5;124mClass\u001B[39m\u001B[38;5;124m'\u001B[39m]]\n\u001B[0;32m      5\u001B[0m X \u001B[38;5;241m=\u001B[39m breast_cancer\u001B[38;5;241m.\u001B[39mdrop([\u001B[38;5;124m'\u001B[39m\u001B[38;5;124mClass\u001B[39m\u001B[38;5;124m'\u001B[39m], axis\u001B[38;5;241m=\u001B[39m\u001B[38;5;241m1\u001B[39m)\n",
      "File \u001B[1;32m~\\AppData\\Local\\Programs\\Python\\Python312\\Lib\\site-packages\\pandas\\io\\parsers\\readers.py:1026\u001B[0m, in \u001B[0;36mread_csv\u001B[1;34m(filepath_or_buffer, sep, delimiter, header, names, index_col, usecols, dtype, engine, converters, true_values, false_values, skipinitialspace, skiprows, skipfooter, nrows, na_values, keep_default_na, na_filter, verbose, skip_blank_lines, parse_dates, infer_datetime_format, keep_date_col, date_parser, date_format, dayfirst, cache_dates, iterator, chunksize, compression, thousands, decimal, lineterminator, quotechar, quoting, doublequote, escapechar, comment, encoding, encoding_errors, dialect, on_bad_lines, delim_whitespace, low_memory, memory_map, float_precision, storage_options, dtype_backend)\u001B[0m\n\u001B[0;32m   1013\u001B[0m kwds_defaults \u001B[38;5;241m=\u001B[39m _refine_defaults_read(\n\u001B[0;32m   1014\u001B[0m     dialect,\n\u001B[0;32m   1015\u001B[0m     delimiter,\n\u001B[1;32m   (...)\u001B[0m\n\u001B[0;32m   1022\u001B[0m     dtype_backend\u001B[38;5;241m=\u001B[39mdtype_backend,\n\u001B[0;32m   1023\u001B[0m )\n\u001B[0;32m   1024\u001B[0m kwds\u001B[38;5;241m.\u001B[39mupdate(kwds_defaults)\n\u001B[1;32m-> 1026\u001B[0m \u001B[38;5;28;01mreturn\u001B[39;00m \u001B[43m_read\u001B[49m\u001B[43m(\u001B[49m\u001B[43mfilepath_or_buffer\u001B[49m\u001B[43m,\u001B[49m\u001B[43m \u001B[49m\u001B[43mkwds\u001B[49m\u001B[43m)\u001B[49m\n",
      "File \u001B[1;32m~\\AppData\\Local\\Programs\\Python\\Python312\\Lib\\site-packages\\pandas\\io\\parsers\\readers.py:620\u001B[0m, in \u001B[0;36m_read\u001B[1;34m(filepath_or_buffer, kwds)\u001B[0m\n\u001B[0;32m    617\u001B[0m _validate_names(kwds\u001B[38;5;241m.\u001B[39mget(\u001B[38;5;124m\"\u001B[39m\u001B[38;5;124mnames\u001B[39m\u001B[38;5;124m\"\u001B[39m, \u001B[38;5;28;01mNone\u001B[39;00m))\n\u001B[0;32m    619\u001B[0m \u001B[38;5;66;03m# Create the parser.\u001B[39;00m\n\u001B[1;32m--> 620\u001B[0m parser \u001B[38;5;241m=\u001B[39m \u001B[43mTextFileReader\u001B[49m\u001B[43m(\u001B[49m\u001B[43mfilepath_or_buffer\u001B[49m\u001B[43m,\u001B[49m\u001B[43m \u001B[49m\u001B[38;5;241;43m*\u001B[39;49m\u001B[38;5;241;43m*\u001B[39;49m\u001B[43mkwds\u001B[49m\u001B[43m)\u001B[49m\n\u001B[0;32m    622\u001B[0m \u001B[38;5;28;01mif\u001B[39;00m chunksize \u001B[38;5;129;01mor\u001B[39;00m iterator:\n\u001B[0;32m    623\u001B[0m     \u001B[38;5;28;01mreturn\u001B[39;00m parser\n",
      "File \u001B[1;32m~\\AppData\\Local\\Programs\\Python\\Python312\\Lib\\site-packages\\pandas\\io\\parsers\\readers.py:1620\u001B[0m, in \u001B[0;36mTextFileReader.__init__\u001B[1;34m(self, f, engine, **kwds)\u001B[0m\n\u001B[0;32m   1617\u001B[0m     \u001B[38;5;28mself\u001B[39m\u001B[38;5;241m.\u001B[39moptions[\u001B[38;5;124m\"\u001B[39m\u001B[38;5;124mhas_index_names\u001B[39m\u001B[38;5;124m\"\u001B[39m] \u001B[38;5;241m=\u001B[39m kwds[\u001B[38;5;124m\"\u001B[39m\u001B[38;5;124mhas_index_names\u001B[39m\u001B[38;5;124m\"\u001B[39m]\n\u001B[0;32m   1619\u001B[0m \u001B[38;5;28mself\u001B[39m\u001B[38;5;241m.\u001B[39mhandles: IOHandles \u001B[38;5;241m|\u001B[39m \u001B[38;5;28;01mNone\u001B[39;00m \u001B[38;5;241m=\u001B[39m \u001B[38;5;28;01mNone\u001B[39;00m\n\u001B[1;32m-> 1620\u001B[0m \u001B[38;5;28mself\u001B[39m\u001B[38;5;241m.\u001B[39m_engine \u001B[38;5;241m=\u001B[39m \u001B[38;5;28;43mself\u001B[39;49m\u001B[38;5;241;43m.\u001B[39;49m\u001B[43m_make_engine\u001B[49m\u001B[43m(\u001B[49m\u001B[43mf\u001B[49m\u001B[43m,\u001B[49m\u001B[43m \u001B[49m\u001B[38;5;28;43mself\u001B[39;49m\u001B[38;5;241;43m.\u001B[39;49m\u001B[43mengine\u001B[49m\u001B[43m)\u001B[49m\n",
      "File \u001B[1;32m~\\AppData\\Local\\Programs\\Python\\Python312\\Lib\\site-packages\\pandas\\io\\parsers\\readers.py:1880\u001B[0m, in \u001B[0;36mTextFileReader._make_engine\u001B[1;34m(self, f, engine)\u001B[0m\n\u001B[0;32m   1878\u001B[0m     \u001B[38;5;28;01mif\u001B[39;00m \u001B[38;5;124m\"\u001B[39m\u001B[38;5;124mb\u001B[39m\u001B[38;5;124m\"\u001B[39m \u001B[38;5;129;01mnot\u001B[39;00m \u001B[38;5;129;01min\u001B[39;00m mode:\n\u001B[0;32m   1879\u001B[0m         mode \u001B[38;5;241m+\u001B[39m\u001B[38;5;241m=\u001B[39m \u001B[38;5;124m\"\u001B[39m\u001B[38;5;124mb\u001B[39m\u001B[38;5;124m\"\u001B[39m\n\u001B[1;32m-> 1880\u001B[0m \u001B[38;5;28mself\u001B[39m\u001B[38;5;241m.\u001B[39mhandles \u001B[38;5;241m=\u001B[39m \u001B[43mget_handle\u001B[49m\u001B[43m(\u001B[49m\n\u001B[0;32m   1881\u001B[0m \u001B[43m    \u001B[49m\u001B[43mf\u001B[49m\u001B[43m,\u001B[49m\n\u001B[0;32m   1882\u001B[0m \u001B[43m    \u001B[49m\u001B[43mmode\u001B[49m\u001B[43m,\u001B[49m\n\u001B[0;32m   1883\u001B[0m \u001B[43m    \u001B[49m\u001B[43mencoding\u001B[49m\u001B[38;5;241;43m=\u001B[39;49m\u001B[38;5;28;43mself\u001B[39;49m\u001B[38;5;241;43m.\u001B[39;49m\u001B[43moptions\u001B[49m\u001B[38;5;241;43m.\u001B[39;49m\u001B[43mget\u001B[49m\u001B[43m(\u001B[49m\u001B[38;5;124;43m\"\u001B[39;49m\u001B[38;5;124;43mencoding\u001B[39;49m\u001B[38;5;124;43m\"\u001B[39;49m\u001B[43m,\u001B[49m\u001B[43m \u001B[49m\u001B[38;5;28;43;01mNone\u001B[39;49;00m\u001B[43m)\u001B[49m\u001B[43m,\u001B[49m\n\u001B[0;32m   1884\u001B[0m \u001B[43m    \u001B[49m\u001B[43mcompression\u001B[49m\u001B[38;5;241;43m=\u001B[39;49m\u001B[38;5;28;43mself\u001B[39;49m\u001B[38;5;241;43m.\u001B[39;49m\u001B[43moptions\u001B[49m\u001B[38;5;241;43m.\u001B[39;49m\u001B[43mget\u001B[49m\u001B[43m(\u001B[49m\u001B[38;5;124;43m\"\u001B[39;49m\u001B[38;5;124;43mcompression\u001B[39;49m\u001B[38;5;124;43m\"\u001B[39;49m\u001B[43m,\u001B[49m\u001B[43m \u001B[49m\u001B[38;5;28;43;01mNone\u001B[39;49;00m\u001B[43m)\u001B[49m\u001B[43m,\u001B[49m\n\u001B[0;32m   1885\u001B[0m \u001B[43m    \u001B[49m\u001B[43mmemory_map\u001B[49m\u001B[38;5;241;43m=\u001B[39;49m\u001B[38;5;28;43mself\u001B[39;49m\u001B[38;5;241;43m.\u001B[39;49m\u001B[43moptions\u001B[49m\u001B[38;5;241;43m.\u001B[39;49m\u001B[43mget\u001B[49m\u001B[43m(\u001B[49m\u001B[38;5;124;43m\"\u001B[39;49m\u001B[38;5;124;43mmemory_map\u001B[39;49m\u001B[38;5;124;43m\"\u001B[39;49m\u001B[43m,\u001B[49m\u001B[43m \u001B[49m\u001B[38;5;28;43;01mFalse\u001B[39;49;00m\u001B[43m)\u001B[49m\u001B[43m,\u001B[49m\n\u001B[0;32m   1886\u001B[0m \u001B[43m    \u001B[49m\u001B[43mis_text\u001B[49m\u001B[38;5;241;43m=\u001B[39;49m\u001B[43mis_text\u001B[49m\u001B[43m,\u001B[49m\n\u001B[0;32m   1887\u001B[0m \u001B[43m    \u001B[49m\u001B[43merrors\u001B[49m\u001B[38;5;241;43m=\u001B[39;49m\u001B[38;5;28;43mself\u001B[39;49m\u001B[38;5;241;43m.\u001B[39;49m\u001B[43moptions\u001B[49m\u001B[38;5;241;43m.\u001B[39;49m\u001B[43mget\u001B[49m\u001B[43m(\u001B[49m\u001B[38;5;124;43m\"\u001B[39;49m\u001B[38;5;124;43mencoding_errors\u001B[39;49m\u001B[38;5;124;43m\"\u001B[39;49m\u001B[43m,\u001B[49m\u001B[43m \u001B[49m\u001B[38;5;124;43m\"\u001B[39;49m\u001B[38;5;124;43mstrict\u001B[39;49m\u001B[38;5;124;43m\"\u001B[39;49m\u001B[43m)\u001B[49m\u001B[43m,\u001B[49m\n\u001B[0;32m   1888\u001B[0m \u001B[43m    \u001B[49m\u001B[43mstorage_options\u001B[49m\u001B[38;5;241;43m=\u001B[39;49m\u001B[38;5;28;43mself\u001B[39;49m\u001B[38;5;241;43m.\u001B[39;49m\u001B[43moptions\u001B[49m\u001B[38;5;241;43m.\u001B[39;49m\u001B[43mget\u001B[49m\u001B[43m(\u001B[49m\u001B[38;5;124;43m\"\u001B[39;49m\u001B[38;5;124;43mstorage_options\u001B[39;49m\u001B[38;5;124;43m\"\u001B[39;49m\u001B[43m,\u001B[49m\u001B[43m \u001B[49m\u001B[38;5;28;43;01mNone\u001B[39;49;00m\u001B[43m)\u001B[49m\u001B[43m,\u001B[49m\n\u001B[0;32m   1889\u001B[0m \u001B[43m\u001B[49m\u001B[43m)\u001B[49m\n\u001B[0;32m   1890\u001B[0m \u001B[38;5;28;01massert\u001B[39;00m \u001B[38;5;28mself\u001B[39m\u001B[38;5;241m.\u001B[39mhandles \u001B[38;5;129;01mis\u001B[39;00m \u001B[38;5;129;01mnot\u001B[39;00m \u001B[38;5;28;01mNone\u001B[39;00m\n\u001B[0;32m   1891\u001B[0m f \u001B[38;5;241m=\u001B[39m \u001B[38;5;28mself\u001B[39m\u001B[38;5;241m.\u001B[39mhandles\u001B[38;5;241m.\u001B[39mhandle\n",
      "File \u001B[1;32m~\\AppData\\Local\\Programs\\Python\\Python312\\Lib\\site-packages\\pandas\\io\\common.py:873\u001B[0m, in \u001B[0;36mget_handle\u001B[1;34m(path_or_buf, mode, encoding, compression, memory_map, is_text, errors, storage_options)\u001B[0m\n\u001B[0;32m    868\u001B[0m \u001B[38;5;28;01melif\u001B[39;00m \u001B[38;5;28misinstance\u001B[39m(handle, \u001B[38;5;28mstr\u001B[39m):\n\u001B[0;32m    869\u001B[0m     \u001B[38;5;66;03m# Check whether the filename is to be opened in binary mode.\u001B[39;00m\n\u001B[0;32m    870\u001B[0m     \u001B[38;5;66;03m# Binary mode does not support 'encoding' and 'newline'.\u001B[39;00m\n\u001B[0;32m    871\u001B[0m     \u001B[38;5;28;01mif\u001B[39;00m ioargs\u001B[38;5;241m.\u001B[39mencoding \u001B[38;5;129;01mand\u001B[39;00m \u001B[38;5;124m\"\u001B[39m\u001B[38;5;124mb\u001B[39m\u001B[38;5;124m\"\u001B[39m \u001B[38;5;129;01mnot\u001B[39;00m \u001B[38;5;129;01min\u001B[39;00m ioargs\u001B[38;5;241m.\u001B[39mmode:\n\u001B[0;32m    872\u001B[0m         \u001B[38;5;66;03m# Encoding\u001B[39;00m\n\u001B[1;32m--> 873\u001B[0m         handle \u001B[38;5;241m=\u001B[39m \u001B[38;5;28;43mopen\u001B[39;49m\u001B[43m(\u001B[49m\n\u001B[0;32m    874\u001B[0m \u001B[43m            \u001B[49m\u001B[43mhandle\u001B[49m\u001B[43m,\u001B[49m\n\u001B[0;32m    875\u001B[0m \u001B[43m            \u001B[49m\u001B[43mioargs\u001B[49m\u001B[38;5;241;43m.\u001B[39;49m\u001B[43mmode\u001B[49m\u001B[43m,\u001B[49m\n\u001B[0;32m    876\u001B[0m \u001B[43m            \u001B[49m\u001B[43mencoding\u001B[49m\u001B[38;5;241;43m=\u001B[39;49m\u001B[43mioargs\u001B[49m\u001B[38;5;241;43m.\u001B[39;49m\u001B[43mencoding\u001B[49m\u001B[43m,\u001B[49m\n\u001B[0;32m    877\u001B[0m \u001B[43m            \u001B[49m\u001B[43merrors\u001B[49m\u001B[38;5;241;43m=\u001B[39;49m\u001B[43merrors\u001B[49m\u001B[43m,\u001B[49m\n\u001B[0;32m    878\u001B[0m \u001B[43m            \u001B[49m\u001B[43mnewline\u001B[49m\u001B[38;5;241;43m=\u001B[39;49m\u001B[38;5;124;43m\"\u001B[39;49m\u001B[38;5;124;43m\"\u001B[39;49m\u001B[43m,\u001B[49m\n\u001B[0;32m    879\u001B[0m \u001B[43m        \u001B[49m\u001B[43m)\u001B[49m\n\u001B[0;32m    880\u001B[0m     \u001B[38;5;28;01melse\u001B[39;00m:\n\u001B[0;32m    881\u001B[0m         \u001B[38;5;66;03m# Binary mode\u001B[39;00m\n\u001B[0;32m    882\u001B[0m         handle \u001B[38;5;241m=\u001B[39m \u001B[38;5;28mopen\u001B[39m(handle, ioargs\u001B[38;5;241m.\u001B[39mmode)\n",
      "\u001B[1;31mFileNotFoundError\u001B[0m: [Errno 2] No such file or directory: '/content/drive/My Drive/Datasets/Aprend_Super/breast-cancer-2.csv'"
     ]
    }
   ],
   "execution_count": 3
  },
  {
   "cell_type": "markdown",
   "source": [
    "### Conteúdos do dataset"
   ],
   "metadata": {
    "id": "iINfTuh3Caut"
   }
  },
  {
   "cell_type": "code",
   "source": [
    "X.info()"
   ],
   "metadata": {
    "id": "uRDV-USzCeuE"
   },
   "execution_count": null,
   "outputs": []
  },
  {
   "cell_type": "code",
   "source": [
    "X"
   ],
   "metadata": {
    "id": "WkRkrhw-DWxb"
   },
   "execution_count": null,
   "outputs": []
  },
  {
   "cell_type": "code",
   "source": [
    "y.info()"
   ],
   "metadata": {
    "id": "MalhU5-BCiR8"
   },
   "execution_count": null,
   "outputs": []
  },
  {
   "cell_type": "markdown",
   "source": [
    "### Protocolo experimental"
   ],
   "metadata": {
    "id": "nzp8Q33wBLRG"
   }
  },
  {
   "cell_type": "code",
   "source": [
    "# separação entre treino e teste\n",
    "treino_X, teste_X, treino_y, teste_y = tts(X, y, random_state=0,test_size=0.3, stratify=y)\n",
    "\n",
    "print(treino_X.shape)\n",
    "print(treino_y.shape)\n",
    "print(teste_X.shape)\n",
    "print(teste_y.shape)\n",
    "print(np.stack(np.unique(teste_y, return_counts=True), axis=1))"
   ],
   "metadata": {
    "id": "alZDHaEfFjJ4"
   },
   "execution_count": null,
   "outputs": []
  },
  {
   "cell_type": "code",
   "source": [
    "# colunas ordinais e nominais\n",
    "col_nominais = ['menopause', 'breast','breast-quad']\n",
    "col_ordinais = ['age', 'tumor-size','inv-nodes','node-caps','irradiat']\n",
    "col_numericas = ['deg-malig']"
   ],
   "metadata": {
    "id": "Ly8cEBCYIM5n"
   },
   "execution_count": null,
   "outputs": []
  },
  {
   "cell_type": "code",
   "source": [
    "# preparação das colunas com ordinalencoder e onehotencoder\n",
    "Prepara_Colunas = ColumnTransformer([\n",
    "    ('Ordinal', OrdinalEncoder(dtype=int), col_ordinais),\n",
    "    ('OneHot',  OneHotEncoder(dtype=int), col_nominais),\n",
    "    ('MinMax',  MinMaxScaler(), col_numericas)\n",
    "])\n",
    "lbl21 = LabelEncoder()\n",
    "Prepara_Colunas.fit(X)\n",
    "w_X_n = pd.DataFrame(Prepara_Colunas.transform(treino_X), columns=Prepara_Colunas.get_feature_names_out())\n",
    "w_y_n = lbl21.fit_transform(treino_y)\n",
    "w_X_t_n = pd.DataFrame(Prepara_Colunas.transform(teste_X), columns=Prepara_Colunas.get_feature_names_out())\n",
    "w_y_t_n = lbl21.transform(teste_y)"
   ],
   "metadata": {
    "id": "c86ifhOsDpsZ"
   },
   "execution_count": null,
   "outputs": []
  },
  {
   "cell_type": "code",
   "source": [
    "Prepara_Colunas.feature_names_in_"
   ],
   "metadata": {
    "id": "OYORXyU5KAQJ"
   },
   "execution_count": null,
   "outputs": []
  },
  {
   "cell_type": "code",
   "source": [
    "Prepara_Colunas.get_feature_names_out()"
   ],
   "metadata": {
    "id": "-4d6yxNOKF1R"
   },
   "execution_count": null,
   "outputs": []
  },
  {
   "cell_type": "code",
   "source": [
    "all_features = Prepara_Colunas.get_feature_names_out()\n",
    "numero_cols = len(all_features)\n",
    "ord_features = all_features[:5]\n",
    "num_features = all_features[numero_cols-1:numero_cols]\n",
    "oho_features = all_features[5:numero_cols-1]"
   ],
   "metadata": {
    "id": "llMn7rH_oKUa"
   },
   "execution_count": null,
   "outputs": []
  },
  {
   "cell_type": "code",
   "source": [
    "# em Naive Bayes, os atributos são considerados independentes\n",
    "# logo, pode-se calcular separadamente as probabilidades e, então,\n",
    "# combiná-las\n",
    "\n",
    "Alpha = 1.0e-10\n",
    "modelo_ord = CNB(alpha=Alpha)\n",
    "modelo_num = GNB()\n",
    "modelo_oho = BNB()\n",
    "modelo_ord.fit(w_X_n[ord_features], w_y_n)\n",
    "modelo_num.fit(w_X_n[num_features], w_y_n)\n",
    "modelo_oho.fit(w_X_n[oho_features], w_y_n)\n",
    "w_y_predord_n = modelo_ord.predict(w_X_t_n[ord_features])\n",
    "w_y_prednum_n = modelo_num.predict(w_X_t_n[num_features])\n",
    "w_y_predoho_n = modelo_oho.predict(w_X_t_n[oho_features])\n",
    "w_predord_proba = modelo_ord.predict_proba(w_X_t_n[ord_features])\n",
    "w_prednum_proba = modelo_num.predict_proba(w_X_t_n[num_features])\n",
    "w_predoho_proba = modelo_oho.predict_proba(w_X_t_n[oho_features])\n",
    "\n",
    "# após cálculos separados, combinar os cálculos para a predição\n",
    "w_pred_proba_aux = w_predord_proba * w_prednum_proba * w_predoho_proba\n",
    "#print(w_pred_proba_aux)\n",
    "w_pred_proba_aux2 = np.sum(w_pred_proba_aux, axis=1)\n",
    "#print(w_pred_proba_aux2)\n",
    "w_pred_proba = w_pred_proba_aux / w_pred_proba_aux2.reshape(-1, 1)\n",
    "w_y_pred_n = np.argmax(w_pred_proba, axis=1)\n",
    "acuracia = np.average(w_y_pred_n == w_y_t_n)\n",
    "\n",
    "# listar resultados\n",
    "resultado = cm(w_y_t_n, w_y_pred_n)\n",
    "cm_display = CMD(resultado).plot()\n",
    "print('Alpha={:5}  Acuracia={:.3}'.format(Alpha, acuracia))\n",
    "#print(lbl21.classes_)\n",
    "#print('Predição atributos categóricos:')\n",
    "#print(w_predord_proba)\n",
    "#print('Predição atributos numéricos:')\n",
    "#print(w_prednum_proba)\n",
    "#print('Predição atributos OneHot:')\n",
    "#print(w_predoho_proba)\n",
    "#print('Predição composta:')\n",
    "#print(w_pred_proba)\n"
   ],
   "metadata": {
    "id": "Lb_mhYlZJgpo"
   },
   "execution_count": null,
   "outputs": []
  },
  {
   "cell_type": "markdown",
   "source": [
    "### Naive Bayes com preparação como ordinais e execução do Categorical Naive Bayes"
   ],
   "metadata": {
    "id": "n_NXimhyELc-"
   }
  },
  {
   "cell_type": "code",
   "source": [
    "#preparação todos como ordinais\n",
    "categorias = [['20-29', '30-39', '40-49', '50-59', '60-69', '70-79'],\n",
    "              ['premeno', 'lt40', 'ge40'],\n",
    "              ['0-4', '5-9', '10-14', '15-19', '20-24', '25-29', '30-34', '35-39', '40-44', '45-49', '50-54'],\n",
    "              ['0-2', '3-5', '6-8', '9-11', '12-14', '15-17', '18-20', '21-23', '24-26'],\n",
    "              ['no', 'yes'],\n",
    "              ['1', '2', '3'],\n",
    "              ['left', 'right'],\n",
    "              ['central', 'left_low', 'left_up', 'right_low', 'right_up'],\n",
    "              ['no', 'yes']]\n",
    "\n",
    "oe = OrdinalEncoder(dtype=int, categories=categorias)\n",
    "oe.fit(X)\n",
    "treino_X_n = pd.DataFrame(oe.transform(treino_X), columns=oe.get_feature_names_out())\n",
    "teste_X_n = pd.DataFrame(oe.transform(teste_X), columns=oe.get_feature_names_out())\n",
    "le = LabelEncoder()\n",
    "le.fit(y)\n",
    "treino_y_n = le.transform(treino_y)\n",
    "teste_y_n = le.transform(teste_y)\n",
    "#\n",
    "print(treino_X_n.shape)\n",
    "print(treino_y_n.shape)\n",
    "print(teste_X_n.shape)\n",
    "print(teste_y_n.shape)\n",
    "print(np.stack(np.unique(teste_y_n, return_counts=True), axis=1))\n",
    "# indução do modelo\n",
    "Alpha = 1.0e-10\n",
    "modelo = CNB(alpha=Alpha, min_categories=11)\n",
    "modelo.fit(treino_X_n, treino_y_n)\n",
    "teste_y_pred = modelo.predict(teste_X_n)\n",
    "teste_y_pred_proba = modelo.predict_proba(teste_X_n)\n",
    "acuracia = np.average(teste_y_pred == teste_y_n)\n",
    "# listar resultados\n",
    "resultado = cm(teste_y_n, teste_y_pred)\n",
    "cm_display = CMD(resultado).plot()\n",
    "print('Alpha={:5}  Acuracia={:.3}'.format(Alpha, acuracia))\n",
    "print(lbl21.classes_)\n",
    "#print('Predição:')\n",
    "#print(teste_y_pred_proba)\n"
   ],
   "metadata": {
    "id": "Wir7aZl8Quag"
   },
   "execution_count": null,
   "outputs": []
  },
  {
   "cell_type": "markdown",
   "source": [
    "### Naive Bayes com preparação como one hot encoding e execução com Bernoulli Naive Bayes"
   ],
   "metadata": {
    "id": "CQwkPzfSHpaA"
   }
  },
  {
   "cell_type": "code",
   "source": [
    "#preparação todos como one hot\n",
    "ohe = OneHotEncoder(sparse_output=False, dtype=int)\n",
    "ohe.fit(X)\n",
    "treino_X_b = pd.DataFrame(ohe.transform(treino_X), columns=ohe.get_feature_names_out())\n",
    "teste_X_b = pd.DataFrame(ohe.transform(teste_X), columns=ohe.get_feature_names_out())\n",
    "le = LabelEncoder()\n",
    "le.fit(y)\n",
    "treino_y_b = le.transform(treino_y)\n",
    "teste_y_b = le.transform(teste_y)\n",
    "# indução do modelo\n",
    "modeloB = BNB(alpha=Alpha)\n",
    "modeloB.fit(treino_X_b, treino_y_b)\n",
    "teste_y_b_pred = modeloB.predict(teste_X_b)\n",
    "teste_y_b_pred_proba = modeloB.predict_proba(teste_X_b)\n",
    "acuracia = np.average(teste_y_b_pred == teste_y_b)\n",
    "# listar resultados\n",
    "resultado = cm(teste_y_b, teste_y_b_pred)\n",
    "cm_display = CMD(resultado).plot()\n",
    "print('Alpha={:5}  Acuracia={:.3}'.format(Alpha, acuracia))\n",
    "print(lbl21.classes_)\n",
    "#print('Predição:')\n",
    "#print(teste_y_pred_proba)\n"
   ],
   "metadata": {
    "id": "N_QmwxY2FNac"
   },
   "execution_count": null,
   "outputs": []
  },
  {
   "cell_type": "code",
   "source": [],
   "metadata": {
    "id": "1EVQ8A8uIauK"
   },
   "execution_count": null,
   "outputs": []
  }
 ]
}

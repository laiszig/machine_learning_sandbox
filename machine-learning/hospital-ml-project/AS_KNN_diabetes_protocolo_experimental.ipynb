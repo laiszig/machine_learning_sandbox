{
  "nbformat": 4,
  "nbformat_minor": 0,
  "metadata": {
    "colab": {
      "provenance": []
    },
    "kernelspec": {
      "name": "python3",
      "display_name": "Python 3"
    },
    "language_info": {
      "name": "python"
    }
  },
  "cells": [
    {
      "cell_type": "markdown",
      "source": [
        "## Aprendizado Supervisionado\n",
        "### prof. Duncan\n",
        "Prática com KNN e diabetes data set"
      ],
      "metadata": {
        "id": "vHPjQa-QF9d1"
      }
    },
    {
      "cell_type": "code",
      "source": [
        "#pacote para profiling de datasets\n",
        "#!pip install ydata_profiling\n",
        "# pacotes básicos\n",
        "import math\n",
        "import numpy as np\n",
        "import pandas as pd\n",
        "import matplotlib.pyplot as plt\n",
        "#from ydata_profiling import ProfileReport as PR\n",
        "\n",
        "# pacotes do sklearn para acesso a datasets, preparação, modelagem e avaliação\n",
        "from sklearn import datasets\n",
        "# pacote pipeline para combinar preparação e modelagem\n",
        "from sklearn.pipeline import Pipeline, make_pipeline\n",
        "# arsenal de preparação\n",
        "from sklearn.preprocessing import MinMaxScaler # rescala em min-max\n",
        "from sklearn.preprocessing import StandardScaler # padroniza features removendo média e\n",
        "#     escalando para variância unitária. Também chamado de z-score\n",
        "#\n",
        "from sklearn.neighbors import KNeighborsRegressor as knnr\n",
        "from sklearn.metrics import mean_absolute_error as mae\n",
        "from sklearn.metrics import mean_squared_error as mse\n",
        "#from sklearn.metrics import root_mean_squared_error as rmse\n",
        "from sklearn.metrics import make_scorer\n",
        "#\n",
        "#    opções de seleção de modelo de entrada\n",
        "from sklearn.model_selection import train_test_split as tts\n",
        "from sklearn.model_selection import KFold as kf\n",
        "from sklearn.model_selection import StratifiedKFold as skf\n",
        "from sklearn.model_selection import GridSearchCV as gscv\n",
        "# pacote para amostragem\n",
        "from sklearn.utils import resample\n",
        "#pacotes para apoio a leitura e gravação de datasets\n",
        "from pathlib import Path\n",
        "import csv\n",
        "import pprint\n",
        "# configurações para os diferentes pacotes\n",
        "pd.set_option('display.max_columns', None)\n",
        "pd.set_option('display.max_rows', None)"
      ],
      "metadata": {
        "id": "pB6O5w9_GKeF"
      },
      "execution_count": null,
      "outputs": []
    },
    {
      "cell_type": "code",
      "source": [
        "# carga de dados\n",
        "diabetes = datasets.load_diabetes(as_frame=True)\n",
        "print(diabetes.DESCR)"
      ],
      "metadata": {
        "id": "kH-hR1SdGpwE"
      },
      "execution_count": null,
      "outputs": []
    },
    {
      "cell_type": "code",
      "source": [
        "diabetes.frame"
      ],
      "metadata": {
        "id": "6ekkC8zCfrOV",
        "collapsed": true
      },
      "execution_count": null,
      "outputs": []
    },
    {
      "cell_type": "code",
      "source": [
        "# separação em features e target e profiling do dataset\n",
        "X = diabetes.data\n",
        "y = diabetes.target\n",
        "Xy = diabetes.frame\n",
        "#relatorio = PR(Xy, title=\"Diabetes data set\")\n",
        "#relatorio.to_notebook_iframe()\n"
      ],
      "metadata": {
        "id": "-no1r7kVHK2i"
      },
      "execution_count": null,
      "outputs": []
    },
    {
      "cell_type": "code",
      "source": [
        "# configurações para experimentos\n",
        "\n",
        "n_vizinhos = [1, 3, 5, 7, 9, 11, 13, 15, 17, 19, 21, 29]#, 49, 109, 259]\n",
        "\n",
        "k_splits = 10\n"
      ],
      "metadata": {
        "id": "thZTMOHat7Oz"
      },
      "execution_count": null,
      "outputs": []
    },
    {
      "cell_type": "markdown",
      "source": [
        "## Execuções com separação em treino e teste"
      ],
      "metadata": {
        "id": "7dVUOOtXJ_wh"
      }
    },
    {
      "cell_type": "code",
      "source": [
        "# separação em treino e teste, e X e y\n",
        "\n",
        "treino_X, teste_X, treino_y, teste_y = tts(X, y, random_state=0, test_size=0.2)\n",
        "\n",
        "print(treino_X.shape)\n",
        "print(treino_y.shape)\n",
        "print(teste_X.shape)\n",
        "print(teste_y.shape)"
      ],
      "metadata": {
        "id": "dh4sbfjkH-5w"
      },
      "execution_count": null,
      "outputs": []
    },
    {
      "cell_type": "code",
      "source": [
        "# indução do modelo para diferentes números de vizinhos\n",
        "\n",
        "MAEs = []\n",
        "RMSEs = []\n",
        "\n",
        "for n in n_vizinhos:\n",
        "    modelo = knnr(n_neighbors=n)\n",
        "    modelo.fit(treino_X, treino_y)\n",
        "    teste_pred_y = modelo.predict(teste_X)\n",
        "\n",
        "    MAE = mae(teste_y, teste_pred_y)\n",
        "    RMSE = mse(teste_y, teste_pred_y, squared=False)\n",
        "    print('k=', n,'  MAE=', MAE, '  RMSE=', RMSE)\n",
        "\n",
        "    MAEs.append(MAE)\n",
        "    RMSEs.append(RMSE)\n",
        "\n",
        "# colocar num gráfico os erros por número de vizinhos\n",
        "\n",
        "# No eixo x teremos o número de vizinhos e no eixo y o MAE e RMSE\n",
        "plt.plot(n_vizinhos, MAEs, '-o')\n",
        "plt.plot(n_vizinhos, RMSEs, '-x')\n",
        "# Definindo que no eixo x queremos exibir cada numero de vizinhos\n",
        "plt.legend(['MAE','RMSE'])\n",
        "plt.xlabel('Num. vizinhos')\n",
        "plt.ylabel('Erros')\n",
        "plt.xticks(n_vizinhos);"
      ],
      "metadata": {
        "id": "ep7WzzF_ItjI"
      },
      "execution_count": null,
      "outputs": []
    },
    {
      "cell_type": "markdown",
      "source": [
        "### Experimento com reescala de valores, embaralhamento e busca exaustiva nos parâmetros"
      ],
      "metadata": {
        "id": "-yjXBbFC0Tu-"
      }
    },
    {
      "cell_type": "code",
      "source": [
        "# protocolo experimental com preparação e modelagem\n",
        "\n",
        "modelo = Pipeline(steps=[\n",
        "     ('modelagem', knnr())\n",
        "    ])\n",
        "parametros = {'modelagem__n_neighbors':n_vizinhos}#, 'modelagem__weights':['distance', 'uniform']}\n",
        "kfold = kf(n_splits=k_splits, shuffle=True, random_state=0)\n",
        "grade = gscv(modelo, param_grid=parametros, cv=kfold, scoring=make_scorer(mse, greater_is_better=False), return_train_score=True)\n",
        "grade.fit(treino_X,treino_y)\n",
        "treino_pred_y = grade.predict(treino_X)\n",
        "teste_pred_y = grade.predict(teste_X)\n",
        "\n",
        "n_neighbors_best = grade.best_params_['modelagem__n_neighbors']\n",
        "#weights_best = grade.best_params_['modelagem__weights']\n",
        "\n",
        "MAE_treino = mae(treino_y, treino_pred_y)\n",
        "RMSE_treino = mse(treino_y, treino_pred_y, squared=False)\n",
        "\n",
        "MAE_teste = mae(teste_y, teste_pred_y)\n",
        "RMSE_teste = mse(teste_y, teste_pred_y, squared=False)\n",
        "\n",
        "print('Melhor k:{}  score:{:0.3f}'.format(grade.best_params_, math.sqrt(abs(grade.best_score_))))\n",
        "print('Escore do modelo com melhores parâmetros:{:0.3f}'.format(math.sqrt(abs(grade.score(teste_X,teste_y)))))\n",
        "\n",
        "print('k={}  MAE treino={:0.3f}  MAE teste={:0.3f}  RMSE treino={:0.3f}  RMSE teste={:0.3f}'.format(n_neighbors_best, MAE_treino, MAE_teste, RMSE_treino, RMSE_teste))\n"
      ],
      "metadata": {
        "id": "I6eri9m1ssph"
      },
      "execution_count": null,
      "outputs": []
    },
    {
      "cell_type": "code",
      "source": [
        "grade.best_estimator_"
      ],
      "metadata": {
        "id": "Y1F59fYxtHG3"
      },
      "execution_count": null,
      "outputs": []
    },
    {
      "cell_type": "code",
      "source": [
        "resultados = pd.DataFrame(grade.cv_results_).sort_values(by='rank_test_score')\n",
        "resultados.head(20)"
      ],
      "metadata": {
        "id": "BKBwyS7stMjP"
      },
      "execution_count": null,
      "outputs": []
    },
    {
      "cell_type": "markdown",
      "source": [
        "### Tabulação de escores de treino e de validação"
      ],
      "metadata": {
        "id": "cmjO6U610V3K"
      }
    },
    {
      "cell_type": "code",
      "source": [
        "# capturar os resultados\n",
        "n_vizinhos_x = resultados['param_modelagem__n_neighbors'].to_list()\n",
        "MSE_treino = np.sqrt(np.abs(resultados['mean_train_score'])).sort_index()\n",
        "MSE_validacao = np.sqrt(np.abs(resultados['mean_test_score'])).sort_index()\n",
        "# No eixo x teremos o número de vizinhos e no eixo y o MAE e RMSE\n",
        "plt.plot(n_vizinhos, MSE_treino, '-o')\n",
        "plt.plot(n_vizinhos, MSE_validacao, '-x')\n",
        "# Definindo que no eixo x queremos exibir cada numero de vizinhos\n",
        "plt.legend(['MSE treino','MSE validação'])\n",
        "plt.xlabel('Num. vizinhos')\n",
        "plt.ylabel('Escores')\n",
        "plt.xticks(n_vizinhos);\n",
        "plt.show()"
      ],
      "metadata": {
        "id": "-4sTdpY3bh0E"
      },
      "execution_count": null,
      "outputs": []
    },
    {
      "cell_type": "code",
      "source": [],
      "metadata": {
        "id": "oaXMFpTBRE2x"
      },
      "execution_count": null,
      "outputs": []
    }
  ]
}
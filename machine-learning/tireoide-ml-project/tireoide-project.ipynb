{
 "cells": [
  {
   "cell_type": "code",
   "id": "initial_id",
   "metadata": {
    "collapsed": true,
    "ExecuteTime": {
     "end_time": "2024-09-08T20:41:42.749886Z",
     "start_time": "2024-09-08T20:41:42.746577Z"
    }
   },
   "source": [
    "import pandas as pd\n",
    "import numpy as np\n",
    "from scipy.spatial.distance import euclidean\n",
    "from collections import Counter"
   ],
   "outputs": [],
   "execution_count": 57
  },
  {
   "metadata": {
    "ExecuteTime": {
     "end_time": "2024-09-08T20:41:42.807711Z",
     "start_time": "2024-09-08T20:41:42.797906Z"
    }
   },
   "cell_type": "code",
   "source": [
    "df = pd.read_csv('tireoide.csv')\n",
    "print(df)"
   ],
   "id": "7c96b0f05d4329d1",
   "outputs": [
    {
     "name": "stdout",
     "output_type": "stream",
     "text": [
      "   id sexo cirurgia  tsh    tt4 ti diagnostico\n",
      "0  P1    F        N  6.8  156.2  N         Neg\n",
      "1  P2    F        N  7.3  152.9  S         Neg\n",
      "2  P3    M        S  8.8  148.4  N    HipoPrim\n",
      "3  P4    F        N  6.9  132.7  N    HipoComp\n",
      "4  P5    M        N  5.4  150.9  N         Neg\n"
     ]
    }
   ],
   "execution_count": 58
  },
  {
   "metadata": {},
   "cell_type": "markdown",
   "source": [
    "- **`Atributos qualitativos`**: sexo, cirurgia, ti, diagnostico\n",
    "- **`Atributos quantitativos`**: id, tsh, tt4"
   ],
   "id": "227c3c648d17ffb7"
  },
  {
   "metadata": {
    "ExecuteTime": {
     "end_time": "2024-09-08T20:41:42.849990Z",
     "start_time": "2024-09-08T20:41:42.843149Z"
    }
   },
   "cell_type": "code",
   "source": [
    "# Codificando os atributos com map()\n",
    "df['sexo'] = df['sexo'].map({'F': 0, 'M': 1})\n",
    "df['cirurgia'] = df['cirurgia'].map({'N': 0, 'S': 1})\n",
    "df['ti'] = df['ti'].map({'N': 0, 'S': 1})\n",
    "df['diagnostico'] = df['diagnostico'].map({'Neg': 0, 'HipoPrim': 1, 'HipoComp': 2})\n",
    "print(df)"
   ],
   "id": "a188aebc0b580685",
   "outputs": [
    {
     "name": "stdout",
     "output_type": "stream",
     "text": [
      "   id  sexo  cirurgia  tsh    tt4  ti  diagnostico\n",
      "0  P1     0         0  6.8  156.2   0            0\n",
      "1  P2     0         0  7.3  152.9   1            0\n",
      "2  P3     1         1  8.8  148.4   0            1\n",
      "3  P4     0         0  6.9  132.7   0            2\n",
      "4  P5     1         0  5.4  150.9   0            0\n"
     ]
    }
   ],
   "execution_count": 59
  },
  {
   "metadata": {
    "ExecuteTime": {
     "end_time": "2024-09-08T20:41:42.927472Z",
     "start_time": "2024-09-08T20:41:42.919679Z"
    }
   },
   "cell_type": "code",
   "source": [
    "# Normalizando tsh e tt4\n",
    "df['tsh_normalizado'] = (df['tsh'] - df['tsh'].min()) / (df['tsh'].max() - df['tsh'].min())\n",
    "df['tt4_normalizado'] = (df['tt4'] - df['tt4'].min()) / (df['tt4'].max() - df['tt4'].min())\n",
    "\n",
    "# Mostrando o conjunto de dados com os valores normalizados\n",
    "print(\"\\nConjunto de dados com tsh e tt4 normalizados:\")\n",
    "print(df[['id', 'tsh', 'tsh_normalizado', 'tt4', 'tt4_normalizado']])"
   ],
   "id": "2c65bbec15fb6da",
   "outputs": [
    {
     "name": "stdout",
     "output_type": "stream",
     "text": [
      "\n",
      "Conjunto de dados com tsh e tt4 normalizados:\n",
      "   id  tsh  tsh_normalizado    tt4  tt4_normalizado\n",
      "0  P1  6.8         0.411765  156.2         1.000000\n",
      "1  P2  7.3         0.558824  152.9         0.859574\n",
      "2  P3  8.8         1.000000  148.4         0.668085\n",
      "3  P4  6.9         0.441176  132.7         0.000000\n",
      "4  P5  5.4         0.000000  150.9         0.774468\n"
     ]
    }
   ],
   "execution_count": 60
  },
  {
   "metadata": {
    "ExecuteTime": {
     "end_time": "2024-09-08T20:41:42.991552Z",
     "start_time": "2024-09-08T20:41:42.987069Z"
    }
   },
   "cell_type": "code",
   "source": [
    "# Atributos do novo paciente: (F;N;7.0;150.0;S)\n",
    "novo_paciente = {\n",
    "    'sexo': 'F', \n",
    "    'cirurgia': 'N', \n",
    "    'tsh': 7.0, \n",
    "    'tt4': 150.0, \n",
    "    'ti': 'S'\n",
    "}\n",
    "\n",
    "print(novo_paciente)"
   ],
   "id": "cfde003c7000a5f2",
   "outputs": [
    {
     "name": "stdout",
     "output_type": "stream",
     "text": [
      "{'sexo': 'F', 'cirurgia': 'N', 'tsh': 7.0, 'tt4': 150.0, 'ti': 'S'}\n"
     ]
    }
   ],
   "execution_count": 61
  },
  {
   "metadata": {
    "ExecuteTime": {
     "end_time": "2024-09-08T20:41:43.093136Z",
     "start_time": "2024-09-08T20:41:43.087611Z"
    }
   },
   "cell_type": "code",
   "source": [
    "# Normalizando os atributos TSH e TT4 do novo paciente\n",
    "novo_paciente['tsh_normalizado'] = (novo_paciente['tsh'] - df['tsh'].min()) / (df['tsh'].max() - df['tsh'].min())\n",
    "novo_paciente['tt4_normalizado'] = (novo_paciente['tt4'] - df['tt4'].min()) / (df['tt4'].max() - df['tt4'].min())\n",
    "print(novo_paciente)\n",
    "\n",
    "# Função para calcular a distância Euclidiana\n",
    "def calcular_distancia_euclidiana(paciente1, paciente2):\n",
    "    distancia = euclidean([paciente1['sexo'], paciente1['cirurgia'], paciente1['tsh_normalizado'], paciente1['tt4_normalizado'], paciente1['ti']],\n",
    "                          [paciente2['sexo'], paciente2['cirurgia'], paciente2['tsh_normalizado'], paciente2['tt4_normalizado'], paciente2['ti']])\n",
    "    return distancia\n",
    "\n",
    "print(\"Valores únicos em 'sexo':\", df['sexo'].unique())\n",
    "print(\"Valores únicos em 'cirurgia':\", df['cirurgia'].unique())\n",
    "print(\"Valores únicos em 'ti':\", df['ti'].unique())\n"
   ],
   "id": "3982b2efdde07be4",
   "outputs": [
    {
     "name": "stdout",
     "output_type": "stream",
     "text": [
      "{'sexo': 'F', 'cirurgia': 'N', 'tsh': 7.0, 'tt4': 150.0, 'ti': 'S', 'tsh_normalizado': np.float64(0.4705882352941175), 'tt4_normalizado': np.float64(0.736170212765958)}\n",
      "Valores únicos em 'sexo': [0 1]\n",
      "Valores únicos em 'cirurgia': [0 1]\n",
      "Valores únicos em 'ti': [0 1]\n"
     ]
    }
   ],
   "execution_count": 62
  },
  {
   "metadata": {
    "ExecuteTime": {
     "end_time": "2024-09-08T20:42:00.123851Z",
     "start_time": "2024-09-08T20:42:00.115290Z"
    }
   },
   "cell_type": "code",
   "source": [
    "# Mapeia valores categóricos para numéricos (0 e 1), incluindo tratamento para valores desconhecidos\n",
    "df['sexo'] = df['sexo'].map({'F': 0, 'M': 1}).fillna(-1).astype(int)  # Usando -1 para valores não mapeados\n",
    "df['cirurgia'] = df['cirurgia'].map({'N': 0, 'S': 1}).fillna(-1).astype(int)\n",
    "df['ti'] = df['ti'].map({'N': 0, 'S': 1}).fillna(-1).astype(int)\n",
    "\n",
    "# Converta os dados categóricos do novo paciente para numéricos\n",
    "novo_paciente['sexo'] = 0  # F -> 0\n",
    "novo_paciente['cirurgia'] = 0  # N -> 0\n",
    "novo_paciente['ti'] = 1  # S -> 1\n",
    "\n",
    "print(df)"
   ],
   "id": "60f120c95e25cdaf",
   "outputs": [
    {
     "name": "stdout",
     "output_type": "stream",
     "text": [
      "   id  sexo  cirurgia  tsh    tt4  ti  diagnostico  tsh_normalizado  \\\n",
      "0  P1    -1        -1  6.8  156.2  -1            0         0.411765   \n",
      "1  P2    -1        -1  7.3  152.9  -1            0         0.558824   \n",
      "2  P3    -1        -1  8.8  148.4  -1            1         1.000000   \n",
      "3  P4    -1        -1  6.9  132.7  -1            2         0.441176   \n",
      "4  P5    -1        -1  5.4  150.9  -1            0         0.000000   \n",
      "\n",
      "   tt4_normalizado  \n",
      "0         1.000000  \n",
      "1         0.859574  \n",
      "2         0.668085  \n",
      "3         0.000000  \n",
      "4         0.774468  \n"
     ]
    }
   ],
   "execution_count": 65
  },
  {
   "metadata": {
    "ExecuteTime": {
     "end_time": "2024-09-08T20:41:43.435451Z",
     "start_time": "2024-09-08T20:41:43.429847Z"
    }
   },
   "cell_type": "code",
   "source": [
    "# Calculando as distâncias para cada paciente no conjunto de dados\n",
    "distancias = []\n",
    "for i, row in df.iterrows():\n",
    "    distancia = calcular_distancia_euclidiana(novo_paciente, row)\n",
    "    distancias.append((distancia, row['diagnostico']))\n",
    "\n",
    "# Ordenando os pacientes pela distância Euclidiana\n",
    "distancias_ordenadas = sorted(distancias, key=lambda x: x[0])\n",
    "\n",
    "# Função para classificar o novo paciente com base em k vizinhos mais próximos\n",
    "def classificar(k):\n",
    "    k_vizinhos = distancias_ordenadas[:k]\n",
    "    diagnosticos = [diagnostico for _, diagnostico in k_vizinhos]\n",
    "    return Counter(diagnosticos).most_common(1)[0][0]\n",
    "\n",
    "# Classificando para k = 1, k = 3 e k = 5\n",
    "resultado_k1 = classificar(1)\n",
    "resultado_k3 = classificar(3)\n",
    "resultado_k5 = classificar(5)\n",
    "\n",
    "print(f\"Classificação para k=1: {resultado_k1}\")\n",
    "print(f\"Classificação para k=3: {resultado_k3}\")\n",
    "print(f\"Classificação para k=5: {resultado_k5}\")"
   ],
   "id": "ad430a67b66bf192",
   "outputs": [
    {
     "name": "stdout",
     "output_type": "stream",
     "text": [
      "Classificação para k=1: 0\n",
      "Classificação para k=3: 0\n",
      "Classificação para k=5: 0\n"
     ]
    }
   ],
   "execution_count": 64
  }
 ],
 "metadata": {
  "kernelspec": {
   "display_name": "Python 3",
   "language": "python",
   "name": "python3"
  },
  "language_info": {
   "codemirror_mode": {
    "name": "ipython",
    "version": 2
   },
   "file_extension": ".py",
   "mimetype": "text/x-python",
   "name": "python",
   "nbconvert_exporter": "python",
   "pygments_lexer": "ipython2",
   "version": "2.7.6"
  }
 },
 "nbformat": 4,
 "nbformat_minor": 5
}

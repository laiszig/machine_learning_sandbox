{
  "cells": [
    {
      "cell_type": "markdown",
      "id": "9a034c2c",
      "metadata": {
        "id": "9a034c2c"
      },
      "source": [
        "## Machine Learning I\n",
        "### prof. Duncan\n",
        "Prática com Support Vector Classifier e Iris\n",
        "\n",
        "Predição de Versicolour com PetalLength e PetalWidth"
      ]
    },
    {
      "cell_type": "code",
      "execution_count": null,
      "id": "7370d2c9",
      "metadata": {
        "id": "7370d2c9"
      },
      "outputs": [],
      "source": [
        "# atualizar pacote\n",
        "#!pip install --upgrade scikit-learn\n",
        "# pacotes básicos\n",
        "import math\n",
        "import numpy as np\n",
        "import pandas as pd\n",
        "import matplotlib.pyplot as plt\n",
        "\n",
        "# pacotes do sklearn para acesso a datasets, preparação, modelagem e avaliação\n",
        "from sklearn import datasets\n",
        "# pacote pipeline para combinar preparação e modelagem\n",
        "from sklearn.pipeline import Pipeline, make_pipeline\n",
        "# arsenal de preparação\n",
        "from sklearn.preprocessing import MinMaxScaler # rescala em min-max\n",
        "from sklearn.preprocessing import StandardScaler # padroniza features removendo média e\n",
        "#     escalando para variância unitária. Também chamado de z-score\n",
        "#\n",
        "from sklearn.model_selection import train_test_split as tts\n",
        "from sklearn.model_selection import StratifiedKFold as skf\n",
        "from sklearn.model_selection import GridSearchCV as gscv\n",
        "from sklearn.svm import SVC\n",
        "from sklearn.inspection import DecisionBoundaryDisplay as DBD\n",
        "from sklearn.metrics import confusion_matrix as cm\n",
        "from sklearn.metrics import ConfusionMatrixDisplay as CMD\n",
        "from sklearn.metrics import mean_absolute_error as mae\n",
        "from sklearn.metrics import mean_squared_error as mse\n",
        "\n",
        "#pacotes para apoio a leitura e gravação de datasets\n",
        "from pathlib import Path\n",
        "import csv\n",
        "\n",
        "#pacotes para visualização e formatação\n",
        "import pprint\n",
        "#import graphviz\n",
        "\n",
        "# para silenciar warnings\n",
        "import warnings\n",
        "warnings.filterwarnings('ignore')"
      ]
    },
    {
      "cell_type": "code",
      "execution_count": null,
      "id": "e4437524",
      "metadata": {
        "id": "e4437524"
      },
      "outputs": [],
      "source": [
        "# carga de dados\n",
        "iris = datasets.load_iris(as_frame=True)\n",
        "print(iris.DESCR)"
      ]
    },
    {
      "cell_type": "code",
      "execution_count": null,
      "id": "c7582801",
      "metadata": {
        "id": "c7582801"
      },
      "outputs": [],
      "source": [
        "# função para colorir pontos de diferentes classes\n",
        "def pltcolor(y, c1, c2):\n",
        "    cols=[]\n",
        "    for i in range(len(y)):\n",
        "        if y[i]==1:\n",
        "            cols.append(c1)\n",
        "        else:\n",
        "            cols.append(c2)\n",
        "    return cols"
      ]
    },
    {
      "cell_type": "code",
      "execution_count": null,
      "id": "2c45f2ab",
      "metadata": {
        "id": "2c45f2ab"
      },
      "outputs": [],
      "source": [
        "# separação em features e target\n",
        "# lembrando que queremos predizer Versicolour\n",
        "X = iris.data[iris.data.columns[2:4]]\n",
        "# classe positiva = 1; classe negativa= -1\n",
        "y = iris.target\n",
        "y = np.where(y<2, y, y*0)\n",
        "y = np.where(y==0, -1, y)\n",
        "iris_entrada = iris.frame[['petal length (cm)', 'petal width (cm)', 'target']]"
      ]
    },
    {
      "cell_type": "code",
      "execution_count": null,
      "id": "17223019",
      "metadata": {
        "id": "17223019"
      },
      "outputs": [],
      "source": [
        "# distribuição das classes com petallength e petalwidth\n",
        "cols=pltcolor(y,'red', 'blue')\n",
        "plt.scatter(X['petal length (cm)'],X['petal width (cm)'], c=cols)\n",
        "plt.show()"
      ]
    },
    {
      "cell_type": "code",
      "execution_count": null,
      "id": "c6d9a145",
      "metadata": {
        "id": "c6d9a145"
      },
      "outputs": [],
      "source": [
        "# separação em treino e teste, e X e y, e reescala\n",
        "\n",
        "treino_X, teste_X, treino_y, teste_y = tts(X, y, random_state=0,test_size=0.20, stratify=y)\n",
        "\n",
        "print(treino_X.shape)\n",
        "print(treino_y.shape)\n",
        "print(teste_X.shape)\n",
        "print(teste_y.shape)\n",
        "print(np.stack(np.unique(teste_y, return_counts=True), axis=1))"
      ]
    },
    {
      "cell_type": "code",
      "execution_count": null,
      "id": "cef9e831",
      "metadata": {
        "id": "cef9e831"
      },
      "outputs": [],
      "source": [
        "# definição do protocolo experimental\n",
        "# para tanto, são testados diferentes valores que podem ser usados pelos diferentes kernels\n",
        "# valores tirados da documentação do sklearn\n",
        "mms = MinMaxScaler()\n",
        "svmc = SVC()\n",
        "passos = Pipeline(steps=[('esc', mms), ('svmc', svmc)])\n",
        "C_range = np.logspace(-2, 3, 6)\n",
        "gamma_range = np.logspace(-9, 1, 11)\n",
        "degree_range = np.linspace(1,4,4)\n",
        "param_grid = [\n",
        "  {'svmc__C': C_range, 'svmc__class_weight':['balanced'], 'svmc__kernel': ['linear']},\n",
        "  {'svmc__C': C_range, 'svmc__class_weight':['balanced'], 'svmc__degree': degree_range, 'svmc__kernel': ['poly']},\n",
        "  {'svmc__C': C_range, 'svmc__class_weight':['balanced'], 'svmc__gamma': gamma_range, 'svmc__kernel': ['rbf']},\n",
        "  {'svmc__C': C_range, 'svmc__class_weight':['balanced'], 'svmc__gamma': gamma_range, 'svmc__kernel': ['sigmoid']},\n",
        "]"
      ]
    },
    {
      "cell_type": "code",
      "execution_count": null,
      "id": "0a588e04",
      "metadata": {
        "id": "0a588e04"
      },
      "outputs": [],
      "source": [
        "%%time\n",
        "# execução do protoloco experimental\n",
        "# no caso, são 4 kernels, 6 valores distintos de C, 11 de gamma e 4 de degree\n",
        "# cross validation com 5 folds,\n",
        "# mais de 5.000 experimentos\n",
        "crossval = skf(n_splits=5, shuffle=True, random_state=0)\n",
        "grid = gscv(passos, param_grid=param_grid, cv=crossval)\n",
        "grid.fit(treino_X,treino_y)"
      ]
    },
    {
      "cell_type": "code",
      "execution_count": null,
      "id": "9fa88a20",
      "metadata": {
        "id": "9fa88a20"
      },
      "outputs": [],
      "source": [
        "# captura da melhor configuração\n",
        "C_best = grid.best_params_['svmc__C']\n",
        "cw_best = grid.best_params_['svmc__class_weight']\n",
        "kernel_best = grid.best_params_['svmc__kernel']\n",
        "if kernel_best in ('rbf','sigmoid'):\n",
        "  gamma_best = grid.best_params_['svmc__gamma']\n",
        "else:\n",
        "  gamma_best = 0\n",
        "if kernel_best == 'poly':\n",
        "  degree_best = grid.best_params_['svmc__degree']\n",
        "else:\n",
        "  degree_best = 0\n",
        "print('C={}  class_weight={}  kernel={}  gamma={}  degree={}'.format(C_best, cw_best, kernel_best, gamma_best, degree_best))"
      ]
    },
    {
      "cell_type": "code",
      "execution_count": null,
      "id": "2bc08ca8",
      "metadata": {
        "id": "2bc08ca8"
      },
      "outputs": [],
      "source": [
        "%%time\n",
        "# indução do modelo de classificação por máquina de vetores de suporte\n",
        "modelo = SVC(random_state=0,\n",
        "             kernel=kernel_best,\n",
        "             C=C_best,\n",
        "             gamma=gamma_best,\n",
        "             class_weight=cw_best,\n",
        "             verbose=True  )\n",
        "modelo.fit(treino_X, treino_y)\n",
        "teste_pred_y = modelo.predict(teste_X)\n",
        "acuracia = modelo.score(teste_X, teste_y)\n",
        "resultado = cm(teste_y, teste_pred_y)\n",
        "cm_display = CMD(resultado).plot()\n",
        "print('Acuracia={:.3f}  Núm.Iterações={}'.format(acuracia, modelo.n_iter_))\n"
      ]
    },
    {
      "cell_type": "code",
      "execution_count": null,
      "id": "Do6vg91-ND_H",
      "metadata": {
        "id": "Do6vg91-ND_H"
      },
      "outputs": [],
      "source": [
        "modelo.dual_coef_"
      ]
    },
    {
      "cell_type": "code",
      "execution_count": null,
      "id": "d42da724",
      "metadata": {
        "id": "d42da724"
      },
      "outputs": [],
      "source": [
        "modelo.support_"
      ]
    },
    {
      "cell_type": "code",
      "execution_count": null,
      "id": "77304293",
      "metadata": {
        "id": "77304293"
      },
      "outputs": [],
      "source": [
        "modelo.n_support_"
      ]
    },
    {
      "cell_type": "code",
      "execution_count": null,
      "id": "f022b3be",
      "metadata": {
        "id": "f022b3be"
      },
      "outputs": [],
      "source": [
        "SVs = modelo.support_\n",
        "SV = np.zeros((len(SVs),2))\n",
        "SV0 = np.zeros((modelo.n_support_[0],2))\n",
        "SV1 = np.zeros((modelo.n_support_[1],2))\n",
        "SV_y = np.zeros(len(SVs))\n",
        "SV_y0 = np.zeros(modelo.n_support_[0])\n",
        "SV_y1 = np.zeros(modelo.n_support_[1])\n",
        "\n",
        "for i in range(len(SVs)):\n",
        "    SV[i] = treino_X[['petal length (cm)','petal width (cm)']].iloc[SVs[i]]\n",
        "    SV_y[i] = treino_y[SVs[i]]\n",
        "    if treino_y[SVs[i]] == 1:\n",
        "        SV1[i - modelo.n_support_[0]] = SV[i]\n",
        "        SV_y1[i - modelo.n_support_[0]] = SV_y[i]\n",
        "    else:\n",
        "        SV0[i] = SV[i]\n",
        "        SV_y0[i] = SV_y[i]\n",
        "#    print(i, SVs[i], treino_X[['petal length (cm)','petal width (cm)']].iloc[SVs[i]],\n",
        "#                    treino_y[SVs[i]])\n"
      ]
    },
    {
      "cell_type": "code",
      "execution_count": null,
      "id": "066fadae",
      "metadata": {
        "id": "066fadae"
      },
      "outputs": [],
      "source": [
        "disp = DBD.from_estimator(modelo, SV, response_method='predict',\n",
        "                        cmap=plt.cm.twilight,\n",
        "                        xlabel=iris.feature_names[2],\n",
        "                        ylabel=iris.feature_names[3]\n",
        "                         )\n",
        "\n",
        "cols=pltcolor(SV_y,'red','blue')\n",
        "plt.scatter(SV[:,0],SV[:,1], c=cols)\n",
        "cols2=pltcolor(teste_pred_y,'green','black')\n",
        "plt.scatter(teste_X[iris.feature_names[2]],teste_X[iris.feature_names[3]],c=cols2 )\n",
        "plt.show()"
      ]
    },
    {
      "cell_type": "code",
      "source": [],
      "metadata": {
        "id": "NGpj7iWUQARs"
      },
      "id": "NGpj7iWUQARs",
      "execution_count": null,
      "outputs": []
    }
  ],
  "metadata": {
    "colab": {
      "provenance": []
    },
    "kernelspec": {
      "display_name": "Python 3 (ipykernel)",
      "language": "python",
      "name": "python3"
    },
    "language_info": {
      "codemirror_mode": {
        "name": "ipython",
        "version": 3
      },
      "file_extension": ".py",
      "mimetype": "text/x-python",
      "name": "python",
      "nbconvert_exporter": "python",
      "pygments_lexer": "ipython3",
      "version": "3.8.8"
    }
  },
  "nbformat": 4,
  "nbformat_minor": 5
}
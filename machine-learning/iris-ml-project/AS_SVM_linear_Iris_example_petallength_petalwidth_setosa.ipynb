{
  "cells": [
    {
      "cell_type": "markdown",
      "id": "9a034c2c",
      "metadata": {
        "id": "9a034c2c"
      },
      "source": [
        "## Aprendizado Supervisionado\n",
        "### prof. Duncan\n",
        "Prática com Support Vector Classifier e Iris\n",
        "\n",
        "Predição de Setosa com PetalLength e PetalWidth"
      ]
    },
    {
      "cell_type": "code",
      "execution_count": null,
      "id": "7370d2c9",
      "metadata": {
        "id": "7370d2c9"
      },
      "outputs": [],
      "source": [
        "# atualizar pacote\n",
        "#!pip install --upgrade scikit-learn\n",
        "# pacotes básicos\n",
        "import math\n",
        "import numpy as np\n",
        "import pandas as pd\n",
        "import matplotlib.pyplot as plt\n",
        "\n",
        "# pacotes do sklearn para acesso a datasets, preparação, modelagem e avaliação\n",
        "from sklearn import datasets\n",
        "# pacote pipeline para combinar preparação e modelagem\n",
        "from sklearn.pipeline import Pipeline, make_pipeline\n",
        "# arsenal de preparação\n",
        "from sklearn.preprocessing import MinMaxScaler # rescala em min-max\n",
        "from sklearn.preprocessing import StandardScaler # padroniza features removendo média e\n",
        "#     escalando para variância unitária. Também chamado de z-score\n",
        "#\n",
        "from sklearn.model_selection import train_test_split as tts\n",
        "from sklearn.model_selection import StratifiedKFold as skf\n",
        "from sklearn.model_selection import GridSearchCV as gscv\n",
        "from sklearn.svm import SVC\n",
        "from sklearn.inspection import DecisionBoundaryDisplay as DBD\n",
        "from sklearn.metrics import accuracy_score as acc_score\n",
        "from sklearn.metrics import confusion_matrix as cm\n",
        "from sklearn.metrics import ConfusionMatrixDisplay as CMD\n",
        "from sklearn.metrics import mean_absolute_error as mae\n",
        "from sklearn.metrics import mean_squared_error as mse\n",
        "\n",
        "#pacotes para apoio a leitura e gravação de datasets\n",
        "from pathlib import Path\n",
        "import csv\n",
        "\n",
        "#pacotes para visualização e formatação\n",
        "import pprint\n",
        "#import graphviz"
      ]
    },
    {
      "cell_type": "code",
      "execution_count": null,
      "id": "e4437524",
      "metadata": {
        "id": "e4437524"
      },
      "outputs": [],
      "source": [
        "# carga de dados\n",
        "iris = datasets.load_iris()\n",
        "print(iris.DESCR)"
      ]
    },
    {
      "cell_type": "code",
      "execution_count": null,
      "id": "c7582801",
      "metadata": {
        "id": "c7582801"
      },
      "outputs": [],
      "source": [
        "# função para colorir pontos de diferentes classes\n",
        "def pltcolor(y, c1, c2):\n",
        "    cols=[]\n",
        "    for i in range(len(y)):\n",
        "        if y[i]==1:\n",
        "            cols.append(c1)\n",
        "        else:\n",
        "            cols.append(c2)\n",
        "    return cols"
      ]
    },
    {
      "cell_type": "code",
      "execution_count": null,
      "id": "2c45f2ab",
      "metadata": {
        "id": "2c45f2ab"
      },
      "outputs": [],
      "source": [
        "# separação em features e target\n",
        "# lembrando que queremos predizer Setosa\n",
        "X = iris.data[:,2:4]\n",
        "# classe positiva = 1; classe negativa= -1\n",
        "y = iris.target\n",
        "y = np.where(y==0, 1, -1)\n",
        "iris_entrada = pd.DataFrame({'petallength': X[:,0],\n",
        "                             'petalwidth' : X[:,1],\n",
        "                             'class': y})"
      ]
    },
    {
      "cell_type": "code",
      "execution_count": null,
      "id": "17223019",
      "metadata": {
        "id": "17223019"
      },
      "outputs": [],
      "source": [
        "# distribuição das classes com petallength e petalwidth\n",
        "cols=pltcolor(y,'red', 'blue')\n",
        "plt.scatter(X[:,0],X[:,1], c=cols)\n",
        "plt.show()"
      ]
    },
    {
      "cell_type": "code",
      "execution_count": null,
      "id": "c6d9a145",
      "metadata": {
        "id": "c6d9a145"
      },
      "outputs": [],
      "source": [
        "# separação em treino e teste, e X e y, e reescala\n",
        "\n",
        "treinoX, testeX, treino_y, teste_y = tts(X, y, test_size=0.20, stratify=y)\n",
        "\n",
        "MMS = MinMaxScaler()\n",
        "treino_X = MMS.fit_transform(treinoX)\n",
        "teste_X = MMS.transform(testeX)\n",
        "\n",
        "print(treino_X.shape)\n",
        "print(treino_y.shape)\n",
        "print(teste_X.shape)\n",
        "print(teste_y.shape)\n",
        "print(np.stack(np.unique(teste_y, return_counts=True), axis=1))"
      ]
    },
    {
      "cell_type": "code",
      "source": [
        "# distribuição das classes com petallength e petalwidth\n",
        "cols=pltcolor(treino_y,'red', 'blue')\n",
        "plt.scatter(treino_X[:,0],treino_X[:,1], c=cols)\n",
        "plt.show()"
      ],
      "metadata": {
        "id": "VBcKWU_fyTd1"
      },
      "id": "VBcKWU_fyTd1",
      "execution_count": null,
      "outputs": []
    },
    {
      "cell_type": "code",
      "execution_count": null,
      "id": "cef9e831",
      "metadata": {
        "id": "cef9e831"
      },
      "outputs": [],
      "source": [
        "# definição do protocolo experimental\n",
        "# para tanto, são testados diferentes valores que podem ser usados pelos diferentes kernels\n",
        "# valores tirados da documentação do sklearn\n",
        "#C_range = np.logspace(-2, 3, 6)\n",
        "C_range = [100]\n",
        "gamma_range = np.logspace(-9, 1, 11)\n",
        "degree_range = np.linspace(1,4,4)\n",
        "param_grid = [\n",
        "  {'C': C_range, 'class_weight':['balanced'], 'kernel': ['linear']},\n",
        "#  {'C': C_range, 'class_weight':['balanced'], 'degree': degree_range, 'kernel': ['poly']}#,\n",
        "#  {'C': C_range, 'class_weight':['balanced'], 'gamma': gamma_range, 'kernel': ['rbf']},\n",
        "#  {'C': C_range, 'class_weight':['balanced'], 'gamma': gamma_range, 'kernel': ['sigmoid']},\n",
        "]"
      ]
    },
    {
      "cell_type": "code",
      "execution_count": null,
      "id": "0a588e04",
      "metadata": {
        "id": "0a588e04"
      },
      "outputs": [],
      "source": [
        "%%time\n",
        "# execução do protoloco experimental\n",
        "# no caso, são 4 kernels, 6 valores distintos de C, 11 de gamma e 4 de degree\n",
        "# cross validation com 5 folds,\n",
        "# mais de 5.000 experimentos\n",
        "crossval = skf(n_splits=5, shuffle=True, random_state=0)\n",
        "grid = gscv(SVC(), param_grid=param_grid, cv=crossval)\n",
        "grid.fit(treino_X,treino_y)"
      ]
    },
    {
      "cell_type": "code",
      "execution_count": null,
      "id": "9fa88a20",
      "metadata": {
        "id": "9fa88a20"
      },
      "outputs": [],
      "source": [
        "# captura da melhor configuração\n",
        "C_best = grid.best_params_['C']\n",
        "cw_best = grid.best_params_['class_weight']\n",
        "#gamma_best = grid.best_params_['gamma']\n",
        "#degree_best = grid.best_params_['degree']\n",
        "kernel_best = grid.best_params_['kernel']\n",
        "#print('C={}  class_weight={}  gamma={}  kernel={}'.format(C_best, cw_best,gamma_best, kernel_best))\n",
        "#print('C={}  class_weight={}  kernel={}  degree={}'.format(C_best, cw_best, kernel_best, degree_best))\n",
        "print('C={}  class_weight={}  kernel={}'.format(C_best, cw_best, kernel_best))\n"
      ]
    },
    {
      "cell_type": "code",
      "execution_count": null,
      "id": "2bc08ca8",
      "metadata": {
        "id": "2bc08ca8"
      },
      "outputs": [],
      "source": [
        "%%time\n",
        "# indução do modelo de classificação por máquina de vetores de suporte\n",
        "modelo = SVC(random_state=0,\n",
        "             kernel=kernel_best,\n",
        "             C=C_best,\n",
        "             #gamma=gamma_best,\n",
        "             class_weight=cw_best,\n",
        "             verbose=True  )\n",
        "modelo.fit(treino_X, treino_y)\n",
        "teste_pred_y = modelo.predict(teste_X)\n",
        "acuracia = acc_score(teste_y, teste_pred_y)\n",
        "resultado = cm(teste_y, teste_pred_y)\n",
        "cm_display = CMD(resultado).plot()\n",
        "print('Acuracia={:.3f}  Núm.Iterações={}'.format(acuracia, modelo.n_iter_))\n"
      ]
    },
    {
      "cell_type": "code",
      "execution_count": null,
      "id": "Do6vg91-ND_H",
      "metadata": {
        "id": "Do6vg91-ND_H"
      },
      "outputs": [],
      "source": [
        "modelo.dual_coef_"
      ]
    },
    {
      "cell_type": "code",
      "source": [
        "modelo.intercept_"
      ],
      "metadata": {
        "id": "4Eol_5hU07w2"
      },
      "id": "4Eol_5hU07w2",
      "execution_count": null,
      "outputs": []
    },
    {
      "cell_type": "code",
      "execution_count": null,
      "id": "d42da724",
      "metadata": {
        "id": "d42da724"
      },
      "outputs": [],
      "source": [
        "modelo.support_"
      ]
    },
    {
      "cell_type": "code",
      "execution_count": null,
      "id": "77304293",
      "metadata": {
        "id": "77304293"
      },
      "outputs": [],
      "source": [
        "modelo.n_support_"
      ]
    },
    {
      "cell_type": "code",
      "execution_count": null,
      "id": "f022b3be",
      "metadata": {
        "id": "f022b3be"
      },
      "outputs": [],
      "source": [
        "SVs = modelo.support_\n",
        "SV = np.zeros((len(SVs),2))\n",
        "SV0 = np.zeros((modelo.n_support_[0],2))\n",
        "SV1 = np.zeros((modelo.n_support_[1],2))\n",
        "SV_y = np.zeros(len(SVs))\n",
        "SV_y0 = np.zeros(modelo.n_support_[0])\n",
        "SV_y1 = np.zeros(modelo.n_support_[1])\n",
        "\n",
        "for i in range(len(SVs)):\n",
        "    SV[i] = treino_X[SVs[i],:]\n",
        "    SV_y[i] = treino_y[SVs[i]]\n",
        "    if treino_y[SVs[i]] == 1:\n",
        "        SV1[i - modelo.n_support_[0]] = SV[i]\n",
        "        SV_y1[i - modelo.n_support_[0]] = SV_y[i]\n",
        "    else:\n",
        "        SV0[i] = SV[i]\n",
        "        SV_y0[i] = SV_y[i]\n",
        "    print(i, SVs[i], treino_X[SVs[i],:], treino_y[SVs[i]])\n"
      ]
    },
    {
      "cell_type": "code",
      "execution_count": null,
      "id": "066fadae",
      "metadata": {
        "id": "066fadae"
      },
      "outputs": [],
      "source": [
        "disp = DBD.from_estimator(modelo, SV, response_method='predict',\n",
        "                          grid_resolution=1000,\n",
        "                          plot_method='contour',#'contourf',\n",
        "                          eps=0.7,\n",
        "                        cmap=plt.cm.coolwarm,\n",
        "                        xlabel=iris.feature_names[2],\n",
        "                        ylabel=iris.feature_names[3]\n",
        "                         )\n",
        "cols=pltcolor(SV_y,'red','blue')\n",
        "plt.scatter(SV[:,0],SV[:,1], c=cols)\n",
        "cols2=pltcolor(teste_pred_y,'green','black')\n",
        "plt.scatter(teste_X[:,0],teste_X[:,1],c=cols2 )\n",
        "plt.rcParams[\"figure.figsize\"] = (8,8)\n",
        "plt.show()"
      ]
    },
    {
      "cell_type": "code",
      "execution_count": null,
      "id": "3d1fe543",
      "metadata": {
        "id": "3d1fe543"
      },
      "outputs": [],
      "source": []
    }
  ],
  "metadata": {
    "colab": {
      "provenance": []
    },
    "kernelspec": {
      "display_name": "Python 3 (ipykernel)",
      "language": "python",
      "name": "python3"
    },
    "language_info": {
      "codemirror_mode": {
        "name": "ipython",
        "version": 3
      },
      "file_extension": ".py",
      "mimetype": "text/x-python",
      "name": "python",
      "nbconvert_exporter": "python",
      "pygments_lexer": "ipython3",
      "version": "3.8.8"
    }
  },
  "nbformat": 4,
  "nbformat_minor": 5
}
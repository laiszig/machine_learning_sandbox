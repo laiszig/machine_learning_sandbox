{
  "cells": [
    {
      "cell_type": "markdown",
      "id": "9a034c2c",
      "metadata": {
        "id": "9a034c2c"
      },
      "source": [
        "## Aprendizado Supervisionado\n",
        "### prof. Duncan\n",
        "Prática com Decision Tree Classifier e Iris"
      ]
    },
    {
      "cell_type": "code",
      "execution_count": null,
      "id": "7370d2c9",
      "metadata": {
        "id": "7370d2c9"
      },
      "outputs": [],
      "source": [
        "# fixar figuras no conteudo do notebook\n",
        "%matplotlib inline\n",
        "# pacotes básicos\n",
        "import math\n",
        "import numpy as np\n",
        "import pandas as pd\n",
        "import matplotlib.pyplot as plt\n",
        "\n",
        "# pacotes do sklearn para acesso a datasets, preparação, modelagem e avaliação\n",
        "from sklearn import datasets\n",
        "#\n",
        "# pacote para separação entre treino e teste\n",
        "from sklearn.model_selection import train_test_split\n",
        "#\n",
        "# arsenal de preparação\n",
        "from sklearn.preprocessing import MinMaxScaler # rescala em min-max\n",
        "from sklearn.preprocessing import StandardScaler # padroniza features removendo média e\n",
        "#     escalando para variância unitária. Também chamado de z-score\n",
        "#\n",
        "# pacote pipeline para combinar preparação e modelagem\n",
        "from sklearn.pipeline import Pipeline, make_pipeline\n",
        "#\n",
        "# pacotes para validação cruzada\n",
        "from sklearn.model_selection import KFold\n",
        "from sklearn.model_selection import StratifiedKFold\n",
        "from sklearn.model_selection import GridSearchCV\n",
        "#\n",
        "# pacotes de indução de modelos\n",
        "from sklearn.tree import DecisionTreeClassifier\n",
        "#\n",
        "# pacotes para avaliação dos resultados\n",
        "from sklearn.metrics import accuracy_score\n",
        "from sklearn.metrics import confusion_matrix\n",
        "from sklearn.metrics import ConfusionMatrixDisplay\n",
        "from sklearn.inspection import DecisionBoundaryDisplay\n",
        "from sklearn.metrics import RocCurveDisplay\n",
        "from sklearn.tree import plot_tree, export_graphviz, export_text\n",
        "\n",
        "#pacotes para apoio a leitura e gravação de datasets\n",
        "from pathlib import Path\n",
        "import csv\n",
        "\n",
        "#pacotes para visualização e formatação\n",
        "import pprint\n",
        "import graphviz\n",
        "#\n",
        "# configurações para os diferentes pacotes\n",
        "pd.set_option('display.max_columns', None)\n",
        "pd.set_option('display.max_rows', None)"
      ]
    },
    {
      "cell_type": "code",
      "execution_count": null,
      "id": "e4437524",
      "metadata": {
        "id": "e4437524"
      },
      "outputs": [],
      "source": [
        "# carga de dados\n",
        "iris = datasets.load_iris(as_frame=True)\n",
        "print(iris.DESCR)"
      ]
    },
    {
      "cell_type": "code",
      "execution_count": null,
      "id": "2c45f2ab",
      "metadata": {
        "id": "2c45f2ab"
      },
      "outputs": [],
      "source": [
        "# separação em features e target\n",
        "X = iris.data\n",
        "y = iris.target\n",
        "iris.frame"
      ]
    },
    {
      "cell_type": "code",
      "source": [
        "X.describe()"
      ],
      "metadata": {
        "id": "-5lXQF8pkcQI"
      },
      "id": "-5lXQF8pkcQI",
      "execution_count": null,
      "outputs": []
    },
    {
      "source": [
        "iris.frame[['petal length (cm)','petal width (cm)']].plot(kind='scatter',\n",
        "                                                 x='petal length (cm)',\n",
        "                                                 y='petal width (cm)',\n",
        "                                                 s=32, alpha=.8,\n",
        "                                                 c=y,\n",
        "                                                 colormap='viridis')\n",
        "plt.gca().spines[['top', 'right',]].set_visible(False)"
      ],
      "cell_type": "code",
      "metadata": {
        "id": "UMLNp74SiFcF"
      },
      "id": "UMLNp74SiFcF",
      "execution_count": null,
      "outputs": []
    },
    {
      "cell_type": "code",
      "execution_count": null,
      "id": "c6d9a145",
      "metadata": {
        "id": "c6d9a145"
      },
      "outputs": [],
      "source": [
        "# separação em treino e teste, e X e y\n",
        "\n",
        "treino_X, teste_X, treino_y, teste_y = train_test_split(X, y, random_state=0,test_size=0.2, stratify=y)\n",
        "\n",
        "print(treino_X.shape)\n",
        "print(treino_y.shape)\n",
        "print(teste_X.shape)\n",
        "print(teste_y.shape)\n",
        "print(np.stack(np.unique(teste_y, return_counts=True), axis=1))"
      ]
    },
    {
      "cell_type": "markdown",
      "source": [
        "## Experimento com reescala de valores, embaralhamento e busca exaustiva nos parâmetros"
      ],
      "metadata": {
        "id": "I7afPsZHmnZB"
      },
      "id": "I7afPsZHmnZB"
    },
    {
      "cell_type": "code",
      "source": [
        "# indução do modelo para diferentes valores para os parâmetros, com validação cruzada\n",
        "\n",
        "#ccp_alphas = [0.0, 0.05, 0.1, 0.15, 0.2, 0.25, 0.3, 0.35, 0.4, 0.45, 0.5, 1.0, 10.0, 100.0]\n",
        "ccp_alphas = [0.0, 0.005, 0.01, 0.015, 0.02, 0.025, 0.03, 0.04, 0.05, 0.055, 0.06, 0.07, 0.08, 0.09, 0.1]\n",
        "#              0.11, 0.12, 0.13, 0.14, 0.15, 0.2, 0.3, 0.4, 0.5, 0.6, 0.7]\n",
        "#ccp_alphas = [0.055]\n",
        "#ccp_alphas = [0.0]\n",
        "max_leafs = [2, 3, 4, 5, 6, 7, 8, 9]#, 10, 11, 13, 15, 17, 21]\n",
        "\n",
        "k_splits = 10\n",
        "\n",
        "modelo = Pipeline(steps=[('reescala', MinMaxScaler()),\n",
        "    ('modelo', DecisionTreeClassifier(random_state=0))])\n",
        "\n",
        "parametros = {'reescala__feature_range':[(0,1)],\n",
        "              'modelo__ccp_alpha': ccp_alphas,\n",
        "              'modelo__max_leaf_nodes':max_leafs,\n",
        "              'modelo__criterion':['gini','entropy']}\n",
        "\n",
        "skfold = StratifiedKFold(n_splits=k_splits, shuffle=True, random_state=0)\n",
        "\n",
        "valcruz = GridSearchCV(modelo, parametros,cv=skfold)\n",
        "\n",
        "valcruz.fit(treino_X, treino_y)\n",
        "\n",
        "resultados = pd.DataFrame(valcruz.cv_results_).sort_values(by=['rank_test_score','param_modelo__max_leaf_nodes','param_modelo__ccp_alpha' ])\n",
        "melhor_feature_range = resultados['param_reescala__feature_range'].iloc[0]\n",
        "melhor_criterion = resultados['param_modelo__criterion'].iloc[0]\n",
        "melhor_max_leaf_nodes = resultados['param_modelo__max_leaf_nodes'].iloc[0]\n",
        "melhor_ccp_alpha = resultados['param_modelo__ccp_alpha'].iloc[0]\n",
        "\n",
        "resultados.head()"
      ],
      "metadata": {
        "id": "3M_tuQzpO9kW"
      },
      "id": "3M_tuQzpO9kW",
      "execution_count": null,
      "outputs": []
    },
    {
      "cell_type": "code",
      "source": [
        "# listar os melhores resultados para os parâmetros\n",
        "\n",
        "print('Melhor preparação - Feature Range:{}'.format(melhor_feature_range))\n",
        "print('Melhor resultado - Critério:{}   Máximo número de nodos folha:{}   Alfa:{}    Acurácia média:{:.3f}'.format(\n",
        "    melhor_criterion,\n",
        "    melhor_max_leaf_nodes,\n",
        "    melhor_ccp_alpha,\n",
        "    resultados['mean_test_score'].iloc[0]))"
      ],
      "metadata": {
        "id": "o-7FcReqYvME"
      },
      "id": "o-7FcReqYvME",
      "execution_count": null,
      "outputs": []
    },
    {
      "cell_type": "markdown",
      "source": [
        "## Execução para os melhores parâmetros"
      ],
      "metadata": {
        "id": "NHM8yqtaoijW"
      },
      "id": "NHM8yqtaoijW"
    },
    {
      "cell_type": "code",
      "source": [
        "escalonador = MinMaxScaler(feature_range = melhor_feature_range)\n",
        "estimador = DecisionTreeClassifier(ccp_alpha = melhor_ccp_alpha,\n",
        "                                   max_leaf_nodes = melhor_max_leaf_nodes,\n",
        "                                   criterion = melhor_criterion)\n",
        "treino_X_escalonado = escalonador.fit_transform(treino_X, treino_y)\n",
        "estimador.fit(treino_X_escalonado, treino_y)\n",
        "teste_X_escalonado = escalonador.transform(teste_X)\n",
        "teste_pred_y = estimador.predict(teste_X_escalonado)\n",
        "acuracia = accuracy_score(teste_y, teste_pred_y)\n",
        "resultado = confusion_matrix(teste_y, teste_pred_y)\n",
        "cm_display = ConfusionMatrixDisplay(resultado).plot()\n",
        "fig = cm_display.figure_\n",
        "fig.set_figheight(3)\n",
        "fig.set_figwidth(3)\n",
        "print('Acuracia={:.3f}'.format(acuracia))"
      ],
      "metadata": {
        "id": "IZUklSY5oW00"
      },
      "id": "IZUklSY5oW00",
      "execution_count": null,
      "outputs": []
    },
    {
      "cell_type": "code",
      "source": [
        "modelo_txt = export_text(estimador, feature_names=iris['feature_names'])\n",
        "print(modelo_txt)"
      ],
      "metadata": {
        "id": "f6bTvyBGpBxO"
      },
      "id": "f6bTvyBGpBxO",
      "execution_count": null,
      "outputs": []
    },
    {
      "cell_type": "code",
      "source": [
        "# apresentações do modelo\n",
        "plt.figure(figsize=(10, 10))\n",
        "plot_tree(estimador, filled=True, rounded=True, feature_names=iris.feature_names, class_names=iris.target_names)\n",
        "plt.title('Árvore de Decisão treinada no dataset Iris')\n",
        "plt.show()\n"
      ],
      "metadata": {
        "id": "pZCjSWCXpHa8"
      },
      "id": "pZCjSWCXpHa8",
      "execution_count": null,
      "outputs": []
    },
    {
      "cell_type": "markdown",
      "source": [
        "## Mostra da distribuição de pontos e classes"
      ],
      "metadata": {
        "id": "DganIzQ-ZRW_"
      },
      "id": "DganIzQ-ZRW_"
    },
    {
      "cell_type": "code",
      "source": [
        "treino_X_escalonado_DF = pd.DataFrame(treino_X_escalonado, columns=list(iris.feature_names))\n",
        "X_mostra = treino_X_escalonado_DF[['petal length (cm)', 'petal width (cm)']].copy()\n",
        "\n",
        "teste_X_escalonado_DF = pd.DataFrame(teste_X_escalonado, columns=list(iris.feature_names))\n",
        "X_teste_mostra = teste_X_escalonado_DF[['petal length (cm)', 'petal width (cm)']].copy()\n"
      ],
      "metadata": {
        "id": "sYpLxd_U0Ai4"
      },
      "execution_count": null,
      "outputs": [],
      "id": "sYpLxd_U0Ai4"
    },
    {
      "cell_type": "code",
      "source": [
        "modelo_mostra = DecisionTreeClassifier(ccp_alpha = melhor_ccp_alpha,\n",
        "                                   max_leaf_nodes = melhor_max_leaf_nodes,\n",
        "                                   criterion = melhor_criterion)\n",
        "\n",
        "modelo_mostra.fit(X_mostra, treino_y)"
      ],
      "metadata": {
        "id": "XiRM0iF-aAIx"
      },
      "id": "XiRM0iF-aAIx",
      "execution_count": null,
      "outputs": []
    },
    {
      "cell_type": "code",
      "source": [
        "modelo_txt = export_text(modelo_mostra, feature_names=['petal length (cm)', 'petal width (cm)'])\n",
        "print(modelo_txt)"
      ],
      "metadata": {
        "id": "l1b6-AbpdFdZ"
      },
      "id": "l1b6-AbpdFdZ",
      "execution_count": null,
      "outputs": []
    },
    {
      "cell_type": "markdown",
      "source": [
        "### Fundo e pontos a partir do treino"
      ],
      "metadata": {
        "id": "Y-BAt7G6aEOI"
      },
      "id": "Y-BAt7G6aEOI"
    },
    {
      "cell_type": "code",
      "source": [
        "mostra = DecisionBoundaryDisplay.from_estimator(\n",
        "    modelo_mostra,\n",
        "    X_mostra,\n",
        "    response_method=\"predict\",\n",
        "    cmap=plt.cm.Set3,\n",
        "    xlabel='petal length (cm)',\n",
        "    ylabel='petal width (cm)',\n",
        ")\n",
        "mostra.ax_.scatter(\n",
        "    X_mostra['petal length (cm)'], X_mostra['petal width (cm)'], c=treino_y, s=50,\n",
        "    cmap=plt.cm.viridis, edgecolor=\"black\", linewidth=1\n",
        ")"
      ],
      "metadata": {
        "id": "i95LQjAsaCw_"
      },
      "id": "i95LQjAsaCw_",
      "execution_count": null,
      "outputs": []
    },
    {
      "cell_type": "markdown",
      "source": [
        "### Fundo a partir do treino e pontos a partir do teste"
      ],
      "metadata": {
        "id": "5qLFB3LoabsL"
      },
      "id": "5qLFB3LoabsL"
    },
    {
      "cell_type": "code",
      "source": [
        "mostra = DecisionBoundaryDisplay.from_estimator(\n",
        "    modelo_mostra,\n",
        "    X_mostra,\n",
        "    response_method=\"predict\",\n",
        "    cmap=plt.cm.Set3,\n",
        "    xlabel='petal length (cm)',\n",
        "    ylabel='petal width (cm)',\n",
        ")\n",
        "mostra.ax_.scatter(\n",
        "    X_teste_mostra['petal length (cm)'], X_teste_mostra['petal width (cm)'], c=teste_y, s=50,\n",
        "    cmap=plt.cm.viridis, edgecolor=\"black\", linewidth=1\n",
        ")"
      ],
      "metadata": {
        "id": "utnPc15PacT5"
      },
      "id": "utnPc15PacT5",
      "execution_count": null,
      "outputs": []
    }
  ],
  "metadata": {
    "kernelspec": {
      "display_name": "Python 3",
      "language": "python",
      "name": "python3"
    },
    "language_info": {
      "codemirror_mode": {
        "name": "ipython",
        "version": 3
      },
      "file_extension": ".py",
      "mimetype": "text/x-python",
      "name": "python",
      "nbconvert_exporter": "python",
      "pygments_lexer": "ipython3",
      "version": "3.8.5"
    },
    "colab": {
      "provenance": []
    }
  },
  "nbformat": 4,
  "nbformat_minor": 5
}
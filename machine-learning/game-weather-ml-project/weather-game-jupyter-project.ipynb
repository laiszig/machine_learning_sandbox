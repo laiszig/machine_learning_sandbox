{
 "cells": [
  {
   "cell_type": "code",
   "metadata": {
    "trusted": true,
    "ExecuteTime": {
     "end_time": "2024-09-05T18:38:12.777510Z",
     "start_time": "2024-09-05T18:38:12.773013Z"
    }
   },
   "source": [
    "import pandas as pd\n",
    "from scipy.stats import skew, kurtosis\n",
    "import matplotlib.pyplot as plt\n",
    "import seaborn as sns\n",
    "import numpy as np"
   ],
   "outputs": [],
   "execution_count": 2
  },
  {
   "cell_type": "code",
   "metadata": {
    "trusted": true,
    "ExecuteTime": {
     "end_time": "2024-09-05T18:38:12.807030Z",
     "start_time": "2024-09-05T18:38:12.791523Z"
    }
   },
   "source": [
    "df = pd.read_csv('game-weather.csv')\n",
    "print(df)"
   ],
   "outputs": [
    {
     "name": "stdout",
     "output_type": "stream",
     "text": [
      "    dia       tempo  temperatura  umidade vento joga\n",
      "0    d1     chuvoso           71       91   sim  nao\n",
      "1    d2  ensolarado           69       70   nao  sim\n",
      "2    d3  ensolarado           80       90   sim  nao\n",
      "3    d4     nublado           83       86   nao  sim\n",
      "4    d5     chuvoso           70       96   nao  sim\n",
      "5    d6     chuvoso           65       70   sim  nao\n",
      "6    d7     nublado           64       65   sim  sim\n",
      "7    d8     nublado           72       90   sim  sim\n",
      "8    d9  ensolarado           75       70   sim  sim\n",
      "9   d10     chuvoso           68       80   nao  sim\n",
      "10  d11     nublado           81       75   nao  sim\n",
      "11  d12  ensolarado           85       85   nao  nao\n",
      "12  d13  ensolarado           72       95   nao  nao\n",
      "13  d14     chuvoso           75       80   nao  sim\n"
     ]
    }
   ],
   "execution_count": 3
  },
  {
   "cell_type": "code",
   "metadata": {
    "trusted": true,
    "ExecuteTime": {
     "end_time": "2024-09-05T18:38:12.891538Z",
     "start_time": "2024-09-05T18:38:12.884321Z"
    }
   },
   "source": [
    "contagem = df['joga'].value_counts()\n",
    "print(contagem)\n",
    "porcentagem = contagem / contagem.sum() * 100\n",
    "# Identificar a maioria e a minoria\n",
    "maioria = porcentagem.idxmax()\n",
    "minoria = porcentagem.idxmin()\n",
    "\n",
    "print(f'Maioria: {maioria} ({porcentagem.max():.2f}%)')\n",
    "print(f'Minoria: {minoria} ({porcentagem.min():.2f}%)')"
   ],
   "outputs": [
    {
     "name": "stdout",
     "output_type": "stream",
     "text": [
      "joga\n",
      "sim    9\n",
      "nao    5\n",
      "Name: count, dtype: int64\n",
      "Maioria: sim (64.29%)\n",
      "Minoria: nao (35.71%)\n"
     ]
    }
   ],
   "execution_count": 4
  },
  {
   "cell_type": "code",
   "metadata": {
    "trusted": true,
    "ExecuteTime": {
     "end_time": "2024-09-05T18:38:12.939283Z",
     "start_time": "2024-09-05T18:38:12.931668Z"
    }
   },
   "source": [
    "# Selecionar apenas as colunas numéricas\n",
    "atributos_quantitativos = df.select_dtypes(include=['float64', 'int64'])\n",
    "\n",
    "# Calcular o Q1 (1º quartil) e Q3 (3º quartil)\n",
    "Q1 = atributos_quantitativos.quantile(0.25)\n",
    "Q3 = atributos_quantitativos.quantile(0.75)\n",
    "\n",
    "# Calcular o IQR\n",
    "IQR = Q3 - Q1\n",
    "\n",
    "# Definir os limites para outliers\n",
    "limite_inferior = Q1 - 1.5 * IQR\n",
    "limite_superior = Q3 + 1.5 * IQR\n",
    "\n",
    "# Verificar se existem valores abaixo do limite inferior ou acima do limite superior\n",
    "outliers = (atributos_quantitativos < limite_inferior) | (atributos_quantitativos > limite_superior)\n",
    "print(outliers)\n",
    "\n",
    "# Mostrar os outliers\n",
    "outliers_detectados = atributos_quantitativos[outliers.any(axis=1)]\n",
    "print(outliers_detectados)"
   ],
   "outputs": [
    {
     "name": "stdout",
     "output_type": "stream",
     "text": [
      "    temperatura  umidade\n",
      "0         False    False\n",
      "1         False    False\n",
      "2         False    False\n",
      "3         False    False\n",
      "4         False    False\n",
      "5         False    False\n",
      "6         False    False\n",
      "7         False    False\n",
      "8         False    False\n",
      "9         False    False\n",
      "10        False    False\n",
      "11        False    False\n",
      "12        False    False\n",
      "13        False    False\n",
      "Empty DataFrame\n",
      "Columns: [temperatura, umidade]\n",
      "Index: []\n"
     ]
    }
   ],
   "execution_count": 5
  },
  {
   "cell_type": "code",
   "metadata": {
    "trusted": true,
    "ExecuteTime": {
     "end_time": "2024-09-05T18:38:12.963512Z",
     "start_time": "2024-09-05T18:38:12.959012Z"
    }
   },
   "source": [
    "# Considere que um novo exemplo será colocado no conjunto de dados, em que a umidade é de 85, há vento e a pessoa joga. \n",
    "# Os atributos tempo e temperatura são desconhecidos. \n",
    "# Estime os valores desconhecidos para esse novo exemplo, usando alguma estratégia de preenchimento. Justifique sua resposta.\n",
    "\n",
    "# Preencher o valor desconhecido do atributo 'tempo' com a moda\n",
    "tempo_moda = df['tempo'].mode()[0]\n",
    "\n",
    "# Preencher o valor desconhecido do atributo 'temperatura' com a moda\n",
    "temperatura_moda = df['temperatura'].mode()[0]\n",
    "\n",
    "print(f'Tempo estimado: {tempo_moda}')\n",
    "print(f'Temperatura estimada: {temperatura_moda}')"
   ],
   "outputs": [
    {
     "name": "stdout",
     "output_type": "stream",
     "text": [
      "Tempo estimado: chuvoso\n",
      "Temperatura estimada: 72\n"
     ]
    }
   ],
   "execution_count": 6
  },
  {
   "cell_type": "code",
   "metadata": {
    "trusted": true,
    "ExecuteTime": {
     "end_time": "2024-09-05T18:38:13.004114Z",
     "start_time": "2024-09-05T18:38:13.000312Z"
    }
   },
   "source": [
    "# Preencher o valor desconhecido do atributo 'temperatura' com a média\n",
    "temperatura_media = df['temperatura'].mean()\n",
    "\n",
    "print(f'Temperatura estimada: {temperatura_media}')\n"
   ],
   "outputs": [
    {
     "name": "stdout",
     "output_type": "stream",
     "text": [
      "Temperatura estimada: 73.57142857142857\n"
     ]
    }
   ],
   "execution_count": 7
  },
  {
   "cell_type": "code",
   "metadata": {
    "trusted": true,
    "ExecuteTime": {
     "end_time": "2024-09-05T18:38:13.041445Z",
     "start_time": "2024-09-05T18:38:13.031544Z"
    }
   },
   "source": [
    "# Definindo as categorias para temperatura\n",
    "def categorizar_temperatura(temp):\n",
    "    if temp < 15:\n",
    "        return 'fria'\n",
    "    elif 15 <= temp <= 25:\n",
    "        return 'média'\n",
    "    else:\n",
    "        return 'quente'\n",
    "\n",
    "# Aplicando a função no DataFrame\n",
    "df['temp_discretizada'] = df['temperatura'].apply(categorizar_temperatura)\n",
    "\n",
    "# Definindo as categorias para umidade\n",
    "def categorizar_umidade(umid):\n",
    "    if umid > 75:\n",
    "        return 'alta'\n",
    "    else:\n",
    "        return 'normal'\n",
    "\n",
    "# Aplicando a função no DataFrame\n",
    "df['umidade_discretizada'] = df['umidade'].apply(categorizar_umidade)\n",
    "\n",
    "pd.set_option('display.max_columns', None)  # Mostra todas as colunas sem limitação\n",
    "pd.set_option('display.expand_frame_repr', False)  # Evita a quebra de linha para novas colunas\n",
    "print(df)"
   ],
   "outputs": [
    {
     "name": "stdout",
     "output_type": "stream",
     "text": [
      "    dia       tempo  temperatura  umidade vento joga temp_discretizada umidade_discretizada\n",
      "0    d1     chuvoso           71       91   sim  nao            quente                 alta\n",
      "1    d2  ensolarado           69       70   nao  sim            quente               normal\n",
      "2    d3  ensolarado           80       90   sim  nao            quente                 alta\n",
      "3    d4     nublado           83       86   nao  sim            quente                 alta\n",
      "4    d5     chuvoso           70       96   nao  sim            quente                 alta\n",
      "5    d6     chuvoso           65       70   sim  nao            quente               normal\n",
      "6    d7     nublado           64       65   sim  sim            quente               normal\n",
      "7    d8     nublado           72       90   sim  sim            quente                 alta\n",
      "8    d9  ensolarado           75       70   sim  sim            quente               normal\n",
      "9   d10     chuvoso           68       80   nao  sim            quente                 alta\n",
      "10  d11     nublado           81       75   nao  sim            quente               normal\n",
      "11  d12  ensolarado           85       85   nao  nao            quente                 alta\n",
      "12  d13  ensolarado           72       95   nao  nao            quente                 alta\n",
      "13  d14     chuvoso           75       80   nao  sim            quente                 alta\n"
     ]
    }
   ],
   "execution_count": 8
  },
  {
   "cell_type": "code",
   "metadata": {
    "trusted": true,
    "ExecuteTime": {
     "end_time": "2024-09-05T18:38:13.077651Z",
     "start_time": "2024-09-05T18:38:13.069243Z"
    }
   },
   "source": [
    "# Função para calcular a entropia\n",
    "def calcular_entropia(coluna):\n",
    "    proporcoes = coluna.value_counts(normalize=True)\n",
    "    return -sum(proporcoes * np.log2(proporcoes))\n",
    "\n",
    "# Entropia da classe alvo (Joga)\n",
    "entropia_joga = calcular_entropia(df['joga'])\n",
    "\n",
    "# Função para calcular o ganho de informação de um atributo\n",
    "def ganho_informacao(df, atributo, alvo):\n",
    "    valores = df[atributo].unique()\n",
    "    entropia_condicional = 0\n",
    "    for valor in valores:\n",
    "        subset = df[df[atributo] == valor]\n",
    "        proporcao = len(subset) / len(df)\n",
    "        entropia_condicional += proporcao * calcular_entropia(subset[alvo])\n",
    "    return entropia_joga - entropia_condicional\n",
    "\n",
    "# Calculando o ganho de informação para cada atributo\n",
    "ganho_temp = ganho_informacao(df, 'temp_discretizada', 'joga')\n",
    "ganho_umidade = ganho_informacao(df, 'umidade_discretizada', 'joga')\n",
    "\n",
    "# Resultado\n",
    "print(f\"Ganho de Informação - Temperatura: {ganho_temp}\")\n",
    "print(f\"Ganho de Informação - Umidade: {ganho_umidade}\")\n",
    "\n",
    "# Ranquear os atributos\n",
    "ranking = {\n",
    "    'temp_discretizada': ganho_temp,\n",
    "    'umidade_discretizada': ganho_umidade\n",
    "}\n",
    "\n",
    "ranking_ordenado = sorted(ranking.items(), key=lambda x: x[1], reverse=True)\n",
    "print(\"\\nRanking dos Atributos:\")\n",
    "for atributo, ganho in ranking_ordenado:\n",
    "    print(f\"{atributo}: {ganho}\")\n",
    "    "
   ],
   "outputs": [
    {
     "name": "stdout",
     "output_type": "stream",
     "text": [
      "Ganho de Informação - Temperatura: 0.0\n",
      "Ganho de Informação - Umidade: 0.04533417202914447\n",
      "\n",
      "Ranking dos Atributos:\n",
      "umidade_discretizada: 0.04533417202914447\n",
      "temp_discretizada: 0.0\n"
     ]
    }
   ],
   "execution_count": 9
  }
 ],
 "metadata": {
  "kernelspec": {
   "display_name": "Python 3 (ipykernel)",
   "language": "python",
   "name": "python3"
  },
  "language_info": {
   "codemirror_mode": {
    "name": "ipython",
    "version": 3
   },
   "file_extension": ".py",
   "mimetype": "text/x-python",
   "name": "python",
   "nbconvert_exporter": "python",
   "pygments_lexer": "ipython3",
   "version": "3.12.3"
  }
 },
 "nbformat": 4,
 "nbformat_minor": 4
}

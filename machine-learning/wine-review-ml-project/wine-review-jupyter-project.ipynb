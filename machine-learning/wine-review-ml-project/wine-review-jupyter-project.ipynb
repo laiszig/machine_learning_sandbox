{
 "cells": [
  {
   "cell_type": "code",
   "id": "initial_id",
   "metadata": {
    "collapsed": true,
    "ExecuteTime": {
     "end_time": "2024-09-11T18:46:05.097396Z",
     "start_time": "2024-09-11T18:46:04.482256Z"
    }
   },
   "source": [
    "import pandas as pd\n",
    "pd.set_option(\"display.max_rows\", 5)\n",
    "reviews = pd.read_csv(\"winemag-data-130k-v2.csv\", index_col=0)\n",
    "\n",
    "print(\"Setup complete.\")\n",
    "\n",
    "reviews.head()"
   ],
   "outputs": [
    {
     "name": "stdout",
     "output_type": "stream",
     "text": [
      "Setup complete.\n"
     ]
    },
    {
     "data": {
      "text/plain": [
       "    country                                        description  \\\n",
       "0     Italy  Aromas include tropical fruit, broom, brimston...   \n",
       "1  Portugal  This is ripe and fruity, a wine that is smooth...   \n",
       "2        US  Tart and snappy, the flavors of lime flesh and...   \n",
       "3        US  Pineapple rind, lemon pith and orange blossom ...   \n",
       "4        US  Much like the regular bottling from 2012, this...   \n",
       "\n",
       "                          designation  points  price           province  \\\n",
       "0                        Vulkà Bianco      87    NaN  Sicily & Sardinia   \n",
       "1                            Avidagos      87   15.0              Douro   \n",
       "2                                 NaN      87   14.0             Oregon   \n",
       "3                Reserve Late Harvest      87   13.0           Michigan   \n",
       "4  Vintner's Reserve Wild Child Block      87   65.0             Oregon   \n",
       "\n",
       "              region_1           region_2         taster_name  \\\n",
       "0                 Etna                NaN       Kerin O’Keefe   \n",
       "1                  NaN                NaN          Roger Voss   \n",
       "2    Willamette Valley  Willamette Valley        Paul Gregutt   \n",
       "3  Lake Michigan Shore                NaN  Alexander Peartree   \n",
       "4    Willamette Valley  Willamette Valley        Paul Gregutt   \n",
       "\n",
       "  taster_twitter_handle                                              title  \\\n",
       "0          @kerinokeefe                  Nicosia 2013 Vulkà Bianco  (Etna)   \n",
       "1            @vossroger      Quinta dos Avidagos 2011 Avidagos Red (Douro)   \n",
       "2           @paulgwine       Rainstorm 2013 Pinot Gris (Willamette Valley)   \n",
       "3                   NaN  St. Julian 2013 Reserve Late Harvest Riesling ...   \n",
       "4           @paulgwine   Sweet Cheeks 2012 Vintner's Reserve Wild Child...   \n",
       "\n",
       "          variety               winery  \n",
       "0     White Blend              Nicosia  \n",
       "1  Portuguese Red  Quinta dos Avidagos  \n",
       "2      Pinot Gris            Rainstorm  \n",
       "3        Riesling           St. Julian  \n",
       "4      Pinot Noir         Sweet Cheeks  "
      ],
      "text/html": [
       "<div>\n",
       "<style scoped>\n",
       "    .dataframe tbody tr th:only-of-type {\n",
       "        vertical-align: middle;\n",
       "    }\n",
       "\n",
       "    .dataframe tbody tr th {\n",
       "        vertical-align: top;\n",
       "    }\n",
       "\n",
       "    .dataframe thead th {\n",
       "        text-align: right;\n",
       "    }\n",
       "</style>\n",
       "<table border=\"1\" class=\"dataframe\">\n",
       "  <thead>\n",
       "    <tr style=\"text-align: right;\">\n",
       "      <th></th>\n",
       "      <th>country</th>\n",
       "      <th>description</th>\n",
       "      <th>designation</th>\n",
       "      <th>points</th>\n",
       "      <th>price</th>\n",
       "      <th>province</th>\n",
       "      <th>region_1</th>\n",
       "      <th>region_2</th>\n",
       "      <th>taster_name</th>\n",
       "      <th>taster_twitter_handle</th>\n",
       "      <th>title</th>\n",
       "      <th>variety</th>\n",
       "      <th>winery</th>\n",
       "    </tr>\n",
       "  </thead>\n",
       "  <tbody>\n",
       "    <tr>\n",
       "      <th>0</th>\n",
       "      <td>Italy</td>\n",
       "      <td>Aromas include tropical fruit, broom, brimston...</td>\n",
       "      <td>Vulkà Bianco</td>\n",
       "      <td>87</td>\n",
       "      <td>NaN</td>\n",
       "      <td>Sicily &amp; Sardinia</td>\n",
       "      <td>Etna</td>\n",
       "      <td>NaN</td>\n",
       "      <td>Kerin O’Keefe</td>\n",
       "      <td>@kerinokeefe</td>\n",
       "      <td>Nicosia 2013 Vulkà Bianco  (Etna)</td>\n",
       "      <td>White Blend</td>\n",
       "      <td>Nicosia</td>\n",
       "    </tr>\n",
       "    <tr>\n",
       "      <th>1</th>\n",
       "      <td>Portugal</td>\n",
       "      <td>This is ripe and fruity, a wine that is smooth...</td>\n",
       "      <td>Avidagos</td>\n",
       "      <td>87</td>\n",
       "      <td>15.0</td>\n",
       "      <td>Douro</td>\n",
       "      <td>NaN</td>\n",
       "      <td>NaN</td>\n",
       "      <td>Roger Voss</td>\n",
       "      <td>@vossroger</td>\n",
       "      <td>Quinta dos Avidagos 2011 Avidagos Red (Douro)</td>\n",
       "      <td>Portuguese Red</td>\n",
       "      <td>Quinta dos Avidagos</td>\n",
       "    </tr>\n",
       "    <tr>\n",
       "      <th>2</th>\n",
       "      <td>US</td>\n",
       "      <td>Tart and snappy, the flavors of lime flesh and...</td>\n",
       "      <td>NaN</td>\n",
       "      <td>87</td>\n",
       "      <td>14.0</td>\n",
       "      <td>Oregon</td>\n",
       "      <td>Willamette Valley</td>\n",
       "      <td>Willamette Valley</td>\n",
       "      <td>Paul Gregutt</td>\n",
       "      <td>@paulgwine</td>\n",
       "      <td>Rainstorm 2013 Pinot Gris (Willamette Valley)</td>\n",
       "      <td>Pinot Gris</td>\n",
       "      <td>Rainstorm</td>\n",
       "    </tr>\n",
       "    <tr>\n",
       "      <th>3</th>\n",
       "      <td>US</td>\n",
       "      <td>Pineapple rind, lemon pith and orange blossom ...</td>\n",
       "      <td>Reserve Late Harvest</td>\n",
       "      <td>87</td>\n",
       "      <td>13.0</td>\n",
       "      <td>Michigan</td>\n",
       "      <td>Lake Michigan Shore</td>\n",
       "      <td>NaN</td>\n",
       "      <td>Alexander Peartree</td>\n",
       "      <td>NaN</td>\n",
       "      <td>St. Julian 2013 Reserve Late Harvest Riesling ...</td>\n",
       "      <td>Riesling</td>\n",
       "      <td>St. Julian</td>\n",
       "    </tr>\n",
       "    <tr>\n",
       "      <th>4</th>\n",
       "      <td>US</td>\n",
       "      <td>Much like the regular bottling from 2012, this...</td>\n",
       "      <td>Vintner's Reserve Wild Child Block</td>\n",
       "      <td>87</td>\n",
       "      <td>65.0</td>\n",
       "      <td>Oregon</td>\n",
       "      <td>Willamette Valley</td>\n",
       "      <td>Willamette Valley</td>\n",
       "      <td>Paul Gregutt</td>\n",
       "      <td>@paulgwine</td>\n",
       "      <td>Sweet Cheeks 2012 Vintner's Reserve Wild Child...</td>\n",
       "      <td>Pinot Noir</td>\n",
       "      <td>Sweet Cheeks</td>\n",
       "    </tr>\n",
       "  </tbody>\n",
       "</table>\n",
       "</div>"
      ]
     },
     "execution_count": 27,
     "metadata": {},
     "output_type": "execute_result"
    }
   ],
   "execution_count": 27
  },
  {
   "metadata": {
    "ExecuteTime": {
     "end_time": "2024-09-11T18:46:05.145445Z",
     "start_time": "2024-09-11T18:46:05.136756Z"
    }
   },
   "cell_type": "code",
   "source": [
    "# Median of points column\n",
    "median_points = reviews.points.median()\n",
    "print(median_points)"
   ],
   "id": "8ff67e11a88f9e42",
   "outputs": [
    {
     "name": "stdout",
     "output_type": "stream",
     "text": [
      "88.0\n"
     ]
    }
   ],
   "execution_count": 28
  },
  {
   "metadata": {
    "ExecuteTime": {
     "end_time": "2024-09-11T18:46:05.221713Z",
     "start_time": "2024-09-11T18:46:05.215623Z"
    }
   },
   "cell_type": "code",
   "source": [
    "# Countries represented in the dataset\n",
    "countries = reviews.country.unique()\n",
    "print(countries)"
   ],
   "id": "873100b8b61900b6",
   "outputs": [
    {
     "name": "stdout",
     "output_type": "stream",
     "text": [
      "['Italy' 'Portugal' 'US' 'Spain' 'France' 'Germany' 'Argentina' 'Chile'\n",
      " 'Australia' 'Austria' 'South Africa' 'New Zealand' 'Israel' 'Hungary'\n",
      " 'Greece' 'Romania' 'Mexico' 'Canada' nan 'Turkey' 'Czech Republic'\n",
      " 'Slovenia' 'Luxembourg' 'Croatia' 'Georgia' 'Uruguay' 'England' 'Lebanon'\n",
      " 'Serbia' 'Brazil' 'Moldova' 'Morocco' 'Peru' 'India' 'Bulgaria' 'Cyprus'\n",
      " 'Armenia' 'Switzerland' 'Bosnia and Herzegovina' 'Ukraine' 'Slovakia'\n",
      " 'Macedonia' 'China' 'Egypt']\n"
     ]
    }
   ],
   "execution_count": 29
  },
  {
   "metadata": {
    "ExecuteTime": {
     "end_time": "2024-09-11T18:46:05.323193Z",
     "start_time": "2024-09-11T18:46:05.313180Z"
    }
   },
   "cell_type": "code",
   "source": [
    "# How often a country appears in the dataset\n",
    "reviews_per_country = reviews.country.value_counts()\n",
    "print(reviews_per_country)"
   ],
   "id": "d67ba058eafc16d0",
   "outputs": [
    {
     "name": "stdout",
     "output_type": "stream",
     "text": [
      "country\n",
      "US        54504\n",
      "France    22093\n",
      "          ...  \n",
      "China         1\n",
      "Egypt         1\n",
      "Name: count, Length: 43, dtype: int64\n"
     ]
    }
   ],
   "execution_count": 30
  },
  {
   "metadata": {
    "ExecuteTime": {
     "end_time": "2024-09-11T18:46:05.436183Z",
     "start_time": "2024-09-11T18:46:05.399588Z"
    }
   },
   "cell_type": "code",
   "source": [
    "# Price column with the mean price subtracted\n",
    "review_price_mean = reviews['price'].mean()\n",
    "centered_price = reviews.price.map(lambda p: p - review_price_mean)\n",
    "print(centered_price)"
   ],
   "id": "84aed402b32ffe17",
   "outputs": [
    {
     "name": "stdout",
     "output_type": "stream",
     "text": [
      "0               NaN\n",
      "1        -20.363389\n",
      "            ...    \n",
      "129969    -3.363389\n",
      "129970   -14.363389\n",
      "Name: price, Length: 129971, dtype: float64\n"
     ]
    }
   ],
   "execution_count": 31
  },
  {
   "metadata": {
    "ExecuteTime": {
     "end_time": "2024-09-11T18:46:05.475683Z",
     "start_time": "2024-09-11T18:46:05.466624Z"
    }
   },
   "cell_type": "code",
   "source": [
    "# Calculate the points-to-price ratio\n",
    "reviews['points_to_price_ratio'] = reviews['points'] / reviews['price']\n",
    "\n",
    "# Find the index of the wine with the highest points-to-price ratio\n",
    "best_bargain_index = reviews['points_to_price_ratio'].idxmax()\n",
    "\n",
    "# Get the title of that wine\n",
    "bargain_wine = reviews.loc[best_bargain_index, 'title']\n",
    "print(bargain_wine)"
   ],
   "id": "ba6aab74d4eaace9",
   "outputs": [
    {
     "name": "stdout",
     "output_type": "stream",
     "text": [
      "Bandit NV Merlot (California)\n"
     ]
    }
   ],
   "execution_count": 32
  },
  {
   "metadata": {
    "ExecuteTime": {
     "end_time": "2024-09-11T18:46:05.568464Z",
     "start_time": "2024-09-11T18:46:05.501553Z"
    }
   },
   "cell_type": "code",
   "source": [
    "# Count how many times \"tropical\" and \"fruity\" appear in the description column\n",
    "n_trop = reviews.description.map(lambda desc: \"tropical\" in desc).sum()\n",
    "n_fruity = reviews.description.map(lambda desc: \"fruity\" in desc).sum()\n",
    "\n",
    "# Create a Series with the results\n",
    "descriptor_counts = pd.Series([n_trop, n_fruity], index=['tropical', 'fruity'])\n",
    "print(descriptor_counts)"
   ],
   "id": "7813bd3e3b31a347",
   "outputs": [
    {
     "name": "stdout",
     "output_type": "stream",
     "text": [
      "tropical    3607\n",
      "fruity      9090\n",
      "dtype: int64\n"
     ]
    }
   ],
   "execution_count": 33
  },
  {
   "metadata": {
    "ExecuteTime": {
     "end_time": "2024-09-11T18:46:06.667271Z",
     "start_time": "2024-09-11T18:46:05.595515Z"
    }
   },
   "cell_type": "code",
   "source": [
    "# Defining start column according to score of 95 or higher counts as 3 stars, a score of at least 85 but less than 95 is 2 stars. Any other score is 1 star. All Canadian wines get 3 stars.\n",
    "\n",
    "def stars(row):\n",
    "    if row.country == 'Canada':\n",
    "       return 3\n",
    "    elif row.points >= 95:\n",
    "       return 3\n",
    "    elif row.points >= 85:\n",
    "       return 2\n",
    "    else:\n",
    "       return 1\n",
    "\n",
    "reviews[\"stars\"] = reviews.apply(lambda x: stars(x), axis = 1)\n",
    "\n",
    "star_ratings = reviews[\"stars\"]\n",
    "print(star_ratings)"
   ],
   "id": "a9deb75760321d2c",
   "outputs": [
    {
     "name": "stdout",
     "output_type": "stream",
     "text": [
      "0         2\n",
      "1         2\n",
      "         ..\n",
      "129969    2\n",
      "129970    2\n",
      "Name: stars, Length: 129971, dtype: int64\n"
     ]
    }
   ],
   "execution_count": 34
  },
  {
   "metadata": {
    "ExecuteTime": {
     "end_time": "2024-09-11T18:46:06.719370Z",
     "start_time": "2024-09-11T18:46:06.698309Z"
    }
   },
   "cell_type": "code",
   "source": [
    "# Count how many reviews each person wrote\n",
    "\n",
    "reviews_written = reviews.groupby('taster_twitter_handle').size()\n",
    "# or\n",
    "reviews_written = reviews.groupby('taster_twitter_handle').taster_twitter_handle.count()\n",
    "\n",
    "print(reviews_written)"
   ],
   "id": "84ebf5ac050eb873",
   "outputs": [
    {
     "name": "stdout",
     "output_type": "stream",
     "text": [
      "taster_twitter_handle\n",
      "@AnneInVino        3685\n",
      "@JoeCz             5147\n",
      "                   ... \n",
      "@winewchristina       6\n",
      "@worldwineguys     1005\n",
      "Name: taster_twitter_handle, Length: 15, dtype: int64\n"
     ]
    }
   ],
   "execution_count": 35
  },
  {
   "metadata": {
    "ExecuteTime": {
     "end_time": "2024-09-11T18:46:06.754729Z",
     "start_time": "2024-09-11T18:46:06.745617Z"
    }
   },
   "cell_type": "code",
   "source": [
    "# Group the data by price and find the maximum points for each price\n",
    "best_wine_per_price = reviews.groupby('price')['points'].max()\n",
    "\n",
    "# Sort the Series by price in ascending order\n",
    "best_wine_per_price_sorted = best_wine_per_price.sort_index()\n",
    "\n",
    "# This is the desired Series where index is price and values are the max points\n",
    "best_wine_per_price_sorted\n"
   ],
   "id": "7732bc8e3c609def",
   "outputs": [
    {
     "data": {
      "text/plain": [
       "price\n",
       "4.0       86\n",
       "5.0       87\n",
       "          ..\n",
       "2500.0    96\n",
       "3300.0    88\n",
       "Name: points, Length: 390, dtype: int64"
      ]
     },
     "execution_count": 36,
     "metadata": {},
     "output_type": "execute_result"
    }
   ],
   "execution_count": 36
  },
  {
   "metadata": {
    "ExecuteTime": {
     "end_time": "2024-09-11T18:46:06.807291Z",
     "start_time": "2024-09-11T18:46:06.794782Z"
    }
   },
   "cell_type": "code",
   "source": [
    "# Minimum and maximum prices for each variety of wine? DataFrame whose index is the variety category from the dataset and whose values are the min and max values thereof.\n",
    "price_extremes = reviews.groupby('variety')['price'].agg(['min', 'max'])\n",
    "print(price_extremes)"
   ],
   "id": "7ae923bd079f8d16",
   "outputs": [
    {
     "name": "stdout",
     "output_type": "stream",
     "text": [
      "              min   max\n",
      "variety                \n",
      "Abouriou     15.0  75.0\n",
      "Agiorgitiko  10.0  66.0\n",
      "...           ...   ...\n",
      "Çalkarası    19.0  19.0\n",
      "Žilavka      15.0  15.0\n",
      "\n",
      "[707 rows x 2 columns]\n"
     ]
    }
   ],
   "execution_count": 37
  },
  {
   "metadata": {
    "ExecuteTime": {
     "end_time": "2024-09-11T18:46:26.636393Z",
     "start_time": "2024-09-11T18:46:26.631096Z"
    }
   },
   "cell_type": "code",
   "source": [
    "# What are the most expensive wine varieties? Copy of the dataframe from the previous exercise where varieties are sorted in descending order based on minimum price, then on maximum price (to break ties)\n",
    "sorted_varieties = price_extremes.sort_values(by=['min', 'max'], ascending=[False, False])\n",
    "print(sorted_varieties)"
   ],
   "id": "f52b152ebaba4833",
   "outputs": [
    {
     "name": "stdout",
     "output_type": "stream",
     "text": [
      "             min    max\n",
      "variety                \n",
      "Ramisco    495.0  495.0\n",
      "Terrantez  236.0  236.0\n",
      "...          ...    ...\n",
      "Vital        NaN    NaN\n",
      "Zelen        NaN    NaN\n",
      "\n",
      "[707 rows x 2 columns]\n"
     ]
    }
   ],
   "execution_count": 39
  },
  {
   "metadata": {
    "ExecuteTime": {
     "end_time": "2024-09-11T18:49:20.974593Z",
     "start_time": "2024-09-11T18:49:20.960853Z"
    }
   },
   "cell_type": "code",
   "source": [
    "# Create a Series whose index is reviewers and whose values is the average review score given out by that reviewer\n",
    "reviewer_mean_ratings = reviews.groupby('taster_name')['points'].mean()\n",
    "print(reviewer_mean_ratings)"
   ],
   "id": "88ee9f3906f2740",
   "outputs": [
    {
     "name": "stdout",
     "output_type": "stream",
     "text": [
      "taster_name\n",
      "Alexander Peartree    85.855422\n",
      "Anna Lee C. Iijima    88.415629\n",
      "                        ...    \n",
      "Susan Kostrzewa       86.609217\n",
      "Virginie Boone        89.213379\n",
      "Name: points, Length: 19, dtype: float64\n"
     ]
    }
   ],
   "execution_count": 40
  },
  {
   "metadata": {
    "ExecuteTime": {
     "end_time": "2024-09-11T18:50:07.798353Z",
     "start_time": "2024-09-11T18:50:07.790235Z"
    }
   },
   "cell_type": "code",
   "source": [
    "# Summary of the range of values.\n",
    "reviewer_mean_ratings.describe()"
   ],
   "id": "5cc683366200f874",
   "outputs": [
    {
     "data": {
      "text/plain": [
       "count    19.000000\n",
       "mean     88.233026\n",
       "           ...    \n",
       "75%      88.975256\n",
       "max      90.562551\n",
       "Name: points, Length: 8, dtype: float64"
      ]
     },
     "execution_count": 41,
     "metadata": {},
     "output_type": "execute_result"
    }
   ],
   "execution_count": 41
  }
 ],
 "metadata": {
  "kernelspec": {
   "display_name": "Python 3",
   "language": "python",
   "name": "python3"
  },
  "language_info": {
   "codemirror_mode": {
    "name": "ipython",
    "version": 2
   },
   "file_extension": ".py",
   "mimetype": "text/x-python",
   "name": "python",
   "nbconvert_exporter": "python",
   "pygments_lexer": "ipython2",
   "version": "2.7.6"
  }
 },
 "nbformat": 4,
 "nbformat_minor": 5
}

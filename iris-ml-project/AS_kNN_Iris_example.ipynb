{
  "cells": [
    {
      "cell_type": "markdown",
      "metadata": {
        "id": "9a034c2c"
      },
      "source": [
        "## Aprendizado Supervisionado\n",
        "### prof. Duncan\n",
        "Prática com KNN e Iris"
      ],
      "id": "9a034c2c"
    },
    {
      "cell_type": "code",
      "execution_count": null,
      "metadata": {
        "id": "7370d2c9"
      },
      "outputs": [],
      "source": [
        "#pacote para profiling de datasets\n",
        "#!pip install ydata_profiling\n",
        "# pacotes básicos\n",
        "import math\n",
        "import numpy as np\n",
        "import pandas as pd\n",
        "import matplotlib.pyplot as plt\n",
        "#from ydata_profiling import ProfileReport\n",
        "\n",
        "\n",
        "# pacotes do sklearn para acesso a datasets, preparação, modelagem e avaliação\n",
        "from sklearn import datasets\n",
        "#\n",
        "# pacote para separação entre treino e teste\n",
        "from sklearn.model_selection import train_test_split\n",
        "#\n",
        "# arsenal de preparação\n",
        "from sklearn.preprocessing import MinMaxScaler # rescala em min-max\n",
        "from sklearn.preprocessing import StandardScaler # padroniza features removendo média e\n",
        "#     escalando para variância unitária. Também chamado de z-score\n",
        "#\n",
        "# pacote pipeline para combinar preparação e modelagem\n",
        "from sklearn.pipeline import Pipeline, make_pipeline\n",
        "#\n",
        "# pacotes para validação cruzada\n",
        "from sklearn.model_selection import KFold\n",
        "from sklearn.model_selection import StratifiedKFold\n",
        "from sklearn.model_selection import GridSearchCV\n",
        "#\n",
        "# pacotes de indução de modelos\n",
        "from sklearn.neighbors import KNeighborsClassifier\n",
        "#\n",
        "# pacotes para avaliação dos resultados\n",
        "from sklearn.metrics import accuracy_score\n",
        "from sklearn.metrics import confusion_matrix\n",
        "from sklearn.metrics import ConfusionMatrixDisplay\n",
        "from sklearn.inspection import DecisionBoundaryDisplay\n",
        "from sklearn.metrics import RocCurveDisplay\n",
        "from sklearn.tree import plot_tree, export_graphviz, export_text\n",
        "\n",
        "#pacotes para apoio a leitura e gravação de datasets\n",
        "from pathlib import Path\n",
        "import csv\n",
        "\n",
        "#pacotes para visualização e formatação\n",
        "import pprint\n",
        "import graphviz\n",
        "#\n",
        "# configurações para os diferentes pacotes\n",
        "pd.set_option('display.max_columns', None)\n",
        "pd.set_option('display.max_rows', None)\n"
      ],
      "id": "7370d2c9"
    },
    {
      "cell_type": "code",
      "execution_count": null,
      "metadata": {
        "id": "e4437524"
      },
      "outputs": [],
      "source": [
        "# carga de dados\n",
        "iris = datasets.load_iris(as_frame=True)\n",
        "print(iris.DESCR)"
      ],
      "id": "e4437524"
    },
    {
      "cell_type": "code",
      "execution_count": null,
      "metadata": {
        "id": "2c45f2ab"
      },
      "outputs": [],
      "source": [
        "# separação em features e target e profiling do dataset\n",
        "X = iris.data\n",
        "y = iris.target\n",
        "Xy = iris.frame\n",
        "#relatorio = ProfileReport(Xy, title=\"Iris data set\")\n",
        "#relatorio.to_notebook_iframe()\n"
      ],
      "id": "2c45f2ab"
    },
    {
      "cell_type": "code",
      "source": [
        "Xy"
      ],
      "metadata": {
        "id": "ebC7a383ldz2"
      },
      "id": "ebC7a383ldz2",
      "execution_count": null,
      "outputs": []
    },
    {
      "cell_type": "code",
      "execution_count": null,
      "metadata": {
        "id": "35TJ9qrxvh0C"
      },
      "outputs": [],
      "source": [
        "# procedimento para listar treino e teste\n",
        "def lista_treino_teste(treino_X, treino_y, teste_X, teste_y):\n",
        "  treino = treino_X.copy()\n",
        "  treino.set_axis(['sepallength', 'sepalwidth', 'petallength', 'petalwidth'], axis=\"columns\", copy=False)\n",
        "  treino['class'] = treino_y.copy()\n",
        "  teste = teste_X.copy()\n",
        "  teste.set_axis(['sepallength', 'sepalwidth', 'petallength', 'petalwidth'], axis=\"columns\", copy=False)\n",
        "  teste['class'] = teste_y.copy()\n",
        "  treinoteste = pd.concat([treino, teste], ignore_index=True)\n",
        "  print(treino_X.shape)\n",
        "  print(treino_y.shape)\n",
        "  print(teste_X.shape)\n",
        "  print(teste_y.shape)\n",
        "  print(np.stack(np.unique(teste_y, return_counts=True), axis=1))\n",
        "  print(treinoteste.to_string())\n"
      ],
      "id": "35TJ9qrxvh0C"
    },
    {
      "cell_type": "code",
      "execution_count": null,
      "metadata": {
        "id": "c6d9a145"
      },
      "outputs": [],
      "source": [
        "# separação em treino e teste, e X e y\n",
        "# importante fazer ANTES do pipeline para evitar data leakage\n",
        "\n",
        "tr_unsh_X, te_unsh_X, tr_unsh_y, te_unsh_y = train_test_split(X, y, random_state=0,test_size=0.333, shuffle=False)\n",
        "\n",
        "treino_X, teste_X, treino_y, teste_y = train_test_split(X, y, random_state=46,test_size=0.333, stratify=y)\n"
      ],
      "id": "c6d9a145"
    },
    {
      "cell_type": "code",
      "execution_count": null,
      "metadata": {
        "id": "ecO3Bv6nAN0i"
      },
      "outputs": [],
      "source": [
        "lista_treino_teste(tr_unsh_X, tr_unsh_y, te_unsh_X, te_unsh_y)"
      ],
      "id": "ecO3Bv6nAN0i"
    },
    {
      "cell_type": "code",
      "execution_count": null,
      "metadata": {
        "id": "cEzi6TFxAMsC"
      },
      "outputs": [],
      "source": [
        "lista_treino_teste(treino_X, treino_y, teste_X, teste_y)"
      ],
      "id": "cEzi6TFxAMsC"
    },
    {
      "cell_type": "code",
      "execution_count": null,
      "metadata": {
        "id": "QfmBkuta9zIr"
      },
      "outputs": [],
      "source": [
        "# configurações para experimentos\n",
        "\n",
        "n_vizinhos = [1, 3, 5, 7, 9, 11, 13]\n",
        "#n_vizinhos = [1, 3, 5]\n",
        "\n",
        "k_splits = 10\n"
      ],
      "id": "QfmBkuta9zIr"
    },
    {
      "cell_type": "markdown",
      "metadata": {
        "id": "PbE8mzeLX7BI"
      },
      "source": [
        "## Experimento sem reescala de valores e sem embaralhamento dos dados"
      ],
      "id": "PbE8mzeLX7BI"
    },
    {
      "cell_type": "code",
      "execution_count": null,
      "metadata": {
        "id": "fiz4fRc9Bwi4"
      },
      "outputs": [],
      "source": [
        "# indução do modelo para diferentes números de vizinhos\n",
        "\n",
        "for n in n_vizinhos:\n",
        "    modelo = KNeighborsClassifier(n_neighbors=n)\n",
        "    modelo.fit(tr_unsh_X, tr_unsh_y)\n",
        "    te_unsh_pred_y = modelo.predict(te_unsh_X)\n",
        "    acuracia = accuracy_score(te_unsh_y, te_unsh_pred_y)\n",
        "    resultado = confusion_matrix(te_unsh_y, te_unsh_pred_y)\n",
        "    confusion_matrix_display = ConfusionMatrixDisplay(resultado).plot()\n",
        "    fig = confusion_matrix_display.figure_\n",
        "    fig.set_figheight(3)\n",
        "    fig.set_figwidth(3)\n",
        "    print('k=', n,'  Acuracia=', acuracia)\n"
      ],
      "id": "fiz4fRc9Bwi4"
    },
    {
      "cell_type": "markdown",
      "metadata": {
        "id": "ejOsfHpCYEni"
      },
      "source": [
        "## Experimento sem reescala de valores e com embaralhamento dos dados"
      ],
      "id": "ejOsfHpCYEni"
    },
    {
      "cell_type": "code",
      "execution_count": null,
      "metadata": {
        "id": "84e6bea0"
      },
      "outputs": [],
      "source": [
        "# indução do modelo para diferentes números de vizinhos\n",
        "\n",
        "for n in n_vizinhos:\n",
        "    modelo = KNeighborsClassifier(n_neighbors=n)\n",
        "    modelo.fit(treino_X, treino_y)\n",
        "    teste_pred_y = modelo.predict(teste_X)\n",
        "    acuracia = accuracy_score(teste_y, teste_pred_y)\n",
        "    resultado = confusion_matrix(teste_y, teste_pred_y)\n",
        "    confusion_matrix_display = ConfusionMatrixDisplay(resultado).plot()\n",
        "    fig = confusion_matrix_display.figure_\n",
        "    fig.set_figheight(3)\n",
        "    fig.set_figwidth(3)\n",
        "    print('k=', n,'  Acuracia=', acuracia)\n",
        "\n"
      ],
      "id": "84e6bea0"
    },
    {
      "cell_type": "markdown",
      "metadata": {
        "id": "a7NeVZRAYJfb"
      },
      "source": [
        "### Modelagem usando validação cruzada e com indução explícita para cada pasta"
      ],
      "id": "a7NeVZRAYJfb"
    },
    {
      "cell_type": "code",
      "execution_count": null,
      "metadata": {
        "id": "0sQdV35bzu4M"
      },
      "outputs": [],
      "source": [
        "%%time\n",
        "# indução do modelo para diferentes números de vizinhos com validação cruzada\n",
        "\n",
        "for n in n_vizinhos:\n",
        "    acuracia = np.zeros(k_splits)\n",
        "    modelo = KNeighborsClassifier(n_neighbors=n)\n",
        "#    kf = KFold(n_splits=k_splits, random_state=None, shuffle=False)\n",
        "    kf = StratifiedKFold(n_splits=k_splits, random_state=46,shuffle=True)\n",
        "    print('k={} ------------------------'.format(n))\n",
        "    for i, (tr_index, te_index) in enumerate(kf.split(X, y)):\n",
        "      tr_X = X.iloc[tr_index]\n",
        "      te_X = X.iloc[te_index]\n",
        "      tr_y = np.ravel(y.iloc[tr_index])\n",
        "      te_y = np.ravel(y.iloc[te_index])\n",
        "      modelo.fit(tr_X, tr_y)\n",
        "      te_pred_y = modelo.predict(te_X)\n",
        "      acuracia[i] = accuracy_score(te_y, te_pred_y)\n",
        "      print('k={} i={} Acuracia={:.3f}'.format(n, i, acuracia[i]))\n",
        "      resultado = confusion_matrix(te_y, te_pred_y)\n",
        "      confusion_matrix_display = ConfusionMatrixDisplay(resultado).plot()\n",
        "      fig = confusion_matrix_display.figure_\n",
        "      fig.set_figheight(3)\n",
        "      fig.set_figwidth(3)\n",
        "    print('k={}  Acuracia={:.3f}'.format(n, np.mean(acuracia)))\n",
        "\n"
      ],
      "id": "0sQdV35bzu4M"
    },
    {
      "cell_type": "code",
      "source": [
        "print(list(enumerate(kf.split(X, y))))"
      ],
      "metadata": {
        "id": "sVZu0nIKJ0tU"
      },
      "id": "sVZu0nIKJ0tU",
      "execution_count": null,
      "outputs": []
    },
    {
      "cell_type": "markdown",
      "metadata": {
        "id": "JrcgonxlYkWC"
      },
      "source": [
        "## Modelagem com validação cruzada e com busca exaustiva pelos parâmetros"
      ],
      "id": "JrcgonxlYkWC"
    },
    {
      "cell_type": "code",
      "execution_count": null,
      "metadata": {
        "id": "5r4MTnQQYNin"
      },
      "outputs": [],
      "source": [
        "# indução do modelo para diferentes números de vizinhos com validação cruzada\n",
        "\n",
        "parametros = { 'n_neighbors': n_vizinhos, 'weights':['uniform', 'distance']}\n",
        "modelo = KNeighborsClassifier()\n",
        "valcruz = GridSearchCV(modelo, parametros,cv=k_splits)\n",
        "valcruz.fit(X, y)\n",
        "resultados = pd.DataFrame(valcruz.cv_results_).sort_values(by='rank_test_score')\n",
        "print('Melhor resultado - Número vizinhos:{}   Pesos:{}    Acurácia média:{:.3f}'.format(\n",
        "    resultados['param_n_neighbors'].iloc[0],\n",
        "    resultados['param_weights'].iloc[0],\n",
        "    resultados['mean_test_score'].iloc[0]))\n"
      ],
      "id": "5r4MTnQQYNin"
    },
    {
      "cell_type": "code",
      "source": [
        "resultados"
      ],
      "metadata": {
        "id": "0doDm5yTVLL_"
      },
      "id": "0doDm5yTVLL_",
      "execution_count": null,
      "outputs": []
    },
    {
      "cell_type": "code",
      "source": [
        "valcruz.cv_results_['params']"
      ],
      "metadata": {
        "id": "j5DBjPLxTr7f"
      },
      "id": "j5DBjPLxTr7f",
      "execution_count": null,
      "outputs": []
    },
    {
      "cell_type": "markdown",
      "metadata": {
        "id": "YOI6xwFAUk8Q"
      },
      "source": [
        "## Experimentos com reescala de valores\n",
        "### Preparação e modelagem, cuidando para não ocorrer data leakage\n",
        "\n",
        "### Experimento sem embaralhamento dos dados\n"
      ],
      "id": "YOI6xwFAUk8Q"
    },
    {
      "cell_type": "code",
      "execution_count": null,
      "metadata": {
        "id": "VL0Zc5aaCRl3"
      },
      "outputs": [],
      "source": [
        "# protocolo experimental versão\n",
        "\n",
        "for n in n_vizinhos:\n",
        "  escalonador = MinMaxScaler()\n",
        "#  escalonador = StandardScaler()\n",
        "  estimador = KNeighborsClassifier(n_neighbors= n)\n",
        "  tr_unsh_X_escalonado = escalonador.fit_transform(tr_unsh_X, tr_unsh_y)\n",
        "  estimador.fit(tr_unsh_X_escalonado, tr_unsh_y)\n",
        "  te_unsh_X_escalonado = escalonador.transform(te_unsh_X)\n",
        "  te_unsh_pred_y = estimador.predict(te_unsh_X_escalonado)\n",
        "  acuracia = accuracy_score(te_unsh_y, te_unsh_pred_y)\n",
        "  resultado = confusion_matrix(te_unsh_y, te_unsh_pred_y)\n",
        "  confusion_matrix_display = ConfusionMatrixDisplay(resultado).plot()\n",
        "  fig = confusion_matrix_display.figure_\n",
        "  fig.set_figheight(3)\n",
        "  fig.set_figwidth(3)\n",
        "  print('k={}  Acuracia={:.3f}'.format(n, acuracia))"
      ],
      "id": "VL0Zc5aaCRl3"
    },
    {
      "cell_type": "markdown",
      "metadata": {
        "id": "DGWStGDvbRLm"
      },
      "source": [
        "### Experimento com reescala e embaralhamento dos dados"
      ],
      "id": "DGWStGDvbRLm"
    },
    {
      "cell_type": "code",
      "execution_count": null,
      "metadata": {
        "id": "FteMCJSXUthU"
      },
      "outputs": [],
      "source": [
        "# protocolo experimental\n",
        "\n",
        "for n in n_vizinhos:\n",
        "  escalonador = MinMaxScaler()\n",
        "#  escalonador = StandardScaler()\n",
        "  estimador = KNeighborsClassifier(n_neighbors= n)\n",
        "  treino_X_escalonado = escalonador.fit_transform(treino_X, treino_y)\n",
        "  estimador.fit(treino_X_escalonado, treino_y)\n",
        "  teste_X_escalonado = escalonador.transform(teste_X)\n",
        "  teste_pred_y = estimador.predict(teste_X_escalonado)\n",
        "  acuracia = accuracy_score(teste_y, teste_pred_y)\n",
        "  resultado = confusion_matrix(teste_y, teste_pred_y)\n",
        "  confusion_matrix_display = ConfusionMatrixDisplay(resultado).plot()\n",
        "  fig = confusion_matrix_display.figure_\n",
        "  fig.set_figheight(3)\n",
        "  fig.set_figwidth(3)\n",
        "  print('k={}  Acuracia={:.3f}'.format(n, acuracia))"
      ],
      "id": "FteMCJSXUthU"
    },
    {
      "cell_type": "code",
      "execution_count": null,
      "metadata": {
        "id": "dGoseenZYgT-"
      },
      "outputs": [],
      "source": [
        "# conteúdo de X e y com reescala de valores\n",
        "\n",
        "treino_escalonado = pd.DataFrame({'sepallength': treino_X_escalonado[:, 0],\n",
        "                                  'sepalwidth': treino_X_escalonado[:, 1],\n",
        "                                  'petallength': treino_X_escalonado[:, 2],\n",
        "                                  'petalwidth': treino_X_escalonado[:, 3],\n",
        "                                  'class': treino_y})\n",
        "\n",
        "teste_escalonado = pd.DataFrame({'sepallength': teste_X_escalonado[:, 0],\n",
        "                                  'sepalwidth': teste_X_escalonado[:, 1],\n",
        "                                  'petallength': teste_X_escalonado[:, 2],\n",
        "                                  'petalwidth': teste_X_escalonado[:, 3],\n",
        "                                  'class': teste_y})"
      ],
      "id": "dGoseenZYgT-"
    },
    {
      "cell_type": "code",
      "execution_count": null,
      "metadata": {
        "id": "JCZTnLr-Y9M5"
      },
      "outputs": [],
      "source": [
        "iris_escalonado = pd.concat([treino_escalonado, teste_escalonado], ignore_index=True)\n",
        "print(iris_escalonado.to_string())"
      ],
      "id": "JCZTnLr-Y9M5"
    },
    {
      "cell_type": "code",
      "source": [
        "iris_escalonado.dtypes\n"
      ],
      "metadata": {
        "id": "xRNLUUM-ln4G"
      },
      "id": "xRNLUUM-ln4G",
      "execution_count": null,
      "outputs": []
    },
    {
      "cell_type": "markdown",
      "metadata": {
        "id": "EH28_bPXbfpD"
      },
      "source": [
        "## Experimento com reescala de valores, embaralhamento e busca exaustiva nos parâmetros"
      ],
      "id": "EH28_bPXbfpD"
    },
    {
      "cell_type": "code",
      "execution_count": null,
      "metadata": {
        "id": "ssdTpUQ-8qqF"
      },
      "outputs": [],
      "source": [
        "# protocolo experimental com preparação e modelagem\n",
        "modelo = Pipeline(steps=[\n",
        "    ('reescala', MinMaxScaler()),\n",
        "     ('modelagem', KNeighborsClassifier())\n",
        "    ])\n",
        "parametros = {'modelagem__n_neighbors':n_vizinhos}\n",
        "kfold = KFold(n_splits=k_splits, shuffle=True, random_state=0)\n",
        "grade = GridSearchCV(modelo, param_grid=parametros, cv=kfold)\n",
        "grade.fit(X,y)\n",
        "print('Melhor k:{}  score:{:0.3f}'.format(grade.best_params_, grade.best_score_))"
      ],
      "id": "ssdTpUQ-8qqF"
    },
    {
      "cell_type": "code",
      "source": [
        "grade"
      ],
      "metadata": {
        "id": "k8zl25fDcYXW"
      },
      "id": "k8zl25fDcYXW",
      "execution_count": null,
      "outputs": []
    },
    {
      "cell_type": "code",
      "source": [
        "resultados = pd.DataFrame(grade.cv_results_).sort_values(by='rank_test_score')\n",
        "resultados"
      ],
      "metadata": {
        "id": "UR1x0GHX99Tb"
      },
      "id": "UR1x0GHX99Tb",
      "execution_count": null,
      "outputs": []
    },
    {
      "cell_type": "markdown",
      "source": [
        "### Captura dos melhores parâmetros para indução do modelo de aprendizado"
      ],
      "metadata": {
        "id": "w1Kwn0aZawMu"
      },
      "id": "w1Kwn0aZawMu"
    },
    {
      "cell_type": "code",
      "source": [
        "# captura da melhor configuração\n",
        "n_neighbors_best = grade.best_params_['modelagem__n_neighbors']\n",
        "escalonador = MinMaxScaler()\n",
        "modelo = KNeighborsClassifier(n_neighbors=n_neighbors_best)\n",
        "treino_X_escalonado = escalonador.fit_transform(treino_X, treino_y)\n",
        "teste_X_escalonado = escalonador.transform(teste_X)\n",
        "modelo.fit(treino_X_escalonado, treino_y)\n",
        "teste_pred_y = modelo.predict(teste_X_escalonado)\n",
        "acuracia = accuracy_score(teste_y, teste_pred_y)\n",
        "resultado = confusion_matrix(teste_y, teste_pred_y)\n",
        "confusion_matrix_display = ConfusionMatrixDisplay(resultado).plot()\n",
        "fig = confusion_matrix_display.figure_\n",
        "fig.set_figheight(3)\n",
        "fig.set_figwidth(3)\n",
        "print('k=', n_neighbors_best,'  Acuracia=', acuracia)\n",
        "\n"
      ],
      "metadata": {
        "id": "qwIRwHSKdTIv"
      },
      "id": "qwIRwHSKdTIv",
      "execution_count": null,
      "outputs": []
    },
    {
      "cell_type": "markdown",
      "source": [
        "## Mostra da distribuição de pontos e classes, para petallength e petalwidth, no treino"
      ],
      "metadata": {
        "id": "Xkf1r-LFjuk6"
      },
      "id": "Xkf1r-LFjuk6"
    },
    {
      "cell_type": "code",
      "source": [
        "X_mostra = treino_X_escalonado[:, 2:4].copy()\n",
        "modelo_mostra = KNeighborsClassifier(n_neighbors=n_neighbors_best)\n",
        "modelo_mostra.fit(X_mostra, treino_y)\n",
        "mostra = DecisionBoundaryDisplay.from_estimator(\n",
        "    modelo_mostra,\n",
        "    X_mostra,\n",
        "    response_method=\"predict\",\n",
        "    cmap=plt.cm.Set3,\n",
        "    xlabel='petallength',\n",
        "    ylabel='petalwidth',\n",
        ")\n",
        "mostra.ax_.scatter(\n",
        "    X_mostra[:, 0], X_mostra[:, 1], c=treino_y, s=50,\n",
        "    cmap=plt.cm.viridis, edgecolor=\"black\", linewidth=1\n",
        ")"
      ],
      "metadata": {
        "id": "2ICtU7lMc4w-"
      },
      "id": "2ICtU7lMc4w-",
      "execution_count": null,
      "outputs": []
    },
    {
      "cell_type": "markdown",
      "source": [
        "## Agora, no teste"
      ],
      "metadata": {
        "id": "de3jiw7er-rB"
      },
      "id": "de3jiw7er-rB"
    },
    {
      "cell_type": "code",
      "source": [
        "X_mostra = teste_X_escalonado[:, 2:4].copy()\n",
        "mostra = DecisionBoundaryDisplay.from_estimator(\n",
        "    modelo_mostra,\n",
        "    X_mostra,\n",
        "    response_method=\"predict\",\n",
        "    cmap=plt.cm.Set3,\n",
        "    xlabel='petallength',\n",
        "    ylabel='petalwidth',\n",
        ")\n",
        "mostra.ax_.scatter(\n",
        "    X_mostra[:, 0], X_mostra[:, 1], c=teste_y, s=50,\n",
        "    cmap=plt.cm.viridis, edgecolor=\"black\", linewidth=1\n",
        ")"
      ],
      "metadata": {
        "id": "mxynuW8rnoJf"
      },
      "id": "mxynuW8rnoJf",
      "execution_count": null,
      "outputs": []
    },
    {
      "cell_type": "code",
      "source": [],
      "metadata": {
        "id": "Nk5e3GOXsJkB"
      },
      "id": "Nk5e3GOXsJkB",
      "execution_count": null,
      "outputs": []
    }
  ],
  "metadata": {
    "colab": {
      "provenance": []
    },
    "kernelspec": {
      "display_name": "Python 3",
      "language": "python",
      "name": "python3"
    },
    "language_info": {
      "codemirror_mode": {
        "name": "ipython",
        "version": 3
      },
      "file_extension": ".py",
      "mimetype": "text/x-python",
      "name": "python",
      "nbconvert_exporter": "python",
      "pygments_lexer": "ipython3",
      "version": "3.8.5"
    }
  },
  "nbformat": 4,
  "nbformat_minor": 5
}
{
  "metadata": {
    "kernelspec": {
      "name": "python",
      "display_name": "Python (Pyodide)",
      "language": "python"
    },
    "language_info": {
      "codemirror_mode": {
        "name": "python",
        "version": 3
      },
      "file_extension": ".py",
      "mimetype": "text/x-python",
      "name": "python",
      "nbconvert_exporter": "python",
      "pygments_lexer": "ipython3",
      "version": "3.8"
    }
  },
  "nbformat_minor": 4,
  "nbformat": 4,
  "cells": [
    {
      "cell_type": "code",
      "source": "import pandas as pd\nfrom scipy.stats import skew, kurtosis",
      "metadata": {
        "trusted": true
      },
      "outputs": [
        {
          "name": "stderr",
          "text": "<ipython-input-2-21e65916dfb8>:1: DeprecationWarning: \nPyarrow will become a required dependency of pandas in the next major release of pandas (pandas 3.0),\n(to allow more performant data types, such as the Arrow string type, and better interoperability with other libraries)\nbut was not found to be installed on your system.\nIf this would cause problems for you,\nplease provide us feedback at https://github.com/pandas-dev/pandas/issues/54466\n        \n  import pandas as pd\n",
          "output_type": "stream"
        }
      ],
      "execution_count": 2
    },
    {
      "cell_type": "code",
      "source": "df = pd.read_csv('hospital.csv')\nprint(df)",
      "metadata": {
        "trusted": true
      },
      "outputs": [
        {
          "name": "stdout",
          "text": "     id     nome  idade sexo  peso       manchas  temp  int est diagnostico\n0  4201     joao     28    M    79  concentradas  38.0    2  SP      doente\n1  3217    maria     18    F    67  inexistentes  39.5    4  MG      doente\n2  4039     luiz     49    M    92    espalhadas  38.0    2  RS    saudavel\n3  1920     jose     18    M    43  inexistentes  38.5    8  MG      doente\n4  4340  claudia     21    F    52     uniformes  37.6    1  PE    saudavel\n5  2301      ana     22    F    72  inexistentes  38.0    3  RJ      doente\n6  1322    marta     19    F    87    espalhadas  39.0    6  AM      doente\n7  3027    paulo     34    M    67     uniformes  38.4    2  GO    saudavel\n",
          "output_type": "stream"
        }
      ],
      "execution_count": 3
    },
    {
      "cell_type": "code",
      "source": "# Média\nmedia_idade = df['idade'].mean()\nmedia_peso = df['peso'].mean()\nmedia_temp = df['temp'].mean()\nmedia_int = df['int'].mean()\n\n# Exibindo os resultados\nprint(\"Médias:\")\nprint(f\"Idade: {media_idade}, Peso: {media_peso}, Temperatura: {media_temp}, Internações: {media_int}\")",
      "metadata": {
        "trusted": true
      },
      "outputs": [
        {
          "name": "stdout",
          "text": "Médias:\nIdade: 26.125, Peso: 69.875, Temperatura: 38.375, Internações: 3.5\n",
          "output_type": "stream"
        }
      ],
      "execution_count": 4
    },
    {
      "cell_type": "code",
      "source": "# Mediana\nmediana_idade = df['idade'].median()\nmediana_peso = df['peso'].median()\nmediana_temp = df['temp'].median()\nmediana_int = df['int'].median()\n\nprint(\"\\nMedianas:\")\nprint(f\"Idade: {mediana_idade}, Peso: {mediana_peso}, Temperatura: {mediana_temp}, Internações: {mediana_int}\")",
      "metadata": {
        "trusted": true
      },
      "outputs": [
        {
          "name": "stdout",
          "text": "\nMedianas:\nIdade: 21.5, Peso: 69.5, Temperatura: 38.2, Internações: 2.5\n",
          "output_type": "stream"
        }
      ],
      "execution_count": 5
    },
    {
      "cell_type": "code",
      "source": "# Moda\nmoda_idade = df['idade'].mode()[0]\nmoda_peso = df['peso'].mode()[0]\nmoda_temp = df['temp'].mode()[0]\nmoda_int = df['int'].mode()[0]\nmoda_sexo = df['sexo'].mode()[0]\nmoda_manchas = df['manchas'].mode()[0]\nmoda_est = df['est'].mode()[0]\nmoda_diagnostico = df['diagnostico'].mode()[0]\n\nprint(\"\\nModas:\")\nprint(f\"Idade: {moda_idade}, Peso: {moda_peso}, Temperatura: {moda_temp}, Internações: {moda_int}, Sexo: {moda_sexo}, Manchas: {moda_manchas}, Estado: {moda_est}, Diagnóstico: {moda_diagnostico}\")",
      "metadata": {
        "trusted": true
      },
      "outputs": [
        {
          "name": "stdout",
          "text": "\nModas:\nIdade: 18, Peso: 67, Temperatura: 38.0, Internações: 2, Sexo: F, Manchas: inexistentes, Estado: MG, Diagnóstico: doente\n",
          "output_type": "stream"
        }
      ],
      "execution_count": 6
    },
    {
      "cell_type": "code",
      "source": "# Frequencia \nfrequencia_idade = df['idade'].value_counts(normalize = True)*100 \nfrequencia_peso = df['peso'].value_counts(normalize = True)*100 \nfrequencia_temp = df['temp'].value_counts(normalize = True)*100 \nfrequencia_int = df['int'].value_counts(normalize = True)*100 \nfrequencia_sexo = df['sexo'].value_counts(normalize = True)*100 \nfrequencia_manchas = df['manchas'].value_counts(normalize = True)*100 \nfrequencia_est = df['est'].value_counts(normalize = True)*100 \nfrequencia_diagnostico = df['diagnostico'].value_counts(normalize = True)*100 \n\nprint(\"\\nFrequencias:\")\nprint(f\"Idade: {frequencia_idade}, Peso: {frequencia_peso}, Temperatura: {frequencia_temp}, Internações: {frequencia_int}, Sexo: {frequencia_sexo}, Manchas: {frequencia_manchas}, Estado: {frequencia_est}, Diagnóstico: {frequencia_diagnostico}\")",
      "metadata": {
        "trusted": true
      },
      "outputs": [
        {
          "name": "stdout",
          "text": "\nFrequencias:\nIdade: idade\n18    25.0\n28    12.5\n49    12.5\n21    12.5\n22    12.5\n19    12.5\n34    12.5\nName: proportion, dtype: float64, Peso: peso\n67    25.0\n79    12.5\n92    12.5\n43    12.5\n52    12.5\n72    12.5\n87    12.5\nName: proportion, dtype: float64, Temperatura: temp\n38.0    37.5\n39.5    12.5\n38.5    12.5\n37.6    12.5\n39.0    12.5\n38.4    12.5\nName: proportion, dtype: float64, Internações: int\n2    37.5\n4    12.5\n8    12.5\n1    12.5\n3    12.5\n6    12.5\nName: proportion, dtype: float64, Sexo: sexo\nM    50.0\nF    50.0\nName: proportion, dtype: float64, Manchas: manchas\ninexistentes    37.5\nespalhadas      25.0\nuniformes       25.0\nconcentradas    12.5\nName: proportion, dtype: float64, Estado: est\nMG    25.0\nSP    12.5\nRS    12.5\nPE    12.5\nRJ    12.5\nAM    12.5\nGO    12.5\nName: proportion, dtype: float64, Diagnóstico: diagnostico\ndoente      62.5\nsaudavel    37.5\nName: proportion, dtype: float64\n",
          "output_type": "stream"
        }
      ],
      "execution_count": 12
    },
    {
      "cell_type": "code",
      "source": "#Desvio Padrao\ndp_idade = df['idade'].std()\ndp_peso = df['peso'].std()\ndp_temp = df['temp'].std()\ndp_int = df['int'].std()\n\nprint(\"\\nDesvio Padrao:\")\nprint(f\"Idade: {dp_idade}, Peso: {dp_peso}, Temperatura: {dp_temp}, Internações: {dp_int}\")",
      "metadata": {
        "trusted": true
      },
      "outputs": [
        {
          "name": "stdout",
          "text": "\nDesvio Padrao:\nIdade: 10.789379698838776, Peso: 16.59980636720114, Temperatura: 0.6204836822995425, Internações: 2.390457218668787\n",
          "output_type": "stream"
        }
      ],
      "execution_count": 13
    },
    {
      "cell_type": "code",
      "source": "#Q1\nq1_idade = df['idade'].quantile(.25)\nq1_peso = df['peso'].quantile(.25)\nq1_temp = df['temp'].quantile(.25)\nq1_int = df['int'].quantile(.25)\n\nprint(\"\\nQ1:\")\nprint(f\"Idade: {q1_idade}, Peso: {q1_peso}, Temperatura: {q1_temp}, Internações: {q1_int}\")",
      "metadata": {
        "trusted": true
      },
      "outputs": [
        {
          "name": "stdout",
          "text": "\nQ1:\nIdade: 18.75, Peso: 63.25, Temperatura: 38.0, Internações: 2.0\n",
          "output_type": "stream"
        }
      ],
      "execution_count": 14
    },
    {
      "cell_type": "code",
      "source": "#Q3\nq3_idade = df['idade'].quantile(.75)\nq3_peso = df['peso'].quantile(.75)\nq3_temp = df['temp'].quantile(.75)\nq3_int = df['int'].quantile(.75)\n\nprint(\"\\nQ3 :\")\nprint(f\"Idade: {q3_idade}, Peso: {q3_peso}, Temperatura: {q3_temp}, Internações: {q3_int}\")",
      "metadata": {
        "trusted": true
      },
      "outputs": [
        {
          "name": "stdout",
          "text": "\nQ3 :\nIdade: 29.5, Peso: 81.0, Temperatura: 38.625, Internações: 4.5\n",
          "output_type": "stream"
        }
      ],
      "execution_count": 15
    },
    {
      "cell_type": "code",
      "source": "#Skewness/Obliquidade/Assimetria\n\nob_idade = skew(df['idade'], axis=0, bias=True)\nob_peso = skew(df['peso'], axis=0, bias=True)\nob_temp = skew(df['temp'], axis=0, bias=True)\nob_int = skew(df['int'], axis=0, bias=True)\n\nprint(\"\\nQ3 :\")\nprint(f\"Idade: {ob_idade}, Peso: {ob_peso}, Temperatura: {ob_temp}, Internações: {ob_int}\")",
      "metadata": {
        "trusted": true
      },
      "outputs": [
        {
          "name": "stdout",
          "text": "\nQ3 :\nIdade: 1.3162934060886673, Peso: -0.2853881363790737, Temperatura: 0.6688709128322001, Internações: 0.9056075308874147\n",
          "output_type": "stream"
        }
      ],
      "execution_count": 16
    },
    {
      "cell_type": "code",
      "source": "# Curtose\n\ncurt_idade = kurtosis(df['idade'], axis=0, fisher=False, bias=True)\ncurt_peso = kurtosis(df['peso'], axis=0, fisher=False, bias=True)\ncurt_temp = kurtosis(df['temp'], axis=0, fisher=False, bias=True)\ncurt_int = kurtosis(df['int'], axis=0, fisher=False, bias=True)\n\nprint(f\"Idade: {curt_idade}, Peso: {curt_peso}, Temperatura: {curt_temp}, Internações: {curt_int}\")",
      "metadata": {
        "trusted": true
      },
      "outputs": [
        {
          "name": "stdout",
          "text": "Idade: 3.493115843122588, Peso: 2.056633743786494, Temperatura: 2.3953827778370598, Internações: 2.5175\n",
          "output_type": "stream"
        }
      ],
      "execution_count": 17
    },
    {
      "cell_type": "code",
      "source": "# Selecionar apenas as colunas numéricas\nnumeric_df = df[['idade', 'peso', 'temp', 'int']]\n\n# Calcular a covariância\ncovariance_matrix = numeric_df.cov()\n\n# Calcular a correlação\ncorrelation_matrix = numeric_df.corr()\n\nprint(\"Matriz de Covariância:\")\nprint(covariance_matrix)\nprint(\"\\nMatriz de Correlação:\")\nprint(correlation_matrix)\n",
      "metadata": {
        "trusted": true
      },
      "outputs": [
        {
          "name": "stdout",
          "text": "Matriz de Covariância:\n            idade        peso      temp        int\nidade  116.410714  100.446429 -2.596429 -13.214286\npeso   100.446429  275.553571  0.767857 -11.214286\ntemp    -2.596429    0.767857  0.385000   0.842857\nint    -13.214286  -11.214286  0.842857   5.714286\n\nMatriz de Correlação:\n          idade      peso      temp       int\nidade  1.000000  0.560835 -0.387837 -0.512349\npeso   0.560835  1.000000  0.074550 -0.282610\ntemp  -0.387837  0.074550  1.000000  0.568254\nint   -0.512349 -0.282610  0.568254  1.000000\n",
          "output_type": "stream"
        }
      ],
      "execution_count": 22
    },
    {
      "cell_type": "code",
      "source": "",
      "metadata": {
        "trusted": true
      },
      "outputs": [],
      "execution_count": null
    }
  ]
}
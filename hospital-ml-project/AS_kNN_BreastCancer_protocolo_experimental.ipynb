{
  "cells": [
    {
      "cell_type": "markdown",
      "metadata": {
        "id": "9a034c2c"
      },
      "source": [
        "## Aprendizado Supervisionado\n",
        "### prof. Duncan\n",
        "Prática com KNN e Breast Cancer\n",
        "\n",
        "Experimentos com Treino, Validação e Teste"
      ],
      "id": "9a034c2c"
    },
    {
      "cell_type": "code",
      "execution_count": null,
      "metadata": {
        "id": "7370d2c9"
      },
      "outputs": [],
      "source": [
        "#pacote para profiling de datasets\n",
        "!pip install ydata_profiling\n",
        "# pacotes básicos\n",
        "import math\n",
        "import numpy as np\n",
        "import pandas as pd\n",
        "import matplotlib.pyplot as plt\n",
        "from ydata_profiling import ProfileReport\n",
        "\n",
        "# pacotes do sklearn para acesso a datasets, preparação, modelagem e avaliação\n",
        "from sklearn import datasets\n",
        "# pacote pipeline para combinar preparação e modelagem\n",
        "from sklearn.pipeline import Pipeline, make_pipeline\n",
        "# pacote para separação entre treino e teste\n",
        "from sklearn.model_selection import train_test_split\n",
        "# pacotes para validação cruzada\n",
        "from sklearn.model_selection import KFold\n",
        "from sklearn.model_selection import StratifiedKFold\n",
        "from sklearn.model_selection import GridSearchCV\n",
        "# arsenal de preparação\n",
        "from sklearn.preprocessing import MinMaxScaler # rescala em min-max\n",
        "from sklearn.preprocessing import StandardScaler # padroniza features removendo média e\n",
        "#     escalando para variância unitária. Também chamado de z-score\n",
        "#\n",
        "# algoritmo de aprendizado\n",
        "from sklearn.neighbors import KNeighborsClassifier\n",
        "#\n",
        "# medidas de desempenho\n",
        "from sklearn.metrics import accuracy_score\n",
        "from sklearn.metrics import recall_score\n",
        "from sklearn.metrics import precision_score\n",
        "from sklearn.metrics import f1_score\n",
        "#\n",
        "# tabulação da matriz de confusão\n",
        "from sklearn.metrics import confusion_matrix\n",
        "from sklearn.metrics import ConfusionMatrixDisplay\n",
        "from sklearn.inspection import DecisionBoundaryDisplay\n",
        "from sklearn.metrics import RocCurveDisplay\n",
        "\n",
        "#pacotes para apoio a leitura e gravação de datasets\n",
        "from pathlib import Path\n",
        "import csv\n",
        "import pprint"
      ],
      "id": "7370d2c9"
    },
    {
      "cell_type": "code",
      "execution_count": null,
      "metadata": {
        "id": "e4437524"
      },
      "outputs": [],
      "source": [
        "# carga de dados\n",
        "bc = datasets.load_breast_cancer(as_frame=True)\n",
        "print(bc.DESCR)"
      ],
      "id": "e4437524"
    },
    {
      "cell_type": "code",
      "execution_count": null,
      "metadata": {
        "id": "2c45f2ab"
      },
      "outputs": [],
      "source": [
        "# separação em features e target e profiling do dataset\n",
        "X = bc.data\n",
        "y = bc.target\n",
        "Xy = bc.frame\n",
        "relatorio = ProfileReport(Xy, title=\"Breast Cancer data set\")\n",
        "relatorio.to_notebook_iframe()\n"
      ],
      "id": "2c45f2ab"
    },
    {
      "cell_type": "code",
      "source": [
        "Xy"
      ],
      "metadata": {
        "id": "ebC7a383ldz2"
      },
      "id": "ebC7a383ldz2",
      "execution_count": null,
      "outputs": []
    },
    {
      "cell_type": "code",
      "execution_count": null,
      "metadata": {
        "id": "c6d9a145"
      },
      "outputs": [],
      "source": [
        "# separação em treino e teste, e X e y\n",
        "# importante fazer ANTES do pipeline para evitar data leakage\n",
        "# o treino, como vai ser usado GridSearchCV, vai ter treino e validação\n",
        "\n",
        "treino_X, teste_X, treino_y, teste_y = train_test_split(X, y, random_state=46,test_size=0.2, stratify=y)\n"
      ],
      "id": "c6d9a145"
    },
    {
      "cell_type": "code",
      "execution_count": null,
      "metadata": {
        "id": "QfmBkuta9zIr"
      },
      "outputs": [],
      "source": [
        "# configurações para experimentos\n",
        "\n",
        "n_vizinhos = [1, 3, 5, 7, 9, 11, 13]\n",
        "#n_vizinhos = [1, 3, 5]\n",
        "\n",
        "k_splits = 10\n"
      ],
      "id": "QfmBkuta9zIr"
    },
    {
      "cell_type": "markdown",
      "metadata": {
        "id": "JrcgonxlYkWC"
      },
      "source": [
        "## Modelagem com validação cruzada e com busca exaustiva pelos parâmetros"
      ],
      "id": "JrcgonxlYkWC"
    },
    {
      "cell_type": "code",
      "execution_count": null,
      "metadata": {
        "id": "5r4MTnQQYNin"
      },
      "outputs": [],
      "source": [
        "# indução do modelo para diferentes números de vizinhos com validação cruzada\n",
        "\n",
        "parametros = { 'n_neighbors': n_vizinhos, 'weights':['uniform', 'distance']}\n",
        "modelo = KNeighborsClassifier()\n",
        "valcruz = GridSearchCV(modelo, parametros,cv=k_splits)\n",
        "valcruz.fit(treino_X, treino_y)\n",
        "resultados = pd.DataFrame(valcruz.cv_results_).sort_values(by='rank_test_score')\n",
        "print('Melhor resultado - Número vizinhos:{}   Pesos:{}    Acurácia média:{:.3f}'.format(\n",
        "    resultados['param_n_neighbors'].iloc[0],\n",
        "    resultados['param_weights'].iloc[0],\n",
        "    resultados['mean_test_score'].iloc[0]))\n"
      ],
      "id": "5r4MTnQQYNin"
    },
    {
      "cell_type": "code",
      "source": [
        "resultados.head()"
      ],
      "metadata": {
        "id": "0doDm5yTVLL_"
      },
      "id": "0doDm5yTVLL_",
      "execution_count": null,
      "outputs": []
    },
    {
      "cell_type": "code",
      "source": [
        "valcruz.cv_results_['params']"
      ],
      "metadata": {
        "id": "j5DBjPLxTr7f"
      },
      "id": "j5DBjPLxTr7f",
      "execution_count": null,
      "outputs": []
    },
    {
      "cell_type": "markdown",
      "metadata": {
        "id": "EH28_bPXbfpD"
      },
      "source": [
        "# Métrica de avaliação: accuracy\n",
        "\n",
        "## Experimento com reescala de valores e busca exaustiva nos parâmetros"
      ],
      "id": "EH28_bPXbfpD"
    },
    {
      "cell_type": "code",
      "execution_count": null,
      "metadata": {
        "id": "ssdTpUQ-8qqF"
      },
      "outputs": [],
      "source": [
        "# protocolo experimental com preparação e modelagem\n",
        "modelo = Pipeline(steps=[\n",
        "    ('reescala', MinMaxScaler()),\n",
        "#    ('reescala', StandardScaler()),\n",
        "     ('modelagem', KNeighborsClassifier())\n",
        "    ])\n",
        "parametros = {'modelagem__n_neighbors':n_vizinhos, 'modelagem__weights':['uniform', 'distance']}\n",
        "kfold = KFold(n_splits=k_splits, shuffle=True, random_state=0)\n",
        "grade = GridSearchCV(modelo, param_grid=parametros, cv=kfold)\n",
        "grade.fit(treino_X,treino_y)\n",
        "print('Melhor k:{}  score:{:0.3f}'.format(grade.best_params_, grade.best_score_))"
      ],
      "id": "ssdTpUQ-8qqF"
    },
    {
      "cell_type": "code",
      "source": [
        "grade"
      ],
      "metadata": {
        "id": "k8zl25fDcYXW"
      },
      "id": "k8zl25fDcYXW",
      "execution_count": null,
      "outputs": []
    },
    {
      "cell_type": "code",
      "source": [
        "resultados = pd.DataFrame(grade.cv_results_).sort_values(by='rank_test_score')\n",
        "resultados.head()"
      ],
      "metadata": {
        "id": "UR1x0GHX99Tb"
      },
      "id": "UR1x0GHX99Tb",
      "execution_count": null,
      "outputs": []
    },
    {
      "cell_type": "markdown",
      "source": [
        "### Captura dos melhores parâmetros para indução do modelo de aprendizado"
      ],
      "metadata": {
        "id": "w1Kwn0aZawMu"
      },
      "id": "w1Kwn0aZawMu"
    },
    {
      "cell_type": "code",
      "source": [
        "# captura da melhor configuração\n",
        "n_neighbors_best = grade.best_params_['modelagem__n_neighbors']\n",
        "n_weights_best = grade.best_params_['modelagem__weights']\n",
        "escalonador = MinMaxScaler()\n",
        "#escalonador = StandardScaler()\n",
        "modelo = KNeighborsClassifier(n_neighbors=n_neighbors_best, weights=n_weights_best)\n",
        "treino_X_escalonado = escalonador.fit_transform(treino_X, treino_y)\n",
        "teste_X_escalonado = escalonador.transform(teste_X)\n",
        "modelo.fit(treino_X_escalonado, treino_y)\n",
        "teste_pred_y = modelo.predict(teste_X_escalonado)\n",
        "acuracia = accuracy_score(teste_y, teste_pred_y)\n",
        "resultado = confusion_matrix(teste_y, teste_pred_y)\n",
        "confusion_matrix_display = ConfusionMatrixDisplay(resultado).plot()\n",
        "fig = confusion_matrix_display.figure_\n",
        "fig.set_figheight(3)\n",
        "fig.set_figwidth(3)\n",
        "print('k=', n_neighbors_best,'  Acuracia=', acuracia)"
      ],
      "metadata": {
        "id": "qwIRwHSKdTIv"
      },
      "id": "qwIRwHSKdTIv",
      "execution_count": null,
      "outputs": []
    },
    {
      "cell_type": "markdown",
      "source": [
        "### Curva ROC com AUC"
      ],
      "metadata": {
        "id": "uPyx061cCVrM"
      },
      "id": "uPyx061cCVrM"
    },
    {
      "cell_type": "code",
      "source": [
        "RocCurveDisplay.from_estimator(modelo, teste_X_escalonado, teste_y)"
      ],
      "metadata": {
        "id": "lUApl07KCZyT"
      },
      "id": "lUApl07KCZyT",
      "execution_count": null,
      "outputs": []
    },
    {
      "cell_type": "markdown",
      "metadata": {
        "id": "m6tWLqNsTmEl"
      },
      "source": [
        "# Métrica de avaliação: recall\n",
        "\n",
        "## Experimento com reescala de valores e busca exaustiva nos parâmetros"
      ],
      "id": "m6tWLqNsTmEl"
    },
    {
      "cell_type": "code",
      "execution_count": null,
      "metadata": {
        "id": "CAjui-VgTsTn"
      },
      "outputs": [],
      "source": [
        "# protocolo experimental com preparação e modelagem\n",
        "modelo = Pipeline(steps=[\n",
        "    ('reescala', MinMaxScaler()),\n",
        "#    ('reescala', StandardScaler()),\n",
        "     ('modelagem', KNeighborsClassifier())\n",
        "    ])\n",
        "parametros = {'modelagem__n_neighbors':n_vizinhos, 'modelagem__weights':['uniform', 'distance']}\n",
        "kfold = KFold(n_splits=k_splits, shuffle=True, random_state=0)\n",
        "grade = GridSearchCV(modelo, param_grid=parametros, cv=kfold, scoring='recall')\n",
        "grade.fit(treino_X,treino_y)\n",
        "print('Melhor k:{}  score:{:0.3f}'.format(grade.best_params_, grade.best_score_))"
      ],
      "id": "CAjui-VgTsTn"
    },
    {
      "cell_type": "code",
      "source": [
        "grade"
      ],
      "metadata": {
        "id": "2ICtU7lMc4w-"
      },
      "id": "2ICtU7lMc4w-",
      "execution_count": null,
      "outputs": []
    },
    {
      "cell_type": "code",
      "source": [
        "resultados = pd.DataFrame(grade.cv_results_).sort_values(by='rank_test_score')\n",
        "resultados.head()"
      ],
      "metadata": {
        "id": "EnTgT5hIT2p3"
      },
      "execution_count": null,
      "outputs": [],
      "id": "EnTgT5hIT2p3"
    },
    {
      "cell_type": "markdown",
      "source": [
        "### Captura dos melhores parâmetros para indução do modelo de aprendizado"
      ],
      "metadata": {
        "id": "X2D0Bs2lT5x7"
      },
      "id": "X2D0Bs2lT5x7"
    },
    {
      "cell_type": "code",
      "source": [
        "# captura da melhor configuração\n",
        "n_neighbors_best = grade.best_params_['modelagem__n_neighbors']\n",
        "n_weights_best = grade.best_params_['modelagem__weights']\n",
        "escalonador = MinMaxScaler()\n",
        "#escalonador = StandardScaler()\n",
        "modelo = KNeighborsClassifier(n_neighbors=n_neighbors_best, weights=n_weights_best)\n",
        "treino_X_escalonado = escalonador.fit_transform(treino_X, treino_y)\n",
        "teste_X_escalonado = escalonador.transform(teste_X)\n",
        "modelo.fit(treino_X_escalonado, treino_y)\n",
        "teste_pred_y = modelo.predict(teste_X_escalonado)\n",
        "recall = recall_score(teste_y, teste_pred_y)\n",
        "resultado = confusion_matrix(teste_y, teste_pred_y)\n",
        "confusion_matrix_display = ConfusionMatrixDisplay(resultado).plot()\n",
        "fig = confusion_matrix_display.figure_\n",
        "fig.set_figheight(3)\n",
        "fig.set_figwidth(3)\n",
        "print('k=', n_neighbors_best,'  Revocação=', recall)"
      ],
      "metadata": {
        "id": "DS5UwI0nT8OV"
      },
      "execution_count": null,
      "outputs": [],
      "id": "DS5UwI0nT8OV"
    },
    {
      "cell_type": "code",
      "source": [
        "RocCurveDisplay.from_estimator(modelo, teste_X_escalonado, teste_y)"
      ],
      "metadata": {
        "id": "led5-R_7T0YT"
      },
      "id": "led5-R_7T0YT",
      "execution_count": null,
      "outputs": []
    }
  ],
  "metadata": {
    "colab": {
      "provenance": []
    },
    "kernelspec": {
      "display_name": "Python 3",
      "language": "python",
      "name": "python3"
    },
    "language_info": {
      "codemirror_mode": {
        "name": "ipython",
        "version": 3
      },
      "file_extension": ".py",
      "mimetype": "text/x-python",
      "name": "python",
      "nbconvert_exporter": "python",
      "pygments_lexer": "ipython3",
      "version": "3.8.5"
    }
  },
  "nbformat": 4,
  "nbformat_minor": 5
}
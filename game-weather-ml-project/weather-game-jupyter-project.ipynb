{
  "metadata": {
    "kernelspec": {
      "name": "python",
      "display_name": "Python (Pyodide)",
      "language": "python"
    },
    "language_info": {
      "codemirror_mode": {
        "name": "python",
        "version": 3
      },
      "file_extension": ".py",
      "mimetype": "text/x-python",
      "name": "python",
      "nbconvert_exporter": "python",
      "pygments_lexer": "ipython3",
      "version": "3.8"
    }
  },
  "nbformat_minor": 4,
  "nbformat": 4,
  "cells": [
    {
      "cell_type": "code",
      "source": "import pandas as pd\nfrom scipy.stats import skew, kurtosis\nimport matplotlib.pyplot as plt\n%pip install seaborn\nimport seaborn as sns",
      "metadata": {
        "trusted": true
      },
      "outputs": [
        {
          "name": "stderr",
          "text": "<ipython-input-1-49028de81f24>:1: DeprecationWarning: \nPyarrow will become a required dependency of pandas in the next major release of pandas (pandas 3.0),\n(to allow more performant data types, such as the Arrow string type, and better interoperability with other libraries)\nbut was not found to be installed on your system.\nIf this would cause problems for you,\nplease provide us feedback at https://github.com/pandas-dev/pandas/issues/54466\n        \n  import pandas as pd\n",
          "output_type": "stream"
        }
      ],
      "execution_count": 1
    },
    {
      "cell_type": "code",
      "source": "df = pd.read_csv('game-weather.csv')\nprint(df)",
      "metadata": {
        "trusted": true
      },
      "outputs": [
        {
          "name": "stdout",
          "text": "    dia       tempo  temperatura  umidade vento joga\n0    d1     chuvoso           71       91   sim  nao\n1    d2  ensolarado           69       70   nao  sim\n2    d3  ensolarado           80       90   sim  nao\n3    d4     nublado           83       86   nao  sim\n4    d5     chuvoso           70       96   nao  sim\n5    d6     chuvoso           65       70   sim  nao\n6    d7     nublado           64       65   sim  sim\n7    d8     nublado           72       90   sim  sim\n8    d9  ensolarado           75       70   sim  sim\n9   d10     chuvoso           68       80   nao  sim\n10  d11     nublado           81       75   nao  sim\n11  d12  ensolarado           85       85   nao  nao\n12  d13  ensolarado           72       95   nao  nao\n13  d14     chuvoso           75       80   nao  sim\n",
          "output_type": "stream"
        }
      ],
      "execution_count": 2
    },
    {
      "cell_type": "code",
      "source": "contagem = df['joga'].value_counts()\nprint(contagem)\nporcentagem = contagem / contagem.sum() * 100\n# Identificar a maioria e a minoria\nmaioria = porcentagem.idxmax()\nminoria = porcentagem.idxmin()\n\nprint(f'Maioria: {maioria} ({porcentagem.max():.2f}%)')\nprint(f'Minoria: {minoria} ({porcentagem.min():.2f}%)')",
      "metadata": {
        "trusted": true
      },
      "outputs": [
        {
          "name": "stdout",
          "text": "joga\nsim    9\nnao    5\nName: count, dtype: int64\nMaioria: sim (64.29%)\nMinoria: nao (35.71%)\n",
          "output_type": "stream"
        }
      ],
      "execution_count": 4
    },
    {
      "cell_type": "code",
      "source": "# Selecionar apenas as colunas numéricas\natributos_quantitativos = df.select_dtypes(include=['float64', 'int64'])\n\n# Calcular o Q1 (1º quartil) e Q3 (3º quartil)\nQ1 = atributos_quantitativos.quantile(0.25)\nQ3 = atributos_quantitativos.quantile(0.75)\n\n# Calcular o IQR\nIQR = Q3 - Q1\n\n# Definir os limites para outliers\nlimite_inferior = Q1 - 1.5 * IQR\nlimite_superior = Q3 + 1.5 * IQR\n\n# Verificar se existem valores abaixo do limite inferior ou acima do limite superior\noutliers = (atributos_quantitativos < limite_inferior) | (atributos_quantitativos > limite_superior)\nprint(outliers)\n\n# Mostrar os outliers\noutliers_detectados = atributos_quantitativos[outliers.any(axis=1)]\nprint(outliers_detectados)",
      "metadata": {
        "trusted": true
      },
      "outputs": [
        {
          "name": "stdout",
          "text": "    temperatura  umidade\n0         False    False\n1         False    False\n2         False    False\n3         False    False\n4         False    False\n5         False    False\n6         False    False\n7         False    False\n8         False    False\n9         False    False\n10        False    False\n11        False    False\n12        False    False\n13        False    False\nEmpty DataFrame\nColumns: [temperatura, umidade]\nIndex: []\n",
          "output_type": "stream"
        }
      ],
      "execution_count": 6
    },
    {
      "cell_type": "code",
      "source": "# Considere que um novo exemplo será colocado no conjunto de dados, em que a umidade é de 85, há vento e a pessoa joga. \n# Os atributos tempo e temperatura são desconhecidos. \n#Estime os valores desconhecidos para esse novo exemplo, usando alguma estratégia de preenchimento. Justifique sua resposta.\n\n# Preencher o valor desconhecido do atributo 'tempo' com a moda\ntempo_moda = df['tempo'].mode()[0]\n\n# Preencher o valor desconhecido do atributo 'temperatura' com a moda\ntemperatura_moda = df['temperatura'].mode()[0]\n\nprint(f'Tempo estimado: {tempo_moda}')\nprint(f'Temperatura estimada: {temperatura_moda}')",
      "metadata": {
        "trusted": true
      },
      "outputs": [
        {
          "name": "stdout",
          "text": "Tempo estimado: chuvoso\nTemperatura estimada: 72\n",
          "output_type": "stream"
        }
      ],
      "execution_count": 9
    },
    {
      "cell_type": "code",
      "source": "# Preencher o valor desconhecido do atributo 'temperatura' com a média\ntemperatura_media = df['temperatura'].mean()\n\nprint(f'Temperatura estimada: {temperatura_media}')\n",
      "metadata": {
        "trusted": true
      },
      "outputs": [
        {
          "name": "stdout",
          "text": "Temperatura estimada: 73.57142857142857\n",
          "output_type": "stream"
        }
      ],
      "execution_count": 10
    },
    {
      "cell_type": "code",
      "source": "# Definindo as categorias para temperatura\ndef categorizar_temperatura(temp):\n    if temp < 15:\n        return 'fria'\n    elif 15 <= temp <= 25:\n        return 'média'\n    else:\n        return 'quente'\n\n# Aplicando a função no DataFrame\ndf['temp_discretizada'] = df['temperatura'].apply(categorizar_temperatura)\n\n# Definindo as categorias para umidade\ndef categorizar_umidade(umid):\n    if umid > 75:\n        return 'alta'\n    else:\n        return 'normal'\n\n# Aplicando a função no DataFrame\ndf['umidade_discretizada'] = df['umidade'].apply(categorizar_umidade)\n\npd.set_option('display.max_columns', None)  # Mostra todas as colunas sem limitação\npd.set_option('display.expand_frame_repr', False)  # Evita a quebra de linha para novas colunas\nprint(df)",
      "metadata": {
        "trusted": true
      },
      "outputs": [
        {
          "name": "stdout",
          "text": "    dia       tempo  temperatura  umidade vento joga temp_discretizada umidade_discretizada\n0    d1     chuvoso           71       91   sim  nao            quente                 alta\n1    d2  ensolarado           69       70   nao  sim            quente               normal\n2    d3  ensolarado           80       90   sim  nao            quente                 alta\n3    d4     nublado           83       86   nao  sim            quente                 alta\n4    d5     chuvoso           70       96   nao  sim            quente                 alta\n5    d6     chuvoso           65       70   sim  nao            quente               normal\n6    d7     nublado           64       65   sim  sim            quente               normal\n7    d8     nublado           72       90   sim  sim            quente                 alta\n8    d9  ensolarado           75       70   sim  sim            quente               normal\n9   d10     chuvoso           68       80   nao  sim            quente                 alta\n10  d11     nublado           81       75   nao  sim            quente               normal\n11  d12  ensolarado           85       85   nao  nao            quente                 alta\n12  d13  ensolarado           72       95   nao  nao            quente                 alta\n13  d14     chuvoso           75       80   nao  sim            quente                 alta\n",
          "output_type": "stream"
        }
      ],
      "execution_count": 15
    },
    {
      "cell_type": "code",
      "source": "# Função para calcular a entropia\ndef calcular_entropia(coluna):\n    proporcoes = coluna.value_counts(normalize=True)\n    return -sum(proporcoes * np.log2(proporcoes))\n\n# Entropia da classe alvo (Joga)\nentropia_joga = calcular_entropia(df['joga'])\n\n# Função para calcular o ganho de informação de um atributo\ndef ganho_informacao(df, atributo, alvo):\n    valores = df[atributo].unique()\n    entropia_condicional = 0\n    for valor in valores:\n        subset = df[df[atributo] == valor]\n        proporcao = len(subset) / len(df)\n        entropia_condicional += proporcao * calcular_entropia(subset[alvo])\n    return entropia_joga - entropia_condicional\n\n# Calculando o ganho de informação para cada atributo\nganho_temp = ganho_informacao(df, 'temp_discretizada', 'joga')\nganho_umidade = ganho_informacao(df, 'umidade_discretizada', 'joga')\n\n# Resultado\nprint(f\"Ganho de Informação - Temperatura: {ganho_temp}\")\nprint(f\"Ganho de Informação - Umidade: {ganho_umidade}\")\n\n# Ranquear os atributos\nranking = {\n    'temp_discretizada': ganho_temp,\n    'umidade_discretizada': ganho_umidade\n}\n\nranking_ordenado = sorted(ranking.items(), key=lambda x: x[1], reverse=True)\nprint(\"\\nRanking dos Atributos:\")\nfor atributo, ganho in ranking_ordenado:\n    print(f\"{atributo}: {ganho}\")",
      "metadata": {
        "trusted": true
      },
      "outputs": [
        {
          "ename": "<class 'NameError'>",
          "evalue": "name 'np' is not defined",
          "traceback": [
            "\u001b[0;31m---------------------------------------------------------------------------\u001b[0m",
            "\u001b[0;31mNameError\u001b[0m                                 Traceback (most recent call last)",
            "Cell \u001b[0;32mIn[18], line 7\u001b[0m\n\u001b[1;32m      4\u001b[0m     \u001b[38;5;28;01mreturn\u001b[39;00m \u001b[38;5;241m-\u001b[39m\u001b[38;5;28msum\u001b[39m(proporcoes \u001b[38;5;241m*\u001b[39m np\u001b[38;5;241m.\u001b[39mlog2(proporcoes))\n\u001b[1;32m      6\u001b[0m \u001b[38;5;66;03m# Entropia da classe alvo (Joga)\u001b[39;00m\n\u001b[0;32m----> 7\u001b[0m entropia_joga \u001b[38;5;241m=\u001b[39m \u001b[43mcalcular_entropia\u001b[49m\u001b[43m(\u001b[49m\u001b[43mdf\u001b[49m\u001b[43m[\u001b[49m\u001b[38;5;124;43m'\u001b[39;49m\u001b[38;5;124;43mjoga\u001b[39;49m\u001b[38;5;124;43m'\u001b[39;49m\u001b[43m]\u001b[49m\u001b[43m)\u001b[49m\n\u001b[1;32m      9\u001b[0m \u001b[38;5;66;03m# Função para calcular o ganho de informação de um atributo\u001b[39;00m\n\u001b[1;32m     10\u001b[0m \u001b[38;5;28;01mdef\u001b[39;00m \u001b[38;5;21mganho_informacao\u001b[39m(df, atributo, alvo):\n",
            "Cell \u001b[0;32mIn[18], line 4\u001b[0m, in \u001b[0;36mcalcular_entropia\u001b[0;34m(coluna)\u001b[0m\n\u001b[1;32m      2\u001b[0m \u001b[38;5;28;01mdef\u001b[39;00m \u001b[38;5;21mcalcular_entropia\u001b[39m(coluna):\n\u001b[1;32m      3\u001b[0m     proporcoes \u001b[38;5;241m=\u001b[39m coluna\u001b[38;5;241m.\u001b[39mvalue_counts(normalize\u001b[38;5;241m=\u001b[39m\u001b[38;5;28;01mTrue\u001b[39;00m)\n\u001b[0;32m----> 4\u001b[0m     \u001b[38;5;28;01mreturn\u001b[39;00m \u001b[38;5;241m-\u001b[39m\u001b[38;5;28msum\u001b[39m(proporcoes \u001b[38;5;241m*\u001b[39m \u001b[43mnp\u001b[49m\u001b[38;5;241m.\u001b[39mlog2(proporcoes))\n",
            "\u001b[0;31mNameError\u001b[0m: name 'np' is not defined"
          ],
          "output_type": "error"
        }
      ],
      "execution_count": 18
    },
    {
      "cell_type": "code",
      "source": "",
      "metadata": {
        "trusted": true
      },
      "outputs": [],
      "execution_count": null
    }
  ]
}